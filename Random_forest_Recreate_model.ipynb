{
  "metadata": {
    "kernelspec": {
      "language": "python",
      "display_name": "Python 3",
      "name": "python3"
    },
    "language_info": {
      "name": "python",
      "version": "3.10.13",
      "mimetype": "text/x-python",
      "codemirror_mode": {
        "name": "ipython",
        "version": 3
      },
      "pygments_lexer": "ipython3",
      "nbconvert_exporter": "python",
      "file_extension": ".py"
    },
    "kaggle": {
      "accelerator": "none",
      "dataSources": [
        {
          "sourceId": 7125235,
          "sourceType": "datasetVersion",
          "datasetId": 4110234
        }
      ],
      "dockerImageVersionId": 30746,
      "isInternetEnabled": true,
      "language": "python",
      "sourceType": "notebook",
      "isGpuEnabled": false
    },
    "colab": {
      "name": "Random forest Recreate model ",
      "provenance": [],
      "include_colab_link": true
    }
  },
  "nbformat_minor": 0,
  "nbformat": 4,
  "cells": [
    {
      "cell_type": "markdown",
      "metadata": {
        "id": "view-in-github",
        "colab_type": "text"
      },
      "source": [
        "<a href=\"https://colab.research.google.com/github/HumaSatti/Depression-Detection-By-ML-Deep-Learning-Model/blob/main/Random_forest_Recreate_model.ipynb\" target=\"_parent\"><img src=\"https://colab.research.google.com/assets/colab-badge.svg\" alt=\"Open In Colab\"/></a>"
      ]
    },
    {
      "source": [
        "\n",
        "# IMPORTANT: RUN THIS CELL IN ORDER TO IMPORT YOUR KAGGLE DATA SOURCES\n",
        "# TO THE CORRECT LOCATION (/kaggle/input) IN YOUR NOTEBOOK,\n",
        "# THEN FEEL FREE TO DELETE THIS CELL.\n",
        "# NOTE: THIS NOTEBOOK ENVIRONMENT DIFFERS FROM KAGGLE'S PYTHON\n",
        "# ENVIRONMENT SO THERE MAY BE MISSING LIBRARIES USED BY YOUR\n",
        "# NOTEBOOK.\n",
        "\n",
        "import os\n",
        "import sys\n",
        "from tempfile import NamedTemporaryFile\n",
        "from urllib.request import urlopen\n",
        "from urllib.parse import unquote, urlparse\n",
        "from urllib.error import HTTPError\n",
        "from zipfile import ZipFile\n",
        "import tarfile\n",
        "import shutil\n",
        "\n",
        "CHUNK_SIZE = 40960\n",
        "DATA_SOURCE_MAPPING = 'nurse-stress-prediction-wearable-sensors:https%3A%2F%2Fstorage.googleapis.com%2Fkaggle-data-sets%2F4110234%2F7125235%2Fbundle%2Farchive.zip%3FX-Goog-Algorithm%3DGOOG4-RSA-SHA256%26X-Goog-Credential%3Dgcp-kaggle-com%2540kaggle-161607.iam.gserviceaccount.com%252F20240722%252Fauto%252Fstorage%252Fgoog4_request%26X-Goog-Date%3D20240722T165124Z%26X-Goog-Expires%3D259200%26X-Goog-SignedHeaders%3Dhost%26X-Goog-Signature%3D6b28f1e663ccdae5b4020bde170baa03ea91c5269f8eccd0d59748ceee7779a867625849bf6d7e9ff7bd3b3f3ceb35b06607284cceaf3558ca88f9d9ecf47bdb43430b0f57712f25e4df67fcfeebeada81ae4476223d591c96f6035f16eed42258efb1d4f0dec77df0307db541d539b5a9f9e29d28e99fd58a6ef1cc36abbe8f91d5f30507ddf36e4acb6a25925c8c8f0e7c6190767d730d576230abf802b8cb7e1c81b819e56638a096dfdec8d45abee597ad5e0b7ffba42e06b7453423497d1f924c14537fa0d14421a06e90bfd0c5a8abb37b0c4b2aae7e3c6b801f8f5ffe9f615d09e432936bbf9b16e1d7a7d4ad420d00da9dbe30d2653861b5894bcb35'\n",
        "\n",
        "KAGGLE_INPUT_PATH='/kaggle/input'\n",
        "KAGGLE_WORKING_PATH='/kaggle/working'\n",
        "KAGGLE_SYMLINK='kaggle'\n",
        "\n",
        "!umount /kaggle/input/ 2> /dev/null\n",
        "shutil.rmtree('/kaggle/input', ignore_errors=True)\n",
        "os.makedirs(KAGGLE_INPUT_PATH, 0o777, exist_ok=True)\n",
        "os.makedirs(KAGGLE_WORKING_PATH, 0o777, exist_ok=True)\n",
        "\n",
        "try:\n",
        "  os.symlink(KAGGLE_INPUT_PATH, os.path.join(\"..\", 'input'), target_is_directory=True)\n",
        "except FileExistsError:\n",
        "  pass\n",
        "try:\n",
        "  os.symlink(KAGGLE_WORKING_PATH, os.path.join(\"..\", 'working'), target_is_directory=True)\n",
        "except FileExistsError:\n",
        "  pass\n",
        "\n",
        "for data_source_mapping in DATA_SOURCE_MAPPING.split(','):\n",
        "    directory, download_url_encoded = data_source_mapping.split(':')\n",
        "    download_url = unquote(download_url_encoded)\n",
        "    filename = urlparse(download_url).path\n",
        "    destination_path = os.path.join(KAGGLE_INPUT_PATH, directory)\n",
        "    try:\n",
        "        with urlopen(download_url) as fileres, NamedTemporaryFile() as tfile:\n",
        "            total_length = fileres.headers['content-length']\n",
        "            print(f'Downloading {directory}, {total_length} bytes compressed')\n",
        "            dl = 0\n",
        "            data = fileres.read(CHUNK_SIZE)\n",
        "            while len(data) > 0:\n",
        "                dl += len(data)\n",
        "                tfile.write(data)\n",
        "                done = int(50 * dl / int(total_length))\n",
        "                sys.stdout.write(f\"\\r[{'=' * done}{' ' * (50-done)}] {dl} bytes downloaded\")\n",
        "                sys.stdout.flush()\n",
        "                data = fileres.read(CHUNK_SIZE)\n",
        "            if filename.endswith('.zip'):\n",
        "              with ZipFile(tfile) as zfile:\n",
        "                zfile.extractall(destination_path)\n",
        "            else:\n",
        "              with tarfile.open(tfile.name) as tarfile:\n",
        "                tarfile.extractall(destination_path)\n",
        "            print(f'\\nDownloaded and uncompressed: {directory}')\n",
        "    except HTTPError as e:\n",
        "        print(f'Failed to load (likely expired) {download_url} to path {destination_path}')\n",
        "        continue\n",
        "    except OSError as e:\n",
        "        print(f'Failed to load {download_url} to path {destination_path}')\n",
        "        continue\n",
        "\n",
        "print('Data source import complete.')\n"
      ],
      "metadata": {
        "colab": {
          "base_uri": "https://localhost:8080/"
        },
        "id": "Pg3t1mUjE5u8",
        "outputId": "5a8cd606-0026-4e9b-a095-526c5d640565"
      },
      "cell_type": "code",
      "outputs": [
        {
          "output_type": "stream",
          "name": "stdout",
          "text": [
            "Downloading nurse-stress-prediction-wearable-sensors, 79877492 bytes compressed\n",
            "[==================================================] 79877492 bytes downloaded\n",
            "Downloaded and uncompressed: nurse-stress-prediction-wearable-sensors\n",
            "Data source import complete.\n"
          ]
        }
      ],
      "execution_count": 1
    },
    {
      "cell_type": "code",
      "source": [
        "# This Python 3 environment comes with many helpful analytics libraries installed\n",
        "# It is defined by the kaggle/python Docker image: https://github.com/kaggle/docker-python\n",
        "# For example, here's several helpful packages to load\n",
        "\n",
        "import numpy as np # linear algebra\n",
        "import pandas as pd # data processing, CSV file I/O (e.g. pd.read_csv)\n",
        "\n",
        "# Input data files are available in the read-only \"../input/\" directory\n",
        "# For example, running this (by clicking run or pressing Shift+Enter) will list all files under the input directory\n",
        "\n",
        "import os\n",
        "for dirname, _, filenames in os.walk('/kaggle/input'):\n",
        "    for filename in filenames:\n",
        "        print(os.path.join(dirname, filename))\n",
        "\n",
        "# You can write up to 20GB to the current directory (/kaggle/working/) that gets preserved as output when you create a version using \"Save & Run All\"\n",
        "# You can also write temporary files to /kaggle/temp/, but they won't be saved outside of the current session"
      ],
      "metadata": {
        "_uuid": "8f2839f25d086af736a60e9eeb907d3b93b6e0e5",
        "_cell_guid": "b1076dfc-b9ad-4769-8c92-a6c4dae69d19",
        "execution": {
          "iopub.status.busy": "2024-07-22T16:47:20.003434Z",
          "iopub.execute_input": "2024-07-22T16:47:20.003878Z",
          "iopub.status.idle": "2024-07-22T16:47:21.371325Z",
          "shell.execute_reply.started": "2024-07-22T16:47:20.003841Z",
          "shell.execute_reply": "2024-07-22T16:47:21.370051Z"
        },
        "trusted": true,
        "colab": {
          "base_uri": "https://localhost:8080/"
        },
        "id": "oWhTI1WtE5u_",
        "outputId": "0f2755af-fa05-44b2-c889-69a01ee28cc1"
      },
      "execution_count": 2,
      "outputs": [
        {
          "output_type": "stream",
          "name": "stdout",
          "text": [
            "/kaggle/input/nurse-stress-prediction-wearable-sensors/merged_data.csv\n"
          ]
        }
      ]
    },
    {
      "cell_type": "code",
      "source": [
        "from sklearn.model_selection import train_test_split\n",
        "from sklearn.preprocessing import StandardScaler\n",
        "from sklearn.ensemble import RandomForestClassifier\n",
        "from sklearn.metrics import classification_report, accuracy_score, precision_recall_fscore_support, confusion_matrix\n",
        "import matplotlib.pyplot as plt\n",
        "import seaborn as sns"
      ],
      "metadata": {
        "execution": {
          "iopub.status.busy": "2024-07-22T16:47:21.373656Z",
          "iopub.execute_input": "2024-07-22T16:47:21.374202Z",
          "iopub.status.idle": "2024-07-22T16:47:23.662532Z",
          "shell.execute_reply.started": "2024-07-22T16:47:21.374165Z",
          "shell.execute_reply": "2024-07-22T16:47:23.661325Z"
        },
        "trusted": true,
        "id": "I40W7DEIE5vA"
      },
      "execution_count": 3,
      "outputs": []
    },
    {
      "cell_type": "code",
      "source": [
        "# Load the dataset\n",
        "df = pd.read_csv('/kaggle/input/nurse-stress-prediction-wearable-sensors/merged_data.csv', low_memory=False, parse_dates=['datetime'])\n",
        "df"
      ],
      "metadata": {
        "execution": {
          "iopub.status.busy": "2024-07-22T16:47:23.664145Z",
          "iopub.execute_input": "2024-07-22T16:47:23.664625Z",
          "iopub.status.idle": "2024-07-22T16:48:09.860384Z",
          "shell.execute_reply.started": "2024-07-22T16:47:23.664583Z",
          "shell.execute_reply": "2024-07-22T16:48:09.858962Z"
        },
        "trusted": true,
        "colab": {
          "base_uri": "https://localhost:8080/",
          "height": 424
        },
        "id": "6RyQUxG_E5vA",
        "outputId": "e18c3c2b-427e-4f0c-96c1-668ff2244fc2"
      },
      "execution_count": 4,
      "outputs": [
        {
          "output_type": "execute_result",
          "data": {
            "text/plain": [
              "             X     Y     Z       EDA     HR   TEMP  id  \\\n",
              "0        -13.0 -61.0   5.0  6.769995  99.43  31.17  15   \n",
              "1        -20.0 -69.0  -3.0  6.769995  99.43  31.17  15   \n",
              "2        -31.0 -78.0 -15.0  6.769995  99.43  31.17  15   \n",
              "3        -47.0 -65.0 -38.0  6.769995  99.43  31.17  15   \n",
              "4        -67.0 -57.0 -53.0  6.769995  99.43  31.17  15   \n",
              "...        ...   ...   ...       ...    ...    ...  ..   \n",
              "11509046 -16.0 -56.0  24.0  3.386070  88.37  33.77  F5   \n",
              "11509047  -8.0 -50.0  27.0  3.386070  88.37  33.77  F5   \n",
              "11509048 -28.0 -36.0  28.0  3.386070  88.37  33.77  F5   \n",
              "11509049 -29.0 -29.0  30.0  3.386070  88.37  33.77  F5   \n",
              "11509050 -22.0 -24.0  29.0  3.374543  88.33  33.75  F5   \n",
              "\n",
              "                              datetime  label  \n",
              "0        2020-07-08 14:03:00.000000000    2.0  \n",
              "1        2020-07-08 14:03:00.031249920    2.0  \n",
              "2        2020-07-08 14:03:00.062500096    2.0  \n",
              "3        2020-07-08 14:03:00.093750016    2.0  \n",
              "4        2020-07-08 14:03:00.124999936    2.0  \n",
              "...                                ...    ...  \n",
              "11509046 2020-07-23 17:28:59.875000064    2.0  \n",
              "11509047 2020-07-23 17:28:59.906249984    2.0  \n",
              "11509048 2020-07-23 17:28:59.937499904    2.0  \n",
              "11509049 2020-07-23 17:28:59.968750080    2.0  \n",
              "11509050 2020-07-23 17:29:00.000000000    2.0  \n",
              "\n",
              "[11509051 rows x 9 columns]"
            ],
            "text/html": [
              "\n",
              "  <div id=\"df-48365039-d255-419f-958e-2aff6f38aa63\" class=\"colab-df-container\">\n",
              "    <div>\n",
              "<style scoped>\n",
              "    .dataframe tbody tr th:only-of-type {\n",
              "        vertical-align: middle;\n",
              "    }\n",
              "\n",
              "    .dataframe tbody tr th {\n",
              "        vertical-align: top;\n",
              "    }\n",
              "\n",
              "    .dataframe thead th {\n",
              "        text-align: right;\n",
              "    }\n",
              "</style>\n",
              "<table border=\"1\" class=\"dataframe\">\n",
              "  <thead>\n",
              "    <tr style=\"text-align: right;\">\n",
              "      <th></th>\n",
              "      <th>X</th>\n",
              "      <th>Y</th>\n",
              "      <th>Z</th>\n",
              "      <th>EDA</th>\n",
              "      <th>HR</th>\n",
              "      <th>TEMP</th>\n",
              "      <th>id</th>\n",
              "      <th>datetime</th>\n",
              "      <th>label</th>\n",
              "    </tr>\n",
              "  </thead>\n",
              "  <tbody>\n",
              "    <tr>\n",
              "      <th>0</th>\n",
              "      <td>-13.0</td>\n",
              "      <td>-61.0</td>\n",
              "      <td>5.0</td>\n",
              "      <td>6.769995</td>\n",
              "      <td>99.43</td>\n",
              "      <td>31.17</td>\n",
              "      <td>15</td>\n",
              "      <td>2020-07-08 14:03:00.000000000</td>\n",
              "      <td>2.0</td>\n",
              "    </tr>\n",
              "    <tr>\n",
              "      <th>1</th>\n",
              "      <td>-20.0</td>\n",
              "      <td>-69.0</td>\n",
              "      <td>-3.0</td>\n",
              "      <td>6.769995</td>\n",
              "      <td>99.43</td>\n",
              "      <td>31.17</td>\n",
              "      <td>15</td>\n",
              "      <td>2020-07-08 14:03:00.031249920</td>\n",
              "      <td>2.0</td>\n",
              "    </tr>\n",
              "    <tr>\n",
              "      <th>2</th>\n",
              "      <td>-31.0</td>\n",
              "      <td>-78.0</td>\n",
              "      <td>-15.0</td>\n",
              "      <td>6.769995</td>\n",
              "      <td>99.43</td>\n",
              "      <td>31.17</td>\n",
              "      <td>15</td>\n",
              "      <td>2020-07-08 14:03:00.062500096</td>\n",
              "      <td>2.0</td>\n",
              "    </tr>\n",
              "    <tr>\n",
              "      <th>3</th>\n",
              "      <td>-47.0</td>\n",
              "      <td>-65.0</td>\n",
              "      <td>-38.0</td>\n",
              "      <td>6.769995</td>\n",
              "      <td>99.43</td>\n",
              "      <td>31.17</td>\n",
              "      <td>15</td>\n",
              "      <td>2020-07-08 14:03:00.093750016</td>\n",
              "      <td>2.0</td>\n",
              "    </tr>\n",
              "    <tr>\n",
              "      <th>4</th>\n",
              "      <td>-67.0</td>\n",
              "      <td>-57.0</td>\n",
              "      <td>-53.0</td>\n",
              "      <td>6.769995</td>\n",
              "      <td>99.43</td>\n",
              "      <td>31.17</td>\n",
              "      <td>15</td>\n",
              "      <td>2020-07-08 14:03:00.124999936</td>\n",
              "      <td>2.0</td>\n",
              "    </tr>\n",
              "    <tr>\n",
              "      <th>...</th>\n",
              "      <td>...</td>\n",
              "      <td>...</td>\n",
              "      <td>...</td>\n",
              "      <td>...</td>\n",
              "      <td>...</td>\n",
              "      <td>...</td>\n",
              "      <td>...</td>\n",
              "      <td>...</td>\n",
              "      <td>...</td>\n",
              "    </tr>\n",
              "    <tr>\n",
              "      <th>11509046</th>\n",
              "      <td>-16.0</td>\n",
              "      <td>-56.0</td>\n",
              "      <td>24.0</td>\n",
              "      <td>3.386070</td>\n",
              "      <td>88.37</td>\n",
              "      <td>33.77</td>\n",
              "      <td>F5</td>\n",
              "      <td>2020-07-23 17:28:59.875000064</td>\n",
              "      <td>2.0</td>\n",
              "    </tr>\n",
              "    <tr>\n",
              "      <th>11509047</th>\n",
              "      <td>-8.0</td>\n",
              "      <td>-50.0</td>\n",
              "      <td>27.0</td>\n",
              "      <td>3.386070</td>\n",
              "      <td>88.37</td>\n",
              "      <td>33.77</td>\n",
              "      <td>F5</td>\n",
              "      <td>2020-07-23 17:28:59.906249984</td>\n",
              "      <td>2.0</td>\n",
              "    </tr>\n",
              "    <tr>\n",
              "      <th>11509048</th>\n",
              "      <td>-28.0</td>\n",
              "      <td>-36.0</td>\n",
              "      <td>28.0</td>\n",
              "      <td>3.386070</td>\n",
              "      <td>88.37</td>\n",
              "      <td>33.77</td>\n",
              "      <td>F5</td>\n",
              "      <td>2020-07-23 17:28:59.937499904</td>\n",
              "      <td>2.0</td>\n",
              "    </tr>\n",
              "    <tr>\n",
              "      <th>11509049</th>\n",
              "      <td>-29.0</td>\n",
              "      <td>-29.0</td>\n",
              "      <td>30.0</td>\n",
              "      <td>3.386070</td>\n",
              "      <td>88.37</td>\n",
              "      <td>33.77</td>\n",
              "      <td>F5</td>\n",
              "      <td>2020-07-23 17:28:59.968750080</td>\n",
              "      <td>2.0</td>\n",
              "    </tr>\n",
              "    <tr>\n",
              "      <th>11509050</th>\n",
              "      <td>-22.0</td>\n",
              "      <td>-24.0</td>\n",
              "      <td>29.0</td>\n",
              "      <td>3.374543</td>\n",
              "      <td>88.33</td>\n",
              "      <td>33.75</td>\n",
              "      <td>F5</td>\n",
              "      <td>2020-07-23 17:29:00.000000000</td>\n",
              "      <td>2.0</td>\n",
              "    </tr>\n",
              "  </tbody>\n",
              "</table>\n",
              "<p>11509051 rows × 9 columns</p>\n",
              "</div>\n",
              "    <div class=\"colab-df-buttons\">\n",
              "\n",
              "  <div class=\"colab-df-container\">\n",
              "    <button class=\"colab-df-convert\" onclick=\"convertToInteractive('df-48365039-d255-419f-958e-2aff6f38aa63')\"\n",
              "            title=\"Convert this dataframe to an interactive table.\"\n",
              "            style=\"display:none;\">\n",
              "\n",
              "  <svg xmlns=\"http://www.w3.org/2000/svg\" height=\"24px\" viewBox=\"0 -960 960 960\">\n",
              "    <path d=\"M120-120v-720h720v720H120Zm60-500h600v-160H180v160Zm220 220h160v-160H400v160Zm0 220h160v-160H400v160ZM180-400h160v-160H180v160Zm440 0h160v-160H620v160ZM180-180h160v-160H180v160Zm440 0h160v-160H620v160Z\"/>\n",
              "  </svg>\n",
              "    </button>\n",
              "\n",
              "  <style>\n",
              "    .colab-df-container {\n",
              "      display:flex;\n",
              "      gap: 12px;\n",
              "    }\n",
              "\n",
              "    .colab-df-convert {\n",
              "      background-color: #E8F0FE;\n",
              "      border: none;\n",
              "      border-radius: 50%;\n",
              "      cursor: pointer;\n",
              "      display: none;\n",
              "      fill: #1967D2;\n",
              "      height: 32px;\n",
              "      padding: 0 0 0 0;\n",
              "      width: 32px;\n",
              "    }\n",
              "\n",
              "    .colab-df-convert:hover {\n",
              "      background-color: #E2EBFA;\n",
              "      box-shadow: 0px 1px 2px rgba(60, 64, 67, 0.3), 0px 1px 3px 1px rgba(60, 64, 67, 0.15);\n",
              "      fill: #174EA6;\n",
              "    }\n",
              "\n",
              "    .colab-df-buttons div {\n",
              "      margin-bottom: 4px;\n",
              "    }\n",
              "\n",
              "    [theme=dark] .colab-df-convert {\n",
              "      background-color: #3B4455;\n",
              "      fill: #D2E3FC;\n",
              "    }\n",
              "\n",
              "    [theme=dark] .colab-df-convert:hover {\n",
              "      background-color: #434B5C;\n",
              "      box-shadow: 0px 1px 3px 1px rgba(0, 0, 0, 0.15);\n",
              "      filter: drop-shadow(0px 1px 2px rgba(0, 0, 0, 0.3));\n",
              "      fill: #FFFFFF;\n",
              "    }\n",
              "  </style>\n",
              "\n",
              "    <script>\n",
              "      const buttonEl =\n",
              "        document.querySelector('#df-48365039-d255-419f-958e-2aff6f38aa63 button.colab-df-convert');\n",
              "      buttonEl.style.display =\n",
              "        google.colab.kernel.accessAllowed ? 'block' : 'none';\n",
              "\n",
              "      async function convertToInteractive(key) {\n",
              "        const element = document.querySelector('#df-48365039-d255-419f-958e-2aff6f38aa63');\n",
              "        const dataTable =\n",
              "          await google.colab.kernel.invokeFunction('convertToInteractive',\n",
              "                                                    [key], {});\n",
              "        if (!dataTable) return;\n",
              "\n",
              "        const docLinkHtml = 'Like what you see? Visit the ' +\n",
              "          '<a target=\"_blank\" href=https://colab.research.google.com/notebooks/data_table.ipynb>data table notebook</a>'\n",
              "          + ' to learn more about interactive tables.';\n",
              "        element.innerHTML = '';\n",
              "        dataTable['output_type'] = 'display_data';\n",
              "        await google.colab.output.renderOutput(dataTable, element);\n",
              "        const docLink = document.createElement('div');\n",
              "        docLink.innerHTML = docLinkHtml;\n",
              "        element.appendChild(docLink);\n",
              "      }\n",
              "    </script>\n",
              "  </div>\n",
              "\n",
              "\n",
              "<div id=\"df-e6c54ece-7b26-4646-93ec-a0900696bc70\">\n",
              "  <button class=\"colab-df-quickchart\" onclick=\"quickchart('df-e6c54ece-7b26-4646-93ec-a0900696bc70')\"\n",
              "            title=\"Suggest charts\"\n",
              "            style=\"display:none;\">\n",
              "\n",
              "<svg xmlns=\"http://www.w3.org/2000/svg\" height=\"24px\"viewBox=\"0 0 24 24\"\n",
              "     width=\"24px\">\n",
              "    <g>\n",
              "        <path d=\"M19 3H5c-1.1 0-2 .9-2 2v14c0 1.1.9 2 2 2h14c1.1 0 2-.9 2-2V5c0-1.1-.9-2-2-2zM9 17H7v-7h2v7zm4 0h-2V7h2v10zm4 0h-2v-4h2v4z\"/>\n",
              "    </g>\n",
              "</svg>\n",
              "  </button>\n",
              "\n",
              "<style>\n",
              "  .colab-df-quickchart {\n",
              "      --bg-color: #E8F0FE;\n",
              "      --fill-color: #1967D2;\n",
              "      --hover-bg-color: #E2EBFA;\n",
              "      --hover-fill-color: #174EA6;\n",
              "      --disabled-fill-color: #AAA;\n",
              "      --disabled-bg-color: #DDD;\n",
              "  }\n",
              "\n",
              "  [theme=dark] .colab-df-quickchart {\n",
              "      --bg-color: #3B4455;\n",
              "      --fill-color: #D2E3FC;\n",
              "      --hover-bg-color: #434B5C;\n",
              "      --hover-fill-color: #FFFFFF;\n",
              "      --disabled-bg-color: #3B4455;\n",
              "      --disabled-fill-color: #666;\n",
              "  }\n",
              "\n",
              "  .colab-df-quickchart {\n",
              "    background-color: var(--bg-color);\n",
              "    border: none;\n",
              "    border-radius: 50%;\n",
              "    cursor: pointer;\n",
              "    display: none;\n",
              "    fill: var(--fill-color);\n",
              "    height: 32px;\n",
              "    padding: 0;\n",
              "    width: 32px;\n",
              "  }\n",
              "\n",
              "  .colab-df-quickchart:hover {\n",
              "    background-color: var(--hover-bg-color);\n",
              "    box-shadow: 0 1px 2px rgba(60, 64, 67, 0.3), 0 1px 3px 1px rgba(60, 64, 67, 0.15);\n",
              "    fill: var(--button-hover-fill-color);\n",
              "  }\n",
              "\n",
              "  .colab-df-quickchart-complete:disabled,\n",
              "  .colab-df-quickchart-complete:disabled:hover {\n",
              "    background-color: var(--disabled-bg-color);\n",
              "    fill: var(--disabled-fill-color);\n",
              "    box-shadow: none;\n",
              "  }\n",
              "\n",
              "  .colab-df-spinner {\n",
              "    border: 2px solid var(--fill-color);\n",
              "    border-color: transparent;\n",
              "    border-bottom-color: var(--fill-color);\n",
              "    animation:\n",
              "      spin 1s steps(1) infinite;\n",
              "  }\n",
              "\n",
              "  @keyframes spin {\n",
              "    0% {\n",
              "      border-color: transparent;\n",
              "      border-bottom-color: var(--fill-color);\n",
              "      border-left-color: var(--fill-color);\n",
              "    }\n",
              "    20% {\n",
              "      border-color: transparent;\n",
              "      border-left-color: var(--fill-color);\n",
              "      border-top-color: var(--fill-color);\n",
              "    }\n",
              "    30% {\n",
              "      border-color: transparent;\n",
              "      border-left-color: var(--fill-color);\n",
              "      border-top-color: var(--fill-color);\n",
              "      border-right-color: var(--fill-color);\n",
              "    }\n",
              "    40% {\n",
              "      border-color: transparent;\n",
              "      border-right-color: var(--fill-color);\n",
              "      border-top-color: var(--fill-color);\n",
              "    }\n",
              "    60% {\n",
              "      border-color: transparent;\n",
              "      border-right-color: var(--fill-color);\n",
              "    }\n",
              "    80% {\n",
              "      border-color: transparent;\n",
              "      border-right-color: var(--fill-color);\n",
              "      border-bottom-color: var(--fill-color);\n",
              "    }\n",
              "    90% {\n",
              "      border-color: transparent;\n",
              "      border-bottom-color: var(--fill-color);\n",
              "    }\n",
              "  }\n",
              "</style>\n",
              "\n",
              "  <script>\n",
              "    async function quickchart(key) {\n",
              "      const quickchartButtonEl =\n",
              "        document.querySelector('#' + key + ' button');\n",
              "      quickchartButtonEl.disabled = true;  // To prevent multiple clicks.\n",
              "      quickchartButtonEl.classList.add('colab-df-spinner');\n",
              "      try {\n",
              "        const charts = await google.colab.kernel.invokeFunction(\n",
              "            'suggestCharts', [key], {});\n",
              "      } catch (error) {\n",
              "        console.error('Error during call to suggestCharts:', error);\n",
              "      }\n",
              "      quickchartButtonEl.classList.remove('colab-df-spinner');\n",
              "      quickchartButtonEl.classList.add('colab-df-quickchart-complete');\n",
              "    }\n",
              "    (() => {\n",
              "      let quickchartButtonEl =\n",
              "        document.querySelector('#df-e6c54ece-7b26-4646-93ec-a0900696bc70 button');\n",
              "      quickchartButtonEl.style.display =\n",
              "        google.colab.kernel.accessAllowed ? 'block' : 'none';\n",
              "    })();\n",
              "  </script>\n",
              "</div>\n",
              "\n",
              "  <div id=\"id_1b40a513-0d64-40e3-aad4-4a2d9686b3fe\">\n",
              "    <style>\n",
              "      .colab-df-generate {\n",
              "        background-color: #E8F0FE;\n",
              "        border: none;\n",
              "        border-radius: 50%;\n",
              "        cursor: pointer;\n",
              "        display: none;\n",
              "        fill: #1967D2;\n",
              "        height: 32px;\n",
              "        padding: 0 0 0 0;\n",
              "        width: 32px;\n",
              "      }\n",
              "\n",
              "      .colab-df-generate:hover {\n",
              "        background-color: #E2EBFA;\n",
              "        box-shadow: 0px 1px 2px rgba(60, 64, 67, 0.3), 0px 1px 3px 1px rgba(60, 64, 67, 0.15);\n",
              "        fill: #174EA6;\n",
              "      }\n",
              "\n",
              "      [theme=dark] .colab-df-generate {\n",
              "        background-color: #3B4455;\n",
              "        fill: #D2E3FC;\n",
              "      }\n",
              "\n",
              "      [theme=dark] .colab-df-generate:hover {\n",
              "        background-color: #434B5C;\n",
              "        box-shadow: 0px 1px 3px 1px rgba(0, 0, 0, 0.15);\n",
              "        filter: drop-shadow(0px 1px 2px rgba(0, 0, 0, 0.3));\n",
              "        fill: #FFFFFF;\n",
              "      }\n",
              "    </style>\n",
              "    <button class=\"colab-df-generate\" onclick=\"generateWithVariable('df')\"\n",
              "            title=\"Generate code using this dataframe.\"\n",
              "            style=\"display:none;\">\n",
              "\n",
              "  <svg xmlns=\"http://www.w3.org/2000/svg\" height=\"24px\"viewBox=\"0 0 24 24\"\n",
              "       width=\"24px\">\n",
              "    <path d=\"M7,19H8.4L18.45,9,17,7.55,7,17.6ZM5,21V16.75L18.45,3.32a2,2,0,0,1,2.83,0l1.4,1.43a1.91,1.91,0,0,1,.58,1.4,1.91,1.91,0,0,1-.58,1.4L9.25,21ZM18.45,9,17,7.55Zm-12,3A5.31,5.31,0,0,0,4.9,8.1,5.31,5.31,0,0,0,1,6.5,5.31,5.31,0,0,0,4.9,4.9,5.31,5.31,0,0,0,6.5,1,5.31,5.31,0,0,0,8.1,4.9,5.31,5.31,0,0,0,12,6.5,5.46,5.46,0,0,0,6.5,12Z\"/>\n",
              "  </svg>\n",
              "    </button>\n",
              "    <script>\n",
              "      (() => {\n",
              "      const buttonEl =\n",
              "        document.querySelector('#id_1b40a513-0d64-40e3-aad4-4a2d9686b3fe button.colab-df-generate');\n",
              "      buttonEl.style.display =\n",
              "        google.colab.kernel.accessAllowed ? 'block' : 'none';\n",
              "\n",
              "      buttonEl.onclick = () => {\n",
              "        google.colab.notebook.generateWithVariable('df');\n",
              "      }\n",
              "      })();\n",
              "    </script>\n",
              "  </div>\n",
              "\n",
              "    </div>\n",
              "  </div>\n"
            ],
            "application/vnd.google.colaboratory.intrinsic+json": {
              "type": "dataframe",
              "variable_name": "df"
            }
          },
          "metadata": {},
          "execution_count": 4
        }
      ]
    },
    {
      "cell_type": "code",
      "source": [
        "# Display basic information about the dataset\n",
        "print(\"Dataset Information:\")\n",
        "print(df.info())\n",
        "print(\"\\nDataset Description:\")\n",
        "print(df.describe())\n",
        "print(\"\\nFirst 5 Rows of the Dataset:\")\n",
        "print(df.head())"
      ],
      "metadata": {
        "execution": {
          "iopub.status.busy": "2024-07-22T16:48:57.227133Z",
          "iopub.execute_input": "2024-07-22T16:48:57.227964Z",
          "iopub.status.idle": "2024-07-22T16:49:00.585969Z",
          "shell.execute_reply.started": "2024-07-22T16:48:57.227925Z",
          "shell.execute_reply": "2024-07-22T16:49:00.584685Z"
        },
        "trusted": true,
        "colab": {
          "base_uri": "https://localhost:8080/"
        },
        "id": "0ZhkUULNE5vB",
        "outputId": "7be79958-6ca1-431b-d6bf-da13a8366c7d"
      },
      "execution_count": 5,
      "outputs": [
        {
          "output_type": "stream",
          "name": "stdout",
          "text": [
            "Dataset Information:\n",
            "<class 'pandas.core.frame.DataFrame'>\n",
            "RangeIndex: 11509051 entries, 0 to 11509050\n",
            "Data columns (total 9 columns):\n",
            " #   Column    Dtype         \n",
            "---  ------    -----         \n",
            " 0   X         float64       \n",
            " 1   Y         float64       \n",
            " 2   Z         float64       \n",
            " 3   EDA       float64       \n",
            " 4   HR        float64       \n",
            " 5   TEMP      float64       \n",
            " 6   id        object        \n",
            " 7   datetime  datetime64[ns]\n",
            " 8   label     float64       \n",
            "dtypes: datetime64[ns](1), float64(7), object(1)\n",
            "memory usage: 790.3+ MB\n",
            "None\n",
            "\n",
            "Dataset Description:\n",
            "                  X             Y             Z           EDA            HR  \\\n",
            "count  1.150905e+07  1.150905e+07  1.150905e+07  1.150905e+07  1.150905e+07   \n",
            "mean  -2.823775e+01 -9.091032e-01  2.382449e+01  3.502127e+00  8.576090e+01   \n",
            "min   -1.280000e+02 -1.280000e+02 -1.280000e+02  0.000000e+00  5.100000e+01   \n",
            "25%   -5.200000e+01 -1.900000e+01  4.000000e+00  2.242060e-01  7.672000e+01   \n",
            "50%   -3.300000e+01  1.000000e+00  2.500000e+01  1.157407e+00  8.390000e+01   \n",
            "75%   -1.400000e+01  1.700000e+01  4.900000e+01  4.077436e+00  9.310000e+01   \n",
            "max    1.270000e+02  1.270000e+02  1.270000e+02  5.976071e+01  1.802300e+02   \n",
            "std    3.142310e+01  3.343382e+01  2.985317e+01  5.656541e+00  1.419642e+01   \n",
            "\n",
            "               TEMP                       datetime         label  \n",
            "count  1.150905e+07                       11509051  1.150905e+07  \n",
            "mean   3.223435e+01  2020-08-01 00:55:33.359851264  1.554202e+00  \n",
            "min    2.409000e+01            2020-04-14 22:31:00  0.000000e+00  \n",
            "25%    3.019000e+01  2020-06-25 20:39:14.390625024  1.000000e+00  \n",
            "50%    3.257000e+01  2020-07-06 18:24:36.750000128  2.000000e+00  \n",
            "75%    3.425000e+01  2020-08-06 20:39:26.953124864  2.000000e+00  \n",
            "max    3.659000e+01            2020-12-13 08:01:00  2.000000e+00  \n",
            "std    2.260516e+00                            NaN  7.891827e-01  \n",
            "\n",
            "First 5 Rows of the Dataset:\n",
            "      X     Y     Z       EDA     HR   TEMP  id                      datetime  \\\n",
            "0 -13.0 -61.0   5.0  6.769995  99.43  31.17  15 2020-07-08 14:03:00.000000000   \n",
            "1 -20.0 -69.0  -3.0  6.769995  99.43  31.17  15 2020-07-08 14:03:00.031249920   \n",
            "2 -31.0 -78.0 -15.0  6.769995  99.43  31.17  15 2020-07-08 14:03:00.062500096   \n",
            "3 -47.0 -65.0 -38.0  6.769995  99.43  31.17  15 2020-07-08 14:03:00.093750016   \n",
            "4 -67.0 -57.0 -53.0  6.769995  99.43  31.17  15 2020-07-08 14:03:00.124999936   \n",
            "\n",
            "   label  \n",
            "0    2.0  \n",
            "1    2.0  \n",
            "2    2.0  \n",
            "3    2.0  \n",
            "4    2.0  \n"
          ]
        }
      ]
    },
    {
      "cell_type": "code",
      "source": [
        "df.datetime"
      ],
      "metadata": {
        "execution": {
          "iopub.status.busy": "2024-07-22T16:49:04.794156Z",
          "iopub.execute_input": "2024-07-22T16:49:04.794713Z",
          "iopub.status.idle": "2024-07-22T16:49:04.806061Z",
          "shell.execute_reply.started": "2024-07-22T16:49:04.794667Z",
          "shell.execute_reply": "2024-07-22T16:49:04.804635Z"
        },
        "trusted": true,
        "colab": {
          "base_uri": "https://localhost:8080/"
        },
        "id": "lYX3cj4wE5vB",
        "outputId": "02fb97d3-5fed-4592-d0b3-8737bea8d548"
      },
      "execution_count": 6,
      "outputs": [
        {
          "output_type": "execute_result",
          "data": {
            "text/plain": [
              "0          2020-07-08 14:03:00.000000000\n",
              "1          2020-07-08 14:03:00.031249920\n",
              "2          2020-07-08 14:03:00.062500096\n",
              "3          2020-07-08 14:03:00.093750016\n",
              "4          2020-07-08 14:03:00.124999936\n",
              "                        ...             \n",
              "11509046   2020-07-23 17:28:59.875000064\n",
              "11509047   2020-07-23 17:28:59.906249984\n",
              "11509048   2020-07-23 17:28:59.937499904\n",
              "11509049   2020-07-23 17:28:59.968750080\n",
              "11509050   2020-07-23 17:29:00.000000000\n",
              "Name: datetime, Length: 11509051, dtype: datetime64[ns]"
            ]
          },
          "metadata": {},
          "execution_count": 6
        }
      ]
    },
    {
      "cell_type": "code",
      "source": [
        "# Extract datetime features\n",
        "# Convert 'datetime' to datetime object and extract features\n",
        "df['month'] = df['datetime'].dt.month\n",
        "df['day'] = df['datetime'].dt.day\n",
        "df['hour'] = df['datetime'].dt.hour\n",
        "df['minute'] = df['datetime'].dt.minute\n",
        "df['second'] = df['datetime'].dt.second\n",
        "df['day_of_week'] = df['datetime'].dt.dayofweek\n",
        "df['month'] = df['datetime'].dt.month"
      ],
      "metadata": {
        "execution": {
          "iopub.status.busy": "2024-07-22T16:49:30.337308Z",
          "iopub.execute_input": "2024-07-22T16:49:30.337932Z",
          "iopub.status.idle": "2024-07-22T16:49:32.624111Z",
          "shell.execute_reply.started": "2024-07-22T16:49:30.337886Z",
          "shell.execute_reply": "2024-07-22T16:49:32.622853Z"
        },
        "trusted": true,
        "id": "8m_ibJF0E5vB"
      },
      "execution_count": 7,
      "outputs": []
    },
    {
      "cell_type": "code",
      "source": [
        "from sklearn.model_selection import train_test_split\n",
        "from sklearn.preprocessing import StandardScaler"
      ],
      "metadata": {
        "execution": {
          "iopub.status.busy": "2024-07-22T16:49:40.943919Z",
          "iopub.execute_input": "2024-07-22T16:49:40.94501Z",
          "iopub.status.idle": "2024-07-22T16:49:40.949963Z",
          "shell.execute_reply.started": "2024-07-22T16:49:40.944966Z",
          "shell.execute_reply": "2024-07-22T16:49:40.948612Z"
        },
        "trusted": true,
        "id": "UJukoZARE5vC"
      },
      "execution_count": 8,
      "outputs": []
    },
    {
      "cell_type": "code",
      "source": [
        "# Data Preparation\n",
        "X = df[['X', 'Y', 'Z', 'TEMP', 'HR', 'EDA']]  # Features\n",
        "y = df['label']  # Target variable\n"
      ],
      "metadata": {
        "execution": {
          "iopub.status.busy": "2024-07-22T16:49:57.849468Z",
          "iopub.execute_input": "2024-07-22T16:49:57.850487Z",
          "iopub.status.idle": "2024-07-22T16:49:58.039002Z",
          "shell.execute_reply.started": "2024-07-22T16:49:57.850447Z",
          "shell.execute_reply": "2024-07-22T16:49:58.037856Z"
        },
        "trusted": true,
        "id": "OM8S_JWnE5vC"
      },
      "execution_count": 9,
      "outputs": []
    },
    {
      "cell_type": "code",
      "source": [
        "# Splitting Data\n",
        "X_train, X_test, y_train, y_test = train_test_split(X, y, test_size=0.2, random_state=42)\n"
      ],
      "metadata": {
        "execution": {
          "iopub.status.busy": "2024-07-22T16:50:07.168688Z",
          "iopub.execute_input": "2024-07-22T16:50:07.169271Z",
          "iopub.status.idle": "2024-07-22T16:50:09.193327Z",
          "shell.execute_reply.started": "2024-07-22T16:50:07.169223Z",
          "shell.execute_reply": "2024-07-22T16:50:09.192128Z"
        },
        "trusted": true,
        "id": "N4RJNWQkE5vC"
      },
      "execution_count": 10,
      "outputs": []
    },
    {
      "cell_type": "code",
      "source": [
        "# Feature Scaling (if required)\n",
        "scaler = StandardScaler()\n",
        "X_train_scaled = scaler.fit_transform(X_train)\n",
        "X_test_scaled = scaler.transform(X_test)"
      ],
      "metadata": {
        "execution": {
          "iopub.status.busy": "2024-07-22T16:50:17.841024Z",
          "iopub.execute_input": "2024-07-22T16:50:17.842016Z",
          "iopub.status.idle": "2024-07-22T16:50:18.725546Z",
          "shell.execute_reply.started": "2024-07-22T16:50:17.841975Z",
          "shell.execute_reply": "2024-07-22T16:50:18.724249Z"
        },
        "trusted": true,
        "id": "t6708-BiE5vC"
      },
      "execution_count": 11,
      "outputs": []
    },
    {
      "cell_type": "code",
      "source": [
        "from sklearn.ensemble import RandomForestClassifier\n",
        "from sklearn.metrics import accuracy_score, precision_score, recall_score, f1_score, r2_score, mean_squared_error\n"
      ],
      "metadata": {
        "execution": {
          "iopub.status.busy": "2024-07-22T16:50:26.208452Z",
          "iopub.execute_input": "2024-07-22T16:50:26.208921Z",
          "iopub.status.idle": "2024-07-22T16:50:26.215003Z",
          "shell.execute_reply.started": "2024-07-22T16:50:26.208882Z",
          "shell.execute_reply": "2024-07-22T16:50:26.213458Z"
        },
        "trusted": true,
        "id": "IW3PzNJdE5vD"
      },
      "execution_count": 12,
      "outputs": []
    },
    {
      "cell_type": "code",
      "source": [
        "# Train a random forest classifier on the training data\n",
        "RFC = RandomForestClassifier(n_estimators=100, random_state=42)\n",
        "RFC.fit(X_train, y_train)"
      ],
      "metadata": {
        "colab": {
          "base_uri": "https://localhost:8080/",
          "height": 75
        },
        "id": "3U7-tRukE5vD",
        "outputId": "3f41a64f-128b-43f5-a937-95eaf1e5551f"
      },
      "execution_count": 14,
      "outputs": [
        {
          "output_type": "execute_result",
          "data": {
            "text/plain": [
              "RandomForestClassifier(random_state=42)"
            ],
            "text/html": [
              "<style>#sk-container-id-1 {color: black;background-color: white;}#sk-container-id-1 pre{padding: 0;}#sk-container-id-1 div.sk-toggleable {background-color: white;}#sk-container-id-1 label.sk-toggleable__label {cursor: pointer;display: block;width: 100%;margin-bottom: 0;padding: 0.3em;box-sizing: border-box;text-align: center;}#sk-container-id-1 label.sk-toggleable__label-arrow:before {content: \"▸\";float: left;margin-right: 0.25em;color: #696969;}#sk-container-id-1 label.sk-toggleable__label-arrow:hover:before {color: black;}#sk-container-id-1 div.sk-estimator:hover label.sk-toggleable__label-arrow:before {color: black;}#sk-container-id-1 div.sk-toggleable__content {max-height: 0;max-width: 0;overflow: hidden;text-align: left;background-color: #f0f8ff;}#sk-container-id-1 div.sk-toggleable__content pre {margin: 0.2em;color: black;border-radius: 0.25em;background-color: #f0f8ff;}#sk-container-id-1 input.sk-toggleable__control:checked~div.sk-toggleable__content {max-height: 200px;max-width: 100%;overflow: auto;}#sk-container-id-1 input.sk-toggleable__control:checked~label.sk-toggleable__label-arrow:before {content: \"▾\";}#sk-container-id-1 div.sk-estimator input.sk-toggleable__control:checked~label.sk-toggleable__label {background-color: #d4ebff;}#sk-container-id-1 div.sk-label input.sk-toggleable__control:checked~label.sk-toggleable__label {background-color: #d4ebff;}#sk-container-id-1 input.sk-hidden--visually {border: 0;clip: rect(1px 1px 1px 1px);clip: rect(1px, 1px, 1px, 1px);height: 1px;margin: -1px;overflow: hidden;padding: 0;position: absolute;width: 1px;}#sk-container-id-1 div.sk-estimator {font-family: monospace;background-color: #f0f8ff;border: 1px dotted black;border-radius: 0.25em;box-sizing: border-box;margin-bottom: 0.5em;}#sk-container-id-1 div.sk-estimator:hover {background-color: #d4ebff;}#sk-container-id-1 div.sk-parallel-item::after {content: \"\";width: 100%;border-bottom: 1px solid gray;flex-grow: 1;}#sk-container-id-1 div.sk-label:hover label.sk-toggleable__label {background-color: #d4ebff;}#sk-container-id-1 div.sk-serial::before {content: \"\";position: absolute;border-left: 1px solid gray;box-sizing: border-box;top: 0;bottom: 0;left: 50%;z-index: 0;}#sk-container-id-1 div.sk-serial {display: flex;flex-direction: column;align-items: center;background-color: white;padding-right: 0.2em;padding-left: 0.2em;position: relative;}#sk-container-id-1 div.sk-item {position: relative;z-index: 1;}#sk-container-id-1 div.sk-parallel {display: flex;align-items: stretch;justify-content: center;background-color: white;position: relative;}#sk-container-id-1 div.sk-item::before, #sk-container-id-1 div.sk-parallel-item::before {content: \"\";position: absolute;border-left: 1px solid gray;box-sizing: border-box;top: 0;bottom: 0;left: 50%;z-index: -1;}#sk-container-id-1 div.sk-parallel-item {display: flex;flex-direction: column;z-index: 1;position: relative;background-color: white;}#sk-container-id-1 div.sk-parallel-item:first-child::after {align-self: flex-end;width: 50%;}#sk-container-id-1 div.sk-parallel-item:last-child::after {align-self: flex-start;width: 50%;}#sk-container-id-1 div.sk-parallel-item:only-child::after {width: 0;}#sk-container-id-1 div.sk-dashed-wrapped {border: 1px dashed gray;margin: 0 0.4em 0.5em 0.4em;box-sizing: border-box;padding-bottom: 0.4em;background-color: white;}#sk-container-id-1 div.sk-label label {font-family: monospace;font-weight: bold;display: inline-block;line-height: 1.2em;}#sk-container-id-1 div.sk-label-container {text-align: center;}#sk-container-id-1 div.sk-container {/* jupyter's `normalize.less` sets `[hidden] { display: none; }` but bootstrap.min.css set `[hidden] { display: none !important; }` so we also need the `!important` here to be able to override the default hidden behavior on the sphinx rendered scikit-learn.org. See: https://github.com/scikit-learn/scikit-learn/issues/21755 */display: inline-block !important;position: relative;}#sk-container-id-1 div.sk-text-repr-fallback {display: none;}</style><div id=\"sk-container-id-1\" class=\"sk-top-container\"><div class=\"sk-text-repr-fallback\"><pre>RandomForestClassifier(random_state=42)</pre><b>In a Jupyter environment, please rerun this cell to show the HTML representation or trust the notebook. <br />On GitHub, the HTML representation is unable to render, please try loading this page with nbviewer.org.</b></div><div class=\"sk-container\" hidden><div class=\"sk-item\"><div class=\"sk-estimator sk-toggleable\"><input class=\"sk-toggleable__control sk-hidden--visually\" id=\"sk-estimator-id-1\" type=\"checkbox\" checked><label for=\"sk-estimator-id-1\" class=\"sk-toggleable__label sk-toggleable__label-arrow\">RandomForestClassifier</label><div class=\"sk-toggleable__content\"><pre>RandomForestClassifier(random_state=42)</pre></div></div></div></div></div>"
            ]
          },
          "metadata": {},
          "execution_count": 14
        }
      ]
    },
    {
      "cell_type": "code",
      "source": [],
      "metadata": {
        "id": "_eGxrtwEb06N"
      },
      "execution_count": null,
      "outputs": []
    },
    {
      "cell_type": "code",
      "source": [
        "# Evaluate the model on the testing data\n",
        "y_pred = RFC.predict(X_test)\n",
        "accuracy = accuracy_score(y_test, y_pred)\n",
        "print(f\"Accuracy: {accuracy}\")"
      ],
      "metadata": {
        "colab": {
          "base_uri": "https://localhost:8080/"
        },
        "id": "i7mA_TdRXDw2",
        "outputId": "f5f36d8a-52ab-4a7f-b20f-094aad404f13"
      },
      "execution_count": 15,
      "outputs": [
        {
          "output_type": "stream",
          "name": "stdout",
          "text": [
            "Accuracy: 0.9967130229197793\n"
          ]
        }
      ]
    },
    {
      "cell_type": "code",
      "source": [
        "print('Precision:', precision_score(y_test, y_pred, average='weighted'))\n",
        "print('Recall:', recall_score(y_test, y_pred, average='weighted'))\n",
        "print('F1-score:', f1_score(y_test, y_pred, average='weighted'))"
      ],
      "metadata": {
        "colab": {
          "base_uri": "https://localhost:8080/"
        },
        "id": "VZ2GRm34XdkP",
        "outputId": "c72bd7d8-f5b8-4c0c-a2cf-2004c25a1aa8"
      },
      "execution_count": 16,
      "outputs": [
        {
          "output_type": "stream",
          "name": "stdout",
          "text": [
            "Precision: 0.9967160494572419\n",
            "Recall: 0.9967130229197793\n",
            "F1-score: 0.9967070258939938\n"
          ]
        }
      ]
    },
    {
      "cell_type": "code",
      "source": [
        "# Evaluate the model performance using R-squared and RMSE metrics\n",
        "print('R-squared score for id prediction:', r2_score(y_test, y_pred))\n",
        "print('RMSE for id prediction:', mean_squared_error(y_test, y_pred, squared=False))"
      ],
      "metadata": {
        "colab": {
          "base_uri": "https://localhost:8080/"
        },
        "id": "5VEVWUpVXfd-",
        "outputId": "6362553a-3729-4616-b273-bd948d4b59cf"
      },
      "execution_count": 17,
      "outputs": [
        {
          "output_type": "stream",
          "name": "stdout",
          "text": [
            "R-squared score for id prediction: 0.9854372495113038\n",
            "RMSE for id prediction: 0.09520820207233134\n"
          ]
        }
      ]
    },
    {
      "cell_type": "code",
      "source": [
        "# Classification Report\n",
        "print('\\nClassification Report:')\n",
        "print(classification_report(y_test, y_pred))\n"
      ],
      "metadata": {
        "colab": {
          "base_uri": "https://localhost:8080/"
        },
        "id": "9xK-phYOYWmv",
        "outputId": "fbbfdf50-9819-4ee6-fa96-29373ee60599"
      },
      "execution_count": 18,
      "outputs": [
        {
          "output_type": "stream",
          "name": "stdout",
          "text": [
            "\n",
            "Classification Report:\n",
            "              precision    recall  f1-score   support\n",
            "\n",
            "         0.0       1.00      0.99      0.99    432097\n",
            "         1.0       1.00      0.98      0.99    160853\n",
            "         2.0       1.00      1.00      1.00   1708861\n",
            "\n",
            "    accuracy                           1.00   2301811\n",
            "   macro avg       1.00      0.99      0.99   2301811\n",
            "weighted avg       1.00      1.00      1.00   2301811\n",
            "\n"
          ]
        }
      ]
    },
    {
      "cell_type": "code",
      "source": [
        "# Precision, Recall, F1-Score, and Support\n",
        "precision, recall, f1, _ = precision_recall_fscore_support(y_test, y_pred, average='weighted')\n",
        "print(f'\\nPrecision: {precision:.4f}')\n",
        "print(f'Recall: {recall:.4f}')\n",
        "print(f'F1 Score: {f1:.4f}')\n"
      ],
      "metadata": {
        "colab": {
          "base_uri": "https://localhost:8080/"
        },
        "id": "OGqQEDijYcm2",
        "outputId": "80e2c87b-9cac-4a8d-c4cc-d7fd516eb04a"
      },
      "execution_count": 19,
      "outputs": [
        {
          "output_type": "stream",
          "name": "stdout",
          "text": [
            "\n",
            "Precision: 0.9967\n",
            "Recall: 0.9967\n",
            "F1 Score: 0.9967\n"
          ]
        }
      ]
    },
    {
      "cell_type": "code",
      "source": [
        "# Confusion Matrix\n",
        "conf_mat = confusion_matrix(y_test, y_pred)\n",
        "plt.figure(figsize=(10, 7))\n",
        "sns.heatmap(conf_mat, annot=True, fmt='d', cmap='Blues')\n",
        "plt.xlabel('Predicted')\n",
        "plt.ylabel('Actual')\n",
        "plt.title('Confusion Matrix')\n",
        "plt.show()"
      ],
      "metadata": {
        "colab": {
          "base_uri": "https://localhost:8080/",
          "height": 641
        },
        "id": "7dzhc5MCYgcW",
        "outputId": "1d398d97-c47d-4c4d-a502-510ddd073d7b"
      },
      "execution_count": 20,
      "outputs": [
        {
          "output_type": "display_data",
          "data": {
            "text/plain": [
              "<Figure size 1000x700 with 2 Axes>"
            ],
            "image/png": "[encoded data removed]"
          },
          "metadata": {}
        }
      ]
    },
    {
      "cell_type": "code",
      "source": [
        "RFC\n",
        "\n"
      ],
      "metadata": {
        "id": "mhtwmvVNhMvc",
        "outputId": "5e805362-4b46-476c-fbb3-458a561290f2",
        "colab": {
          "base_uri": "https://localhost:8080/",
          "height": 75
        }
      },
      "execution_count": 25,
      "outputs": [
        {
          "output_type": "execute_result",
          "data": {
            "text/plain": [
              "RandomForestClassifier(random_state=42)"
            ],
            "text/html": [
              "<style>#sk-container-id-2 {color: black;background-color: white;}#sk-container-id-2 pre{padding: 0;}#sk-container-id-2 div.sk-toggleable {background-color: white;}#sk-container-id-2 label.sk-toggleable__label {cursor: pointer;display: block;width: 100%;margin-bottom: 0;padding: 0.3em;box-sizing: border-box;text-align: center;}#sk-container-id-2 label.sk-toggleable__label-arrow:before {content: \"▸\";float: left;margin-right: 0.25em;color: #696969;}#sk-container-id-2 label.sk-toggleable__label-arrow:hover:before {color: black;}#sk-container-id-2 div.sk-estimator:hover label.sk-toggleable__label-arrow:before {color: black;}#sk-container-id-2 div.sk-toggleable__content {max-height: 0;max-width: 0;overflow: hidden;text-align: left;background-color: #f0f8ff;}#sk-container-id-2 div.sk-toggleable__content pre {margin: 0.2em;color: black;border-radius: 0.25em;background-color: #f0f8ff;}#sk-container-id-2 input.sk-toggleable__control:checked~div.sk-toggleable__content {max-height: 200px;max-width: 100%;overflow: auto;}#sk-container-id-2 input.sk-toggleable__control:checked~label.sk-toggleable__label-arrow:before {content: \"▾\";}#sk-container-id-2 div.sk-estimator input.sk-toggleable__control:checked~label.sk-toggleable__label {background-color: #d4ebff;}#sk-container-id-2 div.sk-label input.sk-toggleable__control:checked~label.sk-toggleable__label {background-color: #d4ebff;}#sk-container-id-2 input.sk-hidden--visually {border: 0;clip: rect(1px 1px 1px 1px);clip: rect(1px, 1px, 1px, 1px);height: 1px;margin: -1px;overflow: hidden;padding: 0;position: absolute;width: 1px;}#sk-container-id-2 div.sk-estimator {font-family: monospace;background-color: #f0f8ff;border: 1px dotted black;border-radius: 0.25em;box-sizing: border-box;margin-bottom: 0.5em;}#sk-container-id-2 div.sk-estimator:hover {background-color: #d4ebff;}#sk-container-id-2 div.sk-parallel-item::after {content: \"\";width: 100%;border-bottom: 1px solid gray;flex-grow: 1;}#sk-container-id-2 div.sk-label:hover label.sk-toggleable__label {background-color: #d4ebff;}#sk-container-id-2 div.sk-serial::before {content: \"\";position: absolute;border-left: 1px solid gray;box-sizing: border-box;top: 0;bottom: 0;left: 50%;z-index: 0;}#sk-container-id-2 div.sk-serial {display: flex;flex-direction: column;align-items: center;background-color: white;padding-right: 0.2em;padding-left: 0.2em;position: relative;}#sk-container-id-2 div.sk-item {position: relative;z-index: 1;}#sk-container-id-2 div.sk-parallel {display: flex;align-items: stretch;justify-content: center;background-color: white;position: relative;}#sk-container-id-2 div.sk-item::before, #sk-container-id-2 div.sk-parallel-item::before {content: \"\";position: absolute;border-left: 1px solid gray;box-sizing: border-box;top: 0;bottom: 0;left: 50%;z-index: -1;}#sk-container-id-2 div.sk-parallel-item {display: flex;flex-direction: column;z-index: 1;position: relative;background-color: white;}#sk-container-id-2 div.sk-parallel-item:first-child::after {align-self: flex-end;width: 50%;}#sk-container-id-2 div.sk-parallel-item:last-child::after {align-self: flex-start;width: 50%;}#sk-container-id-2 div.sk-parallel-item:only-child::after {width: 0;}#sk-container-id-2 div.sk-dashed-wrapped {border: 1px dashed gray;margin: 0 0.4em 0.5em 0.4em;box-sizing: border-box;padding-bottom: 0.4em;background-color: white;}#sk-container-id-2 div.sk-label label {font-family: monospace;font-weight: bold;display: inline-block;line-height: 1.2em;}#sk-container-id-2 div.sk-label-container {text-align: center;}#sk-container-id-2 div.sk-container {/* jupyter's `normalize.less` sets `[hidden] { display: none; }` but bootstrap.min.css set `[hidden] { display: none !important; }` so we also need the `!important` here to be able to override the default hidden behavior on the sphinx rendered scikit-learn.org. See: https://github.com/scikit-learn/scikit-learn/issues/21755 */display: inline-block !important;position: relative;}#sk-container-id-2 div.sk-text-repr-fallback {display: none;}</style><div id=\"sk-container-id-2\" class=\"sk-top-container\"><div class=\"sk-text-repr-fallback\"><pre>RandomForestClassifier(random_state=42)</pre><b>In a Jupyter environment, please rerun this cell to show the HTML representation or trust the notebook. <br />On GitHub, the HTML representation is unable to render, please try loading this page with nbviewer.org.</b></div><div class=\"sk-container\" hidden><div class=\"sk-item\"><div class=\"sk-estimator sk-toggleable\"><input class=\"sk-toggleable__control sk-hidden--visually\" id=\"sk-estimator-id-2\" type=\"checkbox\" checked><label for=\"sk-estimator-id-2\" class=\"sk-toggleable__label sk-toggleable__label-arrow\">RandomForestClassifier</label><div class=\"sk-toggleable__content\"><pre>RandomForestClassifier(random_state=42)</pre></div></div></div></div></div>"
            ]
          },
          "metadata": {},
          "execution_count": 25
        }
      ]
    },
    {
      "cell_type": "code",
      "source": [
        "y_pred"
      ],
      "metadata": {
        "id": "QR2vvamxh4kR",
        "outputId": "acf87d00-bbfe-41b4-c009-8f83c5fdadf5",
        "colab": {
          "base_uri": "https://localhost:8080/"
        }
      },
      "execution_count": 26,
      "outputs": [
        {
          "output_type": "execute_result",
          "data": {
            "text/plain": [
              "array([2., 0., 2., ..., 2., 2., 0.])"
            ]
          },
          "metadata": {},
          "execution_count": 26
        }
      ]
    },
    {
      "cell_type": "code",
      "source": [
        "print('Confusion Matrix:')\n",
        "print(conf_mat)"
      ],
      "metadata": {
        "id": "NGqJbmebiHEP",
        "outputId": "9f9aae67-10f6-400f-f6bc-6f5be9a48d3c",
        "colab": {
          "base_uri": "https://localhost:8080/"
        }
      },
      "execution_count": 28,
      "outputs": [
        {
          "output_type": "stream",
          "name": "stdout",
          "text": [
            "Confusion Matrix:\n",
            "[[ 428361      97    3639]\n",
            " [    172  158089    2592]\n",
            " [    794     272 1707795]]\n"
          ]
        }
      ]
    },
    {
      "cell_type": "code",
      "source": [
        "print(\"Random Forest  Model Performance:\")\n",
        "print(confusion_matrix(y_test, y_pred))\n",
        "print(classification_report(y_test, y_pred))"
      ],
      "metadata": {
        "id": "C3GBJqfxiSD8",
        "outputId": "f806f130-df67-4fd9-88eb-0a45f7a0f022",
        "colab": {
          "base_uri": "https://localhost:8080/"
        }
      },
      "execution_count": 30,
      "outputs": [
        {
          "output_type": "stream",
          "name": "stdout",
          "text": [
            "Random Forest  Model Performance:\n",
            "[[ 428361      97    3639]\n",
            " [    172  158089    2592]\n",
            " [    794     272 1707795]]\n",
            "              precision    recall  f1-score   support\n",
            "\n",
            "         0.0       1.00      0.99      0.99    432097\n",
            "         1.0       1.00      0.98      0.99    160853\n",
            "         2.0       1.00      1.00      1.00   1708861\n",
            "\n",
            "    accuracy                           1.00   2301811\n",
            "   macro avg       1.00      0.99      0.99   2301811\n",
            "weighted avg       1.00      1.00      1.00   2301811\n",
            "\n"
          ]
        }
      ]
    },
    {
      "cell_type": "markdown",
      "source": [],
      "metadata": {
        "id": "1Bi9MzY5bLpj"
      }
    }
  ]
}