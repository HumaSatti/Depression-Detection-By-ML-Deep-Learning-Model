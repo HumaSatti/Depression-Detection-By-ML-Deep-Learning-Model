{
  "metadata": {
    "kernelspec": {
      "language": "python",
      "display_name": "Python 3",
      "name": "python3"
    },
    "language_info": {
      "name": "python",
      "version": "3.10.13",
      "mimetype": "text/x-python",
      "codemirror_mode": {
        "name": "ipython",
        "version": 3
      },
      "pygments_lexer": "ipython3",
      "nbconvert_exporter": "python",
      "file_extension": ".py"
    },
    "kaggle": {
      "accelerator": "none",
      "dataSources": [
        {
          "sourceId": 7125235,
          "sourceType": "datasetVersion",
          "datasetId": 4110234
        }
      ],
      "dockerImageVersionId": 30732,
      "isInternetEnabled": true,
      "language": "python",
      "sourceType": "notebook",
      "isGpuEnabled": false
    },
    "colab": {
      "name": "Nurse prediction deep leraning model small dataset",
      "provenance": [],
      "include_colab_link": true
    }
  },
  "nbformat_minor": 0,
  "nbformat": 4,
  "cells": [
    {
      "cell_type": "markdown",
      "metadata": {
        "id": "view-in-github",
        "colab_type": "text"
      },
      "source": [
        "<a href=\"https://colab.research.google.com/github/HumaSatti/Depression-Detection-By-ML-Deep-Learning-Model/blob/main/Nurse_prediction_deep_leraning_model_small_dataset.ipynb\" target=\"_parent\"><img src=\"https://colab.research.google.com/assets/colab-badge.svg\" alt=\"Open In Colab\"/></a>"
      ]
    },
    {
      "source": [
        "\n",
        "# IMPORTANT: RUN THIS CELL IN ORDER TO IMPORT YOUR KAGGLE DATA SOURCES\n",
        "# TO THE CORRECT LOCATION (/kaggle/input) IN YOUR NOTEBOOK,\n",
        "# THEN FEEL FREE TO DELETE THIS CELL.\n",
        "# NOTE: THIS NOTEBOOK ENVIRONMENT DIFFERS FROM KAGGLE'S PYTHON\n",
        "# ENVIRONMENT SO THERE MAY BE MISSING LIBRARIES USED BY YOUR\n",
        "# NOTEBOOK.\n",
        "\n",
        "import os\n",
        "import sys\n",
        "from tempfile import NamedTemporaryFile\n",
        "from urllib.request import urlopen\n",
        "from urllib.parse import unquote, urlparse\n",
        "from urllib.error import HTTPError\n",
        "from zipfile import ZipFile\n",
        "import tarfile\n",
        "import shutil\n",
        "\n",
        "CHUNK_SIZE = 40960\n",
        "DATA_SOURCE_MAPPING = 'nurse-stress-prediction-wearable-sensors:https%3A%2F%2Fstorage.googleapis.com%2Fkaggle-data-sets%2F4110234%2F7125235%2Fbundle%2Farchive.zip%3FX-Goog-Algorithm%3DGOOG4-RSA-SHA256%26X-Goog-Credential%3Dgcp-kaggle-com%2540kaggle-161607.iam.gserviceaccount.com%252F20240723%252Fauto%252Fstorage%252Fgoog4_request%26X-Goog-Date%3D20240723T152520Z%26X-Goog-Expires%3D259200%26X-Goog-SignedHeaders%3Dhost%26X-Goog-Signature%3D7a1682fedec17fdcb248941e43eadad3a320a75b946835e35182253cd550fe14f4e9806eb6d7c26443b83098e737c1cef34bac8343bed5c8c56c95d7f8926eaf7121c33744fc233007fdbbd8bfe4657dc5b5b749cb1dc04f1350bbc4f6cc9f06e693b135ce5c69babd52b8a8255ae36622deaeb644732b1a98f46d3e3cd7a4b75fc930fa9d824b2ce188466fd2f21e5b8f30f9d766a76b32bbc646cf2b0b0126bbd8fa7c7806a5d5b4fd648159284eba689b3d82e1097c29e169d209ab5b875e5b910d8fda5852b84509b3994ba6ea807069f939a83205a58f4c38308e261755225283659ccd76f7c921d8587af70f5964a55a678a26acd8c30fd1498c36dade'\n",
        "\n",
        "KAGGLE_INPUT_PATH='/kaggle/input'\n",
        "KAGGLE_WORKING_PATH='/kaggle/working'\n",
        "KAGGLE_SYMLINK='kaggle'\n",
        "\n",
        "!umount /kaggle/input/ 2> /dev/null\n",
        "shutil.rmtree('/kaggle/input', ignore_errors=True)\n",
        "os.makedirs(KAGGLE_INPUT_PATH, 0o777, exist_ok=True)\n",
        "os.makedirs(KAGGLE_WORKING_PATH, 0o777, exist_ok=True)\n",
        "\n",
        "try:\n",
        "  os.symlink(KAGGLE_INPUT_PATH, os.path.join(\"..\", 'input'), target_is_directory=True)\n",
        "except FileExistsError:\n",
        "  pass\n",
        "try:\n",
        "  os.symlink(KAGGLE_WORKING_PATH, os.path.join(\"..\", 'working'), target_is_directory=True)\n",
        "except FileExistsError:\n",
        "  pass\n",
        "\n",
        "for data_source_mapping in DATA_SOURCE_MAPPING.split(','):\n",
        "    directory, download_url_encoded = data_source_mapping.split(':')\n",
        "    download_url = unquote(download_url_encoded)\n",
        "    filename = urlparse(download_url).path\n",
        "    destination_path = os.path.join(KAGGLE_INPUT_PATH, directory)\n",
        "    try:\n",
        "        with urlopen(download_url) as fileres, NamedTemporaryFile() as tfile:\n",
        "            total_length = fileres.headers['content-length']\n",
        "            print(f'Downloading {directory}, {total_length} bytes compressed')\n",
        "            dl = 0\n",
        "            data = fileres.read(CHUNK_SIZE)\n",
        "            while len(data) > 0:\n",
        "                dl += len(data)\n",
        "                tfile.write(data)\n",
        "                done = int(50 * dl / int(total_length))\n",
        "                sys.stdout.write(f\"\\r[{'=' * done}{' ' * (50-done)}] {dl} bytes downloaded\")\n",
        "                sys.stdout.flush()\n",
        "                data = fileres.read(CHUNK_SIZE)\n",
        "            if filename.endswith('.zip'):\n",
        "              with ZipFile(tfile) as zfile:\n",
        "                zfile.extractall(destination_path)\n",
        "            else:\n",
        "              with tarfile.open(tfile.name) as tarfile:\n",
        "                tarfile.extractall(destination_path)\n",
        "            print(f'\\nDownloaded and uncompressed: {directory}')\n",
        "    except HTTPError as e:\n",
        "        print(f'Failed to load (likely expired) {download_url} to path {destination_path}')\n",
        "        continue\n",
        "    except OSError as e:\n",
        "        print(f'Failed to load {download_url} to path {destination_path}')\n",
        "        continue\n",
        "\n",
        "print('Data source import complete.')\n"
      ],
      "metadata": {
        "id": "9aSWAlcYMn5W",
        "outputId": "e403df44-6be3-4347-b829-48a99fdd8f93",
        "colab": {
          "base_uri": "https://localhost:8080/"
        }
      },
      "cell_type": "code",
      "outputs": [
        {
          "output_type": "stream",
          "name": "stdout",
          "text": [
            "Downloading nurse-stress-prediction-wearable-sensors, 79877492 bytes compressed\n",
            "[==================================================] 79877492 bytes downloaded\n",
            "Downloaded and uncompressed: nurse-stress-prediction-wearable-sensors\n",
            "Data source import complete.\n"
          ]
        }
      ],
      "execution_count": 1
    },
    {
      "cell_type": "code",
      "source": [
        "# This Python 3 environment comes with many helpful analytics libraries installed\n",
        "# It is defined by the kaggle/python Docker image: https://github.com/kaggle/docker-python\n",
        "# For example, here's several helpful packages to load\n",
        "\n",
        "import numpy as np # linear algebra\n",
        "import pandas as pd # data processing, CSV file I/O (e.g. pd.read_csv)\n",
        "\n",
        "# Input data files are available in the read-only \"../input/\" directory\n",
        "# For example, running this (by clicking run or pressing Shift+Enter) will list all files under the input directory\n",
        "\n",
        "import os\n",
        "for dirname, _, filenames in os.walk('/kaggle/input'):\n",
        "    for filename in filenames:\n",
        "        print(os.path.join(dirname, filename))\n",
        "\n",
        "# You can write up to 20GB to the current directory (/kaggle/working/) that gets preserved as output when you create a version using \"Save & Run All\"\n",
        "# You can also write temporary files to /kaggle/temp/, but they won't be saved outside of the current session"
      ],
      "metadata": {
        "_uuid": "8f2839f25d086af736a60e9eeb907d3b93b6e0e5",
        "_cell_guid": "b1076dfc-b9ad-4769-8c92-a6c4dae69d19",
        "execution": {
          "iopub.status.busy": "2024-06-24T16:06:34.039705Z",
          "iopub.execute_input": "2024-06-24T16:06:34.040154Z",
          "iopub.status.idle": "2024-06-24T16:06:34.512304Z",
          "shell.execute_reply.started": "2024-06-24T16:06:34.040115Z",
          "shell.execute_reply": "2024-06-24T16:06:34.510974Z"
        },
        "trusted": true,
        "id": "jtWKvU7vMn5b",
        "outputId": "f0a86d0f-8bb6-4204-d066-21cca7169948",
        "colab": {
          "base_uri": "https://localhost:8080/"
        }
      },
      "execution_count": 2,
      "outputs": [
        {
          "output_type": "stream",
          "name": "stdout",
          "text": [
            "/kaggle/input/nurse-stress-prediction-wearable-sensors/merged_data.csv\n"
          ]
        }
      ]
    },
    {
      "cell_type": "code",
      "source": [
        "import seaborn as sns\n",
        "import matplotlib.pyplot as plt\n",
        "from sklearn.model_selection import train_test_split\n",
        "from sklearn.preprocessing import RobustScaler\n",
        "from sklearn.metrics import classification_report, confusion_matrix\n",
        "from imblearn.over_sampling import RandomOverSampler\n",
        "from tensorflow.keras.models import Sequential\n",
        "from tensorflow.keras.layers import Dense, Dropout, Input\n",
        "from tensorflow.keras.callbacks import EarlyStopping, ModelCheckpoint\n",
        "import tensorflow as tf"
      ],
      "metadata": {
        "execution": {
          "iopub.status.busy": "2024-06-24T16:06:36.592967Z",
          "iopub.execute_input": "2024-06-24T16:06:36.593552Z",
          "iopub.status.idle": "2024-06-24T16:06:41.384431Z",
          "shell.execute_reply.started": "2024-06-24T16:06:36.593515Z",
          "shell.execute_reply": "2024-06-24T16:06:41.3831Z"
        },
        "trusted": true,
        "id": "Hhb5fwHTMn5c"
      },
      "execution_count": 3,
      "outputs": []
    },
    {
      "cell_type": "code",
      "source": [
        "# Load the dataset\n",
        "df = pd.read_csv('/kaggle/input/nurse-stress-prediction-wearable-sensors/merged_data.csv', low_memory=False, parse_dates=['datetime'])\n",
        "df"
      ],
      "metadata": {
        "execution": {
          "iopub.status.busy": "2024-06-24T16:06:47.835372Z",
          "iopub.execute_input": "2024-06-24T16:06:47.836134Z",
          "iopub.status.idle": "2024-06-24T16:07:28.969375Z",
          "shell.execute_reply.started": "2024-06-24T16:06:47.836096Z",
          "shell.execute_reply": "2024-06-24T16:07:28.967943Z"
        },
        "trusted": true,
        "id": "jxYFm7UmMn5d",
        "outputId": "2c466bd4-010f-457c-be41-1111877fd6ea",
        "colab": {
          "base_uri": "https://localhost:8080/",
          "height": 423
        }
      },
      "execution_count": 4,
      "outputs": [
        {
          "output_type": "execute_result",
          "data": {
            "text/plain": [
              "             X     Y     Z       EDA     HR   TEMP  id  \\\n",
              "0        -13.0 -61.0   5.0  6.769995  99.43  31.17  15   \n",
              "1        -20.0 -69.0  -3.0  6.769995  99.43  31.17  15   \n",
              "2        -31.0 -78.0 -15.0  6.769995  99.43  31.17  15   \n",
              "3        -47.0 -65.0 -38.0  6.769995  99.43  31.17  15   \n",
              "4        -67.0 -57.0 -53.0  6.769995  99.43  31.17  15   \n",
              "...        ...   ...   ...       ...    ...    ...  ..   \n",
              "11509046 -16.0 -56.0  24.0  3.386070  88.37  33.77  F5   \n",
              "11509047  -8.0 -50.0  27.0  3.386070  88.37  33.77  F5   \n",
              "11509048 -28.0 -36.0  28.0  3.386070  88.37  33.77  F5   \n",
              "11509049 -29.0 -29.0  30.0  3.386070  88.37  33.77  F5   \n",
              "11509050 -22.0 -24.0  29.0  3.374543  88.33  33.75  F5   \n",
              "\n",
              "                              datetime  label  \n",
              "0        2020-07-08 14:03:00.000000000    2.0  \n",
              "1        2020-07-08 14:03:00.031249920    2.0  \n",
              "2        2020-07-08 14:03:00.062500096    2.0  \n",
              "3        2020-07-08 14:03:00.093750016    2.0  \n",
              "4        2020-07-08 14:03:00.124999936    2.0  \n",
              "...                                ...    ...  \n",
              "11509046 2020-07-23 17:28:59.875000064    2.0  \n",
              "11509047 2020-07-23 17:28:59.906249984    2.0  \n",
              "11509048 2020-07-23 17:28:59.937499904    2.0  \n",
              "11509049 2020-07-23 17:28:59.968750080    2.0  \n",
              "11509050 2020-07-23 17:29:00.000000000    2.0  \n",
              "\n",
              "[11509051 rows x 9 columns]"
            ],
            "text/html": [
              "\n",
              "  <div id=\"df-b0e372fc-8ba8-4c67-8bc1-7be02e290f3b\" class=\"colab-df-container\">\n",
              "    <div>\n",
              "<style scoped>\n",
              "    .dataframe tbody tr th:only-of-type {\n",
              "        vertical-align: middle;\n",
              "    }\n",
              "\n",
              "    .dataframe tbody tr th {\n",
              "        vertical-align: top;\n",
              "    }\n",
              "\n",
              "    .dataframe thead th {\n",
              "        text-align: right;\n",
              "    }\n",
              "</style>\n",
              "<table border=\"1\" class=\"dataframe\">\n",
              "  <thead>\n",
              "    <tr style=\"text-align: right;\">\n",
              "      <th></th>\n",
              "      <th>X</th>\n",
              "      <th>Y</th>\n",
              "      <th>Z</th>\n",
              "      <th>EDA</th>\n",
              "      <th>HR</th>\n",
              "      <th>TEMP</th>\n",
              "      <th>id</th>\n",
              "      <th>datetime</th>\n",
              "      <th>label</th>\n",
              "    </tr>\n",
              "  </thead>\n",
              "  <tbody>\n",
              "    <tr>\n",
              "      <th>0</th>\n",
              "      <td>-13.0</td>\n",
              "      <td>-61.0</td>\n",
              "      <td>5.0</td>\n",
              "      <td>6.769995</td>\n",
              "      <td>99.43</td>\n",
              "      <td>31.17</td>\n",
              "      <td>15</td>\n",
              "      <td>2020-07-08 14:03:00.000000000</td>\n",
              "      <td>2.0</td>\n",
              "    </tr>\n",
              "    <tr>\n",
              "      <th>1</th>\n",
              "      <td>-20.0</td>\n",
              "      <td>-69.0</td>\n",
              "      <td>-3.0</td>\n",
              "      <td>6.769995</td>\n",
              "      <td>99.43</td>\n",
              "      <td>31.17</td>\n",
              "      <td>15</td>\n",
              "      <td>2020-07-08 14:03:00.031249920</td>\n",
              "      <td>2.0</td>\n",
              "    </tr>\n",
              "    <tr>\n",
              "      <th>2</th>\n",
              "      <td>-31.0</td>\n",
              "      <td>-78.0</td>\n",
              "      <td>-15.0</td>\n",
              "      <td>6.769995</td>\n",
              "      <td>99.43</td>\n",
              "      <td>31.17</td>\n",
              "      <td>15</td>\n",
              "      <td>2020-07-08 14:03:00.062500096</td>\n",
              "      <td>2.0</td>\n",
              "    </tr>\n",
              "    <tr>\n",
              "      <th>3</th>\n",
              "      <td>-47.0</td>\n",
              "      <td>-65.0</td>\n",
              "      <td>-38.0</td>\n",
              "      <td>6.769995</td>\n",
              "      <td>99.43</td>\n",
              "      <td>31.17</td>\n",
              "      <td>15</td>\n",
              "      <td>2020-07-08 14:03:00.093750016</td>\n",
              "      <td>2.0</td>\n",
              "    </tr>\n",
              "    <tr>\n",
              "      <th>4</th>\n",
              "      <td>-67.0</td>\n",
              "      <td>-57.0</td>\n",
              "      <td>-53.0</td>\n",
              "      <td>6.769995</td>\n",
              "      <td>99.43</td>\n",
              "      <td>31.17</td>\n",
              "      <td>15</td>\n",
              "      <td>2020-07-08 14:03:00.124999936</td>\n",
              "      <td>2.0</td>\n",
              "    </tr>\n",
              "    <tr>\n",
              "      <th>...</th>\n",
              "      <td>...</td>\n",
              "      <td>...</td>\n",
              "      <td>...</td>\n",
              "      <td>...</td>\n",
              "      <td>...</td>\n",
              "      <td>...</td>\n",
              "      <td>...</td>\n",
              "      <td>...</td>\n",
              "      <td>...</td>\n",
              "    </tr>\n",
              "    <tr>\n",
              "      <th>11509046</th>\n",
              "      <td>-16.0</td>\n",
              "      <td>-56.0</td>\n",
              "      <td>24.0</td>\n",
              "      <td>3.386070</td>\n",
              "      <td>88.37</td>\n",
              "      <td>33.77</td>\n",
              "      <td>F5</td>\n",
              "      <td>2020-07-23 17:28:59.875000064</td>\n",
              "      <td>2.0</td>\n",
              "    </tr>\n",
              "    <tr>\n",
              "      <th>11509047</th>\n",
              "      <td>-8.0</td>\n",
              "      <td>-50.0</td>\n",
              "      <td>27.0</td>\n",
              "      <td>3.386070</td>\n",
              "      <td>88.37</td>\n",
              "      <td>33.77</td>\n",
              "      <td>F5</td>\n",
              "      <td>2020-07-23 17:28:59.906249984</td>\n",
              "      <td>2.0</td>\n",
              "    </tr>\n",
              "    <tr>\n",
              "      <th>11509048</th>\n",
              "      <td>-28.0</td>\n",
              "      <td>-36.0</td>\n",
              "      <td>28.0</td>\n",
              "      <td>3.386070</td>\n",
              "      <td>88.37</td>\n",
              "      <td>33.77</td>\n",
              "      <td>F5</td>\n",
              "      <td>2020-07-23 17:28:59.937499904</td>\n",
              "      <td>2.0</td>\n",
              "    </tr>\n",
              "    <tr>\n",
              "      <th>11509049</th>\n",
              "      <td>-29.0</td>\n",
              "      <td>-29.0</td>\n",
              "      <td>30.0</td>\n",
              "      <td>3.386070</td>\n",
              "      <td>88.37</td>\n",
              "      <td>33.77</td>\n",
              "      <td>F5</td>\n",
              "      <td>2020-07-23 17:28:59.968750080</td>\n",
              "      <td>2.0</td>\n",
              "    </tr>\n",
              "    <tr>\n",
              "      <th>11509050</th>\n",
              "      <td>-22.0</td>\n",
              "      <td>-24.0</td>\n",
              "      <td>29.0</td>\n",
              "      <td>3.374543</td>\n",
              "      <td>88.33</td>\n",
              "      <td>33.75</td>\n",
              "      <td>F5</td>\n",
              "      <td>2020-07-23 17:29:00.000000000</td>\n",
              "      <td>2.0</td>\n",
              "    </tr>\n",
              "  </tbody>\n",
              "</table>\n",
              "<p>11509051 rows × 9 columns</p>\n",
              "</div>\n",
              "    <div class=\"colab-df-buttons\">\n",
              "\n",
              "  <div class=\"colab-df-container\">\n",
              "    <button class=\"colab-df-convert\" onclick=\"convertToInteractive('df-b0e372fc-8ba8-4c67-8bc1-7be02e290f3b')\"\n",
              "            title=\"Convert this dataframe to an interactive table.\"\n",
              "            style=\"display:none;\">\n",
              "\n",
              "  <svg xmlns=\"http://www.w3.org/2000/svg\" height=\"24px\" viewBox=\"0 -960 960 960\">\n",
              "    <path d=\"M120-120v-720h720v720H120Zm60-500h600v-160H180v160Zm220 220h160v-160H400v160Zm0 220h160v-160H400v160ZM180-400h160v-160H180v160Zm440 0h160v-160H620v160ZM180-180h160v-160H180v160Zm440 0h160v-160H620v160Z\"/>\n",
              "  </svg>\n",
              "    </button>\n",
              "\n",
              "  <style>\n",
              "    .colab-df-container {\n",
              "      display:flex;\n",
              "      gap: 12px;\n",
              "    }\n",
              "\n",
              "    .colab-df-convert {\n",
              "      background-color: #E8F0FE;\n",
              "      border: none;\n",
              "      border-radius: 50%;\n",
              "      cursor: pointer;\n",
              "      display: none;\n",
              "      fill: #1967D2;\n",
              "      height: 32px;\n",
              "      padding: 0 0 0 0;\n",
              "      width: 32px;\n",
              "    }\n",
              "\n",
              "    .colab-df-convert:hover {\n",
              "      background-color: #E2EBFA;\n",
              "      box-shadow: 0px 1px 2px rgba(60, 64, 67, 0.3), 0px 1px 3px 1px rgba(60, 64, 67, 0.15);\n",
              "      fill: #174EA6;\n",
              "    }\n",
              "\n",
              "    .colab-df-buttons div {\n",
              "      margin-bottom: 4px;\n",
              "    }\n",
              "\n",
              "    [theme=dark] .colab-df-convert {\n",
              "      background-color: #3B4455;\n",
              "      fill: #D2E3FC;\n",
              "    }\n",
              "\n",
              "    [theme=dark] .colab-df-convert:hover {\n",
              "      background-color: #434B5C;\n",
              "      box-shadow: 0px 1px 3px 1px rgba(0, 0, 0, 0.15);\n",
              "      filter: drop-shadow(0px 1px 2px rgba(0, 0, 0, 0.3));\n",
              "      fill: #FFFFFF;\n",
              "    }\n",
              "  </style>\n",
              "\n",
              "    <script>\n",
              "      const buttonEl =\n",
              "        document.querySelector('#df-b0e372fc-8ba8-4c67-8bc1-7be02e290f3b button.colab-df-convert');\n",
              "      buttonEl.style.display =\n",
              "        google.colab.kernel.accessAllowed ? 'block' : 'none';\n",
              "\n",
              "      async function convertToInteractive(key) {\n",
              "        const element = document.querySelector('#df-b0e372fc-8ba8-4c67-8bc1-7be02e290f3b');\n",
              "        const dataTable =\n",
              "          await google.colab.kernel.invokeFunction('convertToInteractive',\n",
              "                                                    [key], {});\n",
              "        if (!dataTable) return;\n",
              "\n",
              "        const docLinkHtml = 'Like what you see? Visit the ' +\n",
              "          '<a target=\"_blank\" href=https://colab.research.google.com/notebooks/data_table.ipynb>data table notebook</a>'\n",
              "          + ' to learn more about interactive tables.';\n",
              "        element.innerHTML = '';\n",
              "        dataTable['output_type'] = 'display_data';\n",
              "        await google.colab.output.renderOutput(dataTable, element);\n",
              "        const docLink = document.createElement('div');\n",
              "        docLink.innerHTML = docLinkHtml;\n",
              "        element.appendChild(docLink);\n",
              "      }\n",
              "    </script>\n",
              "  </div>\n",
              "\n",
              "\n",
              "<div id=\"df-40be51d2-0271-447e-a709-96f258591c73\">\n",
              "  <button class=\"colab-df-quickchart\" onclick=\"quickchart('df-40be51d2-0271-447e-a709-96f258591c73')\"\n",
              "            title=\"Suggest charts\"\n",
              "            style=\"display:none;\">\n",
              "\n",
              "<svg xmlns=\"http://www.w3.org/2000/svg\" height=\"24px\"viewBox=\"0 0 24 24\"\n",
              "     width=\"24px\">\n",
              "    <g>\n",
              "        <path d=\"M19 3H5c-1.1 0-2 .9-2 2v14c0 1.1.9 2 2 2h14c1.1 0 2-.9 2-2V5c0-1.1-.9-2-2-2zM9 17H7v-7h2v7zm4 0h-2V7h2v10zm4 0h-2v-4h2v4z\"/>\n",
              "    </g>\n",
              "</svg>\n",
              "  </button>\n",
              "\n",
              "<style>\n",
              "  .colab-df-quickchart {\n",
              "      --bg-color: #E8F0FE;\n",
              "      --fill-color: #1967D2;\n",
              "      --hover-bg-color: #E2EBFA;\n",
              "      --hover-fill-color: #174EA6;\n",
              "      --disabled-fill-color: #AAA;\n",
              "      --disabled-bg-color: #DDD;\n",
              "  }\n",
              "\n",
              "  [theme=dark] .colab-df-quickchart {\n",
              "      --bg-color: #3B4455;\n",
              "      --fill-color: #D2E3FC;\n",
              "      --hover-bg-color: #434B5C;\n",
              "      --hover-fill-color: #FFFFFF;\n",
              "      --disabled-bg-color: #3B4455;\n",
              "      --disabled-fill-color: #666;\n",
              "  }\n",
              "\n",
              "  .colab-df-quickchart {\n",
              "    background-color: var(--bg-color);\n",
              "    border: none;\n",
              "    border-radius: 50%;\n",
              "    cursor: pointer;\n",
              "    display: none;\n",
              "    fill: var(--fill-color);\n",
              "    height: 32px;\n",
              "    padding: 0;\n",
              "    width: 32px;\n",
              "  }\n",
              "\n",
              "  .colab-df-quickchart:hover {\n",
              "    background-color: var(--hover-bg-color);\n",
              "    box-shadow: 0 1px 2px rgba(60, 64, 67, 0.3), 0 1px 3px 1px rgba(60, 64, 67, 0.15);\n",
              "    fill: var(--button-hover-fill-color);\n",
              "  }\n",
              "\n",
              "  .colab-df-quickchart-complete:disabled,\n",
              "  .colab-df-quickchart-complete:disabled:hover {\n",
              "    background-color: var(--disabled-bg-color);\n",
              "    fill: var(--disabled-fill-color);\n",
              "    box-shadow: none;\n",
              "  }\n",
              "\n",
              "  .colab-df-spinner {\n",
              "    border: 2px solid var(--fill-color);\n",
              "    border-color: transparent;\n",
              "    border-bottom-color: var(--fill-color);\n",
              "    animation:\n",
              "      spin 1s steps(1) infinite;\n",
              "  }\n",
              "\n",
              "  @keyframes spin {\n",
              "    0% {\n",
              "      border-color: transparent;\n",
              "      border-bottom-color: var(--fill-color);\n",
              "      border-left-color: var(--fill-color);\n",
              "    }\n",
              "    20% {\n",
              "      border-color: transparent;\n",
              "      border-left-color: var(--fill-color);\n",
              "      border-top-color: var(--fill-color);\n",
              "    }\n",
              "    30% {\n",
              "      border-color: transparent;\n",
              "      border-left-color: var(--fill-color);\n",
              "      border-top-color: var(--fill-color);\n",
              "      border-right-color: var(--fill-color);\n",
              "    }\n",
              "    40% {\n",
              "      border-color: transparent;\n",
              "      border-right-color: var(--fill-color);\n",
              "      border-top-color: var(--fill-color);\n",
              "    }\n",
              "    60% {\n",
              "      border-color: transparent;\n",
              "      border-right-color: var(--fill-color);\n",
              "    }\n",
              "    80% {\n",
              "      border-color: transparent;\n",
              "      border-right-color: var(--fill-color);\n",
              "      border-bottom-color: var(--fill-color);\n",
              "    }\n",
              "    90% {\n",
              "      border-color: transparent;\n",
              "      border-bottom-color: var(--fill-color);\n",
              "    }\n",
              "  }\n",
              "</style>\n",
              "\n",
              "  <script>\n",
              "    async function quickchart(key) {\n",
              "      const quickchartButtonEl =\n",
              "        document.querySelector('#' + key + ' button');\n",
              "      quickchartButtonEl.disabled = true;  // To prevent multiple clicks.\n",
              "      quickchartButtonEl.classList.add('colab-df-spinner');\n",
              "      try {\n",
              "        const charts = await google.colab.kernel.invokeFunction(\n",
              "            'suggestCharts', [key], {});\n",
              "      } catch (error) {\n",
              "        console.error('Error during call to suggestCharts:', error);\n",
              "      }\n",
              "      quickchartButtonEl.classList.remove('colab-df-spinner');\n",
              "      quickchartButtonEl.classList.add('colab-df-quickchart-complete');\n",
              "    }\n",
              "    (() => {\n",
              "      let quickchartButtonEl =\n",
              "        document.querySelector('#df-40be51d2-0271-447e-a709-96f258591c73 button');\n",
              "      quickchartButtonEl.style.display =\n",
              "        google.colab.kernel.accessAllowed ? 'block' : 'none';\n",
              "    })();\n",
              "  </script>\n",
              "</div>\n",
              "\n",
              "  <div id=\"id_53392c91-d98a-49c1-860e-da33017ff0c5\">\n",
              "    <style>\n",
              "      .colab-df-generate {\n",
              "        background-color: #E8F0FE;\n",
              "        border: none;\n",
              "        border-radius: 50%;\n",
              "        cursor: pointer;\n",
              "        display: none;\n",
              "        fill: #1967D2;\n",
              "        height: 32px;\n",
              "        padding: 0 0 0 0;\n",
              "        width: 32px;\n",
              "      }\n",
              "\n",
              "      .colab-df-generate:hover {\n",
              "        background-color: #E2EBFA;\n",
              "        box-shadow: 0px 1px 2px rgba(60, 64, 67, 0.3), 0px 1px 3px 1px rgba(60, 64, 67, 0.15);\n",
              "        fill: #174EA6;\n",
              "      }\n",
              "\n",
              "      [theme=dark] .colab-df-generate {\n",
              "        background-color: #3B4455;\n",
              "        fill: #D2E3FC;\n",
              "      }\n",
              "\n",
              "      [theme=dark] .colab-df-generate:hover {\n",
              "        background-color: #434B5C;\n",
              "        box-shadow: 0px 1px 3px 1px rgba(0, 0, 0, 0.15);\n",
              "        filter: drop-shadow(0px 1px 2px rgba(0, 0, 0, 0.3));\n",
              "        fill: #FFFFFF;\n",
              "      }\n",
              "    </style>\n",
              "    <button class=\"colab-df-generate\" onclick=\"generateWithVariable('df')\"\n",
              "            title=\"Generate code using this dataframe.\"\n",
              "            style=\"display:none;\">\n",
              "\n",
              "  <svg xmlns=\"http://www.w3.org/2000/svg\" height=\"24px\"viewBox=\"0 0 24 24\"\n",
              "       width=\"24px\">\n",
              "    <path d=\"M7,19H8.4L18.45,9,17,7.55,7,17.6ZM5,21V16.75L18.45,3.32a2,2,0,0,1,2.83,0l1.4,1.43a1.91,1.91,0,0,1,.58,1.4,1.91,1.91,0,0,1-.58,1.4L9.25,21ZM18.45,9,17,7.55Zm-12,3A5.31,5.31,0,0,0,4.9,8.1,5.31,5.31,0,0,0,1,6.5,5.31,5.31,0,0,0,4.9,4.9,5.31,5.31,0,0,0,6.5,1,5.31,5.31,0,0,0,8.1,4.9,5.31,5.31,0,0,0,12,6.5,5.46,5.46,0,0,0,6.5,12Z\"/>\n",
              "  </svg>\n",
              "    </button>\n",
              "    <script>\n",
              "      (() => {\n",
              "      const buttonEl =\n",
              "        document.querySelector('#id_53392c91-d98a-49c1-860e-da33017ff0c5 button.colab-df-generate');\n",
              "      buttonEl.style.display =\n",
              "        google.colab.kernel.accessAllowed ? 'block' : 'none';\n",
              "\n",
              "      buttonEl.onclick = () => {\n",
              "        google.colab.notebook.generateWithVariable('df');\n",
              "      }\n",
              "      })();\n",
              "    </script>\n",
              "  </div>\n",
              "\n",
              "    </div>\n",
              "  </div>\n"
            ],
            "application/vnd.google.colaboratory.intrinsic+json": {
              "type": "dataframe",
              "variable_name": "df"
            }
          },
          "metadata": {},
          "execution_count": 4
        }
      ]
    },
    {
      "cell_type": "code",
      "source": [
        "df.info()"
      ],
      "metadata": {
        "execution": {
          "iopub.status.busy": "2024-06-24T16:07:36.076982Z",
          "iopub.execute_input": "2024-06-24T16:07:36.077516Z",
          "iopub.status.idle": "2024-06-24T16:07:36.105985Z",
          "shell.execute_reply.started": "2024-06-24T16:07:36.077472Z",
          "shell.execute_reply": "2024-06-24T16:07:36.104646Z"
        },
        "trusted": true,
        "id": "4dtsGN4VMn5d",
        "outputId": "25f9d878-a502-4609-a203-1db1a46b1546",
        "colab": {
          "base_uri": "https://localhost:8080/"
        }
      },
      "execution_count": 5,
      "outputs": [
        {
          "output_type": "stream",
          "name": "stdout",
          "text": [
            "<class 'pandas.core.frame.DataFrame'>\n",
            "RangeIndex: 11509051 entries, 0 to 11509050\n",
            "Data columns (total 9 columns):\n",
            " #   Column    Dtype         \n",
            "---  ------    -----         \n",
            " 0   X         float64       \n",
            " 1   Y         float64       \n",
            " 2   Z         float64       \n",
            " 3   EDA       float64       \n",
            " 4   HR        float64       \n",
            " 5   TEMP      float64       \n",
            " 6   id        object        \n",
            " 7   datetime  datetime64[ns]\n",
            " 8   label     float64       \n",
            "dtypes: datetime64[ns](1), float64(7), object(1)\n",
            "memory usage: 790.3+ MB\n"
          ]
        }
      ]
    },
    {
      "cell_type": "code",
      "source": [
        "df.head(8)"
      ],
      "metadata": {
        "execution": {
          "iopub.status.busy": "2024-06-24T16:07:38.052629Z",
          "iopub.execute_input": "2024-06-24T16:07:38.053059Z",
          "iopub.status.idle": "2024-06-24T16:07:38.076404Z",
          "shell.execute_reply.started": "2024-06-24T16:07:38.053007Z",
          "shell.execute_reply": "2024-06-24T16:07:38.075123Z"
        },
        "trusted": true,
        "id": "TUZzVWEYMn5e",
        "outputId": "8656091a-ed45-4626-f861-0f5cebe945dd",
        "colab": {
          "base_uri": "https://localhost:8080/",
          "height": 300
        }
      },
      "execution_count": 6,
      "outputs": [
        {
          "output_type": "execute_result",
          "data": {
            "text/plain": [
              "      X     Y     Z       EDA     HR   TEMP  id                      datetime  \\\n",
              "0 -13.0 -61.0   5.0  6.769995  99.43  31.17  15 2020-07-08 14:03:00.000000000   \n",
              "1 -20.0 -69.0  -3.0  6.769995  99.43  31.17  15 2020-07-08 14:03:00.031249920   \n",
              "2 -31.0 -78.0 -15.0  6.769995  99.43  31.17  15 2020-07-08 14:03:00.062500096   \n",
              "3 -47.0 -65.0 -38.0  6.769995  99.43  31.17  15 2020-07-08 14:03:00.093750016   \n",
              "4 -67.0 -57.0 -53.0  6.769995  99.43  31.17  15 2020-07-08 14:03:00.124999936   \n",
              "5  -9.0 -57.0 -32.0  6.769995  99.43  31.17  15 2020-07-08 14:03:00.156250112   \n",
              "6   9.0 -68.0  -2.0  6.769995  99.43  31.17  15 2020-07-08 14:03:00.187500032   \n",
              "7  -6.0 -74.0  17.0  6.769995  99.43  31.17  15 2020-07-08 14:03:00.218749952   \n",
              "\n",
              "   label  \n",
              "0    2.0  \n",
              "1    2.0  \n",
              "2    2.0  \n",
              "3    2.0  \n",
              "4    2.0  \n",
              "5    2.0  \n",
              "6    2.0  \n",
              "7    2.0  "
            ],
            "text/html": [
              "\n",
              "  <div id=\"df-4769788b-3193-45eb-b9c0-db7e38245cb8\" class=\"colab-df-container\">\n",
              "    <div>\n",
              "<style scoped>\n",
              "    .dataframe tbody tr th:only-of-type {\n",
              "        vertical-align: middle;\n",
              "    }\n",
              "\n",
              "    .dataframe tbody tr th {\n",
              "        vertical-align: top;\n",
              "    }\n",
              "\n",
              "    .dataframe thead th {\n",
              "        text-align: right;\n",
              "    }\n",
              "</style>\n",
              "<table border=\"1\" class=\"dataframe\">\n",
              "  <thead>\n",
              "    <tr style=\"text-align: right;\">\n",
              "      <th></th>\n",
              "      <th>X</th>\n",
              "      <th>Y</th>\n",
              "      <th>Z</th>\n",
              "      <th>EDA</th>\n",
              "      <th>HR</th>\n",
              "      <th>TEMP</th>\n",
              "      <th>id</th>\n",
              "      <th>datetime</th>\n",
              "      <th>label</th>\n",
              "    </tr>\n",
              "  </thead>\n",
              "  <tbody>\n",
              "    <tr>\n",
              "      <th>0</th>\n",
              "      <td>-13.0</td>\n",
              "      <td>-61.0</td>\n",
              "      <td>5.0</td>\n",
              "      <td>6.769995</td>\n",
              "      <td>99.43</td>\n",
              "      <td>31.17</td>\n",
              "      <td>15</td>\n",
              "      <td>2020-07-08 14:03:00.000000000</td>\n",
              "      <td>2.0</td>\n",
              "    </tr>\n",
              "    <tr>\n",
              "      <th>1</th>\n",
              "      <td>-20.0</td>\n",
              "      <td>-69.0</td>\n",
              "      <td>-3.0</td>\n",
              "      <td>6.769995</td>\n",
              "      <td>99.43</td>\n",
              "      <td>31.17</td>\n",
              "      <td>15</td>\n",
              "      <td>2020-07-08 14:03:00.031249920</td>\n",
              "      <td>2.0</td>\n",
              "    </tr>\n",
              "    <tr>\n",
              "      <th>2</th>\n",
              "      <td>-31.0</td>\n",
              "      <td>-78.0</td>\n",
              "      <td>-15.0</td>\n",
              "      <td>6.769995</td>\n",
              "      <td>99.43</td>\n",
              "      <td>31.17</td>\n",
              "      <td>15</td>\n",
              "      <td>2020-07-08 14:03:00.062500096</td>\n",
              "      <td>2.0</td>\n",
              "    </tr>\n",
              "    <tr>\n",
              "      <th>3</th>\n",
              "      <td>-47.0</td>\n",
              "      <td>-65.0</td>\n",
              "      <td>-38.0</td>\n",
              "      <td>6.769995</td>\n",
              "      <td>99.43</td>\n",
              "      <td>31.17</td>\n",
              "      <td>15</td>\n",
              "      <td>2020-07-08 14:03:00.093750016</td>\n",
              "      <td>2.0</td>\n",
              "    </tr>\n",
              "    <tr>\n",
              "      <th>4</th>\n",
              "      <td>-67.0</td>\n",
              "      <td>-57.0</td>\n",
              "      <td>-53.0</td>\n",
              "      <td>6.769995</td>\n",
              "      <td>99.43</td>\n",
              "      <td>31.17</td>\n",
              "      <td>15</td>\n",
              "      <td>2020-07-08 14:03:00.124999936</td>\n",
              "      <td>2.0</td>\n",
              "    </tr>\n",
              "    <tr>\n",
              "      <th>5</th>\n",
              "      <td>-9.0</td>\n",
              "      <td>-57.0</td>\n",
              "      <td>-32.0</td>\n",
              "      <td>6.769995</td>\n",
              "      <td>99.43</td>\n",
              "      <td>31.17</td>\n",
              "      <td>15</td>\n",
              "      <td>2020-07-08 14:03:00.156250112</td>\n",
              "      <td>2.0</td>\n",
              "    </tr>\n",
              "    <tr>\n",
              "      <th>6</th>\n",
              "      <td>9.0</td>\n",
              "      <td>-68.0</td>\n",
              "      <td>-2.0</td>\n",
              "      <td>6.769995</td>\n",
              "      <td>99.43</td>\n",
              "      <td>31.17</td>\n",
              "      <td>15</td>\n",
              "      <td>2020-07-08 14:03:00.187500032</td>\n",
              "      <td>2.0</td>\n",
              "    </tr>\n",
              "    <tr>\n",
              "      <th>7</th>\n",
              "      <td>-6.0</td>\n",
              "      <td>-74.0</td>\n",
              "      <td>17.0</td>\n",
              "      <td>6.769995</td>\n",
              "      <td>99.43</td>\n",
              "      <td>31.17</td>\n",
              "      <td>15</td>\n",
              "      <td>2020-07-08 14:03:00.218749952</td>\n",
              "      <td>2.0</td>\n",
              "    </tr>\n",
              "  </tbody>\n",
              "</table>\n",
              "</div>\n",
              "    <div class=\"colab-df-buttons\">\n",
              "\n",
              "  <div class=\"colab-df-container\">\n",
              "    <button class=\"colab-df-convert\" onclick=\"convertToInteractive('df-4769788b-3193-45eb-b9c0-db7e38245cb8')\"\n",
              "            title=\"Convert this dataframe to an interactive table.\"\n",
              "            style=\"display:none;\">\n",
              "\n",
              "  <svg xmlns=\"http://www.w3.org/2000/svg\" height=\"24px\" viewBox=\"0 -960 960 960\">\n",
              "    <path d=\"M120-120v-720h720v720H120Zm60-500h600v-160H180v160Zm220 220h160v-160H400v160Zm0 220h160v-160H400v160ZM180-400h160v-160H180v160Zm440 0h160v-160H620v160ZM180-180h160v-160H180v160Zm440 0h160v-160H620v160Z\"/>\n",
              "  </svg>\n",
              "    </button>\n",
              "\n",
              "  <style>\n",
              "    .colab-df-container {\n",
              "      display:flex;\n",
              "      gap: 12px;\n",
              "    }\n",
              "\n",
              "    .colab-df-convert {\n",
              "      background-color: #E8F0FE;\n",
              "      border: none;\n",
              "      border-radius: 50%;\n",
              "      cursor: pointer;\n",
              "      display: none;\n",
              "      fill: #1967D2;\n",
              "      height: 32px;\n",
              "      padding: 0 0 0 0;\n",
              "      width: 32px;\n",
              "    }\n",
              "\n",
              "    .colab-df-convert:hover {\n",
              "      background-color: #E2EBFA;\n",
              "      box-shadow: 0px 1px 2px rgba(60, 64, 67, 0.3), 0px 1px 3px 1px rgba(60, 64, 67, 0.15);\n",
              "      fill: #174EA6;\n",
              "    }\n",
              "\n",
              "    .colab-df-buttons div {\n",
              "      margin-bottom: 4px;\n",
              "    }\n",
              "\n",
              "    [theme=dark] .colab-df-convert {\n",
              "      background-color: #3B4455;\n",
              "      fill: #D2E3FC;\n",
              "    }\n",
              "\n",
              "    [theme=dark] .colab-df-convert:hover {\n",
              "      background-color: #434B5C;\n",
              "      box-shadow: 0px 1px 3px 1px rgba(0, 0, 0, 0.15);\n",
              "      filter: drop-shadow(0px 1px 2px rgba(0, 0, 0, 0.3));\n",
              "      fill: #FFFFFF;\n",
              "    }\n",
              "  </style>\n",
              "\n",
              "    <script>\n",
              "      const buttonEl =\n",
              "        document.querySelector('#df-4769788b-3193-45eb-b9c0-db7e38245cb8 button.colab-df-convert');\n",
              "      buttonEl.style.display =\n",
              "        google.colab.kernel.accessAllowed ? 'block' : 'none';\n",
              "\n",
              "      async function convertToInteractive(key) {\n",
              "        const element = document.querySelector('#df-4769788b-3193-45eb-b9c0-db7e38245cb8');\n",
              "        const dataTable =\n",
              "          await google.colab.kernel.invokeFunction('convertToInteractive',\n",
              "                                                    [key], {});\n",
              "        if (!dataTable) return;\n",
              "\n",
              "        const docLinkHtml = 'Like what you see? Visit the ' +\n",
              "          '<a target=\"_blank\" href=https://colab.research.google.com/notebooks/data_table.ipynb>data table notebook</a>'\n",
              "          + ' to learn more about interactive tables.';\n",
              "        element.innerHTML = '';\n",
              "        dataTable['output_type'] = 'display_data';\n",
              "        await google.colab.output.renderOutput(dataTable, element);\n",
              "        const docLink = document.createElement('div');\n",
              "        docLink.innerHTML = docLinkHtml;\n",
              "        element.appendChild(docLink);\n",
              "      }\n",
              "    </script>\n",
              "  </div>\n",
              "\n",
              "\n",
              "<div id=\"df-8b4c03ed-f54e-4c7a-a3bf-5b3545a637b1\">\n",
              "  <button class=\"colab-df-quickchart\" onclick=\"quickchart('df-8b4c03ed-f54e-4c7a-a3bf-5b3545a637b1')\"\n",
              "            title=\"Suggest charts\"\n",
              "            style=\"display:none;\">\n",
              "\n",
              "<svg xmlns=\"http://www.w3.org/2000/svg\" height=\"24px\"viewBox=\"0 0 24 24\"\n",
              "     width=\"24px\">\n",
              "    <g>\n",
              "        <path d=\"M19 3H5c-1.1 0-2 .9-2 2v14c0 1.1.9 2 2 2h14c1.1 0 2-.9 2-2V5c0-1.1-.9-2-2-2zM9 17H7v-7h2v7zm4 0h-2V7h2v10zm4 0h-2v-4h2v4z\"/>\n",
              "    </g>\n",
              "</svg>\n",
              "  </button>\n",
              "\n",
              "<style>\n",
              "  .colab-df-quickchart {\n",
              "      --bg-color: #E8F0FE;\n",
              "      --fill-color: #1967D2;\n",
              "      --hover-bg-color: #E2EBFA;\n",
              "      --hover-fill-color: #174EA6;\n",
              "      --disabled-fill-color: #AAA;\n",
              "      --disabled-bg-color: #DDD;\n",
              "  }\n",
              "\n",
              "  [theme=dark] .colab-df-quickchart {\n",
              "      --bg-color: #3B4455;\n",
              "      --fill-color: #D2E3FC;\n",
              "      --hover-bg-color: #434B5C;\n",
              "      --hover-fill-color: #FFFFFF;\n",
              "      --disabled-bg-color: #3B4455;\n",
              "      --disabled-fill-color: #666;\n",
              "  }\n",
              "\n",
              "  .colab-df-quickchart {\n",
              "    background-color: var(--bg-color);\n",
              "    border: none;\n",
              "    border-radius: 50%;\n",
              "    cursor: pointer;\n",
              "    display: none;\n",
              "    fill: var(--fill-color);\n",
              "    height: 32px;\n",
              "    padding: 0;\n",
              "    width: 32px;\n",
              "  }\n",
              "\n",
              "  .colab-df-quickchart:hover {\n",
              "    background-color: var(--hover-bg-color);\n",
              "    box-shadow: 0 1px 2px rgba(60, 64, 67, 0.3), 0 1px 3px 1px rgba(60, 64, 67, 0.15);\n",
              "    fill: var(--button-hover-fill-color);\n",
              "  }\n",
              "\n",
              "  .colab-df-quickchart-complete:disabled,\n",
              "  .colab-df-quickchart-complete:disabled:hover {\n",
              "    background-color: var(--disabled-bg-color);\n",
              "    fill: var(--disabled-fill-color);\n",
              "    box-shadow: none;\n",
              "  }\n",
              "\n",
              "  .colab-df-spinner {\n",
              "    border: 2px solid var(--fill-color);\n",
              "    border-color: transparent;\n",
              "    border-bottom-color: var(--fill-color);\n",
              "    animation:\n",
              "      spin 1s steps(1) infinite;\n",
              "  }\n",
              "\n",
              "  @keyframes spin {\n",
              "    0% {\n",
              "      border-color: transparent;\n",
              "      border-bottom-color: var(--fill-color);\n",
              "      border-left-color: var(--fill-color);\n",
              "    }\n",
              "    20% {\n",
              "      border-color: transparent;\n",
              "      border-left-color: var(--fill-color);\n",
              "      border-top-color: var(--fill-color);\n",
              "    }\n",
              "    30% {\n",
              "      border-color: transparent;\n",
              "      border-left-color: var(--fill-color);\n",
              "      border-top-color: var(--fill-color);\n",
              "      border-right-color: var(--fill-color);\n",
              "    }\n",
              "    40% {\n",
              "      border-color: transparent;\n",
              "      border-right-color: var(--fill-color);\n",
              "      border-top-color: var(--fill-color);\n",
              "    }\n",
              "    60% {\n",
              "      border-color: transparent;\n",
              "      border-right-color: var(--fill-color);\n",
              "    }\n",
              "    80% {\n",
              "      border-color: transparent;\n",
              "      border-right-color: var(--fill-color);\n",
              "      border-bottom-color: var(--fill-color);\n",
              "    }\n",
              "    90% {\n",
              "      border-color: transparent;\n",
              "      border-bottom-color: var(--fill-color);\n",
              "    }\n",
              "  }\n",
              "</style>\n",
              "\n",
              "  <script>\n",
              "    async function quickchart(key) {\n",
              "      const quickchartButtonEl =\n",
              "        document.querySelector('#' + key + ' button');\n",
              "      quickchartButtonEl.disabled = true;  // To prevent multiple clicks.\n",
              "      quickchartButtonEl.classList.add('colab-df-spinner');\n",
              "      try {\n",
              "        const charts = await google.colab.kernel.invokeFunction(\n",
              "            'suggestCharts', [key], {});\n",
              "      } catch (error) {\n",
              "        console.error('Error during call to suggestCharts:', error);\n",
              "      }\n",
              "      quickchartButtonEl.classList.remove('colab-df-spinner');\n",
              "      quickchartButtonEl.classList.add('colab-df-quickchart-complete');\n",
              "    }\n",
              "    (() => {\n",
              "      let quickchartButtonEl =\n",
              "        document.querySelector('#df-8b4c03ed-f54e-4c7a-a3bf-5b3545a637b1 button');\n",
              "      quickchartButtonEl.style.display =\n",
              "        google.colab.kernel.accessAllowed ? 'block' : 'none';\n",
              "    })();\n",
              "  </script>\n",
              "</div>\n",
              "\n",
              "    </div>\n",
              "  </div>\n"
            ],
            "application/vnd.google.colaboratory.intrinsic+json": {
              "type": "dataframe",
              "variable_name": "df"
            }
          },
          "metadata": {},
          "execution_count": 6
        }
      ]
    },
    {
      "cell_type": "code",
      "source": [
        "df.datetime"
      ],
      "metadata": {
        "execution": {
          "iopub.status.busy": "2024-06-24T16:07:39.39823Z",
          "iopub.execute_input": "2024-06-24T16:07:39.398651Z",
          "iopub.status.idle": "2024-06-24T16:07:39.408634Z",
          "shell.execute_reply.started": "2024-06-24T16:07:39.398619Z",
          "shell.execute_reply": "2024-06-24T16:07:39.40729Z"
        },
        "trusted": true,
        "id": "NvgCelpdMn5e",
        "outputId": "29ba192f-2b60-4a63-bd44-7a63bb45f4c2",
        "colab": {
          "base_uri": "https://localhost:8080/"
        }
      },
      "execution_count": 7,
      "outputs": [
        {
          "output_type": "execute_result",
          "data": {
            "text/plain": [
              "0          2020-07-08 14:03:00.000000000\n",
              "1          2020-07-08 14:03:00.031249920\n",
              "2          2020-07-08 14:03:00.062500096\n",
              "3          2020-07-08 14:03:00.093750016\n",
              "4          2020-07-08 14:03:00.124999936\n",
              "                        ...             \n",
              "11509046   2020-07-23 17:28:59.875000064\n",
              "11509047   2020-07-23 17:28:59.906249984\n",
              "11509048   2020-07-23 17:28:59.937499904\n",
              "11509049   2020-07-23 17:28:59.968750080\n",
              "11509050   2020-07-23 17:29:00.000000000\n",
              "Name: datetime, Length: 11509051, dtype: datetime64[ns]"
            ]
          },
          "metadata": {},
          "execution_count": 7
        }
      ]
    },
    {
      "cell_type": "code",
      "source": [
        "#df.isna().sum()\n",
        "print(df.isna().sum())"
      ],
      "metadata": {
        "execution": {
          "iopub.status.busy": "2024-06-24T16:07:40.244344Z",
          "iopub.execute_input": "2024-06-24T16:07:40.244755Z",
          "iopub.status.idle": "2024-06-24T16:07:41.644223Z",
          "shell.execute_reply.started": "2024-06-24T16:07:40.244725Z",
          "shell.execute_reply": "2024-06-24T16:07:41.642878Z"
        },
        "trusted": true,
        "id": "uR76CC5uMn5f",
        "outputId": "5ebee6a7-6113-4de6-c7bd-d305239d463d",
        "colab": {
          "base_uri": "https://localhost:8080/"
        }
      },
      "execution_count": 8,
      "outputs": [
        {
          "output_type": "stream",
          "name": "stdout",
          "text": [
            "X           0\n",
            "Y           0\n",
            "Z           0\n",
            "EDA         0\n",
            "HR          0\n",
            "TEMP        0\n",
            "id          0\n",
            "datetime    0\n",
            "label       0\n",
            "dtype: int64\n"
          ]
        }
      ]
    },
    {
      "cell_type": "code",
      "source": [
        "df.nunique()"
      ],
      "metadata": {
        "execution": {
          "iopub.status.busy": "2024-06-24T16:07:53.661021Z",
          "iopub.execute_input": "2024-06-24T16:07:53.661565Z",
          "iopub.status.idle": "2024-06-24T16:07:57.974292Z",
          "shell.execute_reply.started": "2024-06-24T16:07:53.66153Z",
          "shell.execute_reply": "2024-06-24T16:07:57.973205Z"
        },
        "trusted": true,
        "id": "-jRFwJoaMn5f",
        "outputId": "1981581f-383c-4580-fd23-1d7a03958367",
        "colab": {
          "base_uri": "https://localhost:8080/"
        }
      },
      "execution_count": 9,
      "outputs": [
        {
          "output_type": "execute_result",
          "data": {
            "text/plain": [
              "X                256\n",
              "Y                256\n",
              "Z                256\n",
              "EDA           274452\n",
              "HR              6268\n",
              "TEMP             599\n",
              "id                15\n",
              "datetime    10628304\n",
              "label              3\n",
              "dtype: int64"
            ]
          },
          "metadata": {},
          "execution_count": 9
        }
      ]
    },
    {
      "cell_type": "code",
      "source": [
        "# Extract datetime features\n",
        "df['month'] = df['datetime'].dt.month\n",
        "df['day'] = df['datetime'].dt.day\n",
        "df['hour'] = df['datetime'].dt.hour\n",
        "df['minute'] = df['datetime'].dt.minute\n",
        "df['second'] = df['datetime'].dt.second\n",
        "df['day_of_week'] = df['datetime'].dt.dayofweek\n",
        "df['month'] = df['datetime'].dt.month"
      ],
      "metadata": {
        "execution": {
          "iopub.status.busy": "2024-06-24T16:08:23.986494Z",
          "iopub.execute_input": "2024-06-24T16:08:23.986897Z",
          "iopub.status.idle": "2024-06-24T16:08:25.539143Z",
          "shell.execute_reply.started": "2024-06-24T16:08:23.986864Z",
          "shell.execute_reply": "2024-06-24T16:08:25.537767Z"
        },
        "trusted": true,
        "id": "q44z2MwrMn5g"
      },
      "execution_count": 10,
      "outputs": []
    },
    {
      "cell_type": "code",
      "source": [
        "# Drop unnecessary columns\n",
        "df.drop(['datetime', 'id'], axis=1, inplace=True)"
      ],
      "metadata": {
        "execution": {
          "iopub.status.busy": "2024-06-24T16:08:29.962494Z",
          "iopub.execute_input": "2024-06-24T16:08:29.963885Z",
          "iopub.status.idle": "2024-06-24T16:08:30.457332Z",
          "shell.execute_reply.started": "2024-06-24T16:08:29.963841Z",
          "shell.execute_reply": "2024-06-24T16:08:30.456124Z"
        },
        "trusted": true,
        "id": "o3HA3tLnMn5g"
      },
      "execution_count": 11,
      "outputs": []
    },
    {
      "cell_type": "markdown",
      "source": [
        "Exploratory Data Analysis"
      ],
      "metadata": {
        "id": "xV9rcULoMn5h"
      }
    },
    {
      "cell_type": "code",
      "source": [
        "sns.distplot(df['X'])"
      ],
      "metadata": {
        "execution": {
          "iopub.status.busy": "2024-06-24T16:08:35.109074Z",
          "iopub.execute_input": "2024-06-24T16:08:35.109532Z",
          "iopub.status.idle": "2024-06-24T16:09:26.43058Z",
          "shell.execute_reply.started": "2024-06-24T16:08:35.109496Z",
          "shell.execute_reply": "2024-06-24T16:09:26.429318Z"
        },
        "trusted": true,
        "id": "7NxEzzWHMn5j"
      },
      "execution_count": null,
      "outputs": []
    },
    {
      "cell_type": "code",
      "source": [
        "sns.distplot(df['Y'])"
      ],
      "metadata": {
        "execution": {
          "iopub.status.busy": "2024-06-24T16:09:26.433022Z",
          "iopub.execute_input": "2024-06-24T16:09:26.433539Z",
          "iopub.status.idle": "2024-06-24T16:10:17.700021Z",
          "shell.execute_reply.started": "2024-06-24T16:09:26.433494Z",
          "shell.execute_reply": "2024-06-24T16:10:17.698624Z"
        },
        "trusted": true,
        "id": "qmoyK2dDMn5j"
      },
      "execution_count": null,
      "outputs": []
    },
    {
      "cell_type": "code",
      "source": [
        "sns.distplot(df['EDA'])"
      ],
      "metadata": {
        "execution": {
          "iopub.status.busy": "2024-06-24T16:10:17.701725Z",
          "iopub.execute_input": "2024-06-24T16:10:17.702209Z",
          "iopub.status.idle": "2024-06-24T16:11:06.251911Z",
          "shell.execute_reply.started": "2024-06-24T16:10:17.702167Z",
          "shell.execute_reply": "2024-06-24T16:11:06.250625Z"
        },
        "trusted": true,
        "id": "Qg9O9_qTMn5j"
      },
      "execution_count": null,
      "outputs": []
    },
    {
      "cell_type": "code",
      "source": [
        "sns.distplot(df['HR'])"
      ],
      "metadata": {
        "execution": {
          "iopub.status.busy": "2024-06-24T16:11:06.25476Z",
          "iopub.execute_input": "2024-06-24T16:11:06.25522Z",
          "iopub.status.idle": "2024-06-24T16:11:56.170177Z",
          "shell.execute_reply.started": "2024-06-24T16:11:06.255185Z",
          "shell.execute_reply": "2024-06-24T16:11:56.16878Z"
        },
        "trusted": true,
        "id": "Z9QQss-BMn5k"
      },
      "execution_count": null,
      "outputs": []
    },
    {
      "cell_type": "code",
      "source": [
        "sns.distplot(df['TEMP'])"
      ],
      "metadata": {
        "execution": {
          "iopub.status.busy": "2024-06-24T16:11:56.171777Z",
          "iopub.execute_input": "2024-06-24T16:11:56.172241Z",
          "iopub.status.idle": "2024-06-24T16:12:46.692243Z",
          "shell.execute_reply.started": "2024-06-24T16:11:56.172201Z",
          "shell.execute_reply": "2024-06-24T16:12:46.691092Z"
        },
        "trusted": true,
        "id": "TA278z8XMn5k"
      },
      "execution_count": null,
      "outputs": []
    },
    {
      "cell_type": "code",
      "source": [
        "df['label'].value_counts()"
      ],
      "metadata": {
        "execution": {
          "iopub.status.busy": "2024-06-24T16:12:46.693658Z",
          "iopub.execute_input": "2024-06-24T16:12:46.694302Z",
          "iopub.status.idle": "2024-06-24T16:12:46.875924Z",
          "shell.execute_reply.started": "2024-06-24T16:12:46.694267Z",
          "shell.execute_reply": "2024-06-24T16:12:46.874395Z"
        },
        "trusted": true,
        "id": "OpsmazoWMn5k"
      },
      "execution_count": null,
      "outputs": []
    },
    {
      "cell_type": "code",
      "source": [
        "df['label'].value_counts().plot(kind='bar')\n",
        "plt.title('Frequency of Each Category')\n",
        "plt.ylabel('Frequency')"
      ],
      "metadata": {
        "execution": {
          "iopub.status.busy": "2024-06-24T16:12:46.87745Z",
          "iopub.execute_input": "2024-06-24T16:12:46.877793Z",
          "iopub.status.idle": "2024-06-24T16:12:47.430201Z",
          "shell.execute_reply.started": "2024-06-24T16:12:46.877765Z",
          "shell.execute_reply": "2024-06-24T16:12:47.429018Z"
        },
        "trusted": true,
        "id": "dOzXOnGEMn5k"
      },
      "execution_count": null,
      "outputs": []
    },
    {
      "cell_type": "code",
      "source": [
        "# Correlation matrix\n",
        "corr_mat = df.corr().round(2)\n",
        "# Correlation matrix\n",
        "corr_mat"
      ],
      "metadata": {
        "execution": {
          "iopub.status.busy": "2024-06-24T16:12:47.431418Z",
          "iopub.execute_input": "2024-06-24T16:12:47.431756Z",
          "iopub.status.idle": "2024-06-24T16:12:52.757969Z",
          "shell.execute_reply.started": "2024-06-24T16:12:47.431728Z",
          "shell.execute_reply": "2024-06-24T16:12:52.756735Z"
        },
        "trusted": true,
        "id": "F73hdMIAMn5k"
      },
      "execution_count": null,
      "outputs": []
    },
    {
      "cell_type": "code",
      "source": [
        "plt.figure(figsize=(10, 8))\n",
        "sns.heatmap(corr_mat, annot=True, cmap='coolwarm')\n",
        "plt.title('Correlation Analysis Plot')\n",
        "plt.show()"
      ],
      "metadata": {
        "execution": {
          "iopub.status.busy": "2024-06-24T16:12:52.759524Z",
          "iopub.execute_input": "2024-06-24T16:12:52.759959Z",
          "iopub.status.idle": "2024-06-24T16:12:53.508546Z",
          "shell.execute_reply.started": "2024-06-24T16:12:52.759924Z",
          "shell.execute_reply": "2024-06-24T16:12:53.50734Z"
        },
        "trusted": true,
        "id": "nwrM6az9Mn5k"
      },
      "execution_count": null,
      "outputs": []
    },
    {
      "cell_type": "code",
      "source": [
        "corr_mat['label']"
      ],
      "metadata": {
        "execution": {
          "iopub.status.busy": "2024-06-24T16:13:11.966359Z",
          "iopub.execute_input": "2024-06-24T16:13:11.966807Z",
          "iopub.status.idle": "2024-06-24T16:13:11.976314Z",
          "shell.execute_reply.started": "2024-06-24T16:13:11.966772Z",
          "shell.execute_reply": "2024-06-24T16:13:11.975025Z"
        },
        "trusted": true,
        "id": "2Bz79tURMn5k"
      },
      "execution_count": null,
      "outputs": []
    },
    {
      "cell_type": "code",
      "source": [
        "# Separate features and target\n",
        "X = df.drop('label', axis=1)\n",
        "y = df['label']"
      ],
      "metadata": {
        "execution": {
          "iopub.status.busy": "2024-06-24T16:15:00.262375Z",
          "iopub.execute_input": "2024-06-24T16:15:00.262844Z",
          "iopub.status.idle": "2024-06-24T16:15:00.706692Z",
          "shell.execute_reply.started": "2024-06-24T16:15:00.262808Z",
          "shell.execute_reply": "2024-06-24T16:15:00.705131Z"
        },
        "trusted": true,
        "id": "6Edm9ROcMn5k"
      },
      "execution_count": 12,
      "outputs": []
    },
    {
      "cell_type": "code",
      "source": [
        "# Sample a subset of the data for initial training (e.g., 10% of the data)\n",
        "sample_frac = 0.10\n",
        "X_sampled, _, y_sampled, _ = train_test_split(X, y, test_size=1-sample_frac, stratify=y, random_state=42)\n"
      ],
      "metadata": {
        "execution": {
          "iopub.status.busy": "2024-06-24T16:15:01.814272Z",
          "iopub.execute_input": "2024-06-24T16:15:01.814702Z",
          "iopub.status.idle": "2024-06-24T16:15:10.683805Z",
          "shell.execute_reply.started": "2024-06-24T16:15:01.814671Z",
          "shell.execute_reply": "2024-06-24T16:15:10.682257Z"
        },
        "trusted": true,
        "id": "Pc6HN7ptMn5l"
      },
      "execution_count": 14,
      "outputs": []
    },
    {
      "cell_type": "code",
      "source": [
        "# Handle imbalanced data\n",
        "over_sample = RandomOverSampler(random_state=42)\n",
        "X_sampled, y_sampled = over_sample.fit_resample(X_sampled, y_sampled)\n"
      ],
      "metadata": {
        "execution": {
          "iopub.status.busy": "2024-06-24T16:15:13.274943Z",
          "iopub.execute_input": "2024-06-24T16:15:13.275416Z",
          "iopub.status.idle": "2024-06-24T16:15:13.395145Z",
          "shell.execute_reply.started": "2024-06-24T16:15:13.275383Z",
          "shell.execute_reply": "2024-06-24T16:15:13.393826Z"
        },
        "trusted": true,
        "id": "ScGRMA9uMn5l"
      },
      "execution_count": 15,
      "outputs": []
    },
    {
      "cell_type": "code",
      "source": [
        "# Split the sampled dataset into training, validation, and testing sets\n",
        "X_train, X_temp, y_train, y_temp = train_test_split(X_sampled, y_sampled, test_size=0.2, random_state=42)\n",
        "X_val, X_test, y_val, y_test = train_test_split(X_temp, y_temp, test_size=0.5, random_state=42)\n"
      ],
      "metadata": {
        "execution": {
          "iopub.status.busy": "2024-06-24T16:15:17.823984Z",
          "iopub.execute_input": "2024-06-24T16:15:17.824858Z",
          "iopub.status.idle": "2024-06-24T16:15:17.924681Z",
          "shell.execute_reply.started": "2024-06-24T16:15:17.824803Z",
          "shell.execute_reply": "2024-06-24T16:15:17.922751Z"
        },
        "trusted": true,
        "id": "OjfP49VFMn5l"
      },
      "execution_count": 16,
      "outputs": []
    },
    {
      "cell_type": "code",
      "source": [
        "# Scale the features\n",
        "scaler = RobustScaler()\n",
        "X_train = scaler.fit_transform(X_train)\n",
        "X_val = scaler.transform(X_val)\n",
        "X_test = scaler.transform(X_test)\n"
      ],
      "metadata": {
        "execution": {
          "iopub.status.busy": "2024-06-24T16:15:20.541095Z",
          "iopub.execute_input": "2024-06-24T16:15:20.541526Z",
          "iopub.status.idle": "2024-06-24T16:15:20.687798Z",
          "shell.execute_reply.started": "2024-06-24T16:15:20.541492Z",
          "shell.execute_reply": "2024-06-24T16:15:20.686483Z"
        },
        "trusted": true,
        "id": "msbo6ihnMn5l"
      },
      "execution_count": 17,
      "outputs": []
    },
    {
      "cell_type": "code",
      "source": [
        "# Set up the strategy for TPU/CPU/GPU\n",
        "try:\n",
        "    tpu = tf.distribute.cluster_resolver.TPUClusterResolver()  # TPU detection\n",
        "    tf.config.experimental_connect_to_cluster(tpu)\n",
        "    tf.tpu.experimental.initialize_tpu_system(tpu)\n",
        "    strategy = tf.distribute.TPUStrategy(tpu)\n",
        "except ValueError:\n",
        "    strategy = tf.distribute.get_strategy()  # Default strategy for CPU and GPU\n"
      ],
      "metadata": {
        "execution": {
          "iopub.status.busy": "2024-06-24T16:15:21.306989Z",
          "iopub.execute_input": "2024-06-24T16:15:21.307804Z",
          "iopub.status.idle": "2024-06-24T16:15:21.318251Z",
          "shell.execute_reply.started": "2024-06-24T16:15:21.307767Z",
          "shell.execute_reply": "2024-06-24T16:15:21.316822Z"
        },
        "trusted": true,
        "id": "bd582EdWMn5l"
      },
      "execution_count": 18,
      "outputs": []
    },
    {
      "cell_type": "code",
      "source": [
        "# Build the model inside the strategy scope\n",
        "with strategy.scope():\n",
        "    model = Sequential([\n",
        "        Input(shape=(X_train.shape[1],)),\n",
        "        Dense(128, activation='relu'),\n",
        "        Dropout(0.5),\n",
        "        Dense(64, activation='relu'),\n",
        "        Dropout(0.5),\n",
        "        Dense(32, activation='relu'),\n",
        "        Dense(3, activation='softmax')  # Adjust the output layer according to your number of classes\n",
        "    ])\n"
      ],
      "metadata": {
        "execution": {
          "iopub.status.busy": "2024-06-24T16:15:28.925578Z",
          "iopub.execute_input": "2024-06-24T16:15:28.927332Z",
          "iopub.status.idle": "2024-06-24T16:15:29.054886Z",
          "shell.execute_reply.started": "2024-06-24T16:15:28.927282Z",
          "shell.execute_reply": "2024-06-24T16:15:29.053655Z"
        },
        "trusted": true,
        "id": "maMWZvewMn5l"
      },
      "execution_count": 19,
      "outputs": []
    },
    {
      "cell_type": "code",
      "source": [
        " model.compile(optimizer='adam', loss='sparse_categorical_crossentropy', metrics=['accuracy'])\n"
      ],
      "metadata": {
        "execution": {
          "iopub.status.busy": "2024-06-24T16:15:34.85561Z",
          "iopub.execute_input": "2024-06-24T16:15:34.856065Z",
          "iopub.status.idle": "2024-06-24T16:15:34.876714Z",
          "shell.execute_reply.started": "2024-06-24T16:15:34.856016Z",
          "shell.execute_reply": "2024-06-24T16:15:34.874937Z"
        },
        "trusted": true,
        "id": "tner5YyKMn5l"
      },
      "execution_count": 20,
      "outputs": []
    },
    {
      "cell_type": "code",
      "source": [
        "# Set up callbacks\n",
        "early_stopping = EarlyStopping(monitor='val_loss', patience=10, restore_best_weights=True)\n",
        "checkpoint = ModelCheckpoint('best_model.keras', save_best_only=True, monitor='val_loss', mode='min')\n"
      ],
      "metadata": {
        "execution": {
          "iopub.status.busy": "2024-06-24T16:15:31.842318Z",
          "iopub.execute_input": "2024-06-24T16:15:31.842765Z",
          "iopub.status.idle": "2024-06-24T16:15:31.84955Z",
          "shell.execute_reply.started": "2024-06-24T16:15:31.84273Z",
          "shell.execute_reply": "2024-06-24T16:15:31.848249Z"
        },
        "trusted": true,
        "id": "TukRMe1kMn5m"
      },
      "execution_count": 21,
      "outputs": []
    },
    {
      "cell_type": "code",
      "source": [
        "# Train the model\n",
        "history = model.fit(X_train, y_train, epochs=50, validation_data=(X_val, y_val), callbacks=[early_stopping, checkpoint])\n"
      ],
      "metadata": {
        "execution": {
          "iopub.status.busy": "2024-06-24T16:15:38.148146Z",
          "iopub.execute_input": "2024-06-24T16:15:38.148623Z",
          "iopub.status.idle": "2024-06-24T16:27:20.343466Z",
          "shell.execute_reply.started": "2024-06-24T16:15:38.148585Z",
          "shell.execute_reply": "2024-06-24T16:27:20.342111Z"
        },
        "trusted": true,
        "id": "ROZI_JjPMn5m",
        "outputId": "58cf1880-8648-45e9-dc25-356cfd95e37e",
        "colab": {
          "base_uri": "https://localhost:8080/"
        }
      },
      "execution_count": 22,
      "outputs": [
        {
          "output_type": "stream",
          "name": "stdout",
          "text": [
            "Epoch 1/50\n",
            "64055/64055 [==============================] - 205s 3ms/step - loss: 0.1793 - accuracy: 0.9297 - val_loss: 0.0444 - val_accuracy: 0.9846\n",
            "Epoch 2/50\n",
            "64055/64055 [==============================] - 205s 3ms/step - loss: 0.1040 - accuracy: 0.9627 - val_loss: 0.0263 - val_accuracy: 0.9930\n",
            "Epoch 3/50\n",
            "64055/64055 [==============================] - 196s 3ms/step - loss: 0.0906 - accuracy: 0.9683 - val_loss: 0.0234 - val_accuracy: 0.9935\n",
            "Epoch 4/50\n",
            "64055/64055 [==============================] - 189s 3ms/step - loss: 0.0831 - accuracy: 0.9713 - val_loss: 0.0210 - val_accuracy: 0.9937\n",
            "Epoch 5/50\n",
            "64055/64055 [==============================] - 195s 3ms/step - loss: 0.0789 - accuracy: 0.9730 - val_loss: 0.0223 - val_accuracy: 0.9945\n",
            "Epoch 6/50\n",
            "64055/64055 [==============================] - 207s 3ms/step - loss: 0.0755 - accuracy: 0.9744 - val_loss: 0.0189 - val_accuracy: 0.9948\n",
            "Epoch 7/50\n",
            "64055/64055 [==============================] - 193s 3ms/step - loss: 0.0732 - accuracy: 0.9752 - val_loss: 0.0212 - val_accuracy: 0.9946\n",
            "Epoch 8/50\n",
            "64055/64055 [==============================] - 180s 3ms/step - loss: 0.0712 - accuracy: 0.9763 - val_loss: 0.0159 - val_accuracy: 0.9976\n",
            "Epoch 9/50\n",
            "64055/64055 [==============================] - 190s 3ms/step - loss: 0.0681 - accuracy: 0.9774 - val_loss: 0.0176 - val_accuracy: 0.9928\n",
            "Epoch 10/50\n",
            "64055/64055 [==============================] - 193s 3ms/step - loss: 0.0659 - accuracy: 0.9781 - val_loss: 0.0148 - val_accuracy: 0.9955\n",
            "Epoch 11/50\n",
            "64055/64055 [==============================] - 195s 3ms/step - loss: 0.0645 - accuracy: 0.9785 - val_loss: 0.0142 - val_accuracy: 0.9958\n",
            "Epoch 12/50\n",
            "64055/64055 [==============================] - 195s 3ms/step - loss: 0.0642 - accuracy: 0.9788 - val_loss: 0.0122 - val_accuracy: 0.9962\n",
            "Epoch 13/50\n",
            "64055/64055 [==============================] - 194s 3ms/step - loss: 0.0629 - accuracy: 0.9791 - val_loss: 0.0160 - val_accuracy: 0.9933\n",
            "Epoch 14/50\n",
            "64055/64055 [==============================] - 184s 3ms/step - loss: 0.0616 - accuracy: 0.9794 - val_loss: 0.0112 - val_accuracy: 0.9980\n",
            "Epoch 15/50\n",
            "64055/64055 [==============================] - 195s 3ms/step - loss: 0.0610 - accuracy: 0.9797 - val_loss: 0.0144 - val_accuracy: 0.9946\n",
            "Epoch 16/50\n",
            "64055/64055 [==============================] - 183s 3ms/step - loss: 0.0603 - accuracy: 0.9800 - val_loss: 0.0128 - val_accuracy: 0.9964\n",
            "Epoch 17/50\n",
            "64055/64055 [==============================] - 181s 3ms/step - loss: 0.0604 - accuracy: 0.9799 - val_loss: 0.0139 - val_accuracy: 0.9962\n",
            "Epoch 18/50\n",
            "64055/64055 [==============================] - 187s 3ms/step - loss: 0.0598 - accuracy: 0.9801 - val_loss: 0.0124 - val_accuracy: 0.9957\n",
            "Epoch 19/50\n",
            "64055/64055 [==============================] - 183s 3ms/step - loss: 0.0590 - accuracy: 0.9805 - val_loss: 0.0138 - val_accuracy: 0.9954\n",
            "Epoch 20/50\n",
            "64055/64055 [==============================] - 203s 3ms/step - loss: 0.0595 - accuracy: 0.9803 - val_loss: 0.0129 - val_accuracy: 0.9962\n",
            "Epoch 21/50\n",
            "64055/64055 [==============================] - 192s 3ms/step - loss: 0.0584 - accuracy: 0.9807 - val_loss: 0.0146 - val_accuracy: 0.9943\n",
            "Epoch 22/50\n",
            "64055/64055 [==============================] - 200s 3ms/step - loss: 0.0583 - accuracy: 0.9806 - val_loss: 0.0132 - val_accuracy: 0.9953\n",
            "Epoch 23/50\n",
            "64055/64055 [==============================] - 201s 3ms/step - loss: 0.0575 - accuracy: 0.9810 - val_loss: 0.0103 - val_accuracy: 0.9975\n",
            "Epoch 24/50\n",
            "64055/64055 [==============================] - 199s 3ms/step - loss: 0.0577 - accuracy: 0.9807 - val_loss: 0.0133 - val_accuracy: 0.9941\n",
            "Epoch 25/50\n",
            "64055/64055 [==============================] - 192s 3ms/step - loss: 0.0571 - accuracy: 0.9809 - val_loss: 0.0119 - val_accuracy: 0.9951\n",
            "Epoch 26/50\n",
            "64055/64055 [==============================] - 192s 3ms/step - loss: 0.0562 - accuracy: 0.9814 - val_loss: 0.0114 - val_accuracy: 0.9969\n",
            "Epoch 27/50\n",
            "64055/64055 [==============================] - 193s 3ms/step - loss: 0.0568 - accuracy: 0.9809 - val_loss: 0.0096 - val_accuracy: 0.9977\n",
            "Epoch 28/50\n",
            "64055/64055 [==============================] - 182s 3ms/step - loss: 0.0560 - accuracy: 0.9813 - val_loss: 0.0126 - val_accuracy: 0.9956\n",
            "Epoch 29/50\n",
            "64055/64055 [==============================] - 194s 3ms/step - loss: 0.0553 - accuracy: 0.9815 - val_loss: 0.0151 - val_accuracy: 0.9949\n",
            "Epoch 30/50\n",
            "64055/64055 [==============================] - 194s 3ms/step - loss: 0.0555 - accuracy: 0.9816 - val_loss: 0.0112 - val_accuracy: 0.9976\n",
            "Epoch 31/50\n",
            "64055/64055 [==============================] - 198s 3ms/step - loss: 0.0553 - accuracy: 0.9817 - val_loss: 0.0139 - val_accuracy: 0.9962\n",
            "Epoch 32/50\n",
            "64055/64055 [==============================] - 196s 3ms/step - loss: 0.0557 - accuracy: 0.9814 - val_loss: 0.0104 - val_accuracy: 0.9969\n",
            "Epoch 33/50\n",
            "64055/64055 [==============================] - 203s 3ms/step - loss: 0.0551 - accuracy: 0.9817 - val_loss: 0.0114 - val_accuracy: 0.9961\n",
            "Epoch 34/50\n",
            "64055/64055 [==============================] - 206s 3ms/step - loss: 0.0555 - accuracy: 0.9815 - val_loss: 0.0122 - val_accuracy: 0.9950\n",
            "Epoch 35/50\n",
            "64055/64055 [==============================] - 185s 3ms/step - loss: 0.0556 - accuracy: 0.9814 - val_loss: 0.0120 - val_accuracy: 0.9954\n",
            "Epoch 36/50\n",
            "64055/64055 [==============================] - 183s 3ms/step - loss: 0.0552 - accuracy: 0.9815 - val_loss: 0.0148 - val_accuracy: 0.9944\n",
            "Epoch 37/50\n",
            "64055/64055 [==============================] - 190s 3ms/step - loss: 0.0547 - accuracy: 0.9818 - val_loss: 0.0114 - val_accuracy: 0.9968\n"
          ]
        }
      ]
    },
    {
      "cell_type": "code",
      "source": [
        "# Evaluate the model\n",
        "loss, accuracy = model.evaluate(X_test, y_test)\n",
        "print(f'Test Loss: {loss}, Test Accuracy: {accuracy}')\n"
      ],
      "metadata": {
        "execution": {
          "iopub.status.busy": "2024-06-24T16:31:07.00685Z",
          "iopub.execute_input": "2024-06-24T16:31:07.007394Z",
          "iopub.status.idle": "2024-06-24T16:31:08.202024Z",
          "shell.execute_reply.started": "2024-06-24T16:31:07.007356Z",
          "shell.execute_reply": "2024-06-24T16:31:08.200618Z"
        },
        "trusted": true,
        "id": "FMB82GhoMn5m",
        "outputId": "d555ebe4-c129-460a-b21d-8ba1559ed0bf",
        "colab": {
          "base_uri": "https://localhost:8080/"
        }
      },
      "execution_count": 23,
      "outputs": [
        {
          "metadata": {
            "tags": null
          },
          "name": "stdout",
          "output_type": "stream",
          "text": [
            "8007/8007 [==============================] - 14s 2ms/step - loss: 0.0094 - accuracy: 0.9976\n",
            "Test Loss: 0.009404374286532402, Test Accuracy: 0.9976075291633606\n"
          ]
        }
      ]
    },
    {
      "cell_type": "code",
      "source": [
        "# Predictions\n",
        "y_pred = model.predict(X_test)\n",
        "y_pred_classes = np.argmax(y_pred, axis=1)\n"
      ],
      "metadata": {
        "execution": {
          "iopub.status.busy": "2024-06-24T16:37:11.310847Z",
          "iopub.execute_input": "2024-06-24T16:37:11.312614Z",
          "iopub.status.idle": "2024-06-24T16:37:12.875249Z",
          "shell.execute_reply.started": "2024-06-24T16:37:11.312559Z",
          "shell.execute_reply": "2024-06-24T16:37:12.87389Z"
        },
        "trusted": true,
        "id": "so414lKPMn5m",
        "outputId": "b3b049cc-2533-4947-c0b4-5a39ce9828d6",
        "colab": {
          "base_uri": "https://localhost:8080/"
        }
      },
      "execution_count": 24,
      "outputs": [
        {
          "output_type": "stream",
          "name": "stdout",
          "text": [
            "8007/8007 [==============================] - 78s 10ms/step\n"
          ]
        }
      ]
    },
    {
      "cell_type": "code",
      "source": [
        "y_pred"
      ],
      "metadata": {
        "execution": {
          "iopub.status.busy": "2024-06-24T16:37:16.870801Z",
          "iopub.execute_input": "2024-06-24T16:37:16.871254Z",
          "iopub.status.idle": "2024-06-24T16:37:16.881354Z",
          "shell.execute_reply.started": "2024-06-24T16:37:16.871211Z",
          "shell.execute_reply": "2024-06-24T16:37:16.879952Z"
        },
        "trusted": true,
        "id": "1aNFawQWMn5m",
        "outputId": "d17cea8f-d7d1-4566-9c45-4696aeb31e97",
        "colab": {
          "base_uri": "https://localhost:8080/"
        }
      },
      "execution_count": 25,
      "outputs": [
        {
          "output_type": "execute_result",
          "data": {
            "text/plain": [
              "array([[1.71889624e-04, 9.99285221e-01, 5.43007918e-04],\n",
              "       [1.55377295e-03, 4.30515151e-10, 9.98446226e-01],\n",
              "       [5.39716384e-05, 9.99380529e-01, 5.65588009e-04],\n",
              "       ...,\n",
              "       [6.31964474e-04, 4.82225696e-05, 9.99319732e-01],\n",
              "       [1.48582915e-08, 3.89153363e-14, 1.00000000e+00],\n",
              "       [8.33394733e-05, 9.99312997e-01, 6.03562046e-04]], dtype=float32)"
            ]
          },
          "metadata": {},
          "execution_count": 25
        }
      ]
    },
    {
      "cell_type": "code",
      "source": [
        "y_pred_classes"
      ],
      "metadata": {
        "execution": {
          "iopub.status.busy": "2024-06-24T16:37:19.341176Z",
          "iopub.execute_input": "2024-06-24T16:37:19.341631Z",
          "iopub.status.idle": "2024-06-24T16:37:19.349785Z",
          "shell.execute_reply.started": "2024-06-24T16:37:19.341594Z",
          "shell.execute_reply": "2024-06-24T16:37:19.348463Z"
        },
        "trusted": true,
        "id": "3v3q1ijfMn5m",
        "outputId": "e2b0f6c9-725f-456c-fa9d-683351191d77",
        "colab": {
          "base_uri": "https://localhost:8080/"
        }
      },
      "execution_count": 26,
      "outputs": [
        {
          "output_type": "execute_result",
          "data": {
            "text/plain": [
              "array([1, 2, 1, ..., 2, 2, 1])"
            ]
          },
          "metadata": {},
          "execution_count": 26
        }
      ]
    },
    {
      "cell_type": "code",
      "source": [
        "# Classification report\n",
        "print(classification_report(y_test, y_pred_classes))\n"
      ],
      "metadata": {
        "execution": {
          "iopub.status.busy": "2024-06-24T16:37:21.401724Z",
          "iopub.execute_input": "2024-06-24T16:37:21.402158Z",
          "iopub.status.idle": "2024-06-24T16:37:21.468962Z",
          "shell.execute_reply.started": "2024-06-24T16:37:21.402125Z",
          "shell.execute_reply": "2024-06-24T16:37:21.467707Z"
        },
        "trusted": true,
        "id": "0HstJwa7Mn5m",
        "outputId": "c0929294-5e75-4986-b0c0-0f62f9060043",
        "colab": {
          "base_uri": "https://localhost:8080/"
        }
      },
      "execution_count": 27,
      "outputs": [
        {
          "output_type": "stream",
          "name": "stdout",
          "text": [
            "              precision    recall  f1-score   support\n",
            "\n",
            "         0.0       1.00      0.99      1.00     85415\n",
            "         1.0       1.00      1.00      1.00     85576\n",
            "         2.0       1.00      1.00      1.00     85227\n",
            "\n",
            "    accuracy                           1.00    256218\n",
            "   macro avg       1.00      1.00      1.00    256218\n",
            "weighted avg       1.00      1.00      1.00    256218\n",
            "\n"
          ]
        }
      ]
    },
    {
      "cell_type": "code",
      "source": [
        "print('Classification Report:')\n",
        "print(classification_report)"
      ],
      "metadata": {
        "execution": {
          "iopub.status.busy": "2024-06-24T16:37:36.129292Z",
          "iopub.execute_input": "2024-06-24T16:37:36.129704Z",
          "iopub.status.idle": "2024-06-24T16:37:36.135958Z",
          "shell.execute_reply.started": "2024-06-24T16:37:36.129673Z",
          "shell.execute_reply": "2024-06-24T16:37:36.13451Z"
        },
        "trusted": true,
        "id": "C1ZFVW6oMn5r",
        "outputId": "abbb1b00-ada3-4fd0-b542-27be2e5bc5b8",
        "colab": {
          "base_uri": "https://localhost:8080/"
        }
      },
      "execution_count": 28,
      "outputs": [
        {
          "output_type": "stream",
          "name": "stdout",
          "text": [
            "Classification Report:\n",
            "<function classification_report at 0x7f9308e73250>\n"
          ]
        }
      ]
    },
    {
      "cell_type": "code",
      "source": [
        "# Confusion matrix\n",
        "cm = confusion_matrix(y_test, y_pred_classes)\n",
        "sns.heatmap(cm, annot=True, fmt='d', cmap='viridis')\n",
        "plt.title('Confusion Matrix')\n",
        "plt.xlabel('Predicted Label')\n",
        "plt.ylabel('True Label')\n",
        "plt.show()"
      ],
      "metadata": {
        "execution": {
          "iopub.status.busy": "2024-06-24T16:37:44.061301Z",
          "iopub.execute_input": "2024-06-24T16:37:44.061739Z",
          "iopub.status.idle": "2024-06-24T16:37:44.420834Z",
          "shell.execute_reply.started": "2024-06-24T16:37:44.061706Z",
          "shell.execute_reply": "2024-06-24T16:37:44.419364Z"
        },
        "trusted": true,
        "id": "jqMPKXdiMn5r",
        "outputId": "8bf7c391-c2a0-4794-d29b-f368486ef160",
        "colab": {
          "base_uri": "https://localhost:8080/",
          "height": 472
        }
      },
      "execution_count": 29,
      "outputs": [
        {
          "output_type": "display_data",
          "data": {
            "text/plain": [
              "<Figure size 640x480 with 2 Axes>"
            ],
            "image/png": "[encoded data removed]"
          },
          "metadata": {}
        }
      ]
    },
    {
      "cell_type": "code",
      "source": [
        "print('Confusion Matrix:')\n",
        "print(cm)"
      ],
      "metadata": {
        "execution": {
          "iopub.status.busy": "2024-06-24T16:37:50.145972Z",
          "iopub.execute_input": "2024-06-24T16:37:50.146821Z",
          "iopub.status.idle": "2024-06-24T16:37:50.157142Z",
          "shell.execute_reply.started": "2024-06-24T16:37:50.146778Z",
          "shell.execute_reply": "2024-06-24T16:37:50.155713Z"
        },
        "trusted": true,
        "id": "OcICXZviMn5r",
        "outputId": "c55ad9da-25ba-4b72-b849-96329d9280d4",
        "colab": {
          "base_uri": "https://localhost:8080/"
        }
      },
      "execution_count": 30,
      "outputs": [
        {
          "output_type": "stream",
          "name": "stdout",
          "text": [
            "Confusion Matrix:\n",
            "[[84979   306   130]\n",
            " [    0 85573     3]\n",
            " [  123    51 85053]]\n"
          ]
        }
      ]
    },
    {
      "cell_type": "code",
      "source": [
        "print(\"Deep Learning Model Performance:\")\n",
        "print(confusion_matrix(y_test, y_pred_classes))\n",
        "print(classification_report(y_test, y_pred_classes))"
      ],
      "metadata": {
        "execution": {
          "iopub.status.busy": "2024-06-24T16:38:22.721101Z",
          "iopub.execute_input": "2024-06-24T16:38:22.722135Z",
          "iopub.status.idle": "2024-06-24T16:38:22.825649Z",
          "shell.execute_reply.started": "2024-06-24T16:38:22.722084Z",
          "shell.execute_reply": "2024-06-24T16:38:22.824121Z"
        },
        "trusted": true,
        "id": "mmfEoH3WMn5r",
        "outputId": "b7a48d0f-52d9-45f1-bb12-f6935b214982",
        "colab": {
          "base_uri": "https://localhost:8080/"
        }
      },
      "execution_count": 31,
      "outputs": [
        {
          "output_type": "stream",
          "name": "stdout",
          "text": [
            "Deep Learning Model Performance:\n",
            "[[84979   306   130]\n",
            " [    0 85573     3]\n",
            " [  123    51 85053]]\n",
            "              precision    recall  f1-score   support\n",
            "\n",
            "         0.0       1.00      0.99      1.00     85415\n",
            "         1.0       1.00      1.00      1.00     85576\n",
            "         2.0       1.00      1.00      1.00     85227\n",
            "\n",
            "    accuracy                           1.00    256218\n",
            "   macro avg       1.00      1.00      1.00    256218\n",
            "weighted avg       1.00      1.00      1.00    256218\n",
            "\n"
          ]
        }
      ]
    },
    {
      "cell_type": "code",
      "source": [
        "model.summary()"
      ],
      "metadata": {
        "execution": {
          "iopub.status.busy": "2024-06-24T16:38:26.573425Z",
          "iopub.execute_input": "2024-06-24T16:38:26.573882Z",
          "iopub.status.idle": "2024-06-24T16:38:26.604711Z",
          "shell.execute_reply.started": "2024-06-24T16:38:26.573846Z",
          "shell.execute_reply": "2024-06-24T16:38:26.603514Z"
        },
        "trusted": true,
        "id": "T76xesbmMn5r",
        "outputId": "778d561d-a81d-484c-82b1-dd50ef9b9314",
        "colab": {
          "base_uri": "https://localhost:8080/"
        }
      },
      "execution_count": 32,
      "outputs": [
        {
          "output_type": "stream",
          "name": "stdout",
          "text": [
            "Model: \"sequential\"\n",
            "_________________________________________________________________\n",
            " Layer (type)                Output Shape              Param #   \n",
            "=================================================================\n",
            " dense (Dense)               (None, 128)               1664      \n",
            "                                                                 \n",
            " dropout (Dropout)           (None, 128)               0         \n",
            "                                                                 \n",
            " dense_1 (Dense)             (None, 64)                8256      \n",
            "                                                                 \n",
            " dropout_1 (Dropout)         (None, 64)                0         \n",
            "                                                                 \n",
            " dense_2 (Dense)             (None, 32)                2080      \n",
            "                                                                 \n",
            " dense_3 (Dense)             (None, 3)                 99        \n",
            "                                                                 \n",
            "=================================================================\n",
            "Total params: 12099 (47.26 KB)\n",
            "Trainable params: 12099 (47.26 KB)\n",
            "Non-trainable params: 0 (0.00 Byte)\n",
            "_________________________________________________________________\n"
          ]
        }
      ]
    },
    {
      "cell_type": "code",
      "source": [
        "model.get_weights()"
      ],
      "metadata": {
        "execution": {
          "iopub.status.busy": "2024-06-24T16:38:31.791494Z",
          "iopub.execute_input": "2024-06-24T16:38:31.791954Z",
          "iopub.status.idle": "2024-06-24T16:38:31.812619Z",
          "shell.execute_reply.started": "2024-06-24T16:38:31.791916Z",
          "shell.execute_reply": "2024-06-24T16:38:31.811213Z"
        },
        "trusted": true,
        "id": "bxE2zoedMn5s",
        "outputId": "e57d5fa0-c57c-49d3-c3a0-db6a7204381c",
        "colab": {
          "base_uri": "https://localhost:8080/"
        }
      },
      "execution_count": 33,
      "outputs": [
        {
          "output_type": "execute_result",
          "data": {
            "text/plain": [
              "[array([[-0.07102413, -0.08736835,  0.11427929, ...,  0.00687348,\n",
              "          0.01797252, -0.17942175],\n",
              "        [-0.04622963, -0.01970063,  0.03334082, ...,  0.01967658,\n",
              "         -0.11916862,  0.06595295],\n",
              "        [ 0.23437952, -0.00397087, -0.05751855, ...,  0.0260252 ,\n",
              "          0.00733359,  0.3089798 ],\n",
              "        ...,\n",
              "        [ 0.28937986, -0.25230548, -0.05588316, ...,  0.01884233,\n",
              "         -0.32889152,  0.12619215],\n",
              "        [-0.05711861,  0.03200463, -0.07017989, ...,  0.09702907,\n",
              "          0.012196  ,  0.01198672],\n",
              "        [ 0.09765177, -0.74544376,  1.6531724 , ..., -1.0575583 ,\n",
              "         -0.01946032,  1.1585402 ]], dtype=float32),\n",
              " array([-2.9583418 , -2.0932643 , -0.8176824 , -1.3227649 , -2.6334753 ,\n",
              "        -1.477277  , -1.1660678 ,  0.0254626 , -2.9658391 , -3.007182  ,\n",
              "        -4.4598794 , -2.202314  , -2.5789237 , -0.77865165, -2.6204994 ,\n",
              "        -1.0270685 , -1.8136709 , -1.5902754 , -1.4611695 , -0.9235129 ,\n",
              "        -2.147957  , -1.6105654 , -2.5508957 , -0.5192915 , -2.1007862 ,\n",
              "        -1.9687363 , -1.84076   , -0.65608114, -0.95024973, -4.498504  ,\n",
              "        -0.2788293 , -2.897146  , -2.225919  , -0.8237327 , -2.2826483 ,\n",
              "        -2.838514  , -1.4310086 , -1.0553325 , -2.5005372 , -3.0822117 ,\n",
              "        -0.86812514, -2.0783725 , -0.7544471 , -1.8249047 , -0.17050195,\n",
              "        -0.7395775 , -1.9851018 , -0.87585944, -2.9765909 , -1.952806  ,\n",
              "        -0.9059494 , -2.8255565 , -3.0621002 , -2.892986  , -2.0336936 ,\n",
              "        -2.8930964 , -1.7007715 , -4.0153384 , -2.844311  , -2.9062893 ,\n",
              "        -1.4887806 , -2.0600386 , -0.8487323 , -3.6485488 , -0.9554276 ,\n",
              "        -1.5218844 , -3.2197468 , -0.1621884 , -0.23555027, -1.1856744 ,\n",
              "        -2.031144  , -2.0676816 , -1.8737403 , -1.7341994 , -1.439134  ,\n",
              "        -2.8323033 ,  0.22825955, -0.76246864, -1.4318322 , -2.807082  ,\n",
              "        -0.4159528 , -1.0236982 , -1.4300652 , -3.646553  , -3.1908104 ,\n",
              "        -1.3402519 , -1.2747601 , -3.8537464 , -2.1721597 , -2.2759056 ,\n",
              "        -1.9395415 , -2.7609737 , -3.6489913 , -2.9417844 , -1.5767494 ,\n",
              "        -1.1887583 , -2.8206728 , -3.722664  , -1.1067055 , -2.141656  ,\n",
              "        -3.0531907 , -1.5645123 , -1.8482193 , -1.5038755 , -1.0462424 ,\n",
              "        -1.9268668 , -1.1948612 , -2.609329  , -1.785991  , -3.1166365 ,\n",
              "        -0.9850902 , -1.192936  , -0.16362263, -2.2297919 , -0.18784654,\n",
              "        -1.9080532 , -5.0394564 , -0.19856   , -2.0564663 , -2.2926497 ,\n",
              "        -1.6948538 , -1.4728806 , -0.83938694, -1.7606573 , -3.5126872 ,\n",
              "        -1.3056597 , -0.97241825, -2.7764206 ], dtype=float32),\n",
              " array([[-1.50139678e+00, -7.40860820e-01,  3.66114266e-02, ...,\n",
              "         -2.08296001e-01, -4.81542778e+00, -1.02163792e+01],\n",
              "        [ 5.54976523e-01,  8.96282911e-01,  4.41369265e-02, ...,\n",
              "         -7.00040722e+00, -2.87328884e-02,  1.21551767e-01],\n",
              "        [ 8.68637145e-01, -5.13140106e+00,  1.74999818e-01, ...,\n",
              "          3.02255210e-02,  9.50457621e-03, -4.22922745e-02],\n",
              "        ...,\n",
              "        [-1.09865166e-01,  3.49324137e-01, -1.45543218e-01, ...,\n",
              "          1.93035781e-01,  2.47086585e-01,  4.26068157e-01],\n",
              "        [-7.70149171e-01, -1.64951861e-01,  3.76954600e-02, ...,\n",
              "         -9.97396410e-02,  1.03602998e-01,  9.17075723e-02],\n",
              "        [ 1.11308925e-01, -7.33946443e-01,  1.10178196e+00, ...,\n",
              "         -1.35649991e+00,  4.96297553e-02,  4.63545956e-02]], dtype=float32),\n",
              " array([ 0.07797062, -0.00740106, -1.3819159 ,  0.39015675,  0.10371154,\n",
              "        -0.12276151,  0.11148059, -0.90677184, -0.02835896, -0.00617052,\n",
              "        -1.5808271 , -0.0228929 , -0.00256665,  0.62694144,  0.33102313,\n",
              "        -0.3773947 ,  0.39709583, -0.08423281, -0.05668371,  0.551691  ,\n",
              "         0.22063282,  0.02694921,  0.5583831 , -0.0103651 ,  0.03054395,\n",
              "         0.06235356, -0.15176305, -0.10220782,  0.41316143,  0.16965963,\n",
              "         1.1463434 , -1.3522495 , -1.0924356 , -0.02289274,  0.86003387,\n",
              "         0.04778854, -0.02848074,  0.34380814,  0.00931111, -1.8853062 ,\n",
              "        -0.09015494, -0.5962387 , -0.02553175,  0.21545891, -0.39541   ,\n",
              "        -0.13323191, -0.00945641, -0.01954299,  0.36415902,  0.0854176 ,\n",
              "        -1.2420297 , -0.04643774, -0.12999079,  1.1451766 , -0.09689841,\n",
              "        -0.93249685,  1.446254  ,  0.19861272, -0.7352198 ,  0.37590003,\n",
              "        -0.87030506, -0.01721377, -0.02055938, -0.12525503], dtype=float32),\n",
              " array([[ 0.818575  , -1.6522144 ,  0.18853252, ..., -1.7426124 ,\n",
              "         -0.3337028 , -0.00718079],\n",
              "        [ 0.2728691 , -0.15955946, -0.02256184, ..., -0.05160836,\n",
              "         -1.557212  ,  0.72414064],\n",
              "        [ 1.5067306 , -0.6972297 ,  0.13931273, ...,  0.12251297,\n",
              "          0.49260572,  0.41064584],\n",
              "        ...,\n",
              "        [ 0.05502215, -0.33328646,  0.09043507, ...,  0.10060963,\n",
              "          0.09419881, -0.30081543],\n",
              "        [-0.02985217, -0.32321104, -0.21962819, ...,  0.2148936 ,\n",
              "         -0.5620467 , -0.38521513],\n",
              "        [-0.4282241 , -0.33993706, -0.538017  , ..., -0.1545043 ,\n",
              "         -3.4232688 ,  0.52156365]], dtype=float32),\n",
              " array([-1.0202513e+01,  2.8336942e+00,  5.9348454e+00,  3.0851741e+00,\n",
              "         9.9141341e-01,  4.7000561e+00,  4.5322394e+00,  2.4342811e+00,\n",
              "         1.8251798e+00,  3.6561420e+00,  3.3090696e-01,  2.6891043e-02,\n",
              "         4.1449606e-01,  3.1715152e+00,  4.2404504e+00,  5.1062875e+00,\n",
              "        -1.0751766e-01,  8.3528624e+00,  2.2439013e+00,  2.9641130e+00,\n",
              "         3.7737896e+00, -2.7881353e-05, -5.3879749e-02,  2.4198635e+00,\n",
              "         2.6502223e+00,  6.0216346e+00,  7.3592491e+00,  4.3895440e+00,\n",
              "         1.5056314e+00,  1.9572054e+00,  7.9253726e+00,  2.0091202e+00],\n",
              "       dtype=float32),\n",
              " array([[ 0.1130522 ,  0.09558702,  0.15961611],\n",
              "        [ 0.07047223,  0.34068295,  0.16775602],\n",
              "        [-0.27709693,  0.001278  ,  0.07288656],\n",
              "        [-0.43411714, -0.48524913, -0.37623253],\n",
              "        [ 0.06482751,  0.10168077, -0.02781799],\n",
              "        [ 0.14003852,  0.25299457, -0.11063815],\n",
              "        [-0.16440572,  0.05645489, -0.36299273],\n",
              "        [-0.21248703,  0.34952915, -0.42536423],\n",
              "        [-0.12386604, -0.3805898 , -0.16409877],\n",
              "        [-0.23979974, -0.44914028, -0.33946186],\n",
              "        [-0.19977961, -0.31356686, -0.28379074],\n",
              "        [-0.410252  , -0.7209541 , -0.48071814],\n",
              "        [-0.17760955, -0.31630877, -0.09201728],\n",
              "        [-0.4001234 , -0.5505606 , -0.65234363],\n",
              "        [-0.03428862,  0.02871759,  0.05535434],\n",
              "        [-0.35733014, -0.12221666, -0.0834683 ],\n",
              "        [-0.37042078, -0.5690798 , -0.32430816],\n",
              "        [ 0.18283431,  0.22879305,  0.34809244],\n",
              "        [-0.21338445,  0.12380289,  0.19224527],\n",
              "        [-0.05969185,  0.11466306, -0.03527149],\n",
              "        [ 0.0848447 , -0.12803754, -0.02935836],\n",
              "        [-0.22422616, -0.34387594, -0.11382131],\n",
              "        [-0.06041898, -0.23620869,  0.01702254],\n",
              "        [-0.26836437, -0.3885136 , -0.1363093 ],\n",
              "        [-0.02592233, -0.6924699 , -0.01557088],\n",
              "        [-0.31389022, -0.36801472, -0.5114356 ],\n",
              "        [ 0.03912787, -0.20452048, -0.11678302],\n",
              "        [-0.11009594,  0.21781473, -0.05204454],\n",
              "        [-0.13456759, -0.14667007, -0.05439811],\n",
              "        [-0.0208887 ,  0.08144846,  0.12184314],\n",
              "        [-0.1045846 , -0.24493535,  0.05491382],\n",
              "        [ 0.12645699, -0.26712278,  0.13138127]], dtype=float32),\n",
              " array([ 0.5941811 , -0.03920938, -0.61595005], dtype=float32)]"
            ]
          },
          "metadata": {},
          "execution_count": 33
        }
      ]
    },
    {
      "cell_type": "code",
      "source": [
        "# Plot training history\n",
        "plt.figure(figsize=(12, 4))\n",
        "plt.subplot(1, 2, 1)\n",
        "plt.plot(history.history['accuracy'], label='Train Accuracy')\n",
        "plt.plot(history.history['val_accuracy'], label='Validation Accuracy')\n",
        "plt.title('Model Accuracy')\n",
        "plt.xlabel('Epochs')\n",
        "plt.ylabel('Accuracy')\n",
        "plt.legend()\n",
        "plt.subplot(1, 2, 2)\n",
        "plt.plot(history.history['loss'], label='Train Loss')\n",
        "plt.plot(history.history['val_loss'], label='Validation Loss')\n",
        "plt.title('Model Loss')\n",
        "plt.xlabel('Epochs')\n",
        "plt.ylabel('Loss')\n",
        "plt.legend()\n",
        "plt.show()"
      ],
      "metadata": {
        "execution": {
          "iopub.status.busy": "2024-06-24T16:38:37.223803Z",
          "iopub.execute_input": "2024-06-24T16:38:37.224245Z",
          "iopub.status.idle": "2024-06-24T16:38:37.713533Z",
          "shell.execute_reply.started": "2024-06-24T16:38:37.224211Z",
          "shell.execute_reply": "2024-06-24T16:38:37.712329Z"
        },
        "trusted": true,
        "id": "EaRA7SjzMn5s",
        "outputId": "92a2619c-cf51-44bf-fa54-349c290e0ad7",
        "colab": {
          "base_uri": "https://localhost:8080/",
          "height": 410
        }
      },
      "execution_count": 34,
      "outputs": [
        {
          "output_type": "display_data",
          "data": {
            "text/plain": [
              "<Figure size 1200x400 with 2 Axes>"
            ],
            "image/png": "[encoded data removed]"
          },
          "metadata": {}
        }
      ]
    },
    {
      "cell_type": "code",
      "source": [
        "# Extract training and validation accuracy\n",
        "train_accuracy = history.history['accuracy']\n",
        "val_accuracy = history.history['val_accuracy']\n",
        "\n",
        "# Print the accuracy values\n",
        "print(\"Epoch\\tTrain Accuracy\\tValidation Accuracy\")\n",
        "for epoch in range(len(train_accuracy)):\n",
        "    print(f\"{epoch+1}\\t{train_accuracy[epoch]:.4f}\\t\\t{val_accuracy[epoch]:.4f}\")\n",
        "\n",
        "# Optional: Visualize the training history\n",
        "plt.plot(train_accuracy)\n",
        "plt.plot(val_accuracy)\n",
        "plt.title('Model accuracy')\n",
        "plt.ylabel('Accuracy')\n",
        "plt.xlabel('Epoch')\n",
        "plt.legend(['Train', 'Validation'], loc='upper left')\n",
        "plt.show()"
      ],
      "metadata": {
        "execution": {
          "iopub.status.busy": "2024-06-24T16:38:40.928739Z",
          "iopub.execute_input": "2024-06-24T16:38:40.929579Z",
          "iopub.status.idle": "2024-06-24T16:38:41.242175Z",
          "shell.execute_reply.started": "2024-06-24T16:38:40.929538Z",
          "shell.execute_reply": "2024-06-24T16:38:41.240756Z"
        },
        "trusted": true,
        "id": "FPnXGGKPMn5s",
        "outputId": "619a3bad-2b1b-4d49-bd2f-9a407f206a01",
        "colab": {
          "base_uri": "https://localhost:8080/",
          "height": 1000
        }
      },
      "execution_count": 35,
      "outputs": [
        {
          "output_type": "stream",
          "name": "stdout",
          "text": [
            "Epoch\tTrain Accuracy\tValidation Accuracy\n",
            "1\t0.9297\t\t0.9846\n",
            "2\t0.9627\t\t0.9930\n",
            "3\t0.9683\t\t0.9935\n",
            "4\t0.9713\t\t0.9937\n",
            "5\t0.9730\t\t0.9945\n",
            "6\t0.9744\t\t0.9948\n",
            "7\t0.9752\t\t0.9946\n",
            "8\t0.9763\t\t0.9976\n",
            "9\t0.9774\t\t0.9928\n",
            "10\t0.9781\t\t0.9955\n",
            "11\t0.9785\t\t0.9958\n",
            "12\t0.9788\t\t0.9962\n",
            "13\t0.9791\t\t0.9933\n",
            "14\t0.9794\t\t0.9980\n",
            "15\t0.9797\t\t0.9946\n",
            "16\t0.9800\t\t0.9964\n",
            "17\t0.9799\t\t0.9962\n",
            "18\t0.9801\t\t0.9957\n",
            "19\t0.9805\t\t0.9954\n",
            "20\t0.9803\t\t0.9962\n",
            "21\t0.9807\t\t0.9943\n",
            "22\t0.9806\t\t0.9953\n",
            "23\t0.9810\t\t0.9975\n",
            "24\t0.9807\t\t0.9941\n",
            "25\t0.9809\t\t0.9951\n",
            "26\t0.9814\t\t0.9969\n",
            "27\t0.9809\t\t0.9977\n",
            "28\t0.9813\t\t0.9956\n",
            "29\t0.9815\t\t0.9949\n",
            "30\t0.9816\t\t0.9976\n",
            "31\t0.9817\t\t0.9962\n",
            "32\t0.9814\t\t0.9969\n",
            "33\t0.9817\t\t0.9961\n",
            "34\t0.9815\t\t0.9950\n",
            "35\t0.9814\t\t0.9954\n",
            "36\t0.9815\t\t0.9944\n",
            "37\t0.9818\t\t0.9968\n"
          ]
        },
        {
          "output_type": "display_data",
          "data": {
            "text/plain": [
              "<Figure size 640x480 with 1 Axes>"
            ],
            "image/png": "[encoded data removed]"
          },
          "metadata": {}
        }
      ]
    },
    {
      "cell_type": "code",
      "source": [
        "model.save('final_model.keras')"
      ],
      "metadata": {
        "execution": {
          "iopub.status.busy": "2024-06-24T16:38:46.076844Z",
          "iopub.execute_input": "2024-06-24T16:38:46.077285Z",
          "iopub.status.idle": "2024-06-24T16:38:46.111128Z",
          "shell.execute_reply.started": "2024-06-24T16:38:46.077248Z",
          "shell.execute_reply": "2024-06-24T16:38:46.109898Z"
        },
        "trusted": true,
        "id": "30Y4Bx8tMn5s"
      },
      "execution_count": 36,
      "outputs": []
    },
    {
      "cell_type": "code",
      "source": [
        "import json\n",
        "\n",
        "history_dict = history.history\n",
        "with open('history.json', 'w') as f:\n",
        "    json.dump(history_dict, f)"
      ],
      "metadata": {
        "execution": {
          "iopub.status.busy": "2024-06-24T16:38:49.283535Z",
          "iopub.execute_input": "2024-06-24T16:38:49.283974Z",
          "iopub.status.idle": "2024-06-24T16:38:49.292148Z",
          "shell.execute_reply.started": "2024-06-24T16:38:49.283938Z",
          "shell.execute_reply": "2024-06-24T16:38:49.290609Z"
        },
        "trusted": true,
        "id": "TdwyemQ7Mn5s"
      },
      "execution_count": 37,
      "outputs": []
    }
  ]
}