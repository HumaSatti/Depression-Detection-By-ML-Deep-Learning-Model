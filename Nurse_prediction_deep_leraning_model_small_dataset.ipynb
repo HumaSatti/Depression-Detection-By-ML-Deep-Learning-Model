{
  "metadata": {
    "kernelspec": {
      "language": "python",
      "display_name": "Python 3",
      "name": "python3"
    },
    "language_info": {
      "pygments_lexer": "ipython3",
      "nbconvert_exporter": "python",
      "version": "3.6.4",
      "file_extension": ".py",
      "codemirror_mode": {
        "name": "ipython",
        "version": 3
      },
      "name": "python",
      "mimetype": "text/x-python"
    },
    "kaggle": {
      "accelerator": "none",
      "dataSources": [
        {
          "sourceId": 7125235,
          "sourceType": "datasetVersion",
          "datasetId": 4110234
        }
      ],
      "isInternetEnabled": true,
      "language": "python",
      "sourceType": "notebook",
      "isGpuEnabled": false
    },
    "colab": {
      "name": "Nurse prediction deep leraning model small dataset",
      "provenance": [],
      "include_colab_link": true
    }
  },
  "nbformat_minor": 0,
  "nbformat": 4,
  "cells": [
    {
      "cell_type": "markdown",
      "metadata": {
        "id": "view-in-github",
        "colab_type": "text"
      },
      "source": [
        "<a href=\"https://colab.research.google.com/github/HumaSatti/Depression-Detection-By-ML-Deep-Learning-Model/blob/main/Nurse_prediction_deep_leraning_model_small_dataset.ipynb\" target=\"_parent\"><img src=\"https://colab.research.google.com/assets/colab-badge.svg\" alt=\"Open In Colab\"/></a>"
      ]
    },
    {
      "source": [
        "\n",
        "# IMPORTANT: RUN THIS CELL IN ORDER TO IMPORT YOUR KAGGLE DATA SOURCES\n",
        "# TO THE CORRECT LOCATION (/kaggle/input) IN YOUR NOTEBOOK,\n",
        "# THEN FEEL FREE TO DELETE THIS CELL.\n",
        "# NOTE: THIS NOTEBOOK ENVIRONMENT DIFFERS FROM KAGGLE'S PYTHON\n",
        "# ENVIRONMENT SO THERE MAY BE MISSING LIBRARIES USED BY YOUR\n",
        "# NOTEBOOK.\n",
        "\n",
        "import os\n",
        "import sys\n",
        "from tempfile import NamedTemporaryFile\n",
        "from urllib.request import urlopen\n",
        "from urllib.parse import unquote, urlparse\n",
        "from urllib.error import HTTPError\n",
        "from zipfile import ZipFile\n",
        "import tarfile\n",
        "import shutil\n",
        "\n",
        "CHUNK_SIZE = 40960\n",
        "DATA_SOURCE_MAPPING = 'nurse-stress-prediction-wearable-sensors:https%3A%2F%2Fstorage.googleapis.com%2Fkaggle-data-sets%2F4110234%2F7125235%2Fbundle%2Farchive.zip%3FX-Goog-Algorithm%3DGOOG4-RSA-SHA256%26X-Goog-Credential%3Dgcp-kaggle-com%2540kaggle-161607.iam.gserviceaccount.com%252F20240624%252Fauto%252Fstorage%252Fgoog4_request%26X-Goog-Date%3D20240624T121055Z%26X-Goog-Expires%3D259200%26X-Goog-SignedHeaders%3Dhost%26X-Goog-Signature%3D6c712ab131a354fb064bb975282df274cd1a85de4647fc17791e0d2b2881da9ce472d950fdafed9aec59f234975b158ada3cdfc7beabae28d7f50f4e1c90eeb30febff7306c8f59e4d3001519a134fd56810d83d02a3964c39fa2fa1e16b10639c1dbc84e8e6fb30a20602521fec7b1509e81263a9689e86c5b7f525a432d76a51023568c6bbde0c731714a3d80529cbb65f78e698398885c7c0d0dcf3f99946277ab35b0a02bad755706ef4af1fc47fbb4f3e20d7f15bb82154f154dd1b0c6b0a1270b4a18e690d7899896c72a76591f29f641180ca530432be490db57e016111b3c5a00c3c9f2974a083bc4aca3b1db9e348c3e9a1d3312b73b07ce6c46afa'\n",
        "\n",
        "KAGGLE_INPUT_PATH='/kaggle/input'\n",
        "KAGGLE_WORKING_PATH='/kaggle/working'\n",
        "KAGGLE_SYMLINK='kaggle'\n",
        "\n",
        "!umount /kaggle/input/ 2> /dev/null\n",
        "shutil.rmtree('/kaggle/input', ignore_errors=True)\n",
        "os.makedirs(KAGGLE_INPUT_PATH, 0o777, exist_ok=True)\n",
        "os.makedirs(KAGGLE_WORKING_PATH, 0o777, exist_ok=True)\n",
        "\n",
        "try:\n",
        "  os.symlink(KAGGLE_INPUT_PATH, os.path.join(\"..\", 'input'), target_is_directory=True)\n",
        "except FileExistsError:\n",
        "  pass\n",
        "try:\n",
        "  os.symlink(KAGGLE_WORKING_PATH, os.path.join(\"..\", 'working'), target_is_directory=True)\n",
        "except FileExistsError:\n",
        "  pass\n",
        "\n",
        "for data_source_mapping in DATA_SOURCE_MAPPING.split(','):\n",
        "    directory, download_url_encoded = data_source_mapping.split(':')\n",
        "    download_url = unquote(download_url_encoded)\n",
        "    filename = urlparse(download_url).path\n",
        "    destination_path = os.path.join(KAGGLE_INPUT_PATH, directory)\n",
        "    try:\n",
        "        with urlopen(download_url) as fileres, NamedTemporaryFile() as tfile:\n",
        "            total_length = fileres.headers['content-length']\n",
        "            print(f'Downloading {directory}, {total_length} bytes compressed')\n",
        "            dl = 0\n",
        "            data = fileres.read(CHUNK_SIZE)\n",
        "            while len(data) > 0:\n",
        "                dl += len(data)\n",
        "                tfile.write(data)\n",
        "                done = int(50 * dl / int(total_length))\n",
        "                sys.stdout.write(f\"\\r[{'=' * done}{' ' * (50-done)}] {dl} bytes downloaded\")\n",
        "                sys.stdout.flush()\n",
        "                data = fileres.read(CHUNK_SIZE)\n",
        "            if filename.endswith('.zip'):\n",
        "              with ZipFile(tfile) as zfile:\n",
        "                zfile.extractall(destination_path)\n",
        "            else:\n",
        "              with tarfile.open(tfile.name) as tarfile:\n",
        "                tarfile.extractall(destination_path)\n",
        "            print(f'\\nDownloaded and uncompressed: {directory}')\n",
        "    except HTTPError as e:\n",
        "        print(f'Failed to load (likely expired) {download_url} to path {destination_path}')\n",
        "        continue\n",
        "    except OSError as e:\n",
        "        print(f'Failed to load {download_url} to path {destination_path}')\n",
        "        continue\n",
        "\n",
        "print('Data source import complete.')\n"
      ],
      "metadata": {
        "id": "qc0mwCe7KApf",
        "outputId": "820b0828-8b5c-4aff-9d71-2083466a231d",
        "colab": {
          "base_uri": "https://localhost:8080/"
        }
      },
      "cell_type": "code",
      "outputs": [
        {
          "output_type": "stream",
          "name": "stdout",
          "text": [
            "Downloading nurse-stress-prediction-wearable-sensors, 79877492 bytes compressed\n",
            "[==================================================] 79877492 bytes downloaded\n",
            "Downloaded and uncompressed: nurse-stress-prediction-wearable-sensors\n",
            "Data source import complete.\n"
          ]
        }
      ],
      "execution_count": 1
    },
    {
      "cell_type": "code",
      "source": [
        "# This Python 3 environment comes with many helpful analytics libraries installed\n",
        "# It is defined by the kaggle/python Docker image: https://github.com/kaggle/docker-python\n",
        "# For example, here's several helpful packages to load\n",
        "\n",
        "import numpy as np # linear algebra\n",
        "import pandas as pd # data processing, CSV file I/O (e.g. pd.read_csv)\n",
        "\n",
        "# Input data files are available in the read-only \"../input/\" directory\n",
        "# For example, running this (by clicking run or pressing Shift+Enter) will list all files under the input directory\n",
        "\n",
        "import os\n",
        "for dirname, _, filenames in os.walk('/kaggle/input'):\n",
        "    for filename in filenames:\n",
        "        print(os.path.join(dirname, filename))\n",
        "\n",
        "# You can write up to 20GB to the current directory (/kaggle/working/) that gets preserved as output when you create a version using \"Save & Run All\"\n",
        "# You can also write temporary files to /kaggle/temp/, but they won't be saved outside of the current session"
      ],
      "metadata": {
        "_uuid": "8f2839f25d086af736a60e9eeb907d3b93b6e0e5",
        "_cell_guid": "b1076dfc-b9ad-4769-8c92-a6c4dae69d19",
        "trusted": true,
        "id": "7mSRRG5-KApk",
        "outputId": "8edb1e16-956d-4fdd-9127-f507c95e88ff",
        "colab": {
          "base_uri": "https://localhost:8080/"
        }
      },
      "execution_count": 2,
      "outputs": [
        {
          "output_type": "stream",
          "name": "stdout",
          "text": [
            "/kaggle/input/nurse-stress-prediction-wearable-sensors/merged_data.csv\n"
          ]
        }
      ]
    },
    {
      "cell_type": "code",
      "source": [
        "import seaborn as sns\n",
        "import matplotlib.pyplot as plt\n",
        "from sklearn.model_selection import train_test_split\n",
        "from sklearn.preprocessing import RobustScaler\n",
        "from sklearn.metrics import classification_report, confusion_matrix\n",
        "from imblearn.over_sampling import RandomOverSampler\n",
        "from tensorflow.keras.models import Sequential\n",
        "from tensorflow.keras.layers import Dense, Dropout, Input\n",
        "from tensorflow.keras.callbacks import EarlyStopping, ModelCheckpoint\n",
        "import tensorflow as tf"
      ],
      "metadata": {
        "id": "KOF3IHOcKApl"
      },
      "execution_count": 3,
      "outputs": []
    },
    {
      "cell_type": "code",
      "source": [
        "# Load the dataset\n",
        "df = pd.read_csv('/kaggle/input/nurse-stress-prediction-wearable-sensors/merged_data.csv', low_memory=False, parse_dates=['datetime'])\n",
        "df"
      ],
      "metadata": {
        "id": "ZGPnPaelKApn",
        "outputId": "f5842b18-6823-4e43-d0a5-c44c8b19b85d",
        "colab": {
          "base_uri": "https://localhost:8080/",
          "height": 423
        }
      },
      "execution_count": 4,
      "outputs": [
        {
          "output_type": "execute_result",
          "data": {
            "text/plain": [
              "             X     Y     Z       EDA     HR   TEMP  id  \\\n",
              "0        -13.0 -61.0   5.0  6.769995  99.43  31.17  15   \n",
              "1        -20.0 -69.0  -3.0  6.769995  99.43  31.17  15   \n",
              "2        -31.0 -78.0 -15.0  6.769995  99.43  31.17  15   \n",
              "3        -47.0 -65.0 -38.0  6.769995  99.43  31.17  15   \n",
              "4        -67.0 -57.0 -53.0  6.769995  99.43  31.17  15   \n",
              "...        ...   ...   ...       ...    ...    ...  ..   \n",
              "11509046 -16.0 -56.0  24.0  3.386070  88.37  33.77  F5   \n",
              "11509047  -8.0 -50.0  27.0  3.386070  88.37  33.77  F5   \n",
              "11509048 -28.0 -36.0  28.0  3.386070  88.37  33.77  F5   \n",
              "11509049 -29.0 -29.0  30.0  3.386070  88.37  33.77  F5   \n",
              "11509050 -22.0 -24.0  29.0  3.374543  88.33  33.75  F5   \n",
              "\n",
              "                              datetime  label  \n",
              "0        2020-07-08 14:03:00.000000000    2.0  \n",
              "1        2020-07-08 14:03:00.031249920    2.0  \n",
              "2        2020-07-08 14:03:00.062500096    2.0  \n",
              "3        2020-07-08 14:03:00.093750016    2.0  \n",
              "4        2020-07-08 14:03:00.124999936    2.0  \n",
              "...                                ...    ...  \n",
              "11509046 2020-07-23 17:28:59.875000064    2.0  \n",
              "11509047 2020-07-23 17:28:59.906249984    2.0  \n",
              "11509048 2020-07-23 17:28:59.937499904    2.0  \n",
              "11509049 2020-07-23 17:28:59.968750080    2.0  \n",
              "11509050 2020-07-23 17:29:00.000000000    2.0  \n",
              "\n",
              "[11509051 rows x 9 columns]"
            ],
            "text/html": [
              "\n",
              "  <div id=\"df-404cac08-87e2-4413-82a0-c729581b9a2b\" class=\"colab-df-container\">\n",
              "    <div>\n",
              "<style scoped>\n",
              "    .dataframe tbody tr th:only-of-type {\n",
              "        vertical-align: middle;\n",
              "    }\n",
              "\n",
              "    .dataframe tbody tr th {\n",
              "        vertical-align: top;\n",
              "    }\n",
              "\n",
              "    .dataframe thead th {\n",
              "        text-align: right;\n",
              "    }\n",
              "</style>\n",
              "<table border=\"1\" class=\"dataframe\">\n",
              "  <thead>\n",
              "    <tr style=\"text-align: right;\">\n",
              "      <th></th>\n",
              "      <th>X</th>\n",
              "      <th>Y</th>\n",
              "      <th>Z</th>\n",
              "      <th>EDA</th>\n",
              "      <th>HR</th>\n",
              "      <th>TEMP</th>\n",
              "      <th>id</th>\n",
              "      <th>datetime</th>\n",
              "      <th>label</th>\n",
              "    </tr>\n",
              "  </thead>\n",
              "  <tbody>\n",
              "    <tr>\n",
              "      <th>0</th>\n",
              "      <td>-13.0</td>\n",
              "      <td>-61.0</td>\n",
              "      <td>5.0</td>\n",
              "      <td>6.769995</td>\n",
              "      <td>99.43</td>\n",
              "      <td>31.17</td>\n",
              "      <td>15</td>\n",
              "      <td>2020-07-08 14:03:00.000000000</td>\n",
              "      <td>2.0</td>\n",
              "    </tr>\n",
              "    <tr>\n",
              "      <th>1</th>\n",
              "      <td>-20.0</td>\n",
              "      <td>-69.0</td>\n",
              "      <td>-3.0</td>\n",
              "      <td>6.769995</td>\n",
              "      <td>99.43</td>\n",
              "      <td>31.17</td>\n",
              "      <td>15</td>\n",
              "      <td>2020-07-08 14:03:00.031249920</td>\n",
              "      <td>2.0</td>\n",
              "    </tr>\n",
              "    <tr>\n",
              "      <th>2</th>\n",
              "      <td>-31.0</td>\n",
              "      <td>-78.0</td>\n",
              "      <td>-15.0</td>\n",
              "      <td>6.769995</td>\n",
              "      <td>99.43</td>\n",
              "      <td>31.17</td>\n",
              "      <td>15</td>\n",
              "      <td>2020-07-08 14:03:00.062500096</td>\n",
              "      <td>2.0</td>\n",
              "    </tr>\n",
              "    <tr>\n",
              "      <th>3</th>\n",
              "      <td>-47.0</td>\n",
              "      <td>-65.0</td>\n",
              "      <td>-38.0</td>\n",
              "      <td>6.769995</td>\n",
              "      <td>99.43</td>\n",
              "      <td>31.17</td>\n",
              "      <td>15</td>\n",
              "      <td>2020-07-08 14:03:00.093750016</td>\n",
              "      <td>2.0</td>\n",
              "    </tr>\n",
              "    <tr>\n",
              "      <th>4</th>\n",
              "      <td>-67.0</td>\n",
              "      <td>-57.0</td>\n",
              "      <td>-53.0</td>\n",
              "      <td>6.769995</td>\n",
              "      <td>99.43</td>\n",
              "      <td>31.17</td>\n",
              "      <td>15</td>\n",
              "      <td>2020-07-08 14:03:00.124999936</td>\n",
              "      <td>2.0</td>\n",
              "    </tr>\n",
              "    <tr>\n",
              "      <th>...</th>\n",
              "      <td>...</td>\n",
              "      <td>...</td>\n",
              "      <td>...</td>\n",
              "      <td>...</td>\n",
              "      <td>...</td>\n",
              "      <td>...</td>\n",
              "      <td>...</td>\n",
              "      <td>...</td>\n",
              "      <td>...</td>\n",
              "    </tr>\n",
              "    <tr>\n",
              "      <th>11509046</th>\n",
              "      <td>-16.0</td>\n",
              "      <td>-56.0</td>\n",
              "      <td>24.0</td>\n",
              "      <td>3.386070</td>\n",
              "      <td>88.37</td>\n",
              "      <td>33.77</td>\n",
              "      <td>F5</td>\n",
              "      <td>2020-07-23 17:28:59.875000064</td>\n",
              "      <td>2.0</td>\n",
              "    </tr>\n",
              "    <tr>\n",
              "      <th>11509047</th>\n",
              "      <td>-8.0</td>\n",
              "      <td>-50.0</td>\n",
              "      <td>27.0</td>\n",
              "      <td>3.386070</td>\n",
              "      <td>88.37</td>\n",
              "      <td>33.77</td>\n",
              "      <td>F5</td>\n",
              "      <td>2020-07-23 17:28:59.906249984</td>\n",
              "      <td>2.0</td>\n",
              "    </tr>\n",
              "    <tr>\n",
              "      <th>11509048</th>\n",
              "      <td>-28.0</td>\n",
              "      <td>-36.0</td>\n",
              "      <td>28.0</td>\n",
              "      <td>3.386070</td>\n",
              "      <td>88.37</td>\n",
              "      <td>33.77</td>\n",
              "      <td>F5</td>\n",
              "      <td>2020-07-23 17:28:59.937499904</td>\n",
              "      <td>2.0</td>\n",
              "    </tr>\n",
              "    <tr>\n",
              "      <th>11509049</th>\n",
              "      <td>-29.0</td>\n",
              "      <td>-29.0</td>\n",
              "      <td>30.0</td>\n",
              "      <td>3.386070</td>\n",
              "      <td>88.37</td>\n",
              "      <td>33.77</td>\n",
              "      <td>F5</td>\n",
              "      <td>2020-07-23 17:28:59.968750080</td>\n",
              "      <td>2.0</td>\n",
              "    </tr>\n",
              "    <tr>\n",
              "      <th>11509050</th>\n",
              "      <td>-22.0</td>\n",
              "      <td>-24.0</td>\n",
              "      <td>29.0</td>\n",
              "      <td>3.374543</td>\n",
              "      <td>88.33</td>\n",
              "      <td>33.75</td>\n",
              "      <td>F5</td>\n",
              "      <td>2020-07-23 17:29:00.000000000</td>\n",
              "      <td>2.0</td>\n",
              "    </tr>\n",
              "  </tbody>\n",
              "</table>\n",
              "<p>11509051 rows × 9 columns</p>\n",
              "</div>\n",
              "    <div class=\"colab-df-buttons\">\n",
              "\n",
              "  <div class=\"colab-df-container\">\n",
              "    <button class=\"colab-df-convert\" onclick=\"convertToInteractive('df-404cac08-87e2-4413-82a0-c729581b9a2b')\"\n",
              "            title=\"Convert this dataframe to an interactive table.\"\n",
              "            style=\"display:none;\">\n",
              "\n",
              "  <svg xmlns=\"http://www.w3.org/2000/svg\" height=\"24px\" viewBox=\"0 -960 960 960\">\n",
              "    <path d=\"M120-120v-720h720v720H120Zm60-500h600v-160H180v160Zm220 220h160v-160H400v160Zm0 220h160v-160H400v160ZM180-400h160v-160H180v160Zm440 0h160v-160H620v160ZM180-180h160v-160H180v160Zm440 0h160v-160H620v160Z\"/>\n",
              "  </svg>\n",
              "    </button>\n",
              "\n",
              "  <style>\n",
              "    .colab-df-container {\n",
              "      display:flex;\n",
              "      gap: 12px;\n",
              "    }\n",
              "\n",
              "    .colab-df-convert {\n",
              "      background-color: #E8F0FE;\n",
              "      border: none;\n",
              "      border-radius: 50%;\n",
              "      cursor: pointer;\n",
              "      display: none;\n",
              "      fill: #1967D2;\n",
              "      height: 32px;\n",
              "      padding: 0 0 0 0;\n",
              "      width: 32px;\n",
              "    }\n",
              "\n",
              "    .colab-df-convert:hover {\n",
              "      background-color: #E2EBFA;\n",
              "      box-shadow: 0px 1px 2px rgba(60, 64, 67, 0.3), 0px 1px 3px 1px rgba(60, 64, 67, 0.15);\n",
              "      fill: #174EA6;\n",
              "    }\n",
              "\n",
              "    .colab-df-buttons div {\n",
              "      margin-bottom: 4px;\n",
              "    }\n",
              "\n",
              "    [theme=dark] .colab-df-convert {\n",
              "      background-color: #3B4455;\n",
              "      fill: #D2E3FC;\n",
              "    }\n",
              "\n",
              "    [theme=dark] .colab-df-convert:hover {\n",
              "      background-color: #434B5C;\n",
              "      box-shadow: 0px 1px 3px 1px rgba(0, 0, 0, 0.15);\n",
              "      filter: drop-shadow(0px 1px 2px rgba(0, 0, 0, 0.3));\n",
              "      fill: #FFFFFF;\n",
              "    }\n",
              "  </style>\n",
              "\n",
              "    <script>\n",
              "      const buttonEl =\n",
              "        document.querySelector('#df-404cac08-87e2-4413-82a0-c729581b9a2b button.colab-df-convert');\n",
              "      buttonEl.style.display =\n",
              "        google.colab.kernel.accessAllowed ? 'block' : 'none';\n",
              "\n",
              "      async function convertToInteractive(key) {\n",
              "        const element = document.querySelector('#df-404cac08-87e2-4413-82a0-c729581b9a2b');\n",
              "        const dataTable =\n",
              "          await google.colab.kernel.invokeFunction('convertToInteractive',\n",
              "                                                    [key], {});\n",
              "        if (!dataTable) return;\n",
              "\n",
              "        const docLinkHtml = 'Like what you see? Visit the ' +\n",
              "          '<a target=\"_blank\" href=https://colab.research.google.com/notebooks/data_table.ipynb>data table notebook</a>'\n",
              "          + ' to learn more about interactive tables.';\n",
              "        element.innerHTML = '';\n",
              "        dataTable['output_type'] = 'display_data';\n",
              "        await google.colab.output.renderOutput(dataTable, element);\n",
              "        const docLink = document.createElement('div');\n",
              "        docLink.innerHTML = docLinkHtml;\n",
              "        element.appendChild(docLink);\n",
              "      }\n",
              "    </script>\n",
              "  </div>\n",
              "\n",
              "\n",
              "<div id=\"df-864600b2-7e2a-459a-b948-9c8db13bd6d8\">\n",
              "  <button class=\"colab-df-quickchart\" onclick=\"quickchart('df-864600b2-7e2a-459a-b948-9c8db13bd6d8')\"\n",
              "            title=\"Suggest charts\"\n",
              "            style=\"display:none;\">\n",
              "\n",
              "<svg xmlns=\"http://www.w3.org/2000/svg\" height=\"24px\"viewBox=\"0 0 24 24\"\n",
              "     width=\"24px\">\n",
              "    <g>\n",
              "        <path d=\"M19 3H5c-1.1 0-2 .9-2 2v14c0 1.1.9 2 2 2h14c1.1 0 2-.9 2-2V5c0-1.1-.9-2-2-2zM9 17H7v-7h2v7zm4 0h-2V7h2v10zm4 0h-2v-4h2v4z\"/>\n",
              "    </g>\n",
              "</svg>\n",
              "  </button>\n",
              "\n",
              "<style>\n",
              "  .colab-df-quickchart {\n",
              "      --bg-color: #E8F0FE;\n",
              "      --fill-color: #1967D2;\n",
              "      --hover-bg-color: #E2EBFA;\n",
              "      --hover-fill-color: #174EA6;\n",
              "      --disabled-fill-color: #AAA;\n",
              "      --disabled-bg-color: #DDD;\n",
              "  }\n",
              "\n",
              "  [theme=dark] .colab-df-quickchart {\n",
              "      --bg-color: #3B4455;\n",
              "      --fill-color: #D2E3FC;\n",
              "      --hover-bg-color: #434B5C;\n",
              "      --hover-fill-color: #FFFFFF;\n",
              "      --disabled-bg-color: #3B4455;\n",
              "      --disabled-fill-color: #666;\n",
              "  }\n",
              "\n",
              "  .colab-df-quickchart {\n",
              "    background-color: var(--bg-color);\n",
              "    border: none;\n",
              "    border-radius: 50%;\n",
              "    cursor: pointer;\n",
              "    display: none;\n",
              "    fill: var(--fill-color);\n",
              "    height: 32px;\n",
              "    padding: 0;\n",
              "    width: 32px;\n",
              "  }\n",
              "\n",
              "  .colab-df-quickchart:hover {\n",
              "    background-color: var(--hover-bg-color);\n",
              "    box-shadow: 0 1px 2px rgba(60, 64, 67, 0.3), 0 1px 3px 1px rgba(60, 64, 67, 0.15);\n",
              "    fill: var(--button-hover-fill-color);\n",
              "  }\n",
              "\n",
              "  .colab-df-quickchart-complete:disabled,\n",
              "  .colab-df-quickchart-complete:disabled:hover {\n",
              "    background-color: var(--disabled-bg-color);\n",
              "    fill: var(--disabled-fill-color);\n",
              "    box-shadow: none;\n",
              "  }\n",
              "\n",
              "  .colab-df-spinner {\n",
              "    border: 2px solid var(--fill-color);\n",
              "    border-color: transparent;\n",
              "    border-bottom-color: var(--fill-color);\n",
              "    animation:\n",
              "      spin 1s steps(1) infinite;\n",
              "  }\n",
              "\n",
              "  @keyframes spin {\n",
              "    0% {\n",
              "      border-color: transparent;\n",
              "      border-bottom-color: var(--fill-color);\n",
              "      border-left-color: var(--fill-color);\n",
              "    }\n",
              "    20% {\n",
              "      border-color: transparent;\n",
              "      border-left-color: var(--fill-color);\n",
              "      border-top-color: var(--fill-color);\n",
              "    }\n",
              "    30% {\n",
              "      border-color: transparent;\n",
              "      border-left-color: var(--fill-color);\n",
              "      border-top-color: var(--fill-color);\n",
              "      border-right-color: var(--fill-color);\n",
              "    }\n",
              "    40% {\n",
              "      border-color: transparent;\n",
              "      border-right-color: var(--fill-color);\n",
              "      border-top-color: var(--fill-color);\n",
              "    }\n",
              "    60% {\n",
              "      border-color: transparent;\n",
              "      border-right-color: var(--fill-color);\n",
              "    }\n",
              "    80% {\n",
              "      border-color: transparent;\n",
              "      border-right-color: var(--fill-color);\n",
              "      border-bottom-color: var(--fill-color);\n",
              "    }\n",
              "    90% {\n",
              "      border-color: transparent;\n",
              "      border-bottom-color: var(--fill-color);\n",
              "    }\n",
              "  }\n",
              "</style>\n",
              "\n",
              "  <script>\n",
              "    async function quickchart(key) {\n",
              "      const quickchartButtonEl =\n",
              "        document.querySelector('#' + key + ' button');\n",
              "      quickchartButtonEl.disabled = true;  // To prevent multiple clicks.\n",
              "      quickchartButtonEl.classList.add('colab-df-spinner');\n",
              "      try {\n",
              "        const charts = await google.colab.kernel.invokeFunction(\n",
              "            'suggestCharts', [key], {});\n",
              "      } catch (error) {\n",
              "        console.error('Error during call to suggestCharts:', error);\n",
              "      }\n",
              "      quickchartButtonEl.classList.remove('colab-df-spinner');\n",
              "      quickchartButtonEl.classList.add('colab-df-quickchart-complete');\n",
              "    }\n",
              "    (() => {\n",
              "      let quickchartButtonEl =\n",
              "        document.querySelector('#df-864600b2-7e2a-459a-b948-9c8db13bd6d8 button');\n",
              "      quickchartButtonEl.style.display =\n",
              "        google.colab.kernel.accessAllowed ? 'block' : 'none';\n",
              "    })();\n",
              "  </script>\n",
              "</div>\n",
              "\n",
              "  <div id=\"id_b46eed3d-9684-4c97-938b-9854c6bfd2eb\">\n",
              "    <style>\n",
              "      .colab-df-generate {\n",
              "        background-color: #E8F0FE;\n",
              "        border: none;\n",
              "        border-radius: 50%;\n",
              "        cursor: pointer;\n",
              "        display: none;\n",
              "        fill: #1967D2;\n",
              "        height: 32px;\n",
              "        padding: 0 0 0 0;\n",
              "        width: 32px;\n",
              "      }\n",
              "\n",
              "      .colab-df-generate:hover {\n",
              "        background-color: #E2EBFA;\n",
              "        box-shadow: 0px 1px 2px rgba(60, 64, 67, 0.3), 0px 1px 3px 1px rgba(60, 64, 67, 0.15);\n",
              "        fill: #174EA6;\n",
              "      }\n",
              "\n",
              "      [theme=dark] .colab-df-generate {\n",
              "        background-color: #3B4455;\n",
              "        fill: #D2E3FC;\n",
              "      }\n",
              "\n",
              "      [theme=dark] .colab-df-generate:hover {\n",
              "        background-color: #434B5C;\n",
              "        box-shadow: 0px 1px 3px 1px rgba(0, 0, 0, 0.15);\n",
              "        filter: drop-shadow(0px 1px 2px rgba(0, 0, 0, 0.3));\n",
              "        fill: #FFFFFF;\n",
              "      }\n",
              "    </style>\n",
              "    <button class=\"colab-df-generate\" onclick=\"generateWithVariable('df')\"\n",
              "            title=\"Generate code using this dataframe.\"\n",
              "            style=\"display:none;\">\n",
              "\n",
              "  <svg xmlns=\"http://www.w3.org/2000/svg\" height=\"24px\"viewBox=\"0 0 24 24\"\n",
              "       width=\"24px\">\n",
              "    <path d=\"M7,19H8.4L18.45,9,17,7.55,7,17.6ZM5,21V16.75L18.45,3.32a2,2,0,0,1,2.83,0l1.4,1.43a1.91,1.91,0,0,1,.58,1.4,1.91,1.91,0,0,1-.58,1.4L9.25,21ZM18.45,9,17,7.55Zm-12,3A5.31,5.31,0,0,0,4.9,8.1,5.31,5.31,0,0,0,1,6.5,5.31,5.31,0,0,0,4.9,4.9,5.31,5.31,0,0,0,6.5,1,5.31,5.31,0,0,0,8.1,4.9,5.31,5.31,0,0,0,12,6.5,5.46,5.46,0,0,0,6.5,12Z\"/>\n",
              "  </svg>\n",
              "    </button>\n",
              "    <script>\n",
              "      (() => {\n",
              "      const buttonEl =\n",
              "        document.querySelector('#id_b46eed3d-9684-4c97-938b-9854c6bfd2eb button.colab-df-generate');\n",
              "      buttonEl.style.display =\n",
              "        google.colab.kernel.accessAllowed ? 'block' : 'none';\n",
              "\n",
              "      buttonEl.onclick = () => {\n",
              "        google.colab.notebook.generateWithVariable('df');\n",
              "      }\n",
              "      })();\n",
              "    </script>\n",
              "  </div>\n",
              "\n",
              "    </div>\n",
              "  </div>\n"
            ],
            "application/vnd.google.colaboratory.intrinsic+json": {
              "type": "dataframe",
              "variable_name": "df"
            }
          },
          "metadata": {},
          "execution_count": 4
        }
      ]
    },
    {
      "cell_type": "code",
      "source": [
        "\n",
        "# Remove duplicates and handle missing values\n",
        "df.drop_duplicates(inplace=True)\n",
        "df.dropna(inplace=True)"
      ],
      "metadata": {
        "id": "ejbhec_QKApo"
      },
      "execution_count": 5,
      "outputs": []
    },
    {
      "cell_type": "code",
      "source": [
        "# Extract datetime features\n",
        "df['month'] = df['datetime'].dt.month\n",
        "df['day'] = df['datetime'].dt.day\n",
        "df['hour'] = df['datetime'].dt.hour\n",
        "df['minute'] = df['datetime'].dt.minute\n",
        "df['second'] = df['datetime'].dt.second"
      ],
      "metadata": {
        "id": "bsFMBUeeKApo"
      },
      "execution_count": 6,
      "outputs": []
    },
    {
      "cell_type": "code",
      "source": [
        "# Drop unnecessary columns\n",
        "df.drop(['datetime', 'id'], axis=1, inplace=True)"
      ],
      "metadata": {
        "id": "-a_oCkx0KApp"
      },
      "execution_count": 7,
      "outputs": []
    },
    {
      "cell_type": "code",
      "source": [
        "# Separate features and target\n",
        "X = df.drop('label', axis=1)\n",
        "y = df['label']"
      ],
      "metadata": {
        "id": "YkRmg1l4KApq"
      },
      "execution_count": 8,
      "outputs": []
    },
    {
      "cell_type": "code",
      "source": [
        "# Sample a subset of the data for initial training (e.g., 1% of the data)\n",
        "sample_frac = 0.01\n",
        "X_sampled, _, y_sampled, _ = train_test_split(X, y, test_size=1-sample_frac, stratify=y, random_state=42)\n"
      ],
      "metadata": {
        "id": "SK0n-YGHKApr"
      },
      "execution_count": 9,
      "outputs": []
    },
    {
      "cell_type": "code",
      "source": [
        "# Handle imbalanced data\n",
        "over_sample = RandomOverSampler(random_state=42)\n",
        "X_sampled, y_sampled = over_sample.fit_resample(X_sampled, y_sampled)\n"
      ],
      "metadata": {
        "id": "hbYdBrUeKAps"
      },
      "execution_count": 10,
      "outputs": []
    },
    {
      "cell_type": "code",
      "source": [
        "# Split the sampled dataset into training, validation, and testing sets\n",
        "X_train, X_temp, y_train, y_temp = train_test_split(X_sampled, y_sampled, test_size=0.2, random_state=42)\n",
        "X_val, X_test, y_val, y_test = train_test_split(X_temp, y_temp, test_size=0.5, random_state=42)\n"
      ],
      "metadata": {
        "id": "UGPxV_o5KAps"
      },
      "execution_count": 11,
      "outputs": []
    },
    {
      "cell_type": "code",
      "source": [
        "# Scale the features\n",
        "scaler = RobustScaler()\n",
        "X_train = scaler.fit_transform(X_train)\n",
        "X_val = scaler.transform(X_val)\n",
        "X_test = scaler.transform(X_test)\n"
      ],
      "metadata": {
        "id": "EbBawjtNKApt"
      },
      "execution_count": 12,
      "outputs": []
    },
    {
      "cell_type": "code",
      "source": [
        "# Set up the strategy for TPU/CPU/GPU\n",
        "try:\n",
        "    tpu = tf.distribute.cluster_resolver.TPUClusterResolver()  # TPU detection\n",
        "    tf.config.experimental_connect_to_cluster(tpu)\n",
        "    tf.tpu.experimental.initialize_tpu_system(tpu)\n",
        "    strategy = tf.distribute.TPUStrategy(tpu)\n",
        "except ValueError:\n",
        "    strategy = tf.distribute.get_strategy()  # Default strategy for CPU and GPU\n"
      ],
      "metadata": {
        "id": "LGolj2y2KApt"
      },
      "execution_count": 13,
      "outputs": []
    },
    {
      "cell_type": "code",
      "source": [
        "# Build the model inside the strategy scope\n",
        "with strategy.scope():\n",
        "    model = Sequential([\n",
        "        Input(shape=(X_train.shape[1],)),\n",
        "        Dense(128, activation='relu'),\n",
        "        Dropout(0.5),\n",
        "        Dense(64, activation='relu'),\n",
        "        Dropout(0.5),\n",
        "        Dense(32, activation='relu'),\n",
        "        Dense(3, activation='softmax')  # Adjust the output layer according to your number of classes\n",
        "    ])\n"
      ],
      "metadata": {
        "id": "BtdgLwcsKApu"
      },
      "execution_count": 14,
      "outputs": []
    },
    {
      "cell_type": "code",
      "source": [
        " model.compile(optimizer='adam', loss='sparse_categorical_crossentropy', metrics=['accuracy'])\n"
      ],
      "metadata": {
        "id": "h_73wpTpKApu"
      },
      "execution_count": 15,
      "outputs": []
    },
    {
      "cell_type": "code",
      "source": [
        "# Set up callbacks\n",
        "early_stopping = EarlyStopping(monitor='val_loss', patience=10, restore_best_weights=True)\n",
        "checkpoint = ModelCheckpoint('best_model.keras', save_best_only=True, monitor='val_loss', mode='min')\n"
      ],
      "metadata": {
        "id": "qEP6jXDeKApu"
      },
      "execution_count": 16,
      "outputs": []
    },
    {
      "cell_type": "code",
      "source": [
        "# Train the model\n",
        "history = model.fit(X_train, y_train, epochs=50, validation_data=(X_val, y_val), callbacks=[early_stopping, checkpoint])\n"
      ],
      "metadata": {
        "id": "SXtPxh_2KApu",
        "outputId": "57198710-0523-4081-9240-f52a837488da",
        "colab": {
          "base_uri": "https://localhost:8080/"
        }
      },
      "execution_count": 17,
      "outputs": [
        {
          "output_type": "stream",
          "name": "stdout",
          "text": [
            "Epoch 1/50\n",
            "6351/6351 [==============================] - 26s 4ms/step - loss: 0.5252 - accuracy: 0.7647 - val_loss: 0.2672 - val_accuracy: 0.8954\n",
            "Epoch 2/50\n",
            "6351/6351 [==============================] - 18s 3ms/step - loss: 0.3042 - accuracy: 0.8796 - val_loss: 0.1801 - val_accuracy: 0.9342\n",
            "Epoch 3/50\n",
            "6351/6351 [==============================] - 22s 3ms/step - loss: 0.2541 - accuracy: 0.9026 - val_loss: 0.1565 - val_accuracy: 0.9462\n",
            "Epoch 4/50\n",
            "6351/6351 [==============================] - 20s 3ms/step - loss: 0.2308 - accuracy: 0.9119 - val_loss: 0.1322 - val_accuracy: 0.9529\n",
            "Epoch 5/50\n",
            "6351/6351 [==============================] - 21s 3ms/step - loss: 0.2135 - accuracy: 0.9190 - val_loss: 0.1131 - val_accuracy: 0.9583\n",
            "Epoch 6/50\n",
            "6351/6351 [==============================] - 19s 3ms/step - loss: 0.2015 - accuracy: 0.9219 - val_loss: 0.1106 - val_accuracy: 0.9558\n",
            "Epoch 7/50\n",
            "6351/6351 [==============================] - 21s 3ms/step - loss: 0.1934 - accuracy: 0.9251 - val_loss: 0.0995 - val_accuracy: 0.9598\n",
            "Epoch 8/50\n",
            "6351/6351 [==============================] - 20s 3ms/step - loss: 0.1856 - accuracy: 0.9286 - val_loss: 0.0935 - val_accuracy: 0.9632\n",
            "Epoch 9/50\n",
            "6351/6351 [==============================] - 18s 3ms/step - loss: 0.1787 - accuracy: 0.9310 - val_loss: 0.0882 - val_accuracy: 0.9650\n",
            "Epoch 10/50\n",
            "6351/6351 [==============================] - 20s 3ms/step - loss: 0.1734 - accuracy: 0.9322 - val_loss: 0.0858 - val_accuracy: 0.9688\n",
            "Epoch 11/50\n",
            "6351/6351 [==============================] - 18s 3ms/step - loss: 0.1684 - accuracy: 0.9350 - val_loss: 0.0844 - val_accuracy: 0.9686\n",
            "Epoch 12/50\n",
            "6351/6351 [==============================] - 18s 3ms/step - loss: 0.1640 - accuracy: 0.9366 - val_loss: 0.0736 - val_accuracy: 0.9717\n",
            "Epoch 13/50\n",
            "6351/6351 [==============================] - 19s 3ms/step - loss: 0.1644 - accuracy: 0.9367 - val_loss: 0.0766 - val_accuracy: 0.9707\n",
            "Epoch 14/50\n",
            "6351/6351 [==============================] - 18s 3ms/step - loss: 0.1581 - accuracy: 0.9388 - val_loss: 0.0662 - val_accuracy: 0.9773\n",
            "Epoch 15/50\n",
            "6351/6351 [==============================] - 18s 3ms/step - loss: 0.1568 - accuracy: 0.9397 - val_loss: 0.0676 - val_accuracy: 0.9733\n",
            "Epoch 16/50\n",
            "6351/6351 [==============================] - 19s 3ms/step - loss: 0.1540 - accuracy: 0.9411 - val_loss: 0.0664 - val_accuracy: 0.9761\n",
            "Epoch 17/50\n",
            "6351/6351 [==============================] - 18s 3ms/step - loss: 0.1510 - accuracy: 0.9419 - val_loss: 0.0625 - val_accuracy: 0.9805\n",
            "Epoch 18/50\n",
            "6351/6351 [==============================] - 18s 3ms/step - loss: 0.1522 - accuracy: 0.9414 - val_loss: 0.0612 - val_accuracy: 0.9790\n",
            "Epoch 19/50\n",
            "6351/6351 [==============================] - 23s 4ms/step - loss: 0.1473 - accuracy: 0.9431 - val_loss: 0.0595 - val_accuracy: 0.9805\n",
            "Epoch 20/50\n",
            "6351/6351 [==============================] - 20s 3ms/step - loss: 0.1484 - accuracy: 0.9434 - val_loss: 0.0588 - val_accuracy: 0.9821\n",
            "Epoch 21/50\n",
            "6351/6351 [==============================] - 19s 3ms/step - loss: 0.1440 - accuracy: 0.9451 - val_loss: 0.0566 - val_accuracy: 0.9811\n",
            "Epoch 22/50\n",
            "6351/6351 [==============================] - 20s 3ms/step - loss: 0.1439 - accuracy: 0.9453 - val_loss: 0.0624 - val_accuracy: 0.9787\n",
            "Epoch 23/50\n",
            "6351/6351 [==============================] - 18s 3ms/step - loss: 0.1416 - accuracy: 0.9468 - val_loss: 0.0550 - val_accuracy: 0.9816\n",
            "Epoch 24/50\n",
            "6351/6351 [==============================] - 20s 3ms/step - loss: 0.1418 - accuracy: 0.9468 - val_loss: 0.0551 - val_accuracy: 0.9828\n",
            "Epoch 25/50\n",
            "6351/6351 [==============================] - 18s 3ms/step - loss: 0.1371 - accuracy: 0.9482 - val_loss: 0.0535 - val_accuracy: 0.9806\n",
            "Epoch 26/50\n",
            "6351/6351 [==============================] - 18s 3ms/step - loss: 0.1403 - accuracy: 0.9472 - val_loss: 0.0541 - val_accuracy: 0.9834\n",
            "Epoch 27/50\n",
            "6351/6351 [==============================] - 20s 3ms/step - loss: 0.1374 - accuracy: 0.9482 - val_loss: 0.0533 - val_accuracy: 0.9829\n",
            "Epoch 28/50\n",
            "6351/6351 [==============================] - 19s 3ms/step - loss: 0.1359 - accuracy: 0.9489 - val_loss: 0.0542 - val_accuracy: 0.9824\n",
            "Epoch 29/50\n",
            "6351/6351 [==============================] - 20s 3ms/step - loss: 0.1335 - accuracy: 0.9500 - val_loss: 0.0476 - val_accuracy: 0.9855\n",
            "Epoch 30/50\n",
            "6351/6351 [==============================] - 20s 3ms/step - loss: 0.1343 - accuracy: 0.9497 - val_loss: 0.0495 - val_accuracy: 0.9859\n",
            "Epoch 31/50\n",
            "6351/6351 [==============================] - 20s 3ms/step - loss: 0.1325 - accuracy: 0.9509 - val_loss: 0.0525 - val_accuracy: 0.9836\n",
            "Epoch 32/50\n",
            "6351/6351 [==============================] - 18s 3ms/step - loss: 0.1329 - accuracy: 0.9505 - val_loss: 0.0435 - val_accuracy: 0.9889\n",
            "Epoch 33/50\n",
            "6351/6351 [==============================] - 18s 3ms/step - loss: 0.1318 - accuracy: 0.9505 - val_loss: 0.0470 - val_accuracy: 0.9845\n",
            "Epoch 34/50\n",
            "6351/6351 [==============================] - 19s 3ms/step - loss: 0.1298 - accuracy: 0.9512 - val_loss: 0.0465 - val_accuracy: 0.9854\n",
            "Epoch 35/50\n",
            "6351/6351 [==============================] - 19s 3ms/step - loss: 0.1295 - accuracy: 0.9517 - val_loss: 0.0464 - val_accuracy: 0.9874\n",
            "Epoch 36/50\n",
            "6351/6351 [==============================] - 22s 4ms/step - loss: 0.1311 - accuracy: 0.9509 - val_loss: 0.0447 - val_accuracy: 0.9865\n",
            "Epoch 37/50\n",
            "6351/6351 [==============================] - 21s 3ms/step - loss: 0.1283 - accuracy: 0.9521 - val_loss: 0.0509 - val_accuracy: 0.9856\n",
            "Epoch 38/50\n",
            "6351/6351 [==============================] - 21s 3ms/step - loss: 0.1285 - accuracy: 0.9521 - val_loss: 0.0430 - val_accuracy: 0.9869\n",
            "Epoch 39/50\n",
            "6351/6351 [==============================] - 19s 3ms/step - loss: 0.1272 - accuracy: 0.9526 - val_loss: 0.0422 - val_accuracy: 0.9880\n",
            "Epoch 40/50\n",
            "6351/6351 [==============================] - 19s 3ms/step - loss: 0.1283 - accuracy: 0.9527 - val_loss: 0.0415 - val_accuracy: 0.9877\n",
            "Epoch 41/50\n",
            "6351/6351 [==============================] - 23s 4ms/step - loss: 0.1270 - accuracy: 0.9531 - val_loss: 0.0410 - val_accuracy: 0.9887\n",
            "Epoch 42/50\n",
            "6351/6351 [==============================] - 19s 3ms/step - loss: 0.1254 - accuracy: 0.9537 - val_loss: 0.0440 - val_accuracy: 0.9871\n",
            "Epoch 43/50\n",
            "6351/6351 [==============================] - 21s 3ms/step - loss: 0.1249 - accuracy: 0.9536 - val_loss: 0.0387 - val_accuracy: 0.9892\n",
            "Epoch 44/50\n",
            "6351/6351 [==============================] - 19s 3ms/step - loss: 0.1244 - accuracy: 0.9543 - val_loss: 0.0420 - val_accuracy: 0.9872\n",
            "Epoch 45/50\n",
            "6351/6351 [==============================] - 19s 3ms/step - loss: 0.1245 - accuracy: 0.9537 - val_loss: 0.0428 - val_accuracy: 0.9869\n",
            "Epoch 46/50\n",
            "6351/6351 [==============================] - 18s 3ms/step - loss: 0.1232 - accuracy: 0.9545 - val_loss: 0.0456 - val_accuracy: 0.9865\n",
            "Epoch 47/50\n",
            "6351/6351 [==============================] - 18s 3ms/step - loss: 0.1221 - accuracy: 0.9552 - val_loss: 0.0403 - val_accuracy: 0.9881\n",
            "Epoch 48/50\n",
            "6351/6351 [==============================] - 20s 3ms/step - loss: 0.1214 - accuracy: 0.9558 - val_loss: 0.0392 - val_accuracy: 0.9886\n",
            "Epoch 49/50\n",
            "6351/6351 [==============================] - 19s 3ms/step - loss: 0.1215 - accuracy: 0.9555 - val_loss: 0.0383 - val_accuracy: 0.9886\n",
            "Epoch 50/50\n",
            "6351/6351 [==============================] - 23s 4ms/step - loss: 0.1211 - accuracy: 0.9556 - val_loss: 0.0388 - val_accuracy: 0.9878\n"
          ]
        }
      ]
    },
    {
      "cell_type": "code",
      "source": [
        "# Evaluate the model\n",
        "loss, accuracy = model.evaluate(X_test, y_test)\n",
        "print(f'Test Loss: {loss}, Test Accuracy: {accuracy}')\n"
      ],
      "metadata": {
        "id": "qchY3E7ZKApv",
        "outputId": "171c107d-f4f9-4c01-bfaf-1a4f4989c1bf",
        "colab": {
          "base_uri": "https://localhost:8080/"
        }
      },
      "execution_count": 18,
      "outputs": [
        {
          "output_type": "stream",
          "name": "stdout",
          "text": [
            "794/794 [==============================] - 2s 3ms/step - loss: 0.0392 - accuracy: 0.9878\n",
            "Test Loss: 0.039150968194007874, Test Accuracy: 0.9877967238426208\n"
          ]
        }
      ]
    },
    {
      "cell_type": "code",
      "source": [
        "# Predictions\n",
        "y_pred = model.predict(X_test)\n",
        "y_pred_classes = np.argmax(y_pred, axis=1)\n"
      ],
      "metadata": {
        "id": "-rBpjCZrKApv",
        "outputId": "20b118ee-34d9-463e-c85c-48b3621f42b8",
        "colab": {
          "base_uri": "https://localhost:8080/"
        }
      },
      "execution_count": 19,
      "outputs": [
        {
          "output_type": "stream",
          "name": "stdout",
          "text": [
            "794/794 [==============================] - 2s 2ms/step\n"
          ]
        }
      ]
    },
    {
      "cell_type": "code",
      "source": [
        "# Classification report\n",
        "print(classification_report(y_test, y_pred_classes))\n"
      ],
      "metadata": {
        "id": "o3pKwVtoKApv",
        "outputId": "75e5e216-4afd-4a30-bfc4-aef0f4e4137a",
        "colab": {
          "base_uri": "https://localhost:8080/"
        }
      },
      "execution_count": 20,
      "outputs": [
        {
          "output_type": "stream",
          "name": "stdout",
          "text": [
            "              precision    recall  f1-score   support\n",
            "\n",
            "         0.0       0.98      0.99      0.98      8522\n",
            "         1.0       0.99      1.00      1.00      8391\n",
            "         2.0       0.99      0.97      0.98      8490\n",
            "\n",
            "    accuracy                           0.99     25403\n",
            "   macro avg       0.99      0.99      0.99     25403\n",
            "weighted avg       0.99      0.99      0.99     25403\n",
            "\n"
          ]
        }
      ]
    },
    {
      "cell_type": "code",
      "source": [
        "# Confusion matrix\n",
        "cm = confusion_matrix(y_test, y_pred_classes)\n",
        "sns.heatmap(cm, annot=True, fmt='d', cmap='viridis')\n",
        "plt.title('Confusion Matrix')\n",
        "plt.xlabel('Predicted Label')\n",
        "plt.ylabel('True Label')\n",
        "plt.show()"
      ],
      "metadata": {
        "id": "ARkyYml2KApv",
        "outputId": "449c2f39-3ca9-4510-af33-09f9fddd9a9f",
        "colab": {
          "base_uri": "https://localhost:8080/",
          "height": 472
        }
      },
      "execution_count": 22,
      "outputs": [
        {
          "output_type": "display_data",
          "data": {
            "text/plain": [
              "<Figure size 640x480 with 2 Axes>"
            ],
            "image/png": "[encoded data removed]"
          },
          "metadata": {}
        }
      ]
    },
    {
      "cell_type": "code",
      "source": [
        "# Plot training history\n",
        "plt.figure(figsize=(12, 4))\n",
        "plt.subplot(1, 2, 1)\n",
        "plt.plot(history.history['accuracy'], label='Train Accuracy')\n",
        "plt.plot(history.history['val_accuracy'], label='Validation Accuracy')\n",
        "plt.title('Model Accuracy')\n",
        "plt.xlabel('Epochs')\n",
        "plt.ylabel('Accuracy')\n",
        "plt.legend()\n",
        "plt.subplot(1, 2, 2)\n",
        "plt.plot(history.history['loss'], label='Train Loss')\n",
        "plt.plot(history.history['val_loss'], label='Validation Loss')\n",
        "plt.title('Model Loss')\n",
        "plt.xlabel('Epochs')\n",
        "plt.ylabel('Loss')\n",
        "plt.legend()\n",
        "plt.show()"
      ],
      "metadata": {
        "id": "ZIxNoNN7KApv",
        "outputId": "dea47931-b070-4355-9cd4-a7aaf7e89adc",
        "colab": {
          "base_uri": "https://localhost:8080/",
          "height": 410
        }
      },
      "execution_count": 23,
      "outputs": [
        {
          "output_type": "display_data",
          "data": {
            "text/plain": [
              "<Figure size 1200x400 with 2 Axes>"
            ],
            "image/png": "[encoded data removed]"
          },
          "metadata": {}
        }
      ]
    }
  ]
}