{
  "metadata": {
    "kernelspec": {
      "display_name": "Python 3",
      "name": "python3"
    },
    "language_info": {
      "name": "python",
      "version": "3.10.13",
      "mimetype": "text/x-python",
      "codemirror_mode": {
        "name": "ipython",
        "version": 3
      },
      "pygments_lexer": "ipython3",
      "nbconvert_exporter": "python",
      "file_extension": ".py"
    },
    "kaggle": {
      "accelerator": "none",
      "dataSources": [
        {
          "sourceId": 7125235,
          "sourceType": "datasetVersion",
          "datasetId": 4110234
        }
      ],
      "dockerImageVersionId": 30732,
      "isInternetEnabled": true,
      "language": "python",
      "sourceType": "notebook",
      "isGpuEnabled": false
    },
    "colab": {
      "name": "Nurse prediction deep leraning model small dataset",
      "provenance": [],
      "gpuType": "T4",
      "include_colab_link": true
    },
    "accelerator": "GPU"
  },
  "nbformat_minor": 0,
  "nbformat": 4,
  "cells": [
    {
      "cell_type": "markdown",
      "metadata": {
        "id": "view-in-github",
        "colab_type": "text"
      },
      "source": [
        "<a href=\"https://colab.research.google.com/github/HumaSatti/Depression-Detection-By-ML-Deep-Learning-Model/blob/main/Nurse_prediction_deep_leraning_model_small_dataset.ipynb\" target=\"_parent\"><img src=\"https://colab.research.google.com/assets/colab-badge.svg\" alt=\"Open In Colab\"/></a>"
      ]
    },
    {
      "source": [
        "\n",
        "# IMPORTANT: RUN THIS CELL IN ORDER TO IMPORT YOUR KAGGLE DATA SOURCES\n",
        "# TO THE CORRECT LOCATION (/kaggle/input) IN YOUR NOTEBOOK,\n",
        "# THEN FEEL FREE TO DELETE THIS CELL.\n",
        "# NOTE: THIS NOTEBOOK ENVIRONMENT DIFFERS FROM KAGGLE'S PYTHON\n",
        "# ENVIRONMENT SO THERE MAY BE MISSING LIBRARIES USED BY YOUR\n",
        "# NOTEBOOK.\n",
        "\n",
        "import os\n",
        "import sys\n",
        "from tempfile import NamedTemporaryFile\n",
        "from urllib.request import urlopen\n",
        "from urllib.parse import unquote, urlparse\n",
        "from urllib.error import HTTPError\n",
        "from zipfile import ZipFile\n",
        "import tarfile\n",
        "import shutil\n",
        "\n",
        "CHUNK_SIZE = 40960\n",
        "DATA_SOURCE_MAPPING = 'nurse-stress-prediction-wearable-sensors:https%3A%2F%2Fstorage.googleapis.com%2Fkaggle-data-sets%2F4110234%2F7125235%2Fbundle%2Farchive.zip%3FX-Goog-Algorithm%3DGOOG4-RSA-SHA256%26X-Goog-Credential%3Dgcp-kaggle-com%2540kaggle-161607.iam.gserviceaccount.com%252F20240726%252Fauto%252Fstorage%252Fgoog4_request%26X-Goog-Date%3D20240726T160340Z%26X-Goog-Expires%3D259200%26X-Goog-SignedHeaders%3Dhost%26X-Goog-Signature%3D5a9f0aeec430ad7e899cbb618384230876f4fc1b769adcef5b20859174edd0f7e2302599c59322b863fe2071202178a91c5eaa37556c50713ae7c9aaf7aca4094d6b4186a8571625a404340b7eb9c4209b1c8c2719654504db446fef211e1230a145859d3c932b986ec948856e008ed0bf46495c7ee9588fc9dfc88e0a967617bf11c623ead61de6f3c479ef7f7116ed7884bd546ec4cd13646cad9bda216f7ade1739d123e654e3c998fa754f6366fe1e53df577d8c378dcee0a122bbebc3f6cecca203539d08a3db292d962ab8e1fa47b5326c117357625fdadc705836b41399f52150f82a9b19ed488ae0bf97ebd855c868b754bee69d788ba394564593ba'\n",
        "\n",
        "KAGGLE_INPUT_PATH='/kaggle/input'\n",
        "KAGGLE_WORKING_PATH='/kaggle/working'\n",
        "KAGGLE_SYMLINK='kaggle'\n",
        "\n",
        "!umount /kaggle/input/ 2> /dev/null\n",
        "shutil.rmtree('/kaggle/input', ignore_errors=True)\n",
        "os.makedirs(KAGGLE_INPUT_PATH, 0o777, exist_ok=True)\n",
        "os.makedirs(KAGGLE_WORKING_PATH, 0o777, exist_ok=True)\n",
        "\n",
        "try:\n",
        "  os.symlink(KAGGLE_INPUT_PATH, os.path.join(\"..\", 'input'), target_is_directory=True)\n",
        "except FileExistsError:\n",
        "  pass\n",
        "try:\n",
        "  os.symlink(KAGGLE_WORKING_PATH, os.path.join(\"..\", 'working'), target_is_directory=True)\n",
        "except FileExistsError:\n",
        "  pass\n",
        "\n",
        "for data_source_mapping in DATA_SOURCE_MAPPING.split(','):\n",
        "    directory, download_url_encoded = data_source_mapping.split(':')\n",
        "    download_url = unquote(download_url_encoded)\n",
        "    filename = urlparse(download_url).path\n",
        "    destination_path = os.path.join(KAGGLE_INPUT_PATH, directory)\n",
        "    try:\n",
        "        with urlopen(download_url) as fileres, NamedTemporaryFile() as tfile:\n",
        "            total_length = fileres.headers['content-length']\n",
        "            print(f'Downloading {directory}, {total_length} bytes compressed')\n",
        "            dl = 0\n",
        "            data = fileres.read(CHUNK_SIZE)\n",
        "            while len(data) > 0:\n",
        "                dl += len(data)\n",
        "                tfile.write(data)\n",
        "                done = int(50 * dl / int(total_length))\n",
        "                sys.stdout.write(f\"\\r[{'=' * done}{' ' * (50-done)}] {dl} bytes downloaded\")\n",
        "                sys.stdout.flush()\n",
        "                data = fileres.read(CHUNK_SIZE)\n",
        "            if filename.endswith('.zip'):\n",
        "              with ZipFile(tfile) as zfile:\n",
        "                zfile.extractall(destination_path)\n",
        "            else:\n",
        "              with tarfile.open(tfile.name) as tarfile:\n",
        "                tarfile.extractall(destination_path)\n",
        "            print(f'\\nDownloaded and uncompressed: {directory}')\n",
        "    except HTTPError as e:\n",
        "        print(f'Failed to load (likely expired) {download_url} to path {destination_path}')\n",
        "        continue\n",
        "    except OSError as e:\n",
        "        print(f'Failed to load {download_url} to path {destination_path}')\n",
        "        continue\n",
        "\n",
        "print('Data source import complete.')\n"
      ],
      "metadata": {
        "id": "-rV3-zu5yKiy",
        "outputId": "ba270396-7a56-42c5-83a5-113777e7055d",
        "colab": {
          "base_uri": "https://localhost:8080/"
        }
      },
      "cell_type": "code",
      "outputs": [
        {
          "output_type": "stream",
          "name": "stdout",
          "text": [
            "Downloading nurse-stress-prediction-wearable-sensors, 79877492 bytes compressed\n",
            "[==================================================] 79877492 bytes downloaded\n",
            "Downloaded and uncompressed: nurse-stress-prediction-wearable-sensors\n",
            "Data source import complete.\n"
          ]
        }
      ],
      "execution_count": 1
    },
    {
      "cell_type": "code",
      "source": [
        "# This Python 3 environment comes with many helpful analytics libraries installed\n",
        "# It is defined by the kaggle/python Docker image: https://github.com/kaggle/docker-python\n",
        "# For example, here's several helpful packages to load\n",
        "\n",
        "import numpy as np # linear algebra\n",
        "import pandas as pd # data processing, CSV file I/O (e.g. pd.read_csv)\n",
        "\n",
        "# Input data files are available in the read-only \"../input/\" directory\n",
        "# For example, running this (by clicking run or pressing Shift+Enter) will list all files under the input directory\n",
        "\n",
        "import os\n",
        "for dirname, _, filenames in os.walk('/kaggle/input'):\n",
        "    for filename in filenames:\n",
        "        print(os.path.join(dirname, filename))\n",
        "\n",
        "# You can write up to 20GB to the current directory (/kaggle/working/) that gets preserved as output when you create a version using \"Save & Run All\"\n",
        "# You can also write temporary files to /kaggle/temp/, but they won't be saved outside of the current session"
      ],
      "metadata": {
        "_uuid": "8f2839f25d086af736a60e9eeb907d3b93b6e0e5",
        "_cell_guid": "b1076dfc-b9ad-4769-8c92-a6c4dae69d19",
        "execution": {
          "iopub.status.busy": "2024-06-24T16:06:34.039705Z",
          "iopub.execute_input": "2024-06-24T16:06:34.040154Z",
          "iopub.status.idle": "2024-06-24T16:06:34.512304Z",
          "shell.execute_reply.started": "2024-06-24T16:06:34.040115Z",
          "shell.execute_reply": "2024-06-24T16:06:34.510974Z"
        },
        "trusted": true,
        "id": "xqfBPGnKyKi5",
        "outputId": "aca16e87-8cc5-45a8-9c9d-b83ba3436176",
        "colab": {
          "base_uri": "https://localhost:8080/"
        }
      },
      "execution_count": 2,
      "outputs": [
        {
          "output_type": "stream",
          "name": "stdout",
          "text": [
            "/kaggle/input/nurse-stress-prediction-wearable-sensors/merged_data.csv\n"
          ]
        }
      ]
    },
    {
      "cell_type": "code",
      "source": [
        "import seaborn as sns\n",
        "import matplotlib.pyplot as plt\n",
        "from sklearn.model_selection import train_test_split\n",
        "from sklearn.preprocessing import RobustScaler\n",
        "from sklearn.metrics import classification_report, confusion_matrix\n",
        "from imblearn.over_sampling import RandomOverSampler\n",
        "from tensorflow.keras.models import Sequential\n",
        "from tensorflow.keras.layers import Dense, Dropout, Input\n",
        "from tensorflow.keras.callbacks import EarlyStopping, ModelCheckpoint\n",
        "import tensorflow as tf\n",
        "from sklearn.metrics import  accuracy_score, precision_recall_fscore_support"
      ],
      "metadata": {
        "execution": {
          "iopub.status.busy": "2024-06-24T16:06:36.592967Z",
          "iopub.execute_input": "2024-06-24T16:06:36.593552Z",
          "iopub.status.idle": "2024-06-24T16:06:41.384431Z",
          "shell.execute_reply.started": "2024-06-24T16:06:36.593515Z",
          "shell.execute_reply": "2024-06-24T16:06:41.3831Z"
        },
        "trusted": true,
        "id": "4a8C4TD6yKi6"
      },
      "execution_count": 3,
      "outputs": []
    },
    {
      "cell_type": "code",
      "source": [
        "# Load the dataset\n",
        "df = pd.read_csv('/kaggle/input/nurse-stress-prediction-wearable-sensors/merged_data.csv', low_memory=False, parse_dates=['datetime'])\n",
        "df"
      ],
      "metadata": {
        "execution": {
          "iopub.status.busy": "2024-06-24T16:06:47.835372Z",
          "iopub.execute_input": "2024-06-24T16:06:47.836134Z",
          "iopub.status.idle": "2024-06-24T16:07:28.969375Z",
          "shell.execute_reply.started": "2024-06-24T16:06:47.836096Z",
          "shell.execute_reply": "2024-06-24T16:07:28.967943Z"
        },
        "trusted": true,
        "id": "vpdi-Q5pyKi8",
        "outputId": "f52b89d9-359b-44d8-f96c-db9eb3212a86",
        "colab": {
          "base_uri": "https://localhost:8080/",
          "height": 423
        }
      },
      "execution_count": 7,
      "outputs": [
        {
          "output_type": "execute_result",
          "data": {
            "text/plain": [
              "             X     Y     Z       EDA     HR   TEMP  id  \\\n",
              "0        -13.0 -61.0   5.0  6.769995  99.43  31.17  15   \n",
              "1        -20.0 -69.0  -3.0  6.769995  99.43  31.17  15   \n",
              "2        -31.0 -78.0 -15.0  6.769995  99.43  31.17  15   \n",
              "3        -47.0 -65.0 -38.0  6.769995  99.43  31.17  15   \n",
              "4        -67.0 -57.0 -53.0  6.769995  99.43  31.17  15   \n",
              "...        ...   ...   ...       ...    ...    ...  ..   \n",
              "11509046 -16.0 -56.0  24.0  3.386070  88.37  33.77  F5   \n",
              "11509047  -8.0 -50.0  27.0  3.386070  88.37  33.77  F5   \n",
              "11509048 -28.0 -36.0  28.0  3.386070  88.37  33.77  F5   \n",
              "11509049 -29.0 -29.0  30.0  3.386070  88.37  33.77  F5   \n",
              "11509050 -22.0 -24.0  29.0  3.374543  88.33  33.75  F5   \n",
              "\n",
              "                              datetime  label  \n",
              "0        2020-07-08 14:03:00.000000000    2.0  \n",
              "1        2020-07-08 14:03:00.031249920    2.0  \n",
              "2        2020-07-08 14:03:00.062500096    2.0  \n",
              "3        2020-07-08 14:03:00.093750016    2.0  \n",
              "4        2020-07-08 14:03:00.124999936    2.0  \n",
              "...                                ...    ...  \n",
              "11509046 2020-07-23 17:28:59.875000064    2.0  \n",
              "11509047 2020-07-23 17:28:59.906249984    2.0  \n",
              "11509048 2020-07-23 17:28:59.937499904    2.0  \n",
              "11509049 2020-07-23 17:28:59.968750080    2.0  \n",
              "11509050 2020-07-23 17:29:00.000000000    2.0  \n",
              "\n",
              "[11509051 rows x 9 columns]"
            ],
            "text/html": [
              "\n",
              "  <div id=\"df-7e4e32c7-54b6-4e90-b3bd-0530fb3b46a9\" class=\"colab-df-container\">\n",
              "    <div>\n",
              "<style scoped>\n",
              "    .dataframe tbody tr th:only-of-type {\n",
              "        vertical-align: middle;\n",
              "    }\n",
              "\n",
              "    .dataframe tbody tr th {\n",
              "        vertical-align: top;\n",
              "    }\n",
              "\n",
              "    .dataframe thead th {\n",
              "        text-align: right;\n",
              "    }\n",
              "</style>\n",
              "<table border=\"1\" class=\"dataframe\">\n",
              "  <thead>\n",
              "    <tr style=\"text-align: right;\">\n",
              "      <th></th>\n",
              "      <th>X</th>\n",
              "      <th>Y</th>\n",
              "      <th>Z</th>\n",
              "      <th>EDA</th>\n",
              "      <th>HR</th>\n",
              "      <th>TEMP</th>\n",
              "      <th>id</th>\n",
              "      <th>datetime</th>\n",
              "      <th>label</th>\n",
              "    </tr>\n",
              "  </thead>\n",
              "  <tbody>\n",
              "    <tr>\n",
              "      <th>0</th>\n",
              "      <td>-13.0</td>\n",
              "      <td>-61.0</td>\n",
              "      <td>5.0</td>\n",
              "      <td>6.769995</td>\n",
              "      <td>99.43</td>\n",
              "      <td>31.17</td>\n",
              "      <td>15</td>\n",
              "      <td>2020-07-08 14:03:00.000000000</td>\n",
              "      <td>2.0</td>\n",
              "    </tr>\n",
              "    <tr>\n",
              "      <th>1</th>\n",
              "      <td>-20.0</td>\n",
              "      <td>-69.0</td>\n",
              "      <td>-3.0</td>\n",
              "      <td>6.769995</td>\n",
              "      <td>99.43</td>\n",
              "      <td>31.17</td>\n",
              "      <td>15</td>\n",
              "      <td>2020-07-08 14:03:00.031249920</td>\n",
              "      <td>2.0</td>\n",
              "    </tr>\n",
              "    <tr>\n",
              "      <th>2</th>\n",
              "      <td>-31.0</td>\n",
              "      <td>-78.0</td>\n",
              "      <td>-15.0</td>\n",
              "      <td>6.769995</td>\n",
              "      <td>99.43</td>\n",
              "      <td>31.17</td>\n",
              "      <td>15</td>\n",
              "      <td>2020-07-08 14:03:00.062500096</td>\n",
              "      <td>2.0</td>\n",
              "    </tr>\n",
              "    <tr>\n",
              "      <th>3</th>\n",
              "      <td>-47.0</td>\n",
              "      <td>-65.0</td>\n",
              "      <td>-38.0</td>\n",
              "      <td>6.769995</td>\n",
              "      <td>99.43</td>\n",
              "      <td>31.17</td>\n",
              "      <td>15</td>\n",
              "      <td>2020-07-08 14:03:00.093750016</td>\n",
              "      <td>2.0</td>\n",
              "    </tr>\n",
              "    <tr>\n",
              "      <th>4</th>\n",
              "      <td>-67.0</td>\n",
              "      <td>-57.0</td>\n",
              "      <td>-53.0</td>\n",
              "      <td>6.769995</td>\n",
              "      <td>99.43</td>\n",
              "      <td>31.17</td>\n",
              "      <td>15</td>\n",
              "      <td>2020-07-08 14:03:00.124999936</td>\n",
              "      <td>2.0</td>\n",
              "    </tr>\n",
              "    <tr>\n",
              "      <th>...</th>\n",
              "      <td>...</td>\n",
              "      <td>...</td>\n",
              "      <td>...</td>\n",
              "      <td>...</td>\n",
              "      <td>...</td>\n",
              "      <td>...</td>\n",
              "      <td>...</td>\n",
              "      <td>...</td>\n",
              "      <td>...</td>\n",
              "    </tr>\n",
              "    <tr>\n",
              "      <th>11509046</th>\n",
              "      <td>-16.0</td>\n",
              "      <td>-56.0</td>\n",
              "      <td>24.0</td>\n",
              "      <td>3.386070</td>\n",
              "      <td>88.37</td>\n",
              "      <td>33.77</td>\n",
              "      <td>F5</td>\n",
              "      <td>2020-07-23 17:28:59.875000064</td>\n",
              "      <td>2.0</td>\n",
              "    </tr>\n",
              "    <tr>\n",
              "      <th>11509047</th>\n",
              "      <td>-8.0</td>\n",
              "      <td>-50.0</td>\n",
              "      <td>27.0</td>\n",
              "      <td>3.386070</td>\n",
              "      <td>88.37</td>\n",
              "      <td>33.77</td>\n",
              "      <td>F5</td>\n",
              "      <td>2020-07-23 17:28:59.906249984</td>\n",
              "      <td>2.0</td>\n",
              "    </tr>\n",
              "    <tr>\n",
              "      <th>11509048</th>\n",
              "      <td>-28.0</td>\n",
              "      <td>-36.0</td>\n",
              "      <td>28.0</td>\n",
              "      <td>3.386070</td>\n",
              "      <td>88.37</td>\n",
              "      <td>33.77</td>\n",
              "      <td>F5</td>\n",
              "      <td>2020-07-23 17:28:59.937499904</td>\n",
              "      <td>2.0</td>\n",
              "    </tr>\n",
              "    <tr>\n",
              "      <th>11509049</th>\n",
              "      <td>-29.0</td>\n",
              "      <td>-29.0</td>\n",
              "      <td>30.0</td>\n",
              "      <td>3.386070</td>\n",
              "      <td>88.37</td>\n",
              "      <td>33.77</td>\n",
              "      <td>F5</td>\n",
              "      <td>2020-07-23 17:28:59.968750080</td>\n",
              "      <td>2.0</td>\n",
              "    </tr>\n",
              "    <tr>\n",
              "      <th>11509050</th>\n",
              "      <td>-22.0</td>\n",
              "      <td>-24.0</td>\n",
              "      <td>29.0</td>\n",
              "      <td>3.374543</td>\n",
              "      <td>88.33</td>\n",
              "      <td>33.75</td>\n",
              "      <td>F5</td>\n",
              "      <td>2020-07-23 17:29:00.000000000</td>\n",
              "      <td>2.0</td>\n",
              "    </tr>\n",
              "  </tbody>\n",
              "</table>\n",
              "<p>11509051 rows × 9 columns</p>\n",
              "</div>\n",
              "    <div class=\"colab-df-buttons\">\n",
              "\n",
              "  <div class=\"colab-df-container\">\n",
              "    <button class=\"colab-df-convert\" onclick=\"convertToInteractive('df-7e4e32c7-54b6-4e90-b3bd-0530fb3b46a9')\"\n",
              "            title=\"Convert this dataframe to an interactive table.\"\n",
              "            style=\"display:none;\">\n",
              "\n",
              "  <svg xmlns=\"http://www.w3.org/2000/svg\" height=\"24px\" viewBox=\"0 -960 960 960\">\n",
              "    <path d=\"M120-120v-720h720v720H120Zm60-500h600v-160H180v160Zm220 220h160v-160H400v160Zm0 220h160v-160H400v160ZM180-400h160v-160H180v160Zm440 0h160v-160H620v160ZM180-180h160v-160H180v160Zm440 0h160v-160H620v160Z\"/>\n",
              "  </svg>\n",
              "    </button>\n",
              "\n",
              "  <style>\n",
              "    .colab-df-container {\n",
              "      display:flex;\n",
              "      gap: 12px;\n",
              "    }\n",
              "\n",
              "    .colab-df-convert {\n",
              "      background-color: #E8F0FE;\n",
              "      border: none;\n",
              "      border-radius: 50%;\n",
              "      cursor: pointer;\n",
              "      display: none;\n",
              "      fill: #1967D2;\n",
              "      height: 32px;\n",
              "      padding: 0 0 0 0;\n",
              "      width: 32px;\n",
              "    }\n",
              "\n",
              "    .colab-df-convert:hover {\n",
              "      background-color: #E2EBFA;\n",
              "      box-shadow: 0px 1px 2px rgba(60, 64, 67, 0.3), 0px 1px 3px 1px rgba(60, 64, 67, 0.15);\n",
              "      fill: #174EA6;\n",
              "    }\n",
              "\n",
              "    .colab-df-buttons div {\n",
              "      margin-bottom: 4px;\n",
              "    }\n",
              "\n",
              "    [theme=dark] .colab-df-convert {\n",
              "      background-color: #3B4455;\n",
              "      fill: #D2E3FC;\n",
              "    }\n",
              "\n",
              "    [theme=dark] .colab-df-convert:hover {\n",
              "      background-color: #434B5C;\n",
              "      box-shadow: 0px 1px 3px 1px rgba(0, 0, 0, 0.15);\n",
              "      filter: drop-shadow(0px 1px 2px rgba(0, 0, 0, 0.3));\n",
              "      fill: #FFFFFF;\n",
              "    }\n",
              "  </style>\n",
              "\n",
              "    <script>\n",
              "      const buttonEl =\n",
              "        document.querySelector('#df-7e4e32c7-54b6-4e90-b3bd-0530fb3b46a9 button.colab-df-convert');\n",
              "      buttonEl.style.display =\n",
              "        google.colab.kernel.accessAllowed ? 'block' : 'none';\n",
              "\n",
              "      async function convertToInteractive(key) {\n",
              "        const element = document.querySelector('#df-7e4e32c7-54b6-4e90-b3bd-0530fb3b46a9');\n",
              "        const dataTable =\n",
              "          await google.colab.kernel.invokeFunction('convertToInteractive',\n",
              "                                                    [key], {});\n",
              "        if (!dataTable) return;\n",
              "\n",
              "        const docLinkHtml = 'Like what you see? Visit the ' +\n",
              "          '<a target=\"_blank\" href=https://colab.research.google.com/notebooks/data_table.ipynb>data table notebook</a>'\n",
              "          + ' to learn more about interactive tables.';\n",
              "        element.innerHTML = '';\n",
              "        dataTable['output_type'] = 'display_data';\n",
              "        await google.colab.output.renderOutput(dataTable, element);\n",
              "        const docLink = document.createElement('div');\n",
              "        docLink.innerHTML = docLinkHtml;\n",
              "        element.appendChild(docLink);\n",
              "      }\n",
              "    </script>\n",
              "  </div>\n",
              "\n",
              "\n",
              "<div id=\"df-73428547-dd9e-46a7-9b76-aed711045e98\">\n",
              "  <button class=\"colab-df-quickchart\" onclick=\"quickchart('df-73428547-dd9e-46a7-9b76-aed711045e98')\"\n",
              "            title=\"Suggest charts\"\n",
              "            style=\"display:none;\">\n",
              "\n",
              "<svg xmlns=\"http://www.w3.org/2000/svg\" height=\"24px\"viewBox=\"0 0 24 24\"\n",
              "     width=\"24px\">\n",
              "    <g>\n",
              "        <path d=\"M19 3H5c-1.1 0-2 .9-2 2v14c0 1.1.9 2 2 2h14c1.1 0 2-.9 2-2V5c0-1.1-.9-2-2-2zM9 17H7v-7h2v7zm4 0h-2V7h2v10zm4 0h-2v-4h2v4z\"/>\n",
              "    </g>\n",
              "</svg>\n",
              "  </button>\n",
              "\n",
              "<style>\n",
              "  .colab-df-quickchart {\n",
              "      --bg-color: #E8F0FE;\n",
              "      --fill-color: #1967D2;\n",
              "      --hover-bg-color: #E2EBFA;\n",
              "      --hover-fill-color: #174EA6;\n",
              "      --disabled-fill-color: #AAA;\n",
              "      --disabled-bg-color: #DDD;\n",
              "  }\n",
              "\n",
              "  [theme=dark] .colab-df-quickchart {\n",
              "      --bg-color: #3B4455;\n",
              "      --fill-color: #D2E3FC;\n",
              "      --hover-bg-color: #434B5C;\n",
              "      --hover-fill-color: #FFFFFF;\n",
              "      --disabled-bg-color: #3B4455;\n",
              "      --disabled-fill-color: #666;\n",
              "  }\n",
              "\n",
              "  .colab-df-quickchart {\n",
              "    background-color: var(--bg-color);\n",
              "    border: none;\n",
              "    border-radius: 50%;\n",
              "    cursor: pointer;\n",
              "    display: none;\n",
              "    fill: var(--fill-color);\n",
              "    height: 32px;\n",
              "    padding: 0;\n",
              "    width: 32px;\n",
              "  }\n",
              "\n",
              "  .colab-df-quickchart:hover {\n",
              "    background-color: var(--hover-bg-color);\n",
              "    box-shadow: 0 1px 2px rgba(60, 64, 67, 0.3), 0 1px 3px 1px rgba(60, 64, 67, 0.15);\n",
              "    fill: var(--button-hover-fill-color);\n",
              "  }\n",
              "\n",
              "  .colab-df-quickchart-complete:disabled,\n",
              "  .colab-df-quickchart-complete:disabled:hover {\n",
              "    background-color: var(--disabled-bg-color);\n",
              "    fill: var(--disabled-fill-color);\n",
              "    box-shadow: none;\n",
              "  }\n",
              "\n",
              "  .colab-df-spinner {\n",
              "    border: 2px solid var(--fill-color);\n",
              "    border-color: transparent;\n",
              "    border-bottom-color: var(--fill-color);\n",
              "    animation:\n",
              "      spin 1s steps(1) infinite;\n",
              "  }\n",
              "\n",
              "  @keyframes spin {\n",
              "    0% {\n",
              "      border-color: transparent;\n",
              "      border-bottom-color: var(--fill-color);\n",
              "      border-left-color: var(--fill-color);\n",
              "    }\n",
              "    20% {\n",
              "      border-color: transparent;\n",
              "      border-left-color: var(--fill-color);\n",
              "      border-top-color: var(--fill-color);\n",
              "    }\n",
              "    30% {\n",
              "      border-color: transparent;\n",
              "      border-left-color: var(--fill-color);\n",
              "      border-top-color: var(--fill-color);\n",
              "      border-right-color: var(--fill-color);\n",
              "    }\n",
              "    40% {\n",
              "      border-color: transparent;\n",
              "      border-right-color: var(--fill-color);\n",
              "      border-top-color: var(--fill-color);\n",
              "    }\n",
              "    60% {\n",
              "      border-color: transparent;\n",
              "      border-right-color: var(--fill-color);\n",
              "    }\n",
              "    80% {\n",
              "      border-color: transparent;\n",
              "      border-right-color: var(--fill-color);\n",
              "      border-bottom-color: var(--fill-color);\n",
              "    }\n",
              "    90% {\n",
              "      border-color: transparent;\n",
              "      border-bottom-color: var(--fill-color);\n",
              "    }\n",
              "  }\n",
              "</style>\n",
              "\n",
              "  <script>\n",
              "    async function quickchart(key) {\n",
              "      const quickchartButtonEl =\n",
              "        document.querySelector('#' + key + ' button');\n",
              "      quickchartButtonEl.disabled = true;  // To prevent multiple clicks.\n",
              "      quickchartButtonEl.classList.add('colab-df-spinner');\n",
              "      try {\n",
              "        const charts = await google.colab.kernel.invokeFunction(\n",
              "            'suggestCharts', [key], {});\n",
              "      } catch (error) {\n",
              "        console.error('Error during call to suggestCharts:', error);\n",
              "      }\n",
              "      quickchartButtonEl.classList.remove('colab-df-spinner');\n",
              "      quickchartButtonEl.classList.add('colab-df-quickchart-complete');\n",
              "    }\n",
              "    (() => {\n",
              "      let quickchartButtonEl =\n",
              "        document.querySelector('#df-73428547-dd9e-46a7-9b76-aed711045e98 button');\n",
              "      quickchartButtonEl.style.display =\n",
              "        google.colab.kernel.accessAllowed ? 'block' : 'none';\n",
              "    })();\n",
              "  </script>\n",
              "</div>\n",
              "\n",
              "  <div id=\"id_863c55b0-d080-4529-9ff6-c2da7a73cc0c\">\n",
              "    <style>\n",
              "      .colab-df-generate {\n",
              "        background-color: #E8F0FE;\n",
              "        border: none;\n",
              "        border-radius: 50%;\n",
              "        cursor: pointer;\n",
              "        display: none;\n",
              "        fill: #1967D2;\n",
              "        height: 32px;\n",
              "        padding: 0 0 0 0;\n",
              "        width: 32px;\n",
              "      }\n",
              "\n",
              "      .colab-df-generate:hover {\n",
              "        background-color: #E2EBFA;\n",
              "        box-shadow: 0px 1px 2px rgba(60, 64, 67, 0.3), 0px 1px 3px 1px rgba(60, 64, 67, 0.15);\n",
              "        fill: #174EA6;\n",
              "      }\n",
              "\n",
              "      [theme=dark] .colab-df-generate {\n",
              "        background-color: #3B4455;\n",
              "        fill: #D2E3FC;\n",
              "      }\n",
              "\n",
              "      [theme=dark] .colab-df-generate:hover {\n",
              "        background-color: #434B5C;\n",
              "        box-shadow: 0px 1px 3px 1px rgba(0, 0, 0, 0.15);\n",
              "        filter: drop-shadow(0px 1px 2px rgba(0, 0, 0, 0.3));\n",
              "        fill: #FFFFFF;\n",
              "      }\n",
              "    </style>\n",
              "    <button class=\"colab-df-generate\" onclick=\"generateWithVariable('df')\"\n",
              "            title=\"Generate code using this dataframe.\"\n",
              "            style=\"display:none;\">\n",
              "\n",
              "  <svg xmlns=\"http://www.w3.org/2000/svg\" height=\"24px\"viewBox=\"0 0 24 24\"\n",
              "       width=\"24px\">\n",
              "    <path d=\"M7,19H8.4L18.45,9,17,7.55,7,17.6ZM5,21V16.75L18.45,3.32a2,2,0,0,1,2.83,0l1.4,1.43a1.91,1.91,0,0,1,.58,1.4,1.91,1.91,0,0,1-.58,1.4L9.25,21ZM18.45,9,17,7.55Zm-12,3A5.31,5.31,0,0,0,4.9,8.1,5.31,5.31,0,0,0,1,6.5,5.31,5.31,0,0,0,4.9,4.9,5.31,5.31,0,0,0,6.5,1,5.31,5.31,0,0,0,8.1,4.9,5.31,5.31,0,0,0,12,6.5,5.46,5.46,0,0,0,6.5,12Z\"/>\n",
              "  </svg>\n",
              "    </button>\n",
              "    <script>\n",
              "      (() => {\n",
              "      const buttonEl =\n",
              "        document.querySelector('#id_863c55b0-d080-4529-9ff6-c2da7a73cc0c button.colab-df-generate');\n",
              "      buttonEl.style.display =\n",
              "        google.colab.kernel.accessAllowed ? 'block' : 'none';\n",
              "\n",
              "      buttonEl.onclick = () => {\n",
              "        google.colab.notebook.generateWithVariable('df');\n",
              "      }\n",
              "      })();\n",
              "    </script>\n",
              "  </div>\n",
              "\n",
              "    </div>\n",
              "  </div>\n"
            ],
            "application/vnd.google.colaboratory.intrinsic+json": {
              "type": "dataframe",
              "variable_name": "df"
            }
          },
          "metadata": {},
          "execution_count": 7
        }
      ]
    },
    {
      "cell_type": "code",
      "source": [
        "df.info()"
      ],
      "metadata": {
        "execution": {
          "iopub.status.busy": "2024-06-24T16:07:36.076982Z",
          "iopub.execute_input": "2024-06-24T16:07:36.077516Z",
          "iopub.status.idle": "2024-06-24T16:07:36.105985Z",
          "shell.execute_reply.started": "2024-06-24T16:07:36.077472Z",
          "shell.execute_reply": "2024-06-24T16:07:36.104646Z"
        },
        "trusted": true,
        "id": "ppla6RqYyKi8",
        "outputId": "26c1f82b-bb31-4d74-f079-29d487de864f",
        "colab": {
          "base_uri": "https://localhost:8080/"
        }
      },
      "execution_count": 8,
      "outputs": [
        {
          "output_type": "stream",
          "name": "stdout",
          "text": [
            "<class 'pandas.core.frame.DataFrame'>\n",
            "RangeIndex: 11509051 entries, 0 to 11509050\n",
            "Data columns (total 9 columns):\n",
            " #   Column    Dtype         \n",
            "---  ------    -----         \n",
            " 0   X         float64       \n",
            " 1   Y         float64       \n",
            " 2   Z         float64       \n",
            " 3   EDA       float64       \n",
            " 4   HR        float64       \n",
            " 5   TEMP      float64       \n",
            " 6   id        object        \n",
            " 7   datetime  datetime64[ns]\n",
            " 8   label     float64       \n",
            "dtypes: datetime64[ns](1), float64(7), object(1)\n",
            "memory usage: 790.3+ MB\n"
          ]
        }
      ]
    },
    {
      "cell_type": "code",
      "source": [
        "df.head(8)"
      ],
      "metadata": {
        "execution": {
          "iopub.status.busy": "2024-06-24T16:07:38.052629Z",
          "iopub.execute_input": "2024-06-24T16:07:38.053059Z",
          "iopub.status.idle": "2024-06-24T16:07:38.076404Z",
          "shell.execute_reply.started": "2024-06-24T16:07:38.053007Z",
          "shell.execute_reply": "2024-06-24T16:07:38.075123Z"
        },
        "trusted": true,
        "id": "T1m3QWF8yKi9",
        "outputId": "866849cd-075d-4aa7-e90e-d6566e8c03a3",
        "colab": {
          "base_uri": "https://localhost:8080/",
          "height": 300
        }
      },
      "execution_count": 9,
      "outputs": [
        {
          "output_type": "execute_result",
          "data": {
            "text/plain": [
              "      X     Y     Z       EDA     HR   TEMP  id                      datetime  \\\n",
              "0 -13.0 -61.0   5.0  6.769995  99.43  31.17  15 2020-07-08 14:03:00.000000000   \n",
              "1 -20.0 -69.0  -3.0  6.769995  99.43  31.17  15 2020-07-08 14:03:00.031249920   \n",
              "2 -31.0 -78.0 -15.0  6.769995  99.43  31.17  15 2020-07-08 14:03:00.062500096   \n",
              "3 -47.0 -65.0 -38.0  6.769995  99.43  31.17  15 2020-07-08 14:03:00.093750016   \n",
              "4 -67.0 -57.0 -53.0  6.769995  99.43  31.17  15 2020-07-08 14:03:00.124999936   \n",
              "5  -9.0 -57.0 -32.0  6.769995  99.43  31.17  15 2020-07-08 14:03:00.156250112   \n",
              "6   9.0 -68.0  -2.0  6.769995  99.43  31.17  15 2020-07-08 14:03:00.187500032   \n",
              "7  -6.0 -74.0  17.0  6.769995  99.43  31.17  15 2020-07-08 14:03:00.218749952   \n",
              "\n",
              "   label  \n",
              "0    2.0  \n",
              "1    2.0  \n",
              "2    2.0  \n",
              "3    2.0  \n",
              "4    2.0  \n",
              "5    2.0  \n",
              "6    2.0  \n",
              "7    2.0  "
            ],
            "text/html": [
              "\n",
              "  <div id=\"df-bac6ca95-74b8-4230-850c-805ff448cd34\" class=\"colab-df-container\">\n",
              "    <div>\n",
              "<style scoped>\n",
              "    .dataframe tbody tr th:only-of-type {\n",
              "        vertical-align: middle;\n",
              "    }\n",
              "\n",
              "    .dataframe tbody tr th {\n",
              "        vertical-align: top;\n",
              "    }\n",
              "\n",
              "    .dataframe thead th {\n",
              "        text-align: right;\n",
              "    }\n",
              "</style>\n",
              "<table border=\"1\" class=\"dataframe\">\n",
              "  <thead>\n",
              "    <tr style=\"text-align: right;\">\n",
              "      <th></th>\n",
              "      <th>X</th>\n",
              "      <th>Y</th>\n",
              "      <th>Z</th>\n",
              "      <th>EDA</th>\n",
              "      <th>HR</th>\n",
              "      <th>TEMP</th>\n",
              "      <th>id</th>\n",
              "      <th>datetime</th>\n",
              "      <th>label</th>\n",
              "    </tr>\n",
              "  </thead>\n",
              "  <tbody>\n",
              "    <tr>\n",
              "      <th>0</th>\n",
              "      <td>-13.0</td>\n",
              "      <td>-61.0</td>\n",
              "      <td>5.0</td>\n",
              "      <td>6.769995</td>\n",
              "      <td>99.43</td>\n",
              "      <td>31.17</td>\n",
              "      <td>15</td>\n",
              "      <td>2020-07-08 14:03:00.000000000</td>\n",
              "      <td>2.0</td>\n",
              "    </tr>\n",
              "    <tr>\n",
              "      <th>1</th>\n",
              "      <td>-20.0</td>\n",
              "      <td>-69.0</td>\n",
              "      <td>-3.0</td>\n",
              "      <td>6.769995</td>\n",
              "      <td>99.43</td>\n",
              "      <td>31.17</td>\n",
              "      <td>15</td>\n",
              "      <td>2020-07-08 14:03:00.031249920</td>\n",
              "      <td>2.0</td>\n",
              "    </tr>\n",
              "    <tr>\n",
              "      <th>2</th>\n",
              "      <td>-31.0</td>\n",
              "      <td>-78.0</td>\n",
              "      <td>-15.0</td>\n",
              "      <td>6.769995</td>\n",
              "      <td>99.43</td>\n",
              "      <td>31.17</td>\n",
              "      <td>15</td>\n",
              "      <td>2020-07-08 14:03:00.062500096</td>\n",
              "      <td>2.0</td>\n",
              "    </tr>\n",
              "    <tr>\n",
              "      <th>3</th>\n",
              "      <td>-47.0</td>\n",
              "      <td>-65.0</td>\n",
              "      <td>-38.0</td>\n",
              "      <td>6.769995</td>\n",
              "      <td>99.43</td>\n",
              "      <td>31.17</td>\n",
              "      <td>15</td>\n",
              "      <td>2020-07-08 14:03:00.093750016</td>\n",
              "      <td>2.0</td>\n",
              "    </tr>\n",
              "    <tr>\n",
              "      <th>4</th>\n",
              "      <td>-67.0</td>\n",
              "      <td>-57.0</td>\n",
              "      <td>-53.0</td>\n",
              "      <td>6.769995</td>\n",
              "      <td>99.43</td>\n",
              "      <td>31.17</td>\n",
              "      <td>15</td>\n",
              "      <td>2020-07-08 14:03:00.124999936</td>\n",
              "      <td>2.0</td>\n",
              "    </tr>\n",
              "    <tr>\n",
              "      <th>5</th>\n",
              "      <td>-9.0</td>\n",
              "      <td>-57.0</td>\n",
              "      <td>-32.0</td>\n",
              "      <td>6.769995</td>\n",
              "      <td>99.43</td>\n",
              "      <td>31.17</td>\n",
              "      <td>15</td>\n",
              "      <td>2020-07-08 14:03:00.156250112</td>\n",
              "      <td>2.0</td>\n",
              "    </tr>\n",
              "    <tr>\n",
              "      <th>6</th>\n",
              "      <td>9.0</td>\n",
              "      <td>-68.0</td>\n",
              "      <td>-2.0</td>\n",
              "      <td>6.769995</td>\n",
              "      <td>99.43</td>\n",
              "      <td>31.17</td>\n",
              "      <td>15</td>\n",
              "      <td>2020-07-08 14:03:00.187500032</td>\n",
              "      <td>2.0</td>\n",
              "    </tr>\n",
              "    <tr>\n",
              "      <th>7</th>\n",
              "      <td>-6.0</td>\n",
              "      <td>-74.0</td>\n",
              "      <td>17.0</td>\n",
              "      <td>6.769995</td>\n",
              "      <td>99.43</td>\n",
              "      <td>31.17</td>\n",
              "      <td>15</td>\n",
              "      <td>2020-07-08 14:03:00.218749952</td>\n",
              "      <td>2.0</td>\n",
              "    </tr>\n",
              "  </tbody>\n",
              "</table>\n",
              "</div>\n",
              "    <div class=\"colab-df-buttons\">\n",
              "\n",
              "  <div class=\"colab-df-container\">\n",
              "    <button class=\"colab-df-convert\" onclick=\"convertToInteractive('df-bac6ca95-74b8-4230-850c-805ff448cd34')\"\n",
              "            title=\"Convert this dataframe to an interactive table.\"\n",
              "            style=\"display:none;\">\n",
              "\n",
              "  <svg xmlns=\"http://www.w3.org/2000/svg\" height=\"24px\" viewBox=\"0 -960 960 960\">\n",
              "    <path d=\"M120-120v-720h720v720H120Zm60-500h600v-160H180v160Zm220 220h160v-160H400v160Zm0 220h160v-160H400v160ZM180-400h160v-160H180v160Zm440 0h160v-160H620v160ZM180-180h160v-160H180v160Zm440 0h160v-160H620v160Z\"/>\n",
              "  </svg>\n",
              "    </button>\n",
              "\n",
              "  <style>\n",
              "    .colab-df-container {\n",
              "      display:flex;\n",
              "      gap: 12px;\n",
              "    }\n",
              "\n",
              "    .colab-df-convert {\n",
              "      background-color: #E8F0FE;\n",
              "      border: none;\n",
              "      border-radius: 50%;\n",
              "      cursor: pointer;\n",
              "      display: none;\n",
              "      fill: #1967D2;\n",
              "      height: 32px;\n",
              "      padding: 0 0 0 0;\n",
              "      width: 32px;\n",
              "    }\n",
              "\n",
              "    .colab-df-convert:hover {\n",
              "      background-color: #E2EBFA;\n",
              "      box-shadow: 0px 1px 2px rgba(60, 64, 67, 0.3), 0px 1px 3px 1px rgba(60, 64, 67, 0.15);\n",
              "      fill: #174EA6;\n",
              "    }\n",
              "\n",
              "    .colab-df-buttons div {\n",
              "      margin-bottom: 4px;\n",
              "    }\n",
              "\n",
              "    [theme=dark] .colab-df-convert {\n",
              "      background-color: #3B4455;\n",
              "      fill: #D2E3FC;\n",
              "    }\n",
              "\n",
              "    [theme=dark] .colab-df-convert:hover {\n",
              "      background-color: #434B5C;\n",
              "      box-shadow: 0px 1px 3px 1px rgba(0, 0, 0, 0.15);\n",
              "      filter: drop-shadow(0px 1px 2px rgba(0, 0, 0, 0.3));\n",
              "      fill: #FFFFFF;\n",
              "    }\n",
              "  </style>\n",
              "\n",
              "    <script>\n",
              "      const buttonEl =\n",
              "        document.querySelector('#df-bac6ca95-74b8-4230-850c-805ff448cd34 button.colab-df-convert');\n",
              "      buttonEl.style.display =\n",
              "        google.colab.kernel.accessAllowed ? 'block' : 'none';\n",
              "\n",
              "      async function convertToInteractive(key) {\n",
              "        const element = document.querySelector('#df-bac6ca95-74b8-4230-850c-805ff448cd34');\n",
              "        const dataTable =\n",
              "          await google.colab.kernel.invokeFunction('convertToInteractive',\n",
              "                                                    [key], {});\n",
              "        if (!dataTable) return;\n",
              "\n",
              "        const docLinkHtml = 'Like what you see? Visit the ' +\n",
              "          '<a target=\"_blank\" href=https://colab.research.google.com/notebooks/data_table.ipynb>data table notebook</a>'\n",
              "          + ' to learn more about interactive tables.';\n",
              "        element.innerHTML = '';\n",
              "        dataTable['output_type'] = 'display_data';\n",
              "        await google.colab.output.renderOutput(dataTable, element);\n",
              "        const docLink = document.createElement('div');\n",
              "        docLink.innerHTML = docLinkHtml;\n",
              "        element.appendChild(docLink);\n",
              "      }\n",
              "    </script>\n",
              "  </div>\n",
              "\n",
              "\n",
              "<div id=\"df-d77238a1-9053-44c4-8f79-92178b2f4fdf\">\n",
              "  <button class=\"colab-df-quickchart\" onclick=\"quickchart('df-d77238a1-9053-44c4-8f79-92178b2f4fdf')\"\n",
              "            title=\"Suggest charts\"\n",
              "            style=\"display:none;\">\n",
              "\n",
              "<svg xmlns=\"http://www.w3.org/2000/svg\" height=\"24px\"viewBox=\"0 0 24 24\"\n",
              "     width=\"24px\">\n",
              "    <g>\n",
              "        <path d=\"M19 3H5c-1.1 0-2 .9-2 2v14c0 1.1.9 2 2 2h14c1.1 0 2-.9 2-2V5c0-1.1-.9-2-2-2zM9 17H7v-7h2v7zm4 0h-2V7h2v10zm4 0h-2v-4h2v4z\"/>\n",
              "    </g>\n",
              "</svg>\n",
              "  </button>\n",
              "\n",
              "<style>\n",
              "  .colab-df-quickchart {\n",
              "      --bg-color: #E8F0FE;\n",
              "      --fill-color: #1967D2;\n",
              "      --hover-bg-color: #E2EBFA;\n",
              "      --hover-fill-color: #174EA6;\n",
              "      --disabled-fill-color: #AAA;\n",
              "      --disabled-bg-color: #DDD;\n",
              "  }\n",
              "\n",
              "  [theme=dark] .colab-df-quickchart {\n",
              "      --bg-color: #3B4455;\n",
              "      --fill-color: #D2E3FC;\n",
              "      --hover-bg-color: #434B5C;\n",
              "      --hover-fill-color: #FFFFFF;\n",
              "      --disabled-bg-color: #3B4455;\n",
              "      --disabled-fill-color: #666;\n",
              "  }\n",
              "\n",
              "  .colab-df-quickchart {\n",
              "    background-color: var(--bg-color);\n",
              "    border: none;\n",
              "    border-radius: 50%;\n",
              "    cursor: pointer;\n",
              "    display: none;\n",
              "    fill: var(--fill-color);\n",
              "    height: 32px;\n",
              "    padding: 0;\n",
              "    width: 32px;\n",
              "  }\n",
              "\n",
              "  .colab-df-quickchart:hover {\n",
              "    background-color: var(--hover-bg-color);\n",
              "    box-shadow: 0 1px 2px rgba(60, 64, 67, 0.3), 0 1px 3px 1px rgba(60, 64, 67, 0.15);\n",
              "    fill: var(--button-hover-fill-color);\n",
              "  }\n",
              "\n",
              "  .colab-df-quickchart-complete:disabled,\n",
              "  .colab-df-quickchart-complete:disabled:hover {\n",
              "    background-color: var(--disabled-bg-color);\n",
              "    fill: var(--disabled-fill-color);\n",
              "    box-shadow: none;\n",
              "  }\n",
              "\n",
              "  .colab-df-spinner {\n",
              "    border: 2px solid var(--fill-color);\n",
              "    border-color: transparent;\n",
              "    border-bottom-color: var(--fill-color);\n",
              "    animation:\n",
              "      spin 1s steps(1) infinite;\n",
              "  }\n",
              "\n",
              "  @keyframes spin {\n",
              "    0% {\n",
              "      border-color: transparent;\n",
              "      border-bottom-color: var(--fill-color);\n",
              "      border-left-color: var(--fill-color);\n",
              "    }\n",
              "    20% {\n",
              "      border-color: transparent;\n",
              "      border-left-color: var(--fill-color);\n",
              "      border-top-color: var(--fill-color);\n",
              "    }\n",
              "    30% {\n",
              "      border-color: transparent;\n",
              "      border-left-color: var(--fill-color);\n",
              "      border-top-color: var(--fill-color);\n",
              "      border-right-color: var(--fill-color);\n",
              "    }\n",
              "    40% {\n",
              "      border-color: transparent;\n",
              "      border-right-color: var(--fill-color);\n",
              "      border-top-color: var(--fill-color);\n",
              "    }\n",
              "    60% {\n",
              "      border-color: transparent;\n",
              "      border-right-color: var(--fill-color);\n",
              "    }\n",
              "    80% {\n",
              "      border-color: transparent;\n",
              "      border-right-color: var(--fill-color);\n",
              "      border-bottom-color: var(--fill-color);\n",
              "    }\n",
              "    90% {\n",
              "      border-color: transparent;\n",
              "      border-bottom-color: var(--fill-color);\n",
              "    }\n",
              "  }\n",
              "</style>\n",
              "\n",
              "  <script>\n",
              "    async function quickchart(key) {\n",
              "      const quickchartButtonEl =\n",
              "        document.querySelector('#' + key + ' button');\n",
              "      quickchartButtonEl.disabled = true;  // To prevent multiple clicks.\n",
              "      quickchartButtonEl.classList.add('colab-df-spinner');\n",
              "      try {\n",
              "        const charts = await google.colab.kernel.invokeFunction(\n",
              "            'suggestCharts', [key], {});\n",
              "      } catch (error) {\n",
              "        console.error('Error during call to suggestCharts:', error);\n",
              "      }\n",
              "      quickchartButtonEl.classList.remove('colab-df-spinner');\n",
              "      quickchartButtonEl.classList.add('colab-df-quickchart-complete');\n",
              "    }\n",
              "    (() => {\n",
              "      let quickchartButtonEl =\n",
              "        document.querySelector('#df-d77238a1-9053-44c4-8f79-92178b2f4fdf button');\n",
              "      quickchartButtonEl.style.display =\n",
              "        google.colab.kernel.accessAllowed ? 'block' : 'none';\n",
              "    })();\n",
              "  </script>\n",
              "</div>\n",
              "\n",
              "    </div>\n",
              "  </div>\n"
            ],
            "application/vnd.google.colaboratory.intrinsic+json": {
              "type": "dataframe",
              "variable_name": "df"
            }
          },
          "metadata": {},
          "execution_count": 9
        }
      ]
    },
    {
      "cell_type": "code",
      "source": [
        "df.datetime"
      ],
      "metadata": {
        "execution": {
          "iopub.status.busy": "2024-06-24T16:07:39.39823Z",
          "iopub.execute_input": "2024-06-24T16:07:39.398651Z",
          "iopub.status.idle": "2024-06-24T16:07:39.408634Z",
          "shell.execute_reply.started": "2024-06-24T16:07:39.398619Z",
          "shell.execute_reply": "2024-06-24T16:07:39.40729Z"
        },
        "trusted": true,
        "id": "lOE38mrDyKi9",
        "outputId": "ce50a59c-bb42-4a4c-e633-cc70952c5189",
        "colab": {
          "base_uri": "https://localhost:8080/"
        }
      },
      "execution_count": 10,
      "outputs": [
        {
          "output_type": "execute_result",
          "data": {
            "text/plain": [
              "0          2020-07-08 14:03:00.000000000\n",
              "1          2020-07-08 14:03:00.031249920\n",
              "2          2020-07-08 14:03:00.062500096\n",
              "3          2020-07-08 14:03:00.093750016\n",
              "4          2020-07-08 14:03:00.124999936\n",
              "                        ...             \n",
              "11509046   2020-07-23 17:28:59.875000064\n",
              "11509047   2020-07-23 17:28:59.906249984\n",
              "11509048   2020-07-23 17:28:59.937499904\n",
              "11509049   2020-07-23 17:28:59.968750080\n",
              "11509050   2020-07-23 17:29:00.000000000\n",
              "Name: datetime, Length: 11509051, dtype: datetime64[ns]"
            ]
          },
          "metadata": {},
          "execution_count": 10
        }
      ]
    },
    {
      "cell_type": "code",
      "source": [
        "#df.isna().sum()\n",
        "print(df.isna().sum())"
      ],
      "metadata": {
        "execution": {
          "iopub.status.busy": "2024-06-24T16:07:40.244344Z",
          "iopub.execute_input": "2024-06-24T16:07:40.244755Z",
          "iopub.status.idle": "2024-06-24T16:07:41.644223Z",
          "shell.execute_reply.started": "2024-06-24T16:07:40.244725Z",
          "shell.execute_reply": "2024-06-24T16:07:41.642878Z"
        },
        "trusted": true,
        "id": "vvY62GssyKi-",
        "outputId": "d0d207f8-8ed6-4331-b03b-c1c8e4a546cf",
        "colab": {
          "base_uri": "https://localhost:8080/"
        }
      },
      "execution_count": 11,
      "outputs": [
        {
          "output_type": "stream",
          "name": "stdout",
          "text": [
            "X           0\n",
            "Y           0\n",
            "Z           0\n",
            "EDA         0\n",
            "HR          0\n",
            "TEMP        0\n",
            "id          0\n",
            "datetime    0\n",
            "label       0\n",
            "dtype: int64\n"
          ]
        }
      ]
    },
    {
      "cell_type": "code",
      "source": [
        "df.nunique()"
      ],
      "metadata": {
        "execution": {
          "iopub.status.busy": "2024-06-24T16:07:53.661021Z",
          "iopub.execute_input": "2024-06-24T16:07:53.661565Z",
          "iopub.status.idle": "2024-06-24T16:07:57.974292Z",
          "shell.execute_reply.started": "2024-06-24T16:07:53.66153Z",
          "shell.execute_reply": "2024-06-24T16:07:57.973205Z"
        },
        "trusted": true,
        "id": "rQk1hyOiyKjB",
        "outputId": "8d335466-5125-4556-a727-f96217e51909",
        "colab": {
          "base_uri": "https://localhost:8080/"
        }
      },
      "execution_count": 12,
      "outputs": [
        {
          "output_type": "execute_result",
          "data": {
            "text/plain": [
              "X                256\n",
              "Y                256\n",
              "Z                256\n",
              "EDA           274452\n",
              "HR              6268\n",
              "TEMP             599\n",
              "id                15\n",
              "datetime    10628304\n",
              "label              3\n",
              "dtype: int64"
            ]
          },
          "metadata": {},
          "execution_count": 12
        }
      ]
    },
    {
      "cell_type": "code",
      "source": [
        "num_duplicated_rows = df.duplicated().sum()\n",
        "num_duplicated_rows\n",
        "print(f'Number of duplicated rows: {num_duplicated_rows}')"
      ],
      "metadata": {
        "execution": {
          "iopub.status.busy": "2024-06-24T16:07:57.976307Z",
          "iopub.execute_input": "2024-06-24T16:07:57.976719Z",
          "iopub.status.idle": "2024-06-24T16:08:07.623839Z",
          "shell.execute_reply.started": "2024-06-24T16:07:57.976687Z",
          "shell.execute_reply": "2024-06-24T16:08:07.622567Z"
        },
        "trusted": true,
        "id": "y0qldLjfyKjC",
        "outputId": "b6d5b0a6-c8e6-4508-f514-555cd9792207",
        "colab": {
          "base_uri": "https://localhost:8080/"
        }
      },
      "execution_count": 13,
      "outputs": [
        {
          "output_type": "stream",
          "name": "stdout",
          "text": [
            "Number of duplicated rows: 105606\n"
          ]
        }
      ]
    },
    {
      "cell_type": "code",
      "source": [
        "\n",
        "# Remove duplicates and handle missing values\n",
        "df.drop_duplicates(inplace=True)\n",
        "df.dropna(inplace=True)"
      ],
      "metadata": {
        "execution": {
          "iopub.status.busy": "2024-06-24T16:08:07.625699Z",
          "iopub.execute_input": "2024-06-24T16:08:07.626195Z",
          "iopub.status.idle": "2024-06-24T16:08:19.704399Z",
          "shell.execute_reply.started": "2024-06-24T16:08:07.626151Z",
          "shell.execute_reply": "2024-06-24T16:08:19.703093Z"
        },
        "trusted": true,
        "id": "pANr3ofHyKjD"
      },
      "execution_count": 14,
      "outputs": []
    },
    {
      "cell_type": "code",
      "source": [
        "# Extract datetime features\n",
        "df['month'] = df['datetime'].dt.month\n",
        "df['day'] = df['datetime'].dt.day\n",
        "df['hour'] = df['datetime'].dt.hour\n",
        "df['minute'] = df['datetime'].dt.minute\n",
        "df['second'] = df['datetime'].dt.second"
      ],
      "metadata": {
        "execution": {
          "iopub.status.busy": "2024-06-24T16:08:23.986494Z",
          "iopub.execute_input": "2024-06-24T16:08:23.986897Z",
          "iopub.status.idle": "2024-06-24T16:08:25.539143Z",
          "shell.execute_reply.started": "2024-06-24T16:08:23.986864Z",
          "shell.execute_reply": "2024-06-24T16:08:25.537767Z"
        },
        "trusted": true,
        "id": "OPC1RvECyKjE"
      },
      "execution_count": 15,
      "outputs": []
    },
    {
      "cell_type": "code",
      "source": [
        "# Drop unnecessary columns\n",
        "df.drop(['datetime', 'id'], axis=1, inplace=True)"
      ],
      "metadata": {
        "execution": {
          "iopub.status.busy": "2024-06-24T16:08:29.962494Z",
          "iopub.execute_input": "2024-06-24T16:08:29.963885Z",
          "iopub.status.idle": "2024-06-24T16:08:30.457332Z",
          "shell.execute_reply.started": "2024-06-24T16:08:29.963841Z",
          "shell.execute_reply": "2024-06-24T16:08:30.456124Z"
        },
        "trusted": true,
        "id": "Mqpuptt7yKjF"
      },
      "execution_count": 16,
      "outputs": []
    },
    {
      "cell_type": "markdown",
      "source": [
        "Exploratory Data Analysis"
      ],
      "metadata": {
        "id": "UxxUObGLyKjG"
      }
    },
    {
      "cell_type": "code",
      "source": [
        "sns.distplot(df['X'])"
      ],
      "metadata": {
        "execution": {
          "iopub.status.busy": "2024-06-24T16:08:35.109074Z",
          "iopub.execute_input": "2024-06-24T16:08:35.109532Z",
          "iopub.status.idle": "2024-06-24T16:09:26.43058Z",
          "shell.execute_reply.started": "2024-06-24T16:08:35.109496Z",
          "shell.execute_reply": "2024-06-24T16:09:26.429318Z"
        },
        "trusted": true,
        "id": "C2V90xoJyKjP",
        "outputId": "5ac497b2-c5ab-4427-c332-f4e9ba74a395",
        "colab": {
          "base_uri": "https://localhost:8080/",
          "height": 657
        }
      },
      "execution_count": 17,
      "outputs": [
        {
          "output_type": "stream",
          "name": "stderr",
          "text": [
            "<ipython-input-17-a2b9352c5d7f>:1: UserWarning: \n",
            "\n",
            "`distplot` is a deprecated function and will be removed in seaborn v0.14.0.\n",
            "\n",
            "Please adapt your code to use either `displot` (a figure-level function with\n",
            "similar flexibility) or `histplot` (an axes-level function for histograms).\n",
            "\n",
            "For a guide to updating your code to use the new functions, please see\n",
            "https://gist.github.com/mwaskom/de44147ed2974457ad6372750bbe5751\n",
            "\n",
            "  sns.distplot(df['X'])\n"
          ]
        },
        {
          "output_type": "execute_result",
          "data": {
            "text/plain": [
              "<Axes: xlabel='X', ylabel='Density'>"
            ]
          },
          "metadata": {},
          "execution_count": 17
        },
        {
          "output_type": "display_data",
          "data": {
            "text/plain": [
              "<Figure size 640x480 with 1 Axes>"
            ],
            "image/png": "[encoded data removed]"
          },
          "metadata": {}
        }
      ]
    },
    {
      "cell_type": "code",
      "source": [
        "sns.distplot(df['Y'])"
      ],
      "metadata": {
        "execution": {
          "iopub.status.busy": "2024-06-24T16:09:26.433022Z",
          "iopub.execute_input": "2024-06-24T16:09:26.433539Z",
          "iopub.status.idle": "2024-06-24T16:10:17.700021Z",
          "shell.execute_reply.started": "2024-06-24T16:09:26.433494Z",
          "shell.execute_reply": "2024-06-24T16:10:17.698624Z"
        },
        "trusted": true,
        "id": "79Q6Xv1iyKjP",
        "outputId": "27202abc-3424-42c6-e385-bb7e8b2a9c0a",
        "colab": {
          "base_uri": "https://localhost:8080/",
          "height": 658
        }
      },
      "execution_count": 18,
      "outputs": [
        {
          "output_type": "stream",
          "name": "stderr",
          "text": [
            "<ipython-input-18-872cac5ad94b>:1: UserWarning: \n",
            "\n",
            "`distplot` is a deprecated function and will be removed in seaborn v0.14.0.\n",
            "\n",
            "Please adapt your code to use either `displot` (a figure-level function with\n",
            "similar flexibility) or `histplot` (an axes-level function for histograms).\n",
            "\n",
            "For a guide to updating your code to use the new functions, please see\n",
            "https://gist.github.com/mwaskom/de44147ed2974457ad6372750bbe5751\n",
            "\n",
            "  sns.distplot(df['Y'])\n"
          ]
        },
        {
          "output_type": "execute_result",
          "data": {
            "text/plain": [
              "<Axes: xlabel='Y', ylabel='Density'>"
            ]
          },
          "metadata": {},
          "execution_count": 18
        },
        {
          "output_type": "display_data",
          "data": {
            "text/plain": [
              "<Figure size 640x480 with 1 Axes>"
            ],
            "image/png": "[encoded data removed]"
          },
          "metadata": {}
        }
      ]
    },
    {
      "cell_type": "code",
      "source": [
        "sns.distplot(df['EDA'])"
      ],
      "metadata": {
        "execution": {
          "iopub.status.busy": "2024-06-24T16:10:17.701725Z",
          "iopub.execute_input": "2024-06-24T16:10:17.702209Z",
          "iopub.status.idle": "2024-06-24T16:11:06.251911Z",
          "shell.execute_reply.started": "2024-06-24T16:10:17.702167Z",
          "shell.execute_reply": "2024-06-24T16:11:06.250625Z"
        },
        "trusted": true,
        "id": "bQ6HsABIyKjR",
        "outputId": "b211c1d6-6b6c-44c3-90d8-8de163ab1595",
        "colab": {
          "base_uri": "https://localhost:8080/",
          "height": 657
        }
      },
      "execution_count": 19,
      "outputs": [
        {
          "output_type": "stream",
          "name": "stderr",
          "text": [
            "<ipython-input-19-35d55cf5293c>:1: UserWarning: \n",
            "\n",
            "`distplot` is a deprecated function and will be removed in seaborn v0.14.0.\n",
            "\n",
            "Please adapt your code to use either `displot` (a figure-level function with\n",
            "similar flexibility) or `histplot` (an axes-level function for histograms).\n",
            "\n",
            "For a guide to updating your code to use the new functions, please see\n",
            "https://gist.github.com/mwaskom/de44147ed2974457ad6372750bbe5751\n",
            "\n",
            "  sns.distplot(df['EDA'])\n"
          ]
        },
        {
          "output_type": "execute_result",
          "data": {
            "text/plain": [
              "<Axes: xlabel='EDA', ylabel='Density'>"
            ]
          },
          "metadata": {},
          "execution_count": 19
        },
        {
          "output_type": "display_data",
          "data": {
            "text/plain": [
              "<Figure size 640x480 with 1 Axes>"
            ],
            "image/png": "[encoded data removed]"
          },
          "metadata": {}
        }
      ]
    },
    {
      "cell_type": "code",
      "source": [
        "sns.distplot(df['HR'])"
      ],
      "metadata": {
        "execution": {
          "iopub.status.busy": "2024-06-24T16:11:06.25476Z",
          "iopub.execute_input": "2024-06-24T16:11:06.25522Z",
          "iopub.status.idle": "2024-06-24T16:11:56.170177Z",
          "shell.execute_reply.started": "2024-06-24T16:11:06.255185Z",
          "shell.execute_reply": "2024-06-24T16:11:56.16878Z"
        },
        "trusted": true,
        "id": "s1bJ4CAWyKjS",
        "outputId": "982fefcc-882e-41ea-b2cb-0e740a7cbcc0",
        "colab": {
          "base_uri": "https://localhost:8080/",
          "height": 657
        }
      },
      "execution_count": 20,
      "outputs": [
        {
          "output_type": "stream",
          "name": "stderr",
          "text": [
            "<ipython-input-20-7a31c5f1f151>:1: UserWarning: \n",
            "\n",
            "`distplot` is a deprecated function and will be removed in seaborn v0.14.0.\n",
            "\n",
            "Please adapt your code to use either `displot` (a figure-level function with\n",
            "similar flexibility) or `histplot` (an axes-level function for histograms).\n",
            "\n",
            "For a guide to updating your code to use the new functions, please see\n",
            "https://gist.github.com/mwaskom/de44147ed2974457ad6372750bbe5751\n",
            "\n",
            "  sns.distplot(df['HR'])\n"
          ]
        },
        {
          "output_type": "execute_result",
          "data": {
            "text/plain": [
              "<Axes: xlabel='HR', ylabel='Density'>"
            ]
          },
          "metadata": {},
          "execution_count": 20
        },
        {
          "output_type": "display_data",
          "data": {
            "text/plain": [
              "<Figure size 640x480 with 1 Axes>"
            ],
            "image/png": "[encoded data removed]"
          },
          "metadata": {}
        }
      ]
    },
    {
      "cell_type": "code",
      "source": [
        "sns.distplot(df['TEMP'])"
      ],
      "metadata": {
        "execution": {
          "iopub.status.busy": "2024-06-24T16:11:56.171777Z",
          "iopub.execute_input": "2024-06-24T16:11:56.172241Z",
          "iopub.status.idle": "2024-06-24T16:12:46.692243Z",
          "shell.execute_reply.started": "2024-06-24T16:11:56.172201Z",
          "shell.execute_reply": "2024-06-24T16:12:46.691092Z"
        },
        "trusted": true,
        "id": "HGVHeDGQyKjT",
        "outputId": "98621cb1-443a-4ccb-f06e-34e6c4d77837",
        "colab": {
          "base_uri": "https://localhost:8080/",
          "height": 657
        }
      },
      "execution_count": 21,
      "outputs": [
        {
          "output_type": "stream",
          "name": "stderr",
          "text": [
            "<ipython-input-21-adc904bfd6a8>:1: UserWarning: \n",
            "\n",
            "`distplot` is a deprecated function and will be removed in seaborn v0.14.0.\n",
            "\n",
            "Please adapt your code to use either `displot` (a figure-level function with\n",
            "similar flexibility) or `histplot` (an axes-level function for histograms).\n",
            "\n",
            "For a guide to updating your code to use the new functions, please see\n",
            "https://gist.github.com/mwaskom/de44147ed2974457ad6372750bbe5751\n",
            "\n",
            "  sns.distplot(df['TEMP'])\n"
          ]
        },
        {
          "output_type": "execute_result",
          "data": {
            "text/plain": [
              "<Axes: xlabel='TEMP', ylabel='Density'>"
            ]
          },
          "metadata": {},
          "execution_count": 21
        },
        {
          "output_type": "display_data",
          "data": {
            "text/plain": [
              "<Figure size 640x480 with 1 Axes>"
            ],
            "image/png": "[encoded data removed]"
          },
          "metadata": {}
        }
      ]
    },
    {
      "cell_type": "code",
      "source": [
        "df['label'].value_counts()"
      ],
      "metadata": {
        "execution": {
          "iopub.status.busy": "2024-06-24T16:12:46.693658Z",
          "iopub.execute_input": "2024-06-24T16:12:46.694302Z",
          "iopub.status.idle": "2024-06-24T16:12:46.875924Z",
          "shell.execute_reply.started": "2024-06-24T16:12:46.694267Z",
          "shell.execute_reply": "2024-06-24T16:12:46.874395Z"
        },
        "trusted": true,
        "id": "2dljqVVWyKjT",
        "outputId": "2fa65e62-c7f7-46b8-ad0f-ab12b2fb83f2",
        "colab": {
          "base_uri": "https://localhost:8080/"
        }
      },
      "execution_count": 22,
      "outputs": [
        {
          "output_type": "execute_result",
          "data": {
            "text/plain": [
              "label\n",
              "2.0    8467619\n",
              "0.0    2162245\n",
              "1.0     773581\n",
              "Name: count, dtype: int64"
            ]
          },
          "metadata": {},
          "execution_count": 22
        }
      ]
    },
    {
      "cell_type": "code",
      "source": [
        "df['label'].value_counts().plot(kind='bar')\n",
        "plt.title('Frequency of Each Category')\n",
        "plt.ylabel('Frequency')"
      ],
      "metadata": {
        "execution": {
          "iopub.status.busy": "2024-06-24T16:12:46.87745Z",
          "iopub.execute_input": "2024-06-24T16:12:46.877793Z",
          "iopub.status.idle": "2024-06-24T16:12:47.430201Z",
          "shell.execute_reply.started": "2024-06-24T16:12:46.877765Z",
          "shell.execute_reply": "2024-06-24T16:12:47.429018Z"
        },
        "trusted": true,
        "id": "qjNeiSq_yKjT",
        "outputId": "453ea4b0-6fbb-4dd1-bf10-ba97c8c5cbe2",
        "colab": {
          "base_uri": "https://localhost:8080/",
          "height": 497
        }
      },
      "execution_count": 23,
      "outputs": [
        {
          "output_type": "execute_result",
          "data": {
            "text/plain": [
              "Text(0, 0.5, 'Frequency')"
            ]
          },
          "metadata": {},
          "execution_count": 23
        },
        {
          "output_type": "display_data",
          "data": {
            "text/plain": [
              "<Figure size 640x480 with 1 Axes>"
            ],
            "image/png": "[encoded data removed]"
          },
          "metadata": {}
        }
      ]
    },
    {
      "cell_type": "code",
      "source": [
        "# Correlation matrix\n",
        "corr_mat = df.corr().round(2)\n",
        "# Correlation matrix\n",
        "corr_mat"
      ],
      "metadata": {
        "execution": {
          "iopub.status.busy": "2024-06-24T16:12:47.431418Z",
          "iopub.execute_input": "2024-06-24T16:12:47.431756Z",
          "iopub.status.idle": "2024-06-24T16:12:52.757969Z",
          "shell.execute_reply.started": "2024-06-24T16:12:47.431728Z",
          "shell.execute_reply": "2024-06-24T16:12:52.756735Z"
        },
        "trusted": true,
        "id": "CsHz0zBfyKjU",
        "outputId": "eec577f9-efb0-4092-bc1b-9afdab76ce7a",
        "colab": {
          "base_uri": "https://localhost:8080/",
          "height": 425
        }
      },
      "execution_count": 24,
      "outputs": [
        {
          "output_type": "execute_result",
          "data": {
            "text/plain": [
              "           X     Y     Z   EDA    HR  TEMP  label  month   day  hour  minute  \\\n",
              "X       1.00  0.06  0.20  0.10  0.13  0.03  -0.01   0.12 -0.15  0.10   -0.01   \n",
              "Y       0.06  1.00  0.02 -0.09 -0.07 -0.08  -0.02  -0.07  0.05  0.15   -0.04   \n",
              "Z       0.20  0.02  1.00  0.01 -0.10 -0.03  -0.06  -0.05 -0.03  0.07    0.02   \n",
              "EDA     0.10 -0.09  0.01  1.00  0.14  0.35   0.05  -0.10  0.02 -0.10    0.03   \n",
              "HR      0.13 -0.07 -0.10  0.14  1.00  0.16  -0.03   0.03  0.08 -0.06   -0.01   \n",
              "TEMP    0.03 -0.08 -0.03  0.35  0.16  1.00   0.14   0.18 -0.11 -0.25   -0.00   \n",
              "label  -0.01 -0.02 -0.06  0.05 -0.03  0.14   1.00   0.15 -0.08 -0.26   -0.02   \n",
              "month   0.12 -0.07 -0.05 -0.10  0.03  0.18   0.15   1.00 -0.45 -0.60   -0.01   \n",
              "day    -0.15  0.05 -0.03  0.02  0.08 -0.11  -0.08  -0.45  1.00  0.16    0.03   \n",
              "hour    0.10  0.15  0.07 -0.10 -0.06 -0.25  -0.26  -0.60  0.16  1.00   -0.05   \n",
              "minute -0.01 -0.04  0.02  0.03 -0.01 -0.00  -0.02  -0.01  0.03 -0.05    1.00   \n",
              "second  0.00 -0.00  0.00 -0.00 -0.00 -0.00  -0.00  -0.00  0.00  0.00   -0.00   \n",
              "\n",
              "        second  \n",
              "X          0.0  \n",
              "Y         -0.0  \n",
              "Z          0.0  \n",
              "EDA       -0.0  \n",
              "HR        -0.0  \n",
              "TEMP      -0.0  \n",
              "label     -0.0  \n",
              "month     -0.0  \n",
              "day        0.0  \n",
              "hour       0.0  \n",
              "minute    -0.0  \n",
              "second     1.0  "
            ],
            "text/html": [
              "\n",
              "  <div id=\"df-ec4df739-55a4-4ad8-b4fa-68e4ae80d851\" class=\"colab-df-container\">\n",
              "    <div>\n",
              "<style scoped>\n",
              "    .dataframe tbody tr th:only-of-type {\n",
              "        vertical-align: middle;\n",
              "    }\n",
              "\n",
              "    .dataframe tbody tr th {\n",
              "        vertical-align: top;\n",
              "    }\n",
              "\n",
              "    .dataframe thead th {\n",
              "        text-align: right;\n",
              "    }\n",
              "</style>\n",
              "<table border=\"1\" class=\"dataframe\">\n",
              "  <thead>\n",
              "    <tr style=\"text-align: right;\">\n",
              "      <th></th>\n",
              "      <th>X</th>\n",
              "      <th>Y</th>\n",
              "      <th>Z</th>\n",
              "      <th>EDA</th>\n",
              "      <th>HR</th>\n",
              "      <th>TEMP</th>\n",
              "      <th>label</th>\n",
              "      <th>month</th>\n",
              "      <th>day</th>\n",
              "      <th>hour</th>\n",
              "      <th>minute</th>\n",
              "      <th>second</th>\n",
              "    </tr>\n",
              "  </thead>\n",
              "  <tbody>\n",
              "    <tr>\n",
              "      <th>X</th>\n",
              "      <td>1.00</td>\n",
              "      <td>0.06</td>\n",
              "      <td>0.20</td>\n",
              "      <td>0.10</td>\n",
              "      <td>0.13</td>\n",
              "      <td>0.03</td>\n",
              "      <td>-0.01</td>\n",
              "      <td>0.12</td>\n",
              "      <td>-0.15</td>\n",
              "      <td>0.10</td>\n",
              "      <td>-0.01</td>\n",
              "      <td>0.0</td>\n",
              "    </tr>\n",
              "    <tr>\n",
              "      <th>Y</th>\n",
              "      <td>0.06</td>\n",
              "      <td>1.00</td>\n",
              "      <td>0.02</td>\n",
              "      <td>-0.09</td>\n",
              "      <td>-0.07</td>\n",
              "      <td>-0.08</td>\n",
              "      <td>-0.02</td>\n",
              "      <td>-0.07</td>\n",
              "      <td>0.05</td>\n",
              "      <td>0.15</td>\n",
              "      <td>-0.04</td>\n",
              "      <td>-0.0</td>\n",
              "    </tr>\n",
              "    <tr>\n",
              "      <th>Z</th>\n",
              "      <td>0.20</td>\n",
              "      <td>0.02</td>\n",
              "      <td>1.00</td>\n",
              "      <td>0.01</td>\n",
              "      <td>-0.10</td>\n",
              "      <td>-0.03</td>\n",
              "      <td>-0.06</td>\n",
              "      <td>-0.05</td>\n",
              "      <td>-0.03</td>\n",
              "      <td>0.07</td>\n",
              "      <td>0.02</td>\n",
              "      <td>0.0</td>\n",
              "    </tr>\n",
              "    <tr>\n",
              "      <th>EDA</th>\n",
              "      <td>0.10</td>\n",
              "      <td>-0.09</td>\n",
              "      <td>0.01</td>\n",
              "      <td>1.00</td>\n",
              "      <td>0.14</td>\n",
              "      <td>0.35</td>\n",
              "      <td>0.05</td>\n",
              "      <td>-0.10</td>\n",
              "      <td>0.02</td>\n",
              "      <td>-0.10</td>\n",
              "      <td>0.03</td>\n",
              "      <td>-0.0</td>\n",
              "    </tr>\n",
              "    <tr>\n",
              "      <th>HR</th>\n",
              "      <td>0.13</td>\n",
              "      <td>-0.07</td>\n",
              "      <td>-0.10</td>\n",
              "      <td>0.14</td>\n",
              "      <td>1.00</td>\n",
              "      <td>0.16</td>\n",
              "      <td>-0.03</td>\n",
              "      <td>0.03</td>\n",
              "      <td>0.08</td>\n",
              "      <td>-0.06</td>\n",
              "      <td>-0.01</td>\n",
              "      <td>-0.0</td>\n",
              "    </tr>\n",
              "    <tr>\n",
              "      <th>TEMP</th>\n",
              "      <td>0.03</td>\n",
              "      <td>-0.08</td>\n",
              "      <td>-0.03</td>\n",
              "      <td>0.35</td>\n",
              "      <td>0.16</td>\n",
              "      <td>1.00</td>\n",
              "      <td>0.14</td>\n",
              "      <td>0.18</td>\n",
              "      <td>-0.11</td>\n",
              "      <td>-0.25</td>\n",
              "      <td>-0.00</td>\n",
              "      <td>-0.0</td>\n",
              "    </tr>\n",
              "    <tr>\n",
              "      <th>label</th>\n",
              "      <td>-0.01</td>\n",
              "      <td>-0.02</td>\n",
              "      <td>-0.06</td>\n",
              "      <td>0.05</td>\n",
              "      <td>-0.03</td>\n",
              "      <td>0.14</td>\n",
              "      <td>1.00</td>\n",
              "      <td>0.15</td>\n",
              "      <td>-0.08</td>\n",
              "      <td>-0.26</td>\n",
              "      <td>-0.02</td>\n",
              "      <td>-0.0</td>\n",
              "    </tr>\n",
              "    <tr>\n",
              "      <th>month</th>\n",
              "      <td>0.12</td>\n",
              "      <td>-0.07</td>\n",
              "      <td>-0.05</td>\n",
              "      <td>-0.10</td>\n",
              "      <td>0.03</td>\n",
              "      <td>0.18</td>\n",
              "      <td>0.15</td>\n",
              "      <td>1.00</td>\n",
              "      <td>-0.45</td>\n",
              "      <td>-0.60</td>\n",
              "      <td>-0.01</td>\n",
              "      <td>-0.0</td>\n",
              "    </tr>\n",
              "    <tr>\n",
              "      <th>day</th>\n",
              "      <td>-0.15</td>\n",
              "      <td>0.05</td>\n",
              "      <td>-0.03</td>\n",
              "      <td>0.02</td>\n",
              "      <td>0.08</td>\n",
              "      <td>-0.11</td>\n",
              "      <td>-0.08</td>\n",
              "      <td>-0.45</td>\n",
              "      <td>1.00</td>\n",
              "      <td>0.16</td>\n",
              "      <td>0.03</td>\n",
              "      <td>0.0</td>\n",
              "    </tr>\n",
              "    <tr>\n",
              "      <th>hour</th>\n",
              "      <td>0.10</td>\n",
              "      <td>0.15</td>\n",
              "      <td>0.07</td>\n",
              "      <td>-0.10</td>\n",
              "      <td>-0.06</td>\n",
              "      <td>-0.25</td>\n",
              "      <td>-0.26</td>\n",
              "      <td>-0.60</td>\n",
              "      <td>0.16</td>\n",
              "      <td>1.00</td>\n",
              "      <td>-0.05</td>\n",
              "      <td>0.0</td>\n",
              "    </tr>\n",
              "    <tr>\n",
              "      <th>minute</th>\n",
              "      <td>-0.01</td>\n",
              "      <td>-0.04</td>\n",
              "      <td>0.02</td>\n",
              "      <td>0.03</td>\n",
              "      <td>-0.01</td>\n",
              "      <td>-0.00</td>\n",
              "      <td>-0.02</td>\n",
              "      <td>-0.01</td>\n",
              "      <td>0.03</td>\n",
              "      <td>-0.05</td>\n",
              "      <td>1.00</td>\n",
              "      <td>-0.0</td>\n",
              "    </tr>\n",
              "    <tr>\n",
              "      <th>second</th>\n",
              "      <td>0.00</td>\n",
              "      <td>-0.00</td>\n",
              "      <td>0.00</td>\n",
              "      <td>-0.00</td>\n",
              "      <td>-0.00</td>\n",
              "      <td>-0.00</td>\n",
              "      <td>-0.00</td>\n",
              "      <td>-0.00</td>\n",
              "      <td>0.00</td>\n",
              "      <td>0.00</td>\n",
              "      <td>-0.00</td>\n",
              "      <td>1.0</td>\n",
              "    </tr>\n",
              "  </tbody>\n",
              "</table>\n",
              "</div>\n",
              "    <div class=\"colab-df-buttons\">\n",
              "\n",
              "  <div class=\"colab-df-container\">\n",
              "    <button class=\"colab-df-convert\" onclick=\"convertToInteractive('df-ec4df739-55a4-4ad8-b4fa-68e4ae80d851')\"\n",
              "            title=\"Convert this dataframe to an interactive table.\"\n",
              "            style=\"display:none;\">\n",
              "\n",
              "  <svg xmlns=\"http://www.w3.org/2000/svg\" height=\"24px\" viewBox=\"0 -960 960 960\">\n",
              "    <path d=\"M120-120v-720h720v720H120Zm60-500h600v-160H180v160Zm220 220h160v-160H400v160Zm0 220h160v-160H400v160ZM180-400h160v-160H180v160Zm440 0h160v-160H620v160ZM180-180h160v-160H180v160Zm440 0h160v-160H620v160Z\"/>\n",
              "  </svg>\n",
              "    </button>\n",
              "\n",
              "  <style>\n",
              "    .colab-df-container {\n",
              "      display:flex;\n",
              "      gap: 12px;\n",
              "    }\n",
              "\n",
              "    .colab-df-convert {\n",
              "      background-color: #E8F0FE;\n",
              "      border: none;\n",
              "      border-radius: 50%;\n",
              "      cursor: pointer;\n",
              "      display: none;\n",
              "      fill: #1967D2;\n",
              "      height: 32px;\n",
              "      padding: 0 0 0 0;\n",
              "      width: 32px;\n",
              "    }\n",
              "\n",
              "    .colab-df-convert:hover {\n",
              "      background-color: #E2EBFA;\n",
              "      box-shadow: 0px 1px 2px rgba(60, 64, 67, 0.3), 0px 1px 3px 1px rgba(60, 64, 67, 0.15);\n",
              "      fill: #174EA6;\n",
              "    }\n",
              "\n",
              "    .colab-df-buttons div {\n",
              "      margin-bottom: 4px;\n",
              "    }\n",
              "\n",
              "    [theme=dark] .colab-df-convert {\n",
              "      background-color: #3B4455;\n",
              "      fill: #D2E3FC;\n",
              "    }\n",
              "\n",
              "    [theme=dark] .colab-df-convert:hover {\n",
              "      background-color: #434B5C;\n",
              "      box-shadow: 0px 1px 3px 1px rgba(0, 0, 0, 0.15);\n",
              "      filter: drop-shadow(0px 1px 2px rgba(0, 0, 0, 0.3));\n",
              "      fill: #FFFFFF;\n",
              "    }\n",
              "  </style>\n",
              "\n",
              "    <script>\n",
              "      const buttonEl =\n",
              "        document.querySelector('#df-ec4df739-55a4-4ad8-b4fa-68e4ae80d851 button.colab-df-convert');\n",
              "      buttonEl.style.display =\n",
              "        google.colab.kernel.accessAllowed ? 'block' : 'none';\n",
              "\n",
              "      async function convertToInteractive(key) {\n",
              "        const element = document.querySelector('#df-ec4df739-55a4-4ad8-b4fa-68e4ae80d851');\n",
              "        const dataTable =\n",
              "          await google.colab.kernel.invokeFunction('convertToInteractive',\n",
              "                                                    [key], {});\n",
              "        if (!dataTable) return;\n",
              "\n",
              "        const docLinkHtml = 'Like what you see? Visit the ' +\n",
              "          '<a target=\"_blank\" href=https://colab.research.google.com/notebooks/data_table.ipynb>data table notebook</a>'\n",
              "          + ' to learn more about interactive tables.';\n",
              "        element.innerHTML = '';\n",
              "        dataTable['output_type'] = 'display_data';\n",
              "        await google.colab.output.renderOutput(dataTable, element);\n",
              "        const docLink = document.createElement('div');\n",
              "        docLink.innerHTML = docLinkHtml;\n",
              "        element.appendChild(docLink);\n",
              "      }\n",
              "    </script>\n",
              "  </div>\n",
              "\n",
              "\n",
              "<div id=\"df-7343d0ba-591a-4a81-8830-5753484ca0a3\">\n",
              "  <button class=\"colab-df-quickchart\" onclick=\"quickchart('df-7343d0ba-591a-4a81-8830-5753484ca0a3')\"\n",
              "            title=\"Suggest charts\"\n",
              "            style=\"display:none;\">\n",
              "\n",
              "<svg xmlns=\"http://www.w3.org/2000/svg\" height=\"24px\"viewBox=\"0 0 24 24\"\n",
              "     width=\"24px\">\n",
              "    <g>\n",
              "        <path d=\"M19 3H5c-1.1 0-2 .9-2 2v14c0 1.1.9 2 2 2h14c1.1 0 2-.9 2-2V5c0-1.1-.9-2-2-2zM9 17H7v-7h2v7zm4 0h-2V7h2v10zm4 0h-2v-4h2v4z\"/>\n",
              "    </g>\n",
              "</svg>\n",
              "  </button>\n",
              "\n",
              "<style>\n",
              "  .colab-df-quickchart {\n",
              "      --bg-color: #E8F0FE;\n",
              "      --fill-color: #1967D2;\n",
              "      --hover-bg-color: #E2EBFA;\n",
              "      --hover-fill-color: #174EA6;\n",
              "      --disabled-fill-color: #AAA;\n",
              "      --disabled-bg-color: #DDD;\n",
              "  }\n",
              "\n",
              "  [theme=dark] .colab-df-quickchart {\n",
              "      --bg-color: #3B4455;\n",
              "      --fill-color: #D2E3FC;\n",
              "      --hover-bg-color: #434B5C;\n",
              "      --hover-fill-color: #FFFFFF;\n",
              "      --disabled-bg-color: #3B4455;\n",
              "      --disabled-fill-color: #666;\n",
              "  }\n",
              "\n",
              "  .colab-df-quickchart {\n",
              "    background-color: var(--bg-color);\n",
              "    border: none;\n",
              "    border-radius: 50%;\n",
              "    cursor: pointer;\n",
              "    display: none;\n",
              "    fill: var(--fill-color);\n",
              "    height: 32px;\n",
              "    padding: 0;\n",
              "    width: 32px;\n",
              "  }\n",
              "\n",
              "  .colab-df-quickchart:hover {\n",
              "    background-color: var(--hover-bg-color);\n",
              "    box-shadow: 0 1px 2px rgba(60, 64, 67, 0.3), 0 1px 3px 1px rgba(60, 64, 67, 0.15);\n",
              "    fill: var(--button-hover-fill-color);\n",
              "  }\n",
              "\n",
              "  .colab-df-quickchart-complete:disabled,\n",
              "  .colab-df-quickchart-complete:disabled:hover {\n",
              "    background-color: var(--disabled-bg-color);\n",
              "    fill: var(--disabled-fill-color);\n",
              "    box-shadow: none;\n",
              "  }\n",
              "\n",
              "  .colab-df-spinner {\n",
              "    border: 2px solid var(--fill-color);\n",
              "    border-color: transparent;\n",
              "    border-bottom-color: var(--fill-color);\n",
              "    animation:\n",
              "      spin 1s steps(1) infinite;\n",
              "  }\n",
              "\n",
              "  @keyframes spin {\n",
              "    0% {\n",
              "      border-color: transparent;\n",
              "      border-bottom-color: var(--fill-color);\n",
              "      border-left-color: var(--fill-color);\n",
              "    }\n",
              "    20% {\n",
              "      border-color: transparent;\n",
              "      border-left-color: var(--fill-color);\n",
              "      border-top-color: var(--fill-color);\n",
              "    }\n",
              "    30% {\n",
              "      border-color: transparent;\n",
              "      border-left-color: var(--fill-color);\n",
              "      border-top-color: var(--fill-color);\n",
              "      border-right-color: var(--fill-color);\n",
              "    }\n",
              "    40% {\n",
              "      border-color: transparent;\n",
              "      border-right-color: var(--fill-color);\n",
              "      border-top-color: var(--fill-color);\n",
              "    }\n",
              "    60% {\n",
              "      border-color: transparent;\n",
              "      border-right-color: var(--fill-color);\n",
              "    }\n",
              "    80% {\n",
              "      border-color: transparent;\n",
              "      border-right-color: var(--fill-color);\n",
              "      border-bottom-color: var(--fill-color);\n",
              "    }\n",
              "    90% {\n",
              "      border-color: transparent;\n",
              "      border-bottom-color: var(--fill-color);\n",
              "    }\n",
              "  }\n",
              "</style>\n",
              "\n",
              "  <script>\n",
              "    async function quickchart(key) {\n",
              "      const quickchartButtonEl =\n",
              "        document.querySelector('#' + key + ' button');\n",
              "      quickchartButtonEl.disabled = true;  // To prevent multiple clicks.\n",
              "      quickchartButtonEl.classList.add('colab-df-spinner');\n",
              "      try {\n",
              "        const charts = await google.colab.kernel.invokeFunction(\n",
              "            'suggestCharts', [key], {});\n",
              "      } catch (error) {\n",
              "        console.error('Error during call to suggestCharts:', error);\n",
              "      }\n",
              "      quickchartButtonEl.classList.remove('colab-df-spinner');\n",
              "      quickchartButtonEl.classList.add('colab-df-quickchart-complete');\n",
              "    }\n",
              "    (() => {\n",
              "      let quickchartButtonEl =\n",
              "        document.querySelector('#df-7343d0ba-591a-4a81-8830-5753484ca0a3 button');\n",
              "      quickchartButtonEl.style.display =\n",
              "        google.colab.kernel.accessAllowed ? 'block' : 'none';\n",
              "    })();\n",
              "  </script>\n",
              "</div>\n",
              "\n",
              "  <div id=\"id_dcd8181d-f1a9-41d0-9c13-d4a1d18f19c7\">\n",
              "    <style>\n",
              "      .colab-df-generate {\n",
              "        background-color: #E8F0FE;\n",
              "        border: none;\n",
              "        border-radius: 50%;\n",
              "        cursor: pointer;\n",
              "        display: none;\n",
              "        fill: #1967D2;\n",
              "        height: 32px;\n",
              "        padding: 0 0 0 0;\n",
              "        width: 32px;\n",
              "      }\n",
              "\n",
              "      .colab-df-generate:hover {\n",
              "        background-color: #E2EBFA;\n",
              "        box-shadow: 0px 1px 2px rgba(60, 64, 67, 0.3), 0px 1px 3px 1px rgba(60, 64, 67, 0.15);\n",
              "        fill: #174EA6;\n",
              "      }\n",
              "\n",
              "      [theme=dark] .colab-df-generate {\n",
              "        background-color: #3B4455;\n",
              "        fill: #D2E3FC;\n",
              "      }\n",
              "\n",
              "      [theme=dark] .colab-df-generate:hover {\n",
              "        background-color: #434B5C;\n",
              "        box-shadow: 0px 1px 3px 1px rgba(0, 0, 0, 0.15);\n",
              "        filter: drop-shadow(0px 1px 2px rgba(0, 0, 0, 0.3));\n",
              "        fill: #FFFFFF;\n",
              "      }\n",
              "    </style>\n",
              "    <button class=\"colab-df-generate\" onclick=\"generateWithVariable('corr_mat')\"\n",
              "            title=\"Generate code using this dataframe.\"\n",
              "            style=\"display:none;\">\n",
              "\n",
              "  <svg xmlns=\"http://www.w3.org/2000/svg\" height=\"24px\"viewBox=\"0 0 24 24\"\n",
              "       width=\"24px\">\n",
              "    <path d=\"M7,19H8.4L18.45,9,17,7.55,7,17.6ZM5,21V16.75L18.45,3.32a2,2,0,0,1,2.83,0l1.4,1.43a1.91,1.91,0,0,1,.58,1.4,1.91,1.91,0,0,1-.58,1.4L9.25,21ZM18.45,9,17,7.55Zm-12,3A5.31,5.31,0,0,0,4.9,8.1,5.31,5.31,0,0,0,1,6.5,5.31,5.31,0,0,0,4.9,4.9,5.31,5.31,0,0,0,6.5,1,5.31,5.31,0,0,0,8.1,4.9,5.31,5.31,0,0,0,12,6.5,5.46,5.46,0,0,0,6.5,12Z\"/>\n",
              "  </svg>\n",
              "    </button>\n",
              "    <script>\n",
              "      (() => {\n",
              "      const buttonEl =\n",
              "        document.querySelector('#id_dcd8181d-f1a9-41d0-9c13-d4a1d18f19c7 button.colab-df-generate');\n",
              "      buttonEl.style.display =\n",
              "        google.colab.kernel.accessAllowed ? 'block' : 'none';\n",
              "\n",
              "      buttonEl.onclick = () => {\n",
              "        google.colab.notebook.generateWithVariable('corr_mat');\n",
              "      }\n",
              "      })();\n",
              "    </script>\n",
              "  </div>\n",
              "\n",
              "    </div>\n",
              "  </div>\n"
            ],
            "application/vnd.google.colaboratory.intrinsic+json": {
              "type": "dataframe",
              "variable_name": "corr_mat",
              "summary": "{\n  \"name\": \"corr_mat\",\n  \"rows\": 12,\n  \"fields\": [\n    {\n      \"column\": \"X\",\n      \"properties\": {\n        \"dtype\": \"number\",\n        \"std\": 0.28811166816589245,\n        \"min\": -0.15,\n        \"max\": 1.0,\n        \"num_unique_values\": 10,\n        \"samples\": [\n          -0.15,\n          0.06,\n          0.03\n        ],\n        \"semantic_type\": \"\",\n        \"description\": \"\"\n      }\n    },\n    {\n      \"column\": \"Y\",\n      \"properties\": {\n        \"dtype\": \"number\",\n        \"std\": 0.299437604164672,\n        \"min\": -0.09,\n        \"max\": 1.0,\n        \"num_unique_values\": 11,\n        \"samples\": [\n          -0.08,\n          0.06,\n          -0.04\n        ],\n        \"semantic_type\": \"\",\n        \"description\": \"\"\n      }\n    },\n    {\n      \"column\": \"Z\",\n      \"properties\": {\n        \"dtype\": \"number\",\n        \"std\": 0.29723345584359656,\n        \"min\": -0.1,\n        \"max\": 1.0,\n        \"num_unique_values\": 10,\n        \"samples\": [\n          0.07,\n          0.02,\n          -0.03\n        ],\n        \"semantic_type\": \"\",\n        \"description\": \"\"\n      }\n    },\n    {\n      \"column\": \"EDA\",\n      \"properties\": {\n        \"dtype\": \"number\",\n        \"std\": 0.30427633971291773,\n        \"min\": -0.1,\n        \"max\": 1.0,\n        \"num_unique_values\": 11,\n        \"samples\": [\n          0.35,\n          0.1,\n          0.03\n        ],\n        \"semantic_type\": \"\",\n        \"description\": \"\"\n      }\n    },\n    {\n      \"column\": \"HR\",\n      \"properties\": {\n        \"dtype\": \"number\",\n        \"std\": 0.29457082288809544,\n        \"min\": -0.1,\n        \"max\": 1.0,\n        \"num_unique_values\": 12,\n        \"samples\": [\n          -0.01,\n          -0.06,\n          0.13\n        ],\n        \"semantic_type\": \"\",\n        \"description\": \"\"\n      }\n    },\n    {\n      \"column\": \"TEMP\",\n      \"properties\": {\n        \"dtype\": \"number\",\n        \"std\": 0.3193589696801258,\n        \"min\": -0.25,\n        \"max\": 1.0,\n        \"num_unique_values\": 11,\n        \"samples\": [\n          1.0,\n          0.03,\n          -0.25\n        ],\n        \"semantic_type\": \"\",\n        \"description\": \"\"\n      }\n    },\n    {\n      \"column\": \"label\",\n      \"properties\": {\n        \"dtype\": \"number\",\n        \"std\": 0.31077127904423196,\n        \"min\": -0.26,\n        \"max\": 1.0,\n        \"num_unique_values\": 11,\n        \"samples\": [\n          0.14,\n          -0.01,\n          -0.26\n        ],\n        \"semantic_type\": \"\",\n        \"description\": \"\"\n      }\n    },\n    {\n      \"column\": \"month\",\n      \"properties\": {\n        \"dtype\": \"number\",\n        \"std\": 0.3869304220595113,\n        \"min\": -0.6,\n        \"max\": 1.0,\n        \"num_unique_values\": 12,\n        \"samples\": [\n          -0.01,\n          -0.6,\n          0.12\n        ],\n        \"semantic_type\": \"\",\n        \"description\": \"\"\n      }\n    },\n    {\n      \"column\": \"day\",\n      \"properties\": {\n        \"dtype\": \"number\",\n        \"std\": 0.33813212407775356,\n        \"min\": -0.45,\n        \"max\": 1.0,\n        \"num_unique_values\": 12,\n        \"samples\": [\n          0.03,\n          0.16,\n          -0.15\n        ],\n        \"semantic_type\": \"\",\n        \"description\": \"\"\n      }\n    },\n    {\n      \"column\": \"hour\",\n      \"properties\": {\n        \"dtype\": \"number\",\n        \"std\": 0.3774395396094665,\n        \"min\": -0.6,\n        \"max\": 1.0,\n        \"num_unique_values\": 12,\n        \"samples\": [\n          -0.05,\n          1.0,\n          0.1\n        ],\n        \"semantic_type\": \"\",\n        \"description\": \"\"\n      }\n    },\n    {\n      \"column\": \"minute\",\n      \"properties\": {\n        \"dtype\": \"number\",\n        \"std\": 0.291292834020192,\n        \"min\": -0.05,\n        \"max\": 1.0,\n        \"num_unique_values\": 8,\n        \"samples\": [\n          -0.04,\n          -0.02,\n          -0.01\n        ],\n        \"semantic_type\": \"\",\n        \"description\": \"\"\n      }\n    },\n    {\n      \"column\": \"second\",\n      \"properties\": {\n        \"dtype\": \"number\",\n        \"std\": 0.28867513459481287,\n        \"min\": -0.0,\n        \"max\": 1.0,\n        \"num_unique_values\": 2,\n        \"samples\": [\n          1.0,\n          0.0\n        ],\n        \"semantic_type\": \"\",\n        \"description\": \"\"\n      }\n    }\n  ]\n}"
            }
          },
          "metadata": {},
          "execution_count": 24
        }
      ]
    },
    {
      "cell_type": "code",
      "source": [
        "plt.figure(figsize=(10, 8))\n",
        "sns.heatmap(corr_mat, annot=True, cmap='coolwarm')\n",
        "plt.title('Correlation Analysis Plot')\n",
        "plt.show()"
      ],
      "metadata": {
        "execution": {
          "iopub.status.busy": "2024-06-24T16:12:52.759524Z",
          "iopub.execute_input": "2024-06-24T16:12:52.759959Z",
          "iopub.status.idle": "2024-06-24T16:12:53.508546Z",
          "shell.execute_reply.started": "2024-06-24T16:12:52.759924Z",
          "shell.execute_reply": "2024-06-24T16:12:53.50734Z"
        },
        "trusted": true,
        "id": "4VzAncFJyKjU",
        "outputId": "96b4d117-643e-4013-8bc9-6884ee243e2c",
        "colab": {
          "base_uri": "https://localhost:8080/",
          "height": 699
        }
      },
      "execution_count": 30,
      "outputs": [
        {
          "output_type": "display_data",
          "data": {
            "text/plain": [
              "<Figure size 1000x800 with 2 Axes>"
            ],
            "image/png": "[encoded data removed]"
          },
          "metadata": {}
        }
      ]
    },
    {
      "cell_type": "code",
      "source": [
        "corr_mat['label']"
      ],
      "metadata": {
        "execution": {
          "iopub.status.busy": "2024-06-24T16:13:11.966359Z",
          "iopub.execute_input": "2024-06-24T16:13:11.966807Z",
          "iopub.status.idle": "2024-06-24T16:13:11.976314Z",
          "shell.execute_reply.started": "2024-06-24T16:13:11.966772Z",
          "shell.execute_reply": "2024-06-24T16:13:11.975025Z"
        },
        "trusted": true,
        "id": "-2Z8cvM0yKjV",
        "outputId": "2326f21b-4587-48c3-e793-4240a5a7b9ac",
        "colab": {
          "base_uri": "https://localhost:8080/"
        }
      },
      "execution_count": 26,
      "outputs": [
        {
          "output_type": "execute_result",
          "data": {
            "text/plain": [
              "X        -0.01\n",
              "Y        -0.02\n",
              "Z        -0.06\n",
              "EDA       0.05\n",
              "HR       -0.03\n",
              "TEMP      0.14\n",
              "label     1.00\n",
              "month     0.15\n",
              "day      -0.08\n",
              "hour     -0.26\n",
              "minute   -0.02\n",
              "second   -0.00\n",
              "Name: label, dtype: float64"
            ]
          },
          "metadata": {},
          "execution_count": 26
        }
      ]
    },
    {
      "cell_type": "code",
      "source": [
        "# Separate features and target\n",
        "X = df.drop('label', axis=1)\n",
        "y = df['label']"
      ],
      "metadata": {
        "execution": {
          "iopub.status.busy": "2024-06-24T16:15:00.262375Z",
          "iopub.execute_input": "2024-06-24T16:15:00.262844Z",
          "iopub.status.idle": "2024-06-24T16:15:00.706692Z",
          "shell.execute_reply.started": "2024-06-24T16:15:00.262808Z",
          "shell.execute_reply": "2024-06-24T16:15:00.705131Z"
        },
        "trusted": true,
        "id": "UCdQexP2yKjV"
      },
      "execution_count": 31,
      "outputs": []
    },
    {
      "cell_type": "code",
      "source": [
        "# Sample a subset of the data for initial training (e.g., 1% of the data)\n",
        "sample_frac = 0.01\n",
        "X_sampled, _, y_sampled, _ = train_test_split(X, y, test_size=1-sample_frac, stratify=y, random_state=42)\n"
      ],
      "metadata": {
        "execution": {
          "iopub.status.busy": "2024-06-24T16:15:01.814272Z",
          "iopub.execute_input": "2024-06-24T16:15:01.814702Z",
          "iopub.status.idle": "2024-06-24T16:15:10.683805Z",
          "shell.execute_reply.started": "2024-06-24T16:15:01.814671Z",
          "shell.execute_reply": "2024-06-24T16:15:10.682257Z"
        },
        "trusted": true,
        "id": "KBbQ17HwyKjW"
      },
      "execution_count": 32,
      "outputs": []
    },
    {
      "cell_type": "code",
      "source": [
        "# Handle imbalanced data\n",
        "over_sample = RandomOverSampler(random_state=42)\n",
        "X_sampled, y_sampled = over_sample.fit_resample(X_sampled, y_sampled)\n"
      ],
      "metadata": {
        "execution": {
          "iopub.status.busy": "2024-06-24T16:15:13.274943Z",
          "iopub.execute_input": "2024-06-24T16:15:13.275416Z",
          "iopub.status.idle": "2024-06-24T16:15:13.395145Z",
          "shell.execute_reply.started": "2024-06-24T16:15:13.275383Z",
          "shell.execute_reply": "2024-06-24T16:15:13.393826Z"
        },
        "trusted": true,
        "id": "39uN853AyKjW"
      },
      "execution_count": 33,
      "outputs": []
    },
    {
      "cell_type": "code",
      "source": [
        "# Split the sampled dataset into training, validation, and testing sets\n",
        "X_train, X_temp, y_train, y_temp = train_test_split(X_sampled, y_sampled, test_size=0.2, random_state=42)\n",
        "X_val, X_test, y_val, y_test = train_test_split(X_temp, y_temp, test_size=0.5, random_state=42)\n"
      ],
      "metadata": {
        "execution": {
          "iopub.status.busy": "2024-06-24T16:15:17.823984Z",
          "iopub.execute_input": "2024-06-24T16:15:17.824858Z",
          "iopub.status.idle": "2024-06-24T16:15:17.924681Z",
          "shell.execute_reply.started": "2024-06-24T16:15:17.824803Z",
          "shell.execute_reply": "2024-06-24T16:15:17.922751Z"
        },
        "trusted": true,
        "id": "FFZsVDJoyKjW"
      },
      "execution_count": 34,
      "outputs": []
    },
    {
      "cell_type": "code",
      "source": [
        "# Scale the features\n",
        "scaler = RobustScaler()\n",
        "X_train = scaler.fit_transform(X_train)\n",
        "X_val = scaler.transform(X_val)\n",
        "X_test = scaler.transform(X_test)\n"
      ],
      "metadata": {
        "execution": {
          "iopub.status.busy": "2024-06-24T16:15:20.541095Z",
          "iopub.execute_input": "2024-06-24T16:15:20.541526Z",
          "iopub.status.idle": "2024-06-24T16:15:20.687798Z",
          "shell.execute_reply.started": "2024-06-24T16:15:20.541492Z",
          "shell.execute_reply": "2024-06-24T16:15:20.686483Z"
        },
        "trusted": true,
        "id": "g3XhqcZsyKjX"
      },
      "execution_count": 35,
      "outputs": []
    },
    {
      "cell_type": "code",
      "source": [
        "# Set up the strategy for TPU/CPU/GPU\n",
        "try:\n",
        "    tpu = tf.distribute.cluster_resolver.TPUClusterResolver()  # TPU detection\n",
        "    tf.config.experimental_connect_to_cluster(tpu)\n",
        "    tf.tpu.experimental.initialize_tpu_system(tpu)\n",
        "    strategy = tf.distribute.TPUStrategy(tpu)\n",
        "except ValueError:\n",
        "    strategy = tf.distribute.get_strategy()  # Default strategy for CPU and GPU\n"
      ],
      "metadata": {
        "execution": {
          "iopub.status.busy": "2024-06-24T16:15:21.306989Z",
          "iopub.execute_input": "2024-06-24T16:15:21.307804Z",
          "iopub.status.idle": "2024-06-24T16:15:21.318251Z",
          "shell.execute_reply.started": "2024-06-24T16:15:21.307767Z",
          "shell.execute_reply": "2024-06-24T16:15:21.316822Z"
        },
        "trusted": true,
        "id": "FydZgo3eyKjY"
      },
      "execution_count": 36,
      "outputs": []
    },
    {
      "cell_type": "code",
      "source": [
        "# Build the model inside the strategy scope\n",
        "with strategy.scope():\n",
        "    model = Sequential([\n",
        "        Input(shape=(X_train.shape[1],)),\n",
        "        Dense(128, activation='relu'),\n",
        "        Dropout(0.5),\n",
        "        Dense(64, activation='relu'),\n",
        "        Dropout(0.5),\n",
        "        Dense(32, activation='relu'),\n",
        "        Dense(3, activation='softmax')  # Adjust the output layer according to your number of classes\n",
        "    ])\n"
      ],
      "metadata": {
        "execution": {
          "iopub.status.busy": "2024-06-24T16:15:28.925578Z",
          "iopub.execute_input": "2024-06-24T16:15:28.927332Z",
          "iopub.status.idle": "2024-06-24T16:15:29.054886Z",
          "shell.execute_reply.started": "2024-06-24T16:15:28.927282Z",
          "shell.execute_reply": "2024-06-24T16:15:29.053655Z"
        },
        "trusted": true,
        "id": "3A3OrjxCyKjY"
      },
      "execution_count": 37,
      "outputs": []
    },
    {
      "cell_type": "code",
      "source": [
        " model.compile(optimizer='adam', loss='sparse_categorical_crossentropy', metrics=['accuracy'])\n"
      ],
      "metadata": {
        "execution": {
          "iopub.status.busy": "2024-06-24T16:15:34.85561Z",
          "iopub.execute_input": "2024-06-24T16:15:34.856065Z",
          "iopub.status.idle": "2024-06-24T16:15:34.876714Z",
          "shell.execute_reply.started": "2024-06-24T16:15:34.856016Z",
          "shell.execute_reply": "2024-06-24T16:15:34.874937Z"
        },
        "trusted": true,
        "id": "js5bfsl9yKjZ"
      },
      "execution_count": 38,
      "outputs": []
    },
    {
      "cell_type": "code",
      "source": [
        "# Set up callbacks\n",
        "early_stopping = EarlyStopping(monitor='val_loss', patience=10, restore_best_weights=True)\n",
        "checkpoint = ModelCheckpoint('best_model.keras', save_best_only=True, monitor='val_loss', mode='min')\n"
      ],
      "metadata": {
        "execution": {
          "iopub.status.busy": "2024-06-24T16:15:31.842318Z",
          "iopub.execute_input": "2024-06-24T16:15:31.842765Z",
          "iopub.status.idle": "2024-06-24T16:15:31.84955Z",
          "shell.execute_reply.started": "2024-06-24T16:15:31.84273Z",
          "shell.execute_reply": "2024-06-24T16:15:31.848249Z"
        },
        "trusted": true,
        "id": "yNMIYkfsyKjb"
      },
      "execution_count": 39,
      "outputs": []
    },
    {
      "cell_type": "code",
      "source": [
        "# Train the model\n",
        "history = model.fit(X_train, y_train, epochs=50, validation_data=(X_val, y_val), callbacks=[early_stopping, checkpoint])\n"
      ],
      "metadata": {
        "execution": {
          "iopub.status.busy": "2024-06-24T16:15:38.148146Z",
          "iopub.execute_input": "2024-06-24T16:15:38.148623Z",
          "iopub.status.idle": "2024-06-24T16:27:20.343466Z",
          "shell.execute_reply.started": "2024-06-24T16:15:38.148585Z",
          "shell.execute_reply": "2024-06-24T16:27:20.342111Z"
        },
        "trusted": true,
        "id": "lWm3BkxbyKjf",
        "outputId": "b0b2fbce-cd55-4b06-aeb9-63b3c058a917",
        "colab": {
          "base_uri": "https://localhost:8080/"
        }
      },
      "execution_count": 40,
      "outputs": [
        {
          "output_type": "stream",
          "name": "stdout",
          "text": [
            "Epoch 1/50\n",
            "6351/6351 [==============================] - 29s 4ms/step - loss: 0.5089 - accuracy: 0.7729 - val_loss: 0.2491 - val_accuracy: 0.9122\n",
            "Epoch 2/50\n",
            "6351/6351 [==============================] - 25s 4ms/step - loss: 0.3012 - accuracy: 0.8793 - val_loss: 0.1706 - val_accuracy: 0.9409\n",
            "Epoch 3/50\n",
            "6351/6351 [==============================] - 24s 4ms/step - loss: 0.2531 - accuracy: 0.9010 - val_loss: 0.1383 - val_accuracy: 0.9453\n",
            "Epoch 4/50\n",
            "6351/6351 [==============================] - 25s 4ms/step - loss: 0.2266 - accuracy: 0.9125 - val_loss: 0.1212 - val_accuracy: 0.9524\n",
            "Epoch 5/50\n",
            "6351/6351 [==============================] - 24s 4ms/step - loss: 0.2112 - accuracy: 0.9185 - val_loss: 0.1009 - val_accuracy: 0.9647\n",
            "Epoch 6/50\n",
            "6351/6351 [==============================] - 23s 4ms/step - loss: 0.1993 - accuracy: 0.9233 - val_loss: 0.0873 - val_accuracy: 0.9702\n",
            "Epoch 7/50\n",
            "6351/6351 [==============================] - 25s 4ms/step - loss: 0.1910 - accuracy: 0.9271 - val_loss: 0.0876 - val_accuracy: 0.9717\n",
            "Epoch 8/50\n",
            "6351/6351 [==============================] - 25s 4ms/step - loss: 0.1858 - accuracy: 0.9297 - val_loss: 0.0845 - val_accuracy: 0.9676\n",
            "Epoch 9/50\n",
            "6351/6351 [==============================] - 25s 4ms/step - loss: 0.1800 - accuracy: 0.9316 - val_loss: 0.0815 - val_accuracy: 0.9753\n",
            "Epoch 10/50\n",
            "6351/6351 [==============================] - 26s 4ms/step - loss: 0.1735 - accuracy: 0.9338 - val_loss: 0.0774 - val_accuracy: 0.9678\n",
            "Epoch 11/50\n",
            "6351/6351 [==============================] - 28s 4ms/step - loss: 0.1716 - accuracy: 0.9354 - val_loss: 0.0709 - val_accuracy: 0.9729\n",
            "Epoch 12/50\n",
            "6351/6351 [==============================] - 28s 4ms/step - loss: 0.1698 - accuracy: 0.9359 - val_loss: 0.0754 - val_accuracy: 0.9720\n",
            "Epoch 13/50\n",
            "6351/6351 [==============================] - 28s 4ms/step - loss: 0.1650 - accuracy: 0.9387 - val_loss: 0.0703 - val_accuracy: 0.9766\n",
            "Epoch 14/50\n",
            "6351/6351 [==============================] - 28s 4ms/step - loss: 0.1638 - accuracy: 0.9393 - val_loss: 0.0666 - val_accuracy: 0.9752\n",
            "Epoch 15/50\n",
            "6351/6351 [==============================] - 27s 4ms/step - loss: 0.1610 - accuracy: 0.9401 - val_loss: 0.0687 - val_accuracy: 0.9787\n",
            "Epoch 16/50\n",
            "6351/6351 [==============================] - 28s 4ms/step - loss: 0.1606 - accuracy: 0.9406 - val_loss: 0.0620 - val_accuracy: 0.9810\n",
            "Epoch 17/50\n",
            "6351/6351 [==============================] - 29s 4ms/step - loss: 0.1577 - accuracy: 0.9422 - val_loss: 0.0636 - val_accuracy: 0.9826\n",
            "Epoch 18/50\n",
            "6351/6351 [==============================] - 24s 4ms/step - loss: 0.1563 - accuracy: 0.9427 - val_loss: 0.0642 - val_accuracy: 0.9848\n",
            "Epoch 19/50\n",
            "6351/6351 [==============================] - 24s 4ms/step - loss: 0.1524 - accuracy: 0.9444 - val_loss: 0.0614 - val_accuracy: 0.9829\n",
            "Epoch 20/50\n",
            "6351/6351 [==============================] - 22s 4ms/step - loss: 0.1513 - accuracy: 0.9448 - val_loss: 0.0648 - val_accuracy: 0.9811\n",
            "Epoch 21/50\n",
            "6351/6351 [==============================] - 23s 4ms/step - loss: 0.1506 - accuracy: 0.9450 - val_loss: 0.0635 - val_accuracy: 0.9811\n",
            "Epoch 22/50\n",
            "6351/6351 [==============================] - 24s 4ms/step - loss: 0.1473 - accuracy: 0.9458 - val_loss: 0.0580 - val_accuracy: 0.9838\n",
            "Epoch 23/50\n",
            "6351/6351 [==============================] - 24s 4ms/step - loss: 0.1468 - accuracy: 0.9465 - val_loss: 0.0602 - val_accuracy: 0.9845\n",
            "Epoch 24/50\n",
            "6351/6351 [==============================] - 24s 4ms/step - loss: 0.1457 - accuracy: 0.9473 - val_loss: 0.0551 - val_accuracy: 0.9840\n",
            "Epoch 25/50\n",
            "6351/6351 [==============================] - 24s 4ms/step - loss: 0.1469 - accuracy: 0.9468 - val_loss: 0.0550 - val_accuracy: 0.9815\n",
            "Epoch 26/50\n",
            "6351/6351 [==============================] - 25s 4ms/step - loss: 0.1434 - accuracy: 0.9483 - val_loss: 0.0501 - val_accuracy: 0.9868\n",
            "Epoch 27/50\n",
            "6351/6351 [==============================] - 23s 4ms/step - loss: 0.1437 - accuracy: 0.9476 - val_loss: 0.0522 - val_accuracy: 0.9837\n",
            "Epoch 28/50\n",
            "6351/6351 [==============================] - 25s 4ms/step - loss: 0.1430 - accuracy: 0.9481 - val_loss: 0.0513 - val_accuracy: 0.9863\n",
            "Epoch 29/50\n",
            "6351/6351 [==============================] - 24s 4ms/step - loss: 0.1405 - accuracy: 0.9491 - val_loss: 0.0509 - val_accuracy: 0.9842\n",
            "Epoch 30/50\n",
            "6351/6351 [==============================] - 25s 4ms/step - loss: 0.1407 - accuracy: 0.9490 - val_loss: 0.0496 - val_accuracy: 0.9866\n",
            "Epoch 31/50\n",
            "6351/6351 [==============================] - 24s 4ms/step - loss: 0.1386 - accuracy: 0.9505 - val_loss: 0.0456 - val_accuracy: 0.9898\n",
            "Epoch 32/50\n",
            "6351/6351 [==============================] - 24s 4ms/step - loss: 0.1392 - accuracy: 0.9498 - val_loss: 0.0491 - val_accuracy: 0.9866\n",
            "Epoch 33/50\n",
            "6351/6351 [==============================] - 25s 4ms/step - loss: 0.1371 - accuracy: 0.9510 - val_loss: 0.0499 - val_accuracy: 0.9856\n",
            "Epoch 34/50\n",
            "6351/6351 [==============================] - 26s 4ms/step - loss: 0.1366 - accuracy: 0.9516 - val_loss: 0.0511 - val_accuracy: 0.9835\n",
            "Epoch 35/50\n",
            "6351/6351 [==============================] - 26s 4ms/step - loss: 0.1349 - accuracy: 0.9515 - val_loss: 0.0473 - val_accuracy: 0.9853\n",
            "Epoch 36/50\n",
            "6351/6351 [==============================] - 26s 4ms/step - loss: 0.1349 - accuracy: 0.9512 - val_loss: 0.0535 - val_accuracy: 0.9847\n",
            "Epoch 37/50\n",
            "6351/6351 [==============================] - 27s 4ms/step - loss: 0.1330 - accuracy: 0.9518 - val_loss: 0.0435 - val_accuracy: 0.9887\n",
            "Epoch 38/50\n",
            "6351/6351 [==============================] - 27s 4ms/step - loss: 0.1323 - accuracy: 0.9529 - val_loss: 0.0423 - val_accuracy: 0.9895\n",
            "Epoch 39/50\n",
            "6351/6351 [==============================] - 27s 4ms/step - loss: 0.1328 - accuracy: 0.9527 - val_loss: 0.0430 - val_accuracy: 0.9890\n",
            "Epoch 40/50\n",
            "6351/6351 [==============================] - 27s 4ms/step - loss: 0.1314 - accuracy: 0.9533 - val_loss: 0.0415 - val_accuracy: 0.9907\n",
            "Epoch 41/50\n",
            "6351/6351 [==============================] - 27s 4ms/step - loss: 0.1301 - accuracy: 0.9539 - val_loss: 0.0425 - val_accuracy: 0.9895\n",
            "Epoch 42/50\n",
            "6351/6351 [==============================] - 27s 4ms/step - loss: 0.1301 - accuracy: 0.9534 - val_loss: 0.0433 - val_accuracy: 0.9884\n",
            "Epoch 43/50\n",
            "6351/6351 [==============================] - 28s 4ms/step - loss: 0.1295 - accuracy: 0.9542 - val_loss: 0.0408 - val_accuracy: 0.9892\n",
            "Epoch 44/50\n",
            "6351/6351 [==============================] - 27s 4ms/step - loss: 0.1267 - accuracy: 0.9545 - val_loss: 0.0442 - val_accuracy: 0.9857\n",
            "Epoch 45/50\n",
            "6351/6351 [==============================] - 24s 4ms/step - loss: 0.1295 - accuracy: 0.9541 - val_loss: 0.0421 - val_accuracy: 0.9896\n",
            "Epoch 46/50\n",
            "6351/6351 [==============================] - 24s 4ms/step - loss: 0.1278 - accuracy: 0.9548 - val_loss: 0.0432 - val_accuracy: 0.9869\n",
            "Epoch 47/50\n",
            "6351/6351 [==============================] - 25s 4ms/step - loss: 0.1288 - accuracy: 0.9546 - val_loss: 0.0425 - val_accuracy: 0.9875\n",
            "Epoch 48/50\n",
            "6351/6351 [==============================] - 25s 4ms/step - loss: 0.1293 - accuracy: 0.9546 - val_loss: 0.0459 - val_accuracy: 0.9871\n",
            "Epoch 49/50\n",
            "6351/6351 [==============================] - 24s 4ms/step - loss: 0.1287 - accuracy: 0.9547 - val_loss: 0.0393 - val_accuracy: 0.9885\n",
            "Epoch 50/50\n",
            "6351/6351 [==============================] - 25s 4ms/step - loss: 0.1271 - accuracy: 0.9546 - val_loss: 0.0374 - val_accuracy: 0.9906\n"
          ]
        }
      ]
    },
    {
      "cell_type": "code",
      "source": [
        "# Evaluate the model\n",
        "loss, accuracy = model.evaluate(X_test, y_test)\n",
        "print(f'Test Loss: {loss}, Test Accuracy: {accuracy}')\n"
      ],
      "metadata": {
        "execution": {
          "iopub.status.busy": "2024-06-24T16:31:07.00685Z",
          "iopub.execute_input": "2024-06-24T16:31:07.007394Z",
          "iopub.status.idle": "2024-06-24T16:31:08.202024Z",
          "shell.execute_reply.started": "2024-06-24T16:31:07.007356Z",
          "shell.execute_reply": "2024-06-24T16:31:08.200618Z"
        },
        "trusted": true,
        "id": "nJhqs3YEyKjg",
        "outputId": "0bd91c4f-e86d-4804-b6a9-27a7e6f232ff",
        "colab": {
          "base_uri": "https://localhost:8080/"
        }
      },
      "execution_count": 41,
      "outputs": [
        {
          "output_type": "stream",
          "name": "stdout",
          "text": [
            "794/794 [==============================] - 2s 2ms/step - loss: 0.0417 - accuracy: 0.9885\n",
            "Test Loss: 0.0417485386133194, Test Accuracy: 0.9885053038597107\n"
          ]
        }
      ]
    },
    {
      "cell_type": "code",
      "source": [
        "# Predictions\n",
        "y_pred = model.predict(X_test)\n",
        "y_pred_classes = np.argmax(y_pred, axis=1)\n"
      ],
      "metadata": {
        "execution": {
          "iopub.status.busy": "2024-06-24T16:37:11.310847Z",
          "iopub.execute_input": "2024-06-24T16:37:11.312614Z",
          "iopub.status.idle": "2024-06-24T16:37:12.875249Z",
          "shell.execute_reply.started": "2024-06-24T16:37:11.312559Z",
          "shell.execute_reply": "2024-06-24T16:37:12.87389Z"
        },
        "trusted": true,
        "id": "iJzNW4b6yKjh",
        "outputId": "79fbd032-1054-4693-ae76-48507d5c0f4d",
        "colab": {
          "base_uri": "https://localhost:8080/"
        }
      },
      "execution_count": 42,
      "outputs": [
        {
          "output_type": "stream",
          "name": "stdout",
          "text": [
            "794/794 [==============================] - 2s 2ms/step\n"
          ]
        }
      ]
    },
    {
      "cell_type": "code",
      "source": [
        "y_pred"
      ],
      "metadata": {
        "execution": {
          "iopub.status.busy": "2024-06-24T16:37:16.870801Z",
          "iopub.execute_input": "2024-06-24T16:37:16.871254Z",
          "iopub.status.idle": "2024-06-24T16:37:16.881354Z",
          "shell.execute_reply.started": "2024-06-24T16:37:16.871211Z",
          "shell.execute_reply": "2024-06-24T16:37:16.879952Z"
        },
        "trusted": true,
        "id": "xq5YXzuWyKjh",
        "outputId": "0611bcd3-5f13-4df4-fab2-05a9617e297f",
        "colab": {
          "base_uri": "https://localhost:8080/"
        }
      },
      "execution_count": 43,
      "outputs": [
        {
          "output_type": "execute_result",
          "data": {
            "text/plain": [
              "array([[2.2409825e-02, 6.7456728e-01, 3.0302286e-01],\n",
              "       [9.9985266e-01, 1.0404333e-09, 1.4726962e-04],\n",
              "       [1.9879153e-05, 1.4763883e-21, 9.9998009e-01],\n",
              "       ...,\n",
              "       [3.7523146e-06, 5.7648191e-05, 9.9993861e-01],\n",
              "       [2.1676358e-02, 4.1170367e-03, 9.7420663e-01],\n",
              "       [2.9018074e-06, 3.4640891e-07, 9.9999678e-01]], dtype=float32)"
            ]
          },
          "metadata": {},
          "execution_count": 43
        }
      ]
    },
    {
      "cell_type": "code",
      "source": [
        "y_pred_classes"
      ],
      "metadata": {
        "execution": {
          "iopub.status.busy": "2024-06-24T16:37:19.341176Z",
          "iopub.execute_input": "2024-06-24T16:37:19.341631Z",
          "iopub.status.idle": "2024-06-24T16:37:19.349785Z",
          "shell.execute_reply.started": "2024-06-24T16:37:19.341594Z",
          "shell.execute_reply": "2024-06-24T16:37:19.348463Z"
        },
        "trusted": true,
        "id": "zvzwjY1AyKjh",
        "outputId": "dd1498a1-6ef0-49dc-d50d-f355a2cc6a97",
        "colab": {
          "base_uri": "https://localhost:8080/"
        }
      },
      "execution_count": 44,
      "outputs": [
        {
          "output_type": "execute_result",
          "data": {
            "text/plain": [
              "array([1, 0, 2, ..., 2, 2, 2])"
            ]
          },
          "metadata": {},
          "execution_count": 44
        }
      ]
    },
    {
      "cell_type": "code",
      "source": [
        "# Classification report\n",
        "print(classification_report(y_test, y_pred_classes))\n"
      ],
      "metadata": {
        "execution": {
          "iopub.status.busy": "2024-06-24T16:37:21.401724Z",
          "iopub.execute_input": "2024-06-24T16:37:21.402158Z",
          "iopub.status.idle": "2024-06-24T16:37:21.468962Z",
          "shell.execute_reply.started": "2024-06-24T16:37:21.402125Z",
          "shell.execute_reply": "2024-06-24T16:37:21.467707Z"
        },
        "trusted": true,
        "id": "8Gg6att2yKji",
        "outputId": "5604ffed-e58f-4b76-b8e0-0dfa082b7d1f",
        "colab": {
          "base_uri": "https://localhost:8080/"
        }
      },
      "execution_count": 45,
      "outputs": [
        {
          "output_type": "stream",
          "name": "stdout",
          "text": [
            "              precision    recall  f1-score   support\n",
            "\n",
            "         0.0       0.99      0.98      0.98      8522\n",
            "         1.0       0.99      1.00      1.00      8391\n",
            "         2.0       0.99      0.98      0.98      8490\n",
            "\n",
            "    accuracy                           0.99     25403\n",
            "   macro avg       0.99      0.99      0.99     25403\n",
            "weighted avg       0.99      0.99      0.99     25403\n",
            "\n"
          ]
        }
      ]
    },
    {
      "cell_type": "code",
      "source": [
        "# Precision, Recall, F1-Score, and Support\n",
        "precision, recall, f1, _ = precision_recall_fscore_support(y_test, y_pred_classes, average='weighted')\n",
        "print(f'\\nPrecision: {precision:.4f}')\n",
        "print(f'Recall: {recall:.4f}')\n",
        "print(f'F1 Score: {f1:.4f}')"
      ],
      "metadata": {
        "id": "UC-zCFNhzPGa",
        "outputId": "dc7d23aa-c990-4ffe-c40d-8688b3bc81e4",
        "colab": {
          "base_uri": "https://localhost:8080/"
        }
      },
      "execution_count": 46,
      "outputs": [
        {
          "output_type": "stream",
          "name": "stdout",
          "text": [
            "\n",
            "Precision: 0.9885\n",
            "Recall: 0.9885\n",
            "F1 Score: 0.9885\n"
          ]
        }
      ]
    },
    {
      "cell_type": "code",
      "source": [
        "print('Classification Report:')\n",
        "print(classification_report)"
      ],
      "metadata": {
        "execution": {
          "iopub.status.busy": "2024-06-24T16:37:36.129292Z",
          "iopub.execute_input": "2024-06-24T16:37:36.129704Z",
          "iopub.status.idle": "2024-06-24T16:37:36.135958Z",
          "shell.execute_reply.started": "2024-06-24T16:37:36.129673Z",
          "shell.execute_reply": "2024-06-24T16:37:36.13451Z"
        },
        "trusted": true,
        "id": "FcohqDcAyKjx",
        "outputId": "408f6e8c-0702-450b-8bf1-e738ccb56476",
        "colab": {
          "base_uri": "https://localhost:8080/"
        }
      },
      "execution_count": 47,
      "outputs": [
        {
          "metadata": {
            "tags": null
          },
          "name": "stdout",
          "output_type": "stream",
          "text": [
            "Classification Report:\n",
            "<function classification_report at 0x7e51816c9630>\n"
          ]
        }
      ]
    },
    {
      "cell_type": "code",
      "source": [
        "# Confusion matrix\n",
        "cm = confusion_matrix(y_test, y_pred_classes)\n",
        "sns.heatmap(cm, annot=True, fmt='d', cmap='viridis')\n",
        "plt.title('Confusion Matrix')\n",
        "plt.xlabel('Predicted Label')\n",
        "plt.ylabel('True Label')\n",
        "plt.show()"
      ],
      "metadata": {
        "execution": {
          "iopub.status.busy": "2024-06-24T16:37:44.061301Z",
          "iopub.execute_input": "2024-06-24T16:37:44.061739Z",
          "iopub.status.idle": "2024-06-24T16:37:44.420834Z",
          "shell.execute_reply.started": "2024-06-24T16:37:44.061706Z",
          "shell.execute_reply": "2024-06-24T16:37:44.419364Z"
        },
        "trusted": true,
        "id": "kM2OBZCnyKjx",
        "outputId": "b6fa95d0-c1c7-427a-ecc3-9f6e287c8c1e",
        "colab": {
          "base_uri": "https://localhost:8080/",
          "height": 472
        }
      },
      "execution_count": 48,
      "outputs": [
        {
          "output_type": "display_data",
          "data": {
            "text/plain": [
              "<Figure size 640x480 with 2 Axes>"
            ],
            "image/png": "[encoded data removed]"
          },
          "metadata": {}
        }
      ]
    },
    {
      "cell_type": "code",
      "source": [
        "print('Confusion Matrix:')\n",
        "print(cm)"
      ],
      "metadata": {
        "execution": {
          "iopub.status.busy": "2024-06-24T16:37:50.145972Z",
          "iopub.execute_input": "2024-06-24T16:37:50.146821Z",
          "iopub.status.idle": "2024-06-24T16:37:50.157142Z",
          "shell.execute_reply.started": "2024-06-24T16:37:50.146778Z",
          "shell.execute_reply": "2024-06-24T16:37:50.155713Z"
        },
        "trusted": true,
        "id": "6slDvxx6yKjy",
        "outputId": "abd38422-2e0b-4962-e051-0dcb60454cc8",
        "colab": {
          "base_uri": "https://localhost:8080/"
        }
      },
      "execution_count": 49,
      "outputs": [
        {
          "metadata": {
            "tags": null
          },
          "name": "stdout",
          "output_type": "stream",
          "text": [
            "Confusion Matrix:\n",
            "[[8380   30  112]\n",
            " [   0 8391    0]\n",
            " [ 125   25 8340]]\n"
          ]
        }
      ]
    },
    {
      "cell_type": "code",
      "source": [
        "print(\"Deep Learning Model Performance:\")\n",
        "print(confusion_matrix(y_test, y_pred_classes))\n",
        "print(classification_report(y_test, y_pred_classes))"
      ],
      "metadata": {
        "execution": {
          "iopub.status.busy": "2024-06-24T16:38:22.721101Z",
          "iopub.execute_input": "2024-06-24T16:38:22.722135Z",
          "iopub.status.idle": "2024-06-24T16:38:22.825649Z",
          "shell.execute_reply.started": "2024-06-24T16:38:22.722084Z",
          "shell.execute_reply": "2024-06-24T16:38:22.824121Z"
        },
        "trusted": true,
        "id": "cmsZqSfqyKjy",
        "outputId": "de0da0d8-4768-4193-ab11-0ce373e0c1b1",
        "colab": {
          "base_uri": "https://localhost:8080/"
        }
      },
      "execution_count": 50,
      "outputs": [
        {
          "output_type": "stream",
          "name": "stdout",
          "text": [
            "Deep Learning Model Performance:\n",
            "[[8380   30  112]\n",
            " [   0 8391    0]\n",
            " [ 125   25 8340]]\n",
            "              precision    recall  f1-score   support\n",
            "\n",
            "         0.0       0.99      0.98      0.98      8522\n",
            "         1.0       0.99      1.00      1.00      8391\n",
            "         2.0       0.99      0.98      0.98      8490\n",
            "\n",
            "    accuracy                           0.99     25403\n",
            "   macro avg       0.99      0.99      0.99     25403\n",
            "weighted avg       0.99      0.99      0.99     25403\n",
            "\n"
          ]
        }
      ]
    },
    {
      "cell_type": "code",
      "source": [
        "model.summary()"
      ],
      "metadata": {
        "execution": {
          "iopub.status.busy": "2024-06-24T16:38:26.573425Z",
          "iopub.execute_input": "2024-06-24T16:38:26.573882Z",
          "iopub.status.idle": "2024-06-24T16:38:26.604711Z",
          "shell.execute_reply.started": "2024-06-24T16:38:26.573846Z",
          "shell.execute_reply": "2024-06-24T16:38:26.603514Z"
        },
        "trusted": true,
        "id": "8RJhN_7kyKjz",
        "outputId": "5660d723-68a1-4db8-9457-86eccdfeeb3d",
        "colab": {
          "base_uri": "https://localhost:8080/"
        }
      },
      "execution_count": 51,
      "outputs": [
        {
          "output_type": "stream",
          "name": "stdout",
          "text": [
            "Model: \"sequential\"\n",
            "_________________________________________________________________\n",
            " Layer (type)                Output Shape              Param #   \n",
            "=================================================================\n",
            " dense (Dense)               (None, 128)               1536      \n",
            "                                                                 \n",
            " dropout (Dropout)           (None, 128)               0         \n",
            "                                                                 \n",
            " dense_1 (Dense)             (None, 64)                8256      \n",
            "                                                                 \n",
            " dropout_1 (Dropout)         (None, 64)                0         \n",
            "                                                                 \n",
            " dense_2 (Dense)             (None, 32)                2080      \n",
            "                                                                 \n",
            " dense_3 (Dense)             (None, 3)                 99        \n",
            "                                                                 \n",
            "=================================================================\n",
            "Total params: 11971 (46.76 KB)\n",
            "Trainable params: 11971 (46.76 KB)\n",
            "Non-trainable params: 0 (0.00 Byte)\n",
            "_________________________________________________________________\n"
          ]
        }
      ]
    },
    {
      "cell_type": "code",
      "source": [
        "model.get_weights()"
      ],
      "metadata": {
        "execution": {
          "iopub.status.busy": "2024-06-24T16:38:31.791494Z",
          "iopub.execute_input": "2024-06-24T16:38:31.791954Z",
          "iopub.status.idle": "2024-06-24T16:38:31.812619Z",
          "shell.execute_reply.started": "2024-06-24T16:38:31.791916Z",
          "shell.execute_reply": "2024-06-24T16:38:31.811213Z"
        },
        "trusted": true,
        "id": "YL2N-oBTyKjz",
        "outputId": "7a7ef44e-4bb1-44a7-f237-703fa22216f9",
        "colab": {
          "base_uri": "https://localhost:8080/"
        }
      },
      "execution_count": 52,
      "outputs": [
        {
          "output_type": "execute_result",
          "data": {
            "text/plain": [
              "[array([[ 2.00505182e-03,  2.61910185e-02,  6.08187914e-03, ...,\n",
              "         -1.50347920e-02,  3.53709199e-02, -5.19541800e-02],\n",
              "        [-2.01240350e-02, -4.11128290e-02,  1.07889157e-02, ...,\n",
              "         -3.02389488e-02,  6.07130118e-03, -8.50549806e-03],\n",
              "        [-5.43461181e-02,  4.60652113e-02,  1.19291036e-03, ...,\n",
              "          3.72922719e-02,  1.08240426e-01, -1.01420283e-02],\n",
              "        ...,\n",
              "        [ 3.92653465e-01,  1.20579684e+00,  7.35819042e-02, ...,\n",
              "         -1.54557478e+00,  1.07151794e+00, -1.35038626e+00],\n",
              "        [ 1.03744507e-01,  1.85470656e-01,  1.31133320e-02, ...,\n",
              "         -1.19057801e-02,  1.71379119e-01, -2.69004852e-02],\n",
              "        [ 3.97334844e-02, -1.99296069e-03, -2.72353936e-04, ...,\n",
              "         -1.15712862e-02, -3.18652131e-02,  2.29286402e-03]], dtype=float32),\n",
              " array([-0.7084143 , -0.7161826 , -0.53944254, -1.3742696 , -0.6710106 ,\n",
              "        -0.8132222 , -0.0429143 , -0.9076486 , -1.2130334 , -0.11923008,\n",
              "        -0.06844198, -1.5352317 , -0.8688286 , -0.6354869 , -0.5775604 ,\n",
              "        -0.54941684, -0.63933325, -0.82216126, -2.2708573 , -1.4785299 ,\n",
              "        -1.5769644 , -0.5168162 , -0.4536358 , -0.3169411 , -0.5556064 ,\n",
              "        -0.12876785, -0.6987109 , -0.23991169, -0.5605034 , -0.9790229 ,\n",
              "        -0.9764351 , -0.7583125 , -0.5994579 , -0.5390692 , -0.57126766,\n",
              "        -0.6838761 ,  0.15975626, -0.7439061 , -0.7486109 , -0.12180314,\n",
              "        -0.651035  , -0.97291714, -0.34303474, -0.86900246, -1.1406429 ,\n",
              "        -0.923917  , -0.87051415, -0.697026  , -1.5963845 , -0.65162605,\n",
              "        -1.4770612 , -0.9987625 , -0.9921326 , -1.4714096 , -0.29270914,\n",
              "        -0.4737564 ,  0.14545158, -1.1333647 , -0.7537929 , -1.6028116 ,\n",
              "        -0.5155274 , -1.6513722 , -0.6710141 , -1.8032054 , -0.70329607,\n",
              "        -0.07368864, -0.4381311 , -0.69871974, -1.0065285 , -1.9167491 ,\n",
              "        -1.6352086 , -0.14988393, -0.7316145 , -0.8227264 , -0.02626424,\n",
              "        -0.14973405, -0.5440386 , -0.7362367 , -0.85959536, -1.157307  ,\n",
              "        -0.91406393, -1.3645939 , -0.7295723 , -1.1510999 , -0.60737765,\n",
              "        -0.66758937, -0.7474847 , -0.643373  , -0.9164742 , -1.0163177 ,\n",
              "        -0.6800791 , -0.1424536 , -0.49924   , -1.3807684 , -0.49241766,\n",
              "        -0.5224193 , -0.7547719 , -1.9900757 , -0.5253998 ,  0.16117336,\n",
              "         0.11638342, -0.87813467, -1.6448205 , -1.1733971 , -0.66416293,\n",
              "        -0.92462003, -0.51730835, -0.05409427, -0.9851145 , -0.44099313,\n",
              "        -0.7225796 , -0.17113161, -0.86378324, -0.9141903 , -0.34599015,\n",
              "        -1.2340198 , -0.06301047, -0.26411793, -1.4552972 , -1.3985671 ,\n",
              "        -0.99996114, -0.05754864, -0.15673365, -0.20040482, -0.3151502 ,\n",
              "        -0.34118053, -0.94821393, -0.50645554], dtype=float32),\n",
              " array([[ 0.2473081 ,  0.32617885, -1.5234203 , ...,  0.09744033,\n",
              "          0.24627504,  0.05702393],\n",
              "        [-2.9022477 , -1.0905428 ,  0.07649472, ...,  0.13148609,\n",
              "         -0.72020894,  0.0861682 ],\n",
              "        [ 0.10935234,  0.14740416,  0.19481327, ...,  0.16606276,\n",
              "          0.21519607, -0.09309861],\n",
              "        ...,\n",
              "        [-0.83574015, -0.00506835, -0.06588031, ...,  0.71403825,\n",
              "          0.08733058,  0.32229277],\n",
              "        [-0.17118692,  0.12794231, -1.962471  , ...,  0.09143097,\n",
              "         -1.0907667 , -0.78915185],\n",
              "        [-0.67483324,  0.29999888,  0.01606719, ..., -4.073595  ,\n",
              "          0.02521435,  0.36147457]], dtype=float32),\n",
              " array([ 1.1248206e-01, -3.9356589e-02, -1.6014711e+00,  2.6376875e-02,\n",
              "         3.3001706e-01,  2.1618416e-03, -1.7997116e-01, -3.6560518e-01,\n",
              "         1.1494066e-01,  1.6414218e-01, -2.2170056e-02,  4.5420926e-02,\n",
              "         8.6334378e-02, -2.6883746e-02, -1.1072274e-01,  3.7374210e-01,\n",
              "        -1.6659661e-01, -1.7372152e-02,  1.9015266e-02, -7.0503061e-03,\n",
              "         3.1289112e-02, -2.5112683e-01, -1.2540740e+00,  3.1829569e-01,\n",
              "         2.5967994e-01,  6.5280735e-02, -1.7932430e-02, -8.2312435e-01,\n",
              "         3.8286224e-02, -9.2790037e-01,  8.4496774e-03, -1.3870211e-01,\n",
              "        -5.1187955e-02, -3.5878334e-02, -6.8121315e-03,  2.0480198e-01,\n",
              "         5.9924573e-03, -3.6131166e-02, -4.8932502e-01, -4.6685418e-01,\n",
              "         3.6525638e-03,  4.0168932e-01,  9.4226584e-02,  4.1948803e-02,\n",
              "        -8.7957613e-02, -8.3167762e-02, -8.7541801e-01, -1.0382572e-01,\n",
              "         1.8720737e-01,  1.2865661e-02,  7.4264340e-02, -6.6071466e-02,\n",
              "         4.3987758e-02, -6.1749402e-02,  3.3830732e-04, -4.3445613e-02,\n",
              "         1.7526239e-01,  2.8939724e-01, -8.7570274e-01, -4.9712650e-02,\n",
              "        -1.6612265e-01, -7.0406544e-01, -4.5787022e-02, -4.8741389e-02],\n",
              "       dtype=float32),\n",
              " array([[-0.25993362,  0.03018737, -0.12907322, ..., -0.06327903,\n",
              "          0.37311983, -0.15709373],\n",
              "        [ 0.02764224, -0.01977924,  0.3053115 , ...,  0.15124673,\n",
              "         -0.1116522 , -1.5545211 ],\n",
              "        [-1.531935  , -0.14362477, -0.72100824, ...,  0.44709462,\n",
              "          0.21129276, -0.93789876],\n",
              "        ...,\n",
              "        [-0.09377358, -0.1769907 ,  0.2842869 , ..., -0.28784874,\n",
              "          0.5289022 , -0.4761913 ],\n",
              "        [ 0.03374823, -0.02449695, -0.10105425, ..., -0.12819232,\n",
              "         -0.09738526, -0.2212084 ],\n",
              "        [-1.4943166 , -0.03377483, -0.17956391, ..., -0.04937563,\n",
              "         -0.42953157, -0.03904374]], dtype=float32),\n",
              " array([ 0.87248766,  1.2076759 ,  1.1603277 ,  1.2605156 ,  1.0520132 ,\n",
              "         1.9929041 ,  1.0639086 ,  0.2878282 ,  0.8731434 ,  0.93080246,\n",
              "         2.4507678 ,  2.1038568 ,  0.7871276 , -0.90302444,  1.4844124 ,\n",
              "         1.3766834 ,  2.0507362 ,  1.8427355 , -0.41389924, -0.10504936,\n",
              "         1.6335863 ,  2.1556969 ,  2.282008  ,  0.7633009 ,  0.4814167 ,\n",
              "         1.0743616 ,  0.7596509 ,  1.2479084 ,  0.33779564,  1.6571105 ,\n",
              "         0.6986936 , -0.14608438], dtype=float32),\n",
              " array([[-7.92727768e-01,  3.36531073e-01,  2.33542159e-01],\n",
              "        [-2.42475644e-01,  6.09598219e-01, -1.24518287e+00],\n",
              "        [ 3.11493725e-01, -5.24279892e-01,  2.78209478e-01],\n",
              "        [ 3.65953833e-01,  6.31539989e-03,  2.13715211e-01],\n",
              "        [-1.31356013e+00,  1.26790321e+00, -1.01935196e+00],\n",
              "        [ 1.51410952e-01, -2.23137319e-01, -4.51913387e-01],\n",
              "        [ 5.02134800e-01,  9.39714089e-02, -2.45374739e-01],\n",
              "        [ 1.52701259e-01,  1.60795167e-01, -2.28577740e-02],\n",
              "        [ 2.64523089e-01,  2.34960973e-01,  5.50953113e-02],\n",
              "        [ 1.19701244e-01, -1.54005027e+00,  1.21257819e-01],\n",
              "        [-5.05034089e-01,  2.54894674e-01,  4.48092729e-01],\n",
              "        [-1.02702391e+00,  7.89845824e-01,  1.73495471e-01],\n",
              "        [-7.44847476e-01, -1.30888760e-01,  4.04485494e-01],\n",
              "        [ 1.36446476e-01, -2.26002112e-01, -1.74235731e-01],\n",
              "        [-1.71507120e-01,  2.22202852e-01,  1.87656909e-01],\n",
              "        [-1.72689945e-01,  1.33236349e-01,  2.03165188e-01],\n",
              "        [ 2.54575819e-01,  1.48441464e-01, -2.66966522e-01],\n",
              "        [ 1.04848318e-01, -4.77524757e-01,  4.36330110e-01],\n",
              "        [-6.61069946e-03, -3.10212344e-01,  1.69528335e-01],\n",
              "        [-5.12761921e-02, -1.93757534e-01,  1.52582064e-01],\n",
              "        [ 1.26010761e-01,  2.55509377e-01, -8.82304370e-01],\n",
              "        [ 2.02702638e-03,  2.31185388e-02, -2.92531878e-01],\n",
              "        [ 3.28279972e-01, -3.84001404e-01, -7.85191298e-01],\n",
              "        [ 3.62440832e-02, -8.34921658e-01, -7.41693228e-02],\n",
              "        [ 3.59044582e-01, -1.13886344e+00,  3.91610801e-01],\n",
              "        [-1.87468961e-01, -4.50428843e-01, -3.78730267e-01],\n",
              "        [ 3.45173508e-01, -1.45032406e-02, -1.02493785e-01],\n",
              "        [-5.95429726e-02, -4.16814655e-01,  5.70845753e-02],\n",
              "        [-2.03461528e+00,  7.42952764e-01,  7.93403164e-02],\n",
              "        [-1.31823257e-01, -5.15849054e-01,  1.18683510e-01],\n",
              "        [ 2.00795606e-01, -2.54608572e-01,  3.08076590e-01],\n",
              "        [-7.88570791e-02, -3.60920310e-01,  5.39446361e-02]], dtype=float32),\n",
              " array([-0.1477073 , -0.08231111,  0.1497762 ], dtype=float32)]"
            ]
          },
          "metadata": {},
          "execution_count": 52
        }
      ]
    },
    {
      "cell_type": "code",
      "source": [
        "# Plot training history\n",
        "plt.figure(figsize=(12, 4))\n",
        "plt.subplot(1, 2, 1)\n",
        "plt.plot(history.history['accuracy'], label='Train Accuracy')\n",
        "plt.plot(history.history['val_accuracy'], label='Validation Accuracy')\n",
        "plt.title('Model Accuracy')\n",
        "plt.xlabel('Epochs')\n",
        "plt.ylabel('Accuracy')\n",
        "plt.legend()\n",
        "plt.subplot(1, 2, 2)\n",
        "plt.plot(history.history['loss'], label='Train Loss')\n",
        "plt.plot(history.history['val_loss'], label='Validation Loss')\n",
        "plt.title('Model Loss')\n",
        "plt.xlabel('Epochs')\n",
        "plt.ylabel('Loss')\n",
        "plt.legend()\n",
        "plt.show()"
      ],
      "metadata": {
        "execution": {
          "iopub.status.busy": "2024-06-24T16:38:37.223803Z",
          "iopub.execute_input": "2024-06-24T16:38:37.224245Z",
          "iopub.status.idle": "2024-06-24T16:38:37.713533Z",
          "shell.execute_reply.started": "2024-06-24T16:38:37.224211Z",
          "shell.execute_reply": "2024-06-24T16:38:37.712329Z"
        },
        "trusted": true,
        "id": "mDG5uFNzyKjz",
        "outputId": "06923ef2-9c48-46ff-82f2-291b69560fc2",
        "colab": {
          "base_uri": "https://localhost:8080/",
          "height": 410
        }
      },
      "execution_count": 53,
      "outputs": [
        {
          "output_type": "display_data",
          "data": {
            "text/plain": [
              "<Figure size 1200x400 with 2 Axes>"
            ],
            "image/png": "[encoded data removed]"
          },
          "metadata": {}
        }
      ]
    },
    {
      "cell_type": "code",
      "source": [
        "# Extract training and validation accuracy\n",
        "train_accuracy = history.history['accuracy']\n",
        "val_accuracy = history.history['val_accuracy']\n",
        "\n",
        "# Print the accuracy values\n",
        "print(\"Epoch\\tTrain Accuracy\\tValidation Accuracy\")\n",
        "for epoch in range(len(train_accuracy)):\n",
        "    print(f\"{epoch+1}\\t{train_accuracy[epoch]:.4f}\\t\\t{val_accuracy[epoch]:.4f}\")\n",
        "\n",
        "# Optional: Visualize the training history\n",
        "plt.plot(train_accuracy)\n",
        "plt.plot(val_accuracy)\n",
        "plt.title('Model accuracy')\n",
        "plt.ylabel('Accuracy')\n",
        "plt.xlabel('Epoch')\n",
        "plt.legend(['Train', 'Validation'], loc='upper left')\n",
        "plt.show()"
      ],
      "metadata": {
        "execution": {
          "iopub.status.busy": "2024-06-24T16:38:40.928739Z",
          "iopub.execute_input": "2024-06-24T16:38:40.929579Z",
          "iopub.status.idle": "2024-06-24T16:38:41.242175Z",
          "shell.execute_reply.started": "2024-06-24T16:38:40.929538Z",
          "shell.execute_reply": "2024-06-24T16:38:41.240756Z"
        },
        "trusted": true,
        "id": "O-kBYlVLyKj0",
        "outputId": "22a1b16f-0c1c-48b7-9ffd-faefd49c7693",
        "colab": {
          "base_uri": "https://localhost:8080/",
          "height": 1000
        }
      },
      "execution_count": 54,
      "outputs": [
        {
          "output_type": "stream",
          "name": "stdout",
          "text": [
            "Epoch\tTrain Accuracy\tValidation Accuracy\n",
            "1\t0.7729\t\t0.9122\n",
            "2\t0.8793\t\t0.9409\n",
            "3\t0.9010\t\t0.9453\n",
            "4\t0.9125\t\t0.9524\n",
            "5\t0.9185\t\t0.9647\n",
            "6\t0.9233\t\t0.9702\n",
            "7\t0.9271\t\t0.9717\n",
            "8\t0.9297\t\t0.9676\n",
            "9\t0.9316\t\t0.9753\n",
            "10\t0.9338\t\t0.9678\n",
            "11\t0.9354\t\t0.9729\n",
            "12\t0.9359\t\t0.9720\n",
            "13\t0.9387\t\t0.9766\n",
            "14\t0.9393\t\t0.9752\n",
            "15\t0.9401\t\t0.9787\n",
            "16\t0.9406\t\t0.9810\n",
            "17\t0.9422\t\t0.9826\n",
            "18\t0.9427\t\t0.9848\n",
            "19\t0.9444\t\t0.9829\n",
            "20\t0.9448\t\t0.9811\n",
            "21\t0.9450\t\t0.9811\n",
            "22\t0.9458\t\t0.9838\n",
            "23\t0.9465\t\t0.9845\n",
            "24\t0.9473\t\t0.9840\n",
            "25\t0.9468\t\t0.9815\n",
            "26\t0.9483\t\t0.9868\n",
            "27\t0.9476\t\t0.9837\n",
            "28\t0.9481\t\t0.9863\n",
            "29\t0.9491\t\t0.9842\n",
            "30\t0.9490\t\t0.9866\n",
            "31\t0.9505\t\t0.9898\n",
            "32\t0.9498\t\t0.9866\n",
            "33\t0.9510\t\t0.9856\n",
            "34\t0.9516\t\t0.9835\n",
            "35\t0.9515\t\t0.9853\n",
            "36\t0.9512\t\t0.9847\n",
            "37\t0.9518\t\t0.9887\n",
            "38\t0.9529\t\t0.9895\n",
            "39\t0.9527\t\t0.9890\n",
            "40\t0.9533\t\t0.9907\n",
            "41\t0.9539\t\t0.9895\n",
            "42\t0.9534\t\t0.9884\n",
            "43\t0.9542\t\t0.9892\n",
            "44\t0.9545\t\t0.9857\n",
            "45\t0.9541\t\t0.9896\n",
            "46\t0.9548\t\t0.9869\n",
            "47\t0.9546\t\t0.9875\n",
            "48\t0.9546\t\t0.9871\n",
            "49\t0.9547\t\t0.9885\n",
            "50\t0.9546\t\t0.9906\n"
          ]
        },
        {
          "output_type": "display_data",
          "data": {
            "text/plain": [
              "<Figure size 640x480 with 1 Axes>"
            ],
            "image/png": "[encoded data removed]"
          },
          "metadata": {}
        }
      ]
    },
    {
      "cell_type": "code",
      "source": [
        "model.save('final_model.keras')"
      ],
      "metadata": {
        "execution": {
          "iopub.status.busy": "2024-06-24T16:38:46.076844Z",
          "iopub.execute_input": "2024-06-24T16:38:46.077285Z",
          "iopub.status.idle": "2024-06-24T16:38:46.111128Z",
          "shell.execute_reply.started": "2024-06-24T16:38:46.077248Z",
          "shell.execute_reply": "2024-06-24T16:38:46.109898Z"
        },
        "trusted": true,
        "id": "FuFg5d-yyKj1"
      },
      "execution_count": 55,
      "outputs": []
    },
    {
      "cell_type": "code",
      "source": [
        "import json\n",
        "\n",
        "history_dict = history.history\n",
        "with open('history.json', 'w') as f:\n",
        "    json.dump(history_dict, f)"
      ],
      "metadata": {
        "execution": {
          "iopub.status.busy": "2024-06-24T16:38:49.283535Z",
          "iopub.execute_input": "2024-06-24T16:38:49.283974Z",
          "iopub.status.idle": "2024-06-24T16:38:49.292148Z",
          "shell.execute_reply.started": "2024-06-24T16:38:49.283938Z",
          "shell.execute_reply": "2024-06-24T16:38:49.290609Z"
        },
        "trusted": true,
        "id": "DRm2mQ5NyKj2"
      },
      "execution_count": 56,
      "outputs": []
    }
  ]
}