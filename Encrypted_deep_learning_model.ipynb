{
  "metadata": {
    "kernelspec": {
      "display_name": "Python 3",
      "name": "python3"
    },
    "language_info": {
      "pygments_lexer": "ipython3",
      "nbconvert_exporter": "python",
      "version": "3.6.4",
      "file_extension": ".py",
      "codemirror_mode": {
        "name": "ipython",
        "version": 3
      },
      "name": "python",
      "mimetype": "text/x-python"
    },
    "kaggle": {
      "accelerator": "none",
      "dataSources": [
        {
          "sourceId": 7125235,
          "sourceType": "datasetVersion",
          "datasetId": 4110234
        }
      ],
      "isInternetEnabled": true,
      "language": "python",
      "sourceType": "notebook",
      "isGpuEnabled": false
    },
    "colab": {
      "name": "Encrypted deep learning model ",
      "provenance": [],
      "gpuType": "T4",
      "include_colab_link": true
    },
    "accelerator": "GPU"
  },
  "nbformat_minor": 0,
  "nbformat": 4,
  "cells": [
    {
      "cell_type": "markdown",
      "metadata": {
        "id": "view-in-github",
        "colab_type": "text"
      },
      "source": [
        "<a href=\"https://colab.research.google.com/github/HumaSatti/Depression-Detection-By-ML-Deep-Learning-Model/blob/main/Encrypted_deep_learning_model.ipynb\" target=\"_parent\"><img src=\"https://colab.research.google.com/assets/colab-badge.svg\" alt=\"Open In Colab\"/></a>"
      ]
    },
    {
      "source": [
        "\n",
        "# IMPORTANT: RUN THIS CELL IN ORDER TO IMPORT YOUR KAGGLE DATA SOURCES\n",
        "# TO THE CORRECT LOCATION (/kaggle/input) IN YOUR NOTEBOOK,\n",
        "# THEN FEEL FREE TO DELETE THIS CELL.\n",
        "# NOTE: THIS NOTEBOOK ENVIRONMENT DIFFERS FROM KAGGLE'S PYTHON\n",
        "# ENVIRONMENT SO THERE MAY BE MISSING LIBRARIES USED BY YOUR\n",
        "# NOTEBOOK.\n",
        "\n",
        "import os\n",
        "import sys\n",
        "from tempfile import NamedTemporaryFile\n",
        "from urllib.request import urlopen\n",
        "from urllib.parse import unquote, urlparse\n",
        "from urllib.error import HTTPError\n",
        "from zipfile import ZipFile\n",
        "import tarfile\n",
        "import shutil\n",
        "\n",
        "CHUNK_SIZE = 40960\n",
        "DATA_SOURCE_MAPPING = 'nurse-stress-prediction-wearable-sensors:https%3A%2F%2Fstorage.googleapis.com%2Fkaggle-data-sets%2F4110234%2F7125235%2Fbundle%2Farchive.zip%3FX-Goog-Algorithm%3DGOOG4-RSA-SHA256%26X-Goog-Credential%3Dgcp-kaggle-com%2540kaggle-161607.iam.gserviceaccount.com%252F20240725%252Fauto%252Fstorage%252Fgoog4_request%26X-Goog-Date%3D20240725T145000Z%26X-Goog-Expires%3D259200%26X-Goog-SignedHeaders%3Dhost%26X-Goog-Signature%3D2ee34cfa641500f3842996d16fbca454a622657907a29529065f9e47768990e9900410f18b57ff0ec334c8407f80e9f08235ab016ab1128e9bfa036b38d685ffdad088f3670c47ac3fef2724b717253499683b85ed51607651d2af71f81e458af03db7d0c55f9cff695230e45070712f616caccd974f982fa6c1b77c9b52bc5e7f00d109907de0a4b3751ab214ec8b53d1529e7406ab015bcb0177bf800249d6728bbb0d43d72591d3e0fdebae6f171d1a784840e1822c78f2ed9c480acde1a3497df39ac54315953cc2af4631b043c93c0a2aada4d1a5555e63b6d3fdd551cc541dafad2f9eaf20435d1ac5d03fc107b800a4ce5ca71fac798f8acfe9b96e7f'\n",
        "\n",
        "KAGGLE_INPUT_PATH='/kaggle/input'\n",
        "KAGGLE_WORKING_PATH='/kaggle/working'\n",
        "KAGGLE_SYMLINK='kaggle'\n",
        "\n",
        "!umount /kaggle/input/ 2> /dev/null\n",
        "shutil.rmtree('/kaggle/input', ignore_errors=True)\n",
        "os.makedirs(KAGGLE_INPUT_PATH, 0o777, exist_ok=True)\n",
        "os.makedirs(KAGGLE_WORKING_PATH, 0o777, exist_ok=True)\n",
        "\n",
        "try:\n",
        "  os.symlink(KAGGLE_INPUT_PATH, os.path.join(\"..\", 'input'), target_is_directory=True)\n",
        "except FileExistsError:\n",
        "  pass\n",
        "try:\n",
        "  os.symlink(KAGGLE_WORKING_PATH, os.path.join(\"..\", 'working'), target_is_directory=True)\n",
        "except FileExistsError:\n",
        "  pass\n",
        "\n",
        "for data_source_mapping in DATA_SOURCE_MAPPING.split(','):\n",
        "    directory, download_url_encoded = data_source_mapping.split(':')\n",
        "    download_url = unquote(download_url_encoded)\n",
        "    filename = urlparse(download_url).path\n",
        "    destination_path = os.path.join(KAGGLE_INPUT_PATH, directory)\n",
        "    try:\n",
        "        with urlopen(download_url) as fileres, NamedTemporaryFile() as tfile:\n",
        "            total_length = fileres.headers['content-length']\n",
        "            print(f'Downloading {directory}, {total_length} bytes compressed')\n",
        "            dl = 0\n",
        "            data = fileres.read(CHUNK_SIZE)\n",
        "            while len(data) > 0:\n",
        "                dl += len(data)\n",
        "                tfile.write(data)\n",
        "                done = int(50 * dl / int(total_length))\n",
        "                sys.stdout.write(f\"\\r[{'=' * done}{' ' * (50-done)}] {dl} bytes downloaded\")\n",
        "                sys.stdout.flush()\n",
        "                data = fileres.read(CHUNK_SIZE)\n",
        "            if filename.endswith('.zip'):\n",
        "              with ZipFile(tfile) as zfile:\n",
        "                zfile.extractall(destination_path)\n",
        "            else:\n",
        "              with tarfile.open(tfile.name) as tarfile:\n",
        "                tarfile.extractall(destination_path)\n",
        "            print(f'\\nDownloaded and uncompressed: {directory}')\n",
        "    except HTTPError as e:\n",
        "        print(f'Failed to load (likely expired) {download_url} to path {destination_path}')\n",
        "        continue\n",
        "    except OSError as e:\n",
        "        print(f'Failed to load {download_url} to path {destination_path}')\n",
        "        continue\n",
        "\n",
        "print('Data source import complete.')\n"
      ],
      "metadata": {
        "id": "aC-BP7u2Xtdc",
        "outputId": "2e56c210-68a7-4699-dd90-d9052cc4e7c8",
        "colab": {
          "base_uri": "https://localhost:8080/"
        }
      },
      "cell_type": "code",
      "outputs": [
        {
          "output_type": "stream",
          "name": "stdout",
          "text": [
            "Downloading nurse-stress-prediction-wearable-sensors, 79877492 bytes compressed\n",
            "[==================================================] 79877492 bytes downloaded\n",
            "Downloaded and uncompressed: nurse-stress-prediction-wearable-sensors\n",
            "Data source import complete.\n"
          ]
        }
      ],
      "execution_count": 1
    },
    {
      "cell_type": "code",
      "source": [
        "# This Python 3 environment comes with many helpful analytics libraries installed\n",
        "# It is defined by the kaggle/python Docker image: https://github.com/kaggle/docker-python\n",
        "# For example, here's several helpful packages to load\n",
        "\n",
        "import numpy as np # linear algebra\n",
        "import pandas as pd # data processing, CSV file I/O (e.g. pd.read_csv)\n",
        "\n",
        "# Input data files are available in the read-only \"../input/\" directory\n",
        "# For example, running this (by clicking run or pressing Shift+Enter) will list all files under the input directory\n",
        "\n",
        "import os\n",
        "for dirname, _, filenames in os.walk('/kaggle/input'):\n",
        "    for filename in filenames:\n",
        "        print(os.path.join(dirname, filename))\n",
        "\n",
        "# You can write up to 20GB to the current directory (/kaggle/working/) that gets preserved as output when you create a version using \"Save & Run All\"\n",
        "# You can also write temporary files to /kaggle/temp/, but they won't be saved outside of the current session"
      ],
      "metadata": {
        "_uuid": "8f2839f25d086af736a60e9eeb907d3b93b6e0e5",
        "_cell_guid": "b1076dfc-b9ad-4769-8c92-a6c4dae69d19",
        "id": "DrgDNt-gXtdl",
        "outputId": "cc1f32fe-5fa5-4d43-d59c-695d52bfe476",
        "colab": {
          "base_uri": "https://localhost:8080/"
        }
      },
      "execution_count": 2,
      "outputs": [
        {
          "output_type": "stream",
          "name": "stdout",
          "text": [
            "/kaggle/input/nurse-stress-prediction-wearable-sensors/merged_data.csv\n"
          ]
        }
      ]
    },
    {
      "cell_type": "code",
      "source": [
        "!pip install cryptography"
      ],
      "metadata": {
        "id": "JCjrHtXKX3z4",
        "outputId": "b911b852-0c56-4208-af13-86ef4b8c53d7",
        "colab": {
          "base_uri": "https://localhost:8080/"
        }
      },
      "execution_count": 3,
      "outputs": [
        {
          "output_type": "stream",
          "name": "stdout",
          "text": [
            "Requirement already satisfied: cryptography in /usr/local/lib/python3.10/dist-packages (43.0.0)\n",
            "Requirement already satisfied: cffi>=1.12 in /usr/local/lib/python3.10/dist-packages (from cryptography) (1.16.0)\n",
            "Requirement already satisfied: pycparser in /usr/local/lib/python3.10/dist-packages (from cffi>=1.12->cryptography) (2.22)\n"
          ]
        }
      ]
    },
    {
      "cell_type": "code",
      "source": [
        "\n",
        "from cryptography.fernet import Fernet\n",
        "import base64"
      ],
      "metadata": {
        "id": "El1sMbmWYBTp"
      },
      "execution_count": 4,
      "outputs": []
    },
    {
      "cell_type": "code",
      "source": [
        "# Generate a key for encryption\n",
        "key = Fernet.generate_key()\n",
        "cipher_suite = Fernet(key)"
      ],
      "metadata": {
        "id": "sYrl1dReYDZ6"
      },
      "execution_count": 5,
      "outputs": []
    },
    {
      "cell_type": "code",
      "source": [
        "\n",
        "from sklearn.metrics import  accuracy_score, precision_recall_fscore_support,  roc_curve, auc\n",
        "import seaborn as sns\n",
        "import matplotlib.pyplot as plt\n",
        "from sklearn.model_selection import train_test_split\n",
        "from sklearn.preprocessing import RobustScaler\n",
        "from sklearn.metrics import classification_report, confusion_matrix\n",
        "from imblearn.over_sampling import RandomOverSampler\n",
        "from tensorflow.keras.models import Sequential\n",
        "from tensorflow.keras.layers import Dense, Dropout, Input\n",
        "from tensorflow.keras.callbacks import EarlyStopping, ModelCheckpoint\n",
        "import tensorflow as tf"
      ],
      "metadata": {
        "id": "52n03Dt_YUS6"
      },
      "execution_count": 6,
      "outputs": []
    },
    {
      "cell_type": "code",
      "source": [
        "# Load the dataset\n",
        "df = pd.read_csv('/kaggle/input/nurse-stress-prediction-wearable-sensors/merged_data.csv', low_memory=False, parse_dates=['datetime'])\n",
        "df"
      ],
      "metadata": {
        "id": "2yllBW-LYoOF",
        "outputId": "a2e7c730-0091-4a97-b42d-36886f494005",
        "colab": {
          "base_uri": "https://localhost:8080/",
          "height": 423
        }
      },
      "execution_count": 7,
      "outputs": [
        {
          "output_type": "execute_result",
          "data": {
            "text/plain": [
              "             X     Y     Z       EDA     HR   TEMP  id  \\\n",
              "0        -13.0 -61.0   5.0  6.769995  99.43  31.17  15   \n",
              "1        -20.0 -69.0  -3.0  6.769995  99.43  31.17  15   \n",
              "2        -31.0 -78.0 -15.0  6.769995  99.43  31.17  15   \n",
              "3        -47.0 -65.0 -38.0  6.769995  99.43  31.17  15   \n",
              "4        -67.0 -57.0 -53.0  6.769995  99.43  31.17  15   \n",
              "...        ...   ...   ...       ...    ...    ...  ..   \n",
              "11509046 -16.0 -56.0  24.0  3.386070  88.37  33.77  F5   \n",
              "11509047  -8.0 -50.0  27.0  3.386070  88.37  33.77  F5   \n",
              "11509048 -28.0 -36.0  28.0  3.386070  88.37  33.77  F5   \n",
              "11509049 -29.0 -29.0  30.0  3.386070  88.37  33.77  F5   \n",
              "11509050 -22.0 -24.0  29.0  3.374543  88.33  33.75  F5   \n",
              "\n",
              "                              datetime  label  \n",
              "0        2020-07-08 14:03:00.000000000    2.0  \n",
              "1        2020-07-08 14:03:00.031249920    2.0  \n",
              "2        2020-07-08 14:03:00.062500096    2.0  \n",
              "3        2020-07-08 14:03:00.093750016    2.0  \n",
              "4        2020-07-08 14:03:00.124999936    2.0  \n",
              "...                                ...    ...  \n",
              "11509046 2020-07-23 17:28:59.875000064    2.0  \n",
              "11509047 2020-07-23 17:28:59.906249984    2.0  \n",
              "11509048 2020-07-23 17:28:59.937499904    2.0  \n",
              "11509049 2020-07-23 17:28:59.968750080    2.0  \n",
              "11509050 2020-07-23 17:29:00.000000000    2.0  \n",
              "\n",
              "[11509051 rows x 9 columns]"
            ],
            "text/html": [
              "\n",
              "  <div id=\"df-a04ec1a7-df49-49ce-8cfa-0ed56ad62756\" class=\"colab-df-container\">\n",
              "    <div>\n",
              "<style scoped>\n",
              "    .dataframe tbody tr th:only-of-type {\n",
              "        vertical-align: middle;\n",
              "    }\n",
              "\n",
              "    .dataframe tbody tr th {\n",
              "        vertical-align: top;\n",
              "    }\n",
              "\n",
              "    .dataframe thead th {\n",
              "        text-align: right;\n",
              "    }\n",
              "</style>\n",
              "<table border=\"1\" class=\"dataframe\">\n",
              "  <thead>\n",
              "    <tr style=\"text-align: right;\">\n",
              "      <th></th>\n",
              "      <th>X</th>\n",
              "      <th>Y</th>\n",
              "      <th>Z</th>\n",
              "      <th>EDA</th>\n",
              "      <th>HR</th>\n",
              "      <th>TEMP</th>\n",
              "      <th>id</th>\n",
              "      <th>datetime</th>\n",
              "      <th>label</th>\n",
              "    </tr>\n",
              "  </thead>\n",
              "  <tbody>\n",
              "    <tr>\n",
              "      <th>0</th>\n",
              "      <td>-13.0</td>\n",
              "      <td>-61.0</td>\n",
              "      <td>5.0</td>\n",
              "      <td>6.769995</td>\n",
              "      <td>99.43</td>\n",
              "      <td>31.17</td>\n",
              "      <td>15</td>\n",
              "      <td>2020-07-08 14:03:00.000000000</td>\n",
              "      <td>2.0</td>\n",
              "    </tr>\n",
              "    <tr>\n",
              "      <th>1</th>\n",
              "      <td>-20.0</td>\n",
              "      <td>-69.0</td>\n",
              "      <td>-3.0</td>\n",
              "      <td>6.769995</td>\n",
              "      <td>99.43</td>\n",
              "      <td>31.17</td>\n",
              "      <td>15</td>\n",
              "      <td>2020-07-08 14:03:00.031249920</td>\n",
              "      <td>2.0</td>\n",
              "    </tr>\n",
              "    <tr>\n",
              "      <th>2</th>\n",
              "      <td>-31.0</td>\n",
              "      <td>-78.0</td>\n",
              "      <td>-15.0</td>\n",
              "      <td>6.769995</td>\n",
              "      <td>99.43</td>\n",
              "      <td>31.17</td>\n",
              "      <td>15</td>\n",
              "      <td>2020-07-08 14:03:00.062500096</td>\n",
              "      <td>2.0</td>\n",
              "    </tr>\n",
              "    <tr>\n",
              "      <th>3</th>\n",
              "      <td>-47.0</td>\n",
              "      <td>-65.0</td>\n",
              "      <td>-38.0</td>\n",
              "      <td>6.769995</td>\n",
              "      <td>99.43</td>\n",
              "      <td>31.17</td>\n",
              "      <td>15</td>\n",
              "      <td>2020-07-08 14:03:00.093750016</td>\n",
              "      <td>2.0</td>\n",
              "    </tr>\n",
              "    <tr>\n",
              "      <th>4</th>\n",
              "      <td>-67.0</td>\n",
              "      <td>-57.0</td>\n",
              "      <td>-53.0</td>\n",
              "      <td>6.769995</td>\n",
              "      <td>99.43</td>\n",
              "      <td>31.17</td>\n",
              "      <td>15</td>\n",
              "      <td>2020-07-08 14:03:00.124999936</td>\n",
              "      <td>2.0</td>\n",
              "    </tr>\n",
              "    <tr>\n",
              "      <th>...</th>\n",
              "      <td>...</td>\n",
              "      <td>...</td>\n",
              "      <td>...</td>\n",
              "      <td>...</td>\n",
              "      <td>...</td>\n",
              "      <td>...</td>\n",
              "      <td>...</td>\n",
              "      <td>...</td>\n",
              "      <td>...</td>\n",
              "    </tr>\n",
              "    <tr>\n",
              "      <th>11509046</th>\n",
              "      <td>-16.0</td>\n",
              "      <td>-56.0</td>\n",
              "      <td>24.0</td>\n",
              "      <td>3.386070</td>\n",
              "      <td>88.37</td>\n",
              "      <td>33.77</td>\n",
              "      <td>F5</td>\n",
              "      <td>2020-07-23 17:28:59.875000064</td>\n",
              "      <td>2.0</td>\n",
              "    </tr>\n",
              "    <tr>\n",
              "      <th>11509047</th>\n",
              "      <td>-8.0</td>\n",
              "      <td>-50.0</td>\n",
              "      <td>27.0</td>\n",
              "      <td>3.386070</td>\n",
              "      <td>88.37</td>\n",
              "      <td>33.77</td>\n",
              "      <td>F5</td>\n",
              "      <td>2020-07-23 17:28:59.906249984</td>\n",
              "      <td>2.0</td>\n",
              "    </tr>\n",
              "    <tr>\n",
              "      <th>11509048</th>\n",
              "      <td>-28.0</td>\n",
              "      <td>-36.0</td>\n",
              "      <td>28.0</td>\n",
              "      <td>3.386070</td>\n",
              "      <td>88.37</td>\n",
              "      <td>33.77</td>\n",
              "      <td>F5</td>\n",
              "      <td>2020-07-23 17:28:59.937499904</td>\n",
              "      <td>2.0</td>\n",
              "    </tr>\n",
              "    <tr>\n",
              "      <th>11509049</th>\n",
              "      <td>-29.0</td>\n",
              "      <td>-29.0</td>\n",
              "      <td>30.0</td>\n",
              "      <td>3.386070</td>\n",
              "      <td>88.37</td>\n",
              "      <td>33.77</td>\n",
              "      <td>F5</td>\n",
              "      <td>2020-07-23 17:28:59.968750080</td>\n",
              "      <td>2.0</td>\n",
              "    </tr>\n",
              "    <tr>\n",
              "      <th>11509050</th>\n",
              "      <td>-22.0</td>\n",
              "      <td>-24.0</td>\n",
              "      <td>29.0</td>\n",
              "      <td>3.374543</td>\n",
              "      <td>88.33</td>\n",
              "      <td>33.75</td>\n",
              "      <td>F5</td>\n",
              "      <td>2020-07-23 17:29:00.000000000</td>\n",
              "      <td>2.0</td>\n",
              "    </tr>\n",
              "  </tbody>\n",
              "</table>\n",
              "<p>11509051 rows × 9 columns</p>\n",
              "</div>\n",
              "    <div class=\"colab-df-buttons\">\n",
              "\n",
              "  <div class=\"colab-df-container\">\n",
              "    <button class=\"colab-df-convert\" onclick=\"convertToInteractive('df-a04ec1a7-df49-49ce-8cfa-0ed56ad62756')\"\n",
              "            title=\"Convert this dataframe to an interactive table.\"\n",
              "            style=\"display:none;\">\n",
              "\n",
              "  <svg xmlns=\"http://www.w3.org/2000/svg\" height=\"24px\" viewBox=\"0 -960 960 960\">\n",
              "    <path d=\"M120-120v-720h720v720H120Zm60-500h600v-160H180v160Zm220 220h160v-160H400v160Zm0 220h160v-160H400v160ZM180-400h160v-160H180v160Zm440 0h160v-160H620v160ZM180-180h160v-160H180v160Zm440 0h160v-160H620v160Z\"/>\n",
              "  </svg>\n",
              "    </button>\n",
              "\n",
              "  <style>\n",
              "    .colab-df-container {\n",
              "      display:flex;\n",
              "      gap: 12px;\n",
              "    }\n",
              "\n",
              "    .colab-df-convert {\n",
              "      background-color: #E8F0FE;\n",
              "      border: none;\n",
              "      border-radius: 50%;\n",
              "      cursor: pointer;\n",
              "      display: none;\n",
              "      fill: #1967D2;\n",
              "      height: 32px;\n",
              "      padding: 0 0 0 0;\n",
              "      width: 32px;\n",
              "    }\n",
              "\n",
              "    .colab-df-convert:hover {\n",
              "      background-color: #E2EBFA;\n",
              "      box-shadow: 0px 1px 2px rgba(60, 64, 67, 0.3), 0px 1px 3px 1px rgba(60, 64, 67, 0.15);\n",
              "      fill: #174EA6;\n",
              "    }\n",
              "\n",
              "    .colab-df-buttons div {\n",
              "      margin-bottom: 4px;\n",
              "    }\n",
              "\n",
              "    [theme=dark] .colab-df-convert {\n",
              "      background-color: #3B4455;\n",
              "      fill: #D2E3FC;\n",
              "    }\n",
              "\n",
              "    [theme=dark] .colab-df-convert:hover {\n",
              "      background-color: #434B5C;\n",
              "      box-shadow: 0px 1px 3px 1px rgba(0, 0, 0, 0.15);\n",
              "      filter: drop-shadow(0px 1px 2px rgba(0, 0, 0, 0.3));\n",
              "      fill: #FFFFFF;\n",
              "    }\n",
              "  </style>\n",
              "\n",
              "    <script>\n",
              "      const buttonEl =\n",
              "        document.querySelector('#df-a04ec1a7-df49-49ce-8cfa-0ed56ad62756 button.colab-df-convert');\n",
              "      buttonEl.style.display =\n",
              "        google.colab.kernel.accessAllowed ? 'block' : 'none';\n",
              "\n",
              "      async function convertToInteractive(key) {\n",
              "        const element = document.querySelector('#df-a04ec1a7-df49-49ce-8cfa-0ed56ad62756');\n",
              "        const dataTable =\n",
              "          await google.colab.kernel.invokeFunction('convertToInteractive',\n",
              "                                                    [key], {});\n",
              "        if (!dataTable) return;\n",
              "\n",
              "        const docLinkHtml = 'Like what you see? Visit the ' +\n",
              "          '<a target=\"_blank\" href=https://colab.research.google.com/notebooks/data_table.ipynb>data table notebook</a>'\n",
              "          + ' to learn more about interactive tables.';\n",
              "        element.innerHTML = '';\n",
              "        dataTable['output_type'] = 'display_data';\n",
              "        await google.colab.output.renderOutput(dataTable, element);\n",
              "        const docLink = document.createElement('div');\n",
              "        docLink.innerHTML = docLinkHtml;\n",
              "        element.appendChild(docLink);\n",
              "      }\n",
              "    </script>\n",
              "  </div>\n",
              "\n",
              "\n",
              "<div id=\"df-908b096f-4f36-4732-a12f-25fcdf3b9943\">\n",
              "  <button class=\"colab-df-quickchart\" onclick=\"quickchart('df-908b096f-4f36-4732-a12f-25fcdf3b9943')\"\n",
              "            title=\"Suggest charts\"\n",
              "            style=\"display:none;\">\n",
              "\n",
              "<svg xmlns=\"http://www.w3.org/2000/svg\" height=\"24px\"viewBox=\"0 0 24 24\"\n",
              "     width=\"24px\">\n",
              "    <g>\n",
              "        <path d=\"M19 3H5c-1.1 0-2 .9-2 2v14c0 1.1.9 2 2 2h14c1.1 0 2-.9 2-2V5c0-1.1-.9-2-2-2zM9 17H7v-7h2v7zm4 0h-2V7h2v10zm4 0h-2v-4h2v4z\"/>\n",
              "    </g>\n",
              "</svg>\n",
              "  </button>\n",
              "\n",
              "<style>\n",
              "  .colab-df-quickchart {\n",
              "      --bg-color: #E8F0FE;\n",
              "      --fill-color: #1967D2;\n",
              "      --hover-bg-color: #E2EBFA;\n",
              "      --hover-fill-color: #174EA6;\n",
              "      --disabled-fill-color: #AAA;\n",
              "      --disabled-bg-color: #DDD;\n",
              "  }\n",
              "\n",
              "  [theme=dark] .colab-df-quickchart {\n",
              "      --bg-color: #3B4455;\n",
              "      --fill-color: #D2E3FC;\n",
              "      --hover-bg-color: #434B5C;\n",
              "      --hover-fill-color: #FFFFFF;\n",
              "      --disabled-bg-color: #3B4455;\n",
              "      --disabled-fill-color: #666;\n",
              "  }\n",
              "\n",
              "  .colab-df-quickchart {\n",
              "    background-color: var(--bg-color);\n",
              "    border: none;\n",
              "    border-radius: 50%;\n",
              "    cursor: pointer;\n",
              "    display: none;\n",
              "    fill: var(--fill-color);\n",
              "    height: 32px;\n",
              "    padding: 0;\n",
              "    width: 32px;\n",
              "  }\n",
              "\n",
              "  .colab-df-quickchart:hover {\n",
              "    background-color: var(--hover-bg-color);\n",
              "    box-shadow: 0 1px 2px rgba(60, 64, 67, 0.3), 0 1px 3px 1px rgba(60, 64, 67, 0.15);\n",
              "    fill: var(--button-hover-fill-color);\n",
              "  }\n",
              "\n",
              "  .colab-df-quickchart-complete:disabled,\n",
              "  .colab-df-quickchart-complete:disabled:hover {\n",
              "    background-color: var(--disabled-bg-color);\n",
              "    fill: var(--disabled-fill-color);\n",
              "    box-shadow: none;\n",
              "  }\n",
              "\n",
              "  .colab-df-spinner {\n",
              "    border: 2px solid var(--fill-color);\n",
              "    border-color: transparent;\n",
              "    border-bottom-color: var(--fill-color);\n",
              "    animation:\n",
              "      spin 1s steps(1) infinite;\n",
              "  }\n",
              "\n",
              "  @keyframes spin {\n",
              "    0% {\n",
              "      border-color: transparent;\n",
              "      border-bottom-color: var(--fill-color);\n",
              "      border-left-color: var(--fill-color);\n",
              "    }\n",
              "    20% {\n",
              "      border-color: transparent;\n",
              "      border-left-color: var(--fill-color);\n",
              "      border-top-color: var(--fill-color);\n",
              "    }\n",
              "    30% {\n",
              "      border-color: transparent;\n",
              "      border-left-color: var(--fill-color);\n",
              "      border-top-color: var(--fill-color);\n",
              "      border-right-color: var(--fill-color);\n",
              "    }\n",
              "    40% {\n",
              "      border-color: transparent;\n",
              "      border-right-color: var(--fill-color);\n",
              "      border-top-color: var(--fill-color);\n",
              "    }\n",
              "    60% {\n",
              "      border-color: transparent;\n",
              "      border-right-color: var(--fill-color);\n",
              "    }\n",
              "    80% {\n",
              "      border-color: transparent;\n",
              "      border-right-color: var(--fill-color);\n",
              "      border-bottom-color: var(--fill-color);\n",
              "    }\n",
              "    90% {\n",
              "      border-color: transparent;\n",
              "      border-bottom-color: var(--fill-color);\n",
              "    }\n",
              "  }\n",
              "</style>\n",
              "\n",
              "  <script>\n",
              "    async function quickchart(key) {\n",
              "      const quickchartButtonEl =\n",
              "        document.querySelector('#' + key + ' button');\n",
              "      quickchartButtonEl.disabled = true;  // To prevent multiple clicks.\n",
              "      quickchartButtonEl.classList.add('colab-df-spinner');\n",
              "      try {\n",
              "        const charts = await google.colab.kernel.invokeFunction(\n",
              "            'suggestCharts', [key], {});\n",
              "      } catch (error) {\n",
              "        console.error('Error during call to suggestCharts:', error);\n",
              "      }\n",
              "      quickchartButtonEl.classList.remove('colab-df-spinner');\n",
              "      quickchartButtonEl.classList.add('colab-df-quickchart-complete');\n",
              "    }\n",
              "    (() => {\n",
              "      let quickchartButtonEl =\n",
              "        document.querySelector('#df-908b096f-4f36-4732-a12f-25fcdf3b9943 button');\n",
              "      quickchartButtonEl.style.display =\n",
              "        google.colab.kernel.accessAllowed ? 'block' : 'none';\n",
              "    })();\n",
              "  </script>\n",
              "</div>\n",
              "\n",
              "  <div id=\"id_17810a54-53a8-475f-addc-482c5b476318\">\n",
              "    <style>\n",
              "      .colab-df-generate {\n",
              "        background-color: #E8F0FE;\n",
              "        border: none;\n",
              "        border-radius: 50%;\n",
              "        cursor: pointer;\n",
              "        display: none;\n",
              "        fill: #1967D2;\n",
              "        height: 32px;\n",
              "        padding: 0 0 0 0;\n",
              "        width: 32px;\n",
              "      }\n",
              "\n",
              "      .colab-df-generate:hover {\n",
              "        background-color: #E2EBFA;\n",
              "        box-shadow: 0px 1px 2px rgba(60, 64, 67, 0.3), 0px 1px 3px 1px rgba(60, 64, 67, 0.15);\n",
              "        fill: #174EA6;\n",
              "      }\n",
              "\n",
              "      [theme=dark] .colab-df-generate {\n",
              "        background-color: #3B4455;\n",
              "        fill: #D2E3FC;\n",
              "      }\n",
              "\n",
              "      [theme=dark] .colab-df-generate:hover {\n",
              "        background-color: #434B5C;\n",
              "        box-shadow: 0px 1px 3px 1px rgba(0, 0, 0, 0.15);\n",
              "        filter: drop-shadow(0px 1px 2px rgba(0, 0, 0, 0.3));\n",
              "        fill: #FFFFFF;\n",
              "      }\n",
              "    </style>\n",
              "    <button class=\"colab-df-generate\" onclick=\"generateWithVariable('df')\"\n",
              "            title=\"Generate code using this dataframe.\"\n",
              "            style=\"display:none;\">\n",
              "\n",
              "  <svg xmlns=\"http://www.w3.org/2000/svg\" height=\"24px\"viewBox=\"0 0 24 24\"\n",
              "       width=\"24px\">\n",
              "    <path d=\"M7,19H8.4L18.45,9,17,7.55,7,17.6ZM5,21V16.75L18.45,3.32a2,2,0,0,1,2.83,0l1.4,1.43a1.91,1.91,0,0,1,.58,1.4,1.91,1.91,0,0,1-.58,1.4L9.25,21ZM18.45,9,17,7.55Zm-12,3A5.31,5.31,0,0,0,4.9,8.1,5.31,5.31,0,0,0,1,6.5,5.31,5.31,0,0,0,4.9,4.9,5.31,5.31,0,0,0,6.5,1,5.31,5.31,0,0,0,8.1,4.9,5.31,5.31,0,0,0,12,6.5,5.46,5.46,0,0,0,6.5,12Z\"/>\n",
              "  </svg>\n",
              "    </button>\n",
              "    <script>\n",
              "      (() => {\n",
              "      const buttonEl =\n",
              "        document.querySelector('#id_17810a54-53a8-475f-addc-482c5b476318 button.colab-df-generate');\n",
              "      buttonEl.style.display =\n",
              "        google.colab.kernel.accessAllowed ? 'block' : 'none';\n",
              "\n",
              "      buttonEl.onclick = () => {\n",
              "        google.colab.notebook.generateWithVariable('df');\n",
              "      }\n",
              "      })();\n",
              "    </script>\n",
              "  </div>\n",
              "\n",
              "    </div>\n",
              "  </div>\n"
            ],
            "application/vnd.google.colaboratory.intrinsic+json": {
              "type": "dataframe",
              "variable_name": "df"
            }
          },
          "metadata": {},
          "execution_count": 7
        }
      ]
    },
    {
      "cell_type": "code",
      "source": [
        "# Convert dataframe to bytes\n",
        "data_bytes = df.to_csv(index=False).encode()"
      ],
      "metadata": {
        "id": "8d7pX7bDYpYI"
      },
      "execution_count": 8,
      "outputs": []
    },
    {
      "cell_type": "code",
      "source": [
        "# Encrypt the data\n",
        "encrypted_data = cipher_suite.encrypt(data_bytes)"
      ],
      "metadata": {
        "id": "H5kfGCWBY0oO"
      },
      "execution_count": 10,
      "outputs": []
    },
    {
      "cell_type": "code",
      "source": [
        "# Save the encrypted data to a file\n",
        "with open('encrypted_data.enc', 'wb') as file:\n",
        "    file.write(encrypted_data)"
      ],
      "metadata": {
        "id": "GDBOArLjZ-aM"
      },
      "execution_count": 11,
      "outputs": []
    },
    {
      "cell_type": "code",
      "source": [
        "# Save the encryption key securely\n",
        "with open('key.key', 'wb') as file:\n",
        "    file.write(key)"
      ],
      "metadata": {
        "id": "0ZGBXGzuZ-eY"
      },
      "execution_count": 12,
      "outputs": []
    },
    {
      "cell_type": "code",
      "source": [
        "# Load the encryption key\n",
        "with open('key.key', 'rb') as file:\n",
        "    key = file.read()\n"
      ],
      "metadata": {
        "id": "gI5mUBcGZ-hY"
      },
      "execution_count": 13,
      "outputs": []
    },
    {
      "cell_type": "code",
      "source": [
        "cipher_suite = Fernet(key)\n",
        "\n"
      ],
      "metadata": {
        "id": "3w_HYv2oaHzn"
      },
      "execution_count": 14,
      "outputs": []
    },
    {
      "cell_type": "code",
      "source": [
        "# Load the encrypted data\n",
        "with open('encrypted_data.enc', 'rb') as file:\n",
        "    encrypted_data = file.read()"
      ],
      "metadata": {
        "id": "f06BW78LaH33"
      },
      "execution_count": 15,
      "outputs": []
    },
    {
      "cell_type": "code",
      "source": [
        "# Decrypt the data\n",
        "decrypted_data_bytes = cipher_suite.decrypt(encrypted_data)"
      ],
      "metadata": {
        "id": "u-3pn8h3aL4_"
      },
      "execution_count": 16,
      "outputs": []
    },
    {
      "cell_type": "code",
      "source": [
        "# Convert bytes back to dataframe\n",
        "from io import StringIO"
      ],
      "metadata": {
        "id": "RLRJlINYcytl"
      },
      "execution_count": 17,
      "outputs": []
    },
    {
      "cell_type": "code",
      "source": [
        "df = pd.read_csv(StringIO(decrypted_data_bytes.decode()))"
      ],
      "metadata": {
        "id": "QU0c5FModDjY",
        "outputId": "b100faff-6607-4f0e-b4ae-775a97b897b7",
        "colab": {
          "base_uri": "https://localhost:8080/"
        }
      },
      "execution_count": 18,
      "outputs": [
        {
          "output_type": "stream",
          "name": "stderr",
          "text": [
            "<ipython-input-18-9498ea2dc3fa>:1: DtypeWarning: Columns (6) have mixed types. Specify dtype option on import or set low_memory=False.\n",
            "  df = pd.read_csv(StringIO(decrypted_data_bytes.decode()))\n"
          ]
        }
      ]
    },
    {
      "cell_type": "code",
      "source": [
        "# Ensure 'datetime' column is in datetime format\n",
        "df['datetime'] = pd.to_datetime(df['datetime'])"
      ],
      "metadata": {
        "id": "wXMa0TdtdFkT"
      },
      "execution_count": 20,
      "outputs": []
    },
    {
      "cell_type": "code",
      "source": [
        "# Data preprocessing as per your script\n",
        "df['month'] = df['datetime'].dt.month\n",
        "df['day'] = df['datetime'].dt.day\n",
        "df['hour'] = df['datetime'].dt.hour\n",
        "df['minute'] = df['datetime'].dt.minute\n",
        "df['second'] = df['datetime'].dt.second\n",
        "df.drop(['datetime', 'id'], axis=1, inplace=True)"
      ],
      "metadata": {
        "id": "XD2UKpVHdpi2"
      },
      "execution_count": 21,
      "outputs": []
    },
    {
      "cell_type": "code",
      "source": [
        "X = df.drop('label', axis=1)\n",
        "y = df['label']"
      ],
      "metadata": {
        "id": "SzBNZuhldLh2"
      },
      "execution_count": 22,
      "outputs": []
    },
    {
      "cell_type": "code",
      "source": [
        "sample_frac = 0.01\n",
        "X_sampled, _, y_sampled, _ = train_test_split(X, y, test_size=1-sample_frac, stratify=y, random_state=42)\n",
        "over_sample = RandomOverSampler(random_state=42)\n",
        "X_sampled, y_sampled = over_sample.fit_resample(X_sampled, y_sampled)"
      ],
      "metadata": {
        "id": "O3eO0W7Pd31U"
      },
      "execution_count": 23,
      "outputs": []
    },
    {
      "cell_type": "code",
      "source": [
        "X_train, X_temp, y_train, y_temp = train_test_split(X_sampled, y_sampled, test_size=0.2, random_state=42)\n",
        "X_val, X_test, y_val, y_test = train_test_split(X_temp, y_temp, test_size=0.5, random_state=42)\n"
      ],
      "metadata": {
        "id": "4PmxKz5Wd4xM"
      },
      "execution_count": 24,
      "outputs": []
    },
    {
      "cell_type": "code",
      "source": [
        "scaler = RobustScaler()\n",
        "X_train = scaler.fit_transform(X_train)\n",
        "X_val = scaler.transform(X_val)\n",
        "X_test = scaler.transform(X_test)"
      ],
      "metadata": {
        "id": "p2enOHznd8j8"
      },
      "execution_count": 25,
      "outputs": []
    },
    {
      "cell_type": "code",
      "source": [
        "try:\n",
        "    tpu = tf.distribute.cluster_resolver.TPUClusterResolver()\n",
        "    tf.config.experimental_connect_to_cluster(tpu)\n",
        "    tf.tpu.experimental.initialize_tpu_system(tpu)\n",
        "    strategy = tf.distribute.TPUStrategy(tpu)\n",
        "except ValueError:\n",
        "    strategy = tf.distribute.get_strategy()"
      ],
      "metadata": {
        "id": "b7MnW8q0d90Q"
      },
      "execution_count": 26,
      "outputs": []
    },
    {
      "cell_type": "code",
      "source": [
        "with strategy.scope():\n",
        "    model = Sequential([\n",
        "        Input(shape=(X_train.shape[1],)),\n",
        "        Dense(256, activation='relu'),\n",
        "        Dropout(0.5),\n",
        "        Dense(128, activation='relu'),\n",
        "        Dropout(0.5),\n",
        "        Dense(64, activation='relu'),\n",
        "        Dropout(0.5),\n",
        "        Dense(32, activation='relu'),\n",
        "        Dense(3, activation='softmax')\n",
        "    ])"
      ],
      "metadata": {
        "id": "u3PfOcSxeAT0"
      },
      "execution_count": 27,
      "outputs": []
    },
    {
      "cell_type": "code",
      "source": [
        "model.compile(optimizer='adam', loss='sparse_categorical_crossentropy', metrics=['accuracy'])\n"
      ],
      "metadata": {
        "id": "nOJDnpXveDmA"
      },
      "execution_count": 28,
      "outputs": []
    },
    {
      "cell_type": "code",
      "source": [
        "early_stopping = EarlyStopping(monitor='val_loss', patience=10, restore_best_weights=True)\n",
        "checkpoint = ModelCheckpoint('best_model.keras', save_best_only=True, monitor='val_loss', mode='min')\n"
      ],
      "metadata": {
        "id": "KbQkcNvDeDtL"
      },
      "execution_count": 29,
      "outputs": []
    },
    {
      "cell_type": "code",
      "source": [
        "history = model.fit(X_train, y_train, epochs=50, validation_data=(X_val, y_val), callbacks=[early_stopping, checkpoint])\n"
      ],
      "metadata": {
        "id": "ZtNDYw-AeD0E",
        "outputId": "4d171793-d9f5-48b0-95ed-a293ae66d08c",
        "colab": {
          "base_uri": "https://localhost:8080/"
        }
      },
      "execution_count": 30,
      "outputs": [
        {
          "output_type": "stream",
          "name": "stdout",
          "text": [
            "Epoch 1/50\n",
            "6406/6406 [==============================] - 46s 6ms/step - loss: 0.4736 - accuracy: 0.7925 - val_loss: 0.1887 - val_accuracy: 0.9276\n",
            "Epoch 2/50\n",
            "6406/6406 [==============================] - 39s 6ms/step - loss: 0.2357 - accuracy: 0.9104 - val_loss: 0.1163 - val_accuracy: 0.9583\n",
            "Epoch 3/50\n",
            "6406/6406 [==============================] - 32s 5ms/step - loss: 0.1818 - accuracy: 0.9318 - val_loss: 0.0751 - val_accuracy: 0.9728\n",
            "Epoch 4/50\n",
            "6406/6406 [==============================] - 41s 6ms/step - loss: 0.1544 - accuracy: 0.9420 - val_loss: 0.0642 - val_accuracy: 0.9769\n",
            "Epoch 5/50\n",
            "6406/6406 [==============================] - 47s 7ms/step - loss: 0.1392 - accuracy: 0.9478 - val_loss: 0.0548 - val_accuracy: 0.9804\n",
            "Epoch 6/50\n",
            "6406/6406 [==============================] - 48s 7ms/step - loss: 0.1282 - accuracy: 0.9526 - val_loss: 0.0499 - val_accuracy: 0.9822\n",
            "Epoch 7/50\n",
            "6406/6406 [==============================] - 47s 7ms/step - loss: 0.1188 - accuracy: 0.9571 - val_loss: 0.0384 - val_accuracy: 0.9867\n",
            "Epoch 8/50\n",
            "6406/6406 [==============================] - 48s 8ms/step - loss: 0.1127 - accuracy: 0.9593 - val_loss: 0.0368 - val_accuracy: 0.9881\n",
            "Epoch 9/50\n",
            "6406/6406 [==============================] - 39s 6ms/step - loss: 0.1068 - accuracy: 0.9620 - val_loss: 0.0379 - val_accuracy: 0.9854\n",
            "Epoch 10/50\n",
            "6406/6406 [==============================] - 39s 6ms/step - loss: 0.1033 - accuracy: 0.9638 - val_loss: 0.0256 - val_accuracy: 0.9927\n",
            "Epoch 11/50\n",
            "6406/6406 [==============================] - 40s 6ms/step - loss: 0.0981 - accuracy: 0.9662 - val_loss: 0.0271 - val_accuracy: 0.9920\n",
            "Epoch 12/50\n",
            "6406/6406 [==============================] - 46s 7ms/step - loss: 0.0933 - accuracy: 0.9683 - val_loss: 0.0271 - val_accuracy: 0.9933\n",
            "Epoch 13/50\n",
            "6406/6406 [==============================] - 46s 7ms/step - loss: 0.0900 - accuracy: 0.9689 - val_loss: 0.0228 - val_accuracy: 0.9945\n",
            "Epoch 14/50\n",
            "6406/6406 [==============================] - 51s 8ms/step - loss: 0.0875 - accuracy: 0.9700 - val_loss: 0.0215 - val_accuracy: 0.9943\n",
            "Epoch 15/50\n",
            "6406/6406 [==============================] - 47s 7ms/step - loss: 0.0858 - accuracy: 0.9709 - val_loss: 0.0224 - val_accuracy: 0.9925\n",
            "Epoch 16/50\n",
            "6406/6406 [==============================] - 34s 5ms/step - loss: 0.0821 - accuracy: 0.9722 - val_loss: 0.0195 - val_accuracy: 0.9952\n",
            "Epoch 17/50\n",
            "6406/6406 [==============================] - 39s 6ms/step - loss: 0.0810 - accuracy: 0.9729 - val_loss: 0.0213 - val_accuracy: 0.9941\n",
            "Epoch 18/50\n",
            "6406/6406 [==============================] - 46s 7ms/step - loss: 0.0776 - accuracy: 0.9738 - val_loss: 0.0182 - val_accuracy: 0.9953\n",
            "Epoch 19/50\n",
            "6406/6406 [==============================] - 47s 7ms/step - loss: 0.0772 - accuracy: 0.9745 - val_loss: 0.0196 - val_accuracy: 0.9950\n",
            "Epoch 20/50\n",
            "6406/6406 [==============================] - 44s 7ms/step - loss: 0.0731 - accuracy: 0.9756 - val_loss: 0.0136 - val_accuracy: 0.9963\n",
            "Epoch 21/50\n",
            "6406/6406 [==============================] - 46s 7ms/step - loss: 0.0735 - accuracy: 0.9757 - val_loss: 0.0164 - val_accuracy: 0.9960\n",
            "Epoch 22/50\n",
            "6406/6406 [==============================] - 39s 6ms/step - loss: 0.0720 - accuracy: 0.9758 - val_loss: 0.0152 - val_accuracy: 0.9954\n",
            "Epoch 23/50\n",
            "6406/6406 [==============================] - 39s 6ms/step - loss: 0.0699 - accuracy: 0.9768 - val_loss: 0.0116 - val_accuracy: 0.9972\n",
            "Epoch 24/50\n",
            "6406/6406 [==============================] - 32s 5ms/step - loss: 0.0697 - accuracy: 0.9769 - val_loss: 0.0164 - val_accuracy: 0.9961\n",
            "Epoch 25/50\n",
            "6406/6406 [==============================] - 46s 7ms/step - loss: 0.0676 - accuracy: 0.9776 - val_loss: 0.0125 - val_accuracy: 0.9968\n",
            "Epoch 26/50\n",
            "6406/6406 [==============================] - 45s 7ms/step - loss: 0.0675 - accuracy: 0.9777 - val_loss: 0.0108 - val_accuracy: 0.9973\n",
            "Epoch 27/50\n",
            "6406/6406 [==============================] - 47s 7ms/step - loss: 0.0648 - accuracy: 0.9790 - val_loss: 0.0112 - val_accuracy: 0.9973\n",
            "Epoch 28/50\n",
            "6406/6406 [==============================] - 49s 8ms/step - loss: 0.0658 - accuracy: 0.9783 - val_loss: 0.0109 - val_accuracy: 0.9977\n",
            "Epoch 29/50\n",
            "6406/6406 [==============================] - 42s 6ms/step - loss: 0.0640 - accuracy: 0.9790 - val_loss: 0.0107 - val_accuracy: 0.9975\n",
            "Epoch 30/50\n",
            "6406/6406 [==============================] - 39s 6ms/step - loss: 0.0625 - accuracy: 0.9797 - val_loss: 0.0121 - val_accuracy: 0.9973\n",
            "Epoch 31/50\n",
            "6406/6406 [==============================] - 42s 7ms/step - loss: 0.0629 - accuracy: 0.9796 - val_loss: 0.0098 - val_accuracy: 0.9981\n",
            "Epoch 32/50\n",
            "6406/6406 [==============================] - 48s 8ms/step - loss: 0.0614 - accuracy: 0.9800 - val_loss: 0.0085 - val_accuracy: 0.9985\n",
            "Epoch 33/50\n",
            "6406/6406 [==============================] - 41s 6ms/step - loss: 0.0616 - accuracy: 0.9801 - val_loss: 0.0094 - val_accuracy: 0.9982\n",
            "Epoch 34/50\n",
            "6406/6406 [==============================] - 46s 7ms/step - loss: 0.0600 - accuracy: 0.9809 - val_loss: 0.0100 - val_accuracy: 0.9982\n",
            "Epoch 35/50\n",
            "6406/6406 [==============================] - 49s 8ms/step - loss: 0.0610 - accuracy: 0.9804 - val_loss: 0.0103 - val_accuracy: 0.9978\n",
            "Epoch 36/50\n",
            "6406/6406 [==============================] - 39s 6ms/step - loss: 0.0591 - accuracy: 0.9810 - val_loss: 0.0112 - val_accuracy: 0.9981\n",
            "Epoch 37/50\n",
            "6406/6406 [==============================] - 33s 5ms/step - loss: 0.0568 - accuracy: 0.9816 - val_loss: 0.0132 - val_accuracy: 0.9971\n",
            "Epoch 38/50\n",
            "6406/6406 [==============================] - 45s 7ms/step - loss: 0.0565 - accuracy: 0.9821 - val_loss: 0.0084 - val_accuracy: 0.9986\n",
            "Epoch 39/50\n",
            "6406/6406 [==============================] - 45s 7ms/step - loss: 0.0581 - accuracy: 0.9818 - val_loss: 0.0081 - val_accuracy: 0.9984\n",
            "Epoch 40/50\n",
            "6406/6406 [==============================] - 47s 7ms/step - loss: 0.0588 - accuracy: 0.9816 - val_loss: 0.0124 - val_accuracy: 0.9978\n",
            "Epoch 41/50\n",
            "6406/6406 [==============================] - 49s 8ms/step - loss: 0.0555 - accuracy: 0.9819 - val_loss: 0.0083 - val_accuracy: 0.9981\n",
            "Epoch 42/50\n",
            "6406/6406 [==============================] - 44s 7ms/step - loss: 0.0557 - accuracy: 0.9821 - val_loss: 0.0087 - val_accuracy: 0.9981\n",
            "Epoch 43/50\n",
            "6406/6406 [==============================] - 38s 6ms/step - loss: 0.0556 - accuracy: 0.9823 - val_loss: 0.0100 - val_accuracy: 0.9977\n",
            "Epoch 44/50\n",
            "6406/6406 [==============================] - 40s 6ms/step - loss: 0.0548 - accuracy: 0.9830 - val_loss: 0.0106 - val_accuracy: 0.9986\n",
            "Epoch 45/50\n",
            "6406/6406 [==============================] - 45s 7ms/step - loss: 0.0552 - accuracy: 0.9823 - val_loss: 0.0089 - val_accuracy: 0.9992\n",
            "Epoch 46/50\n",
            "6406/6406 [==============================] - 44s 7ms/step - loss: 0.0539 - accuracy: 0.9831 - val_loss: 0.0083 - val_accuracy: 0.9984\n",
            "Epoch 47/50\n",
            "6406/6406 [==============================] - 50s 8ms/step - loss: 0.0538 - accuracy: 0.9830 - val_loss: 0.0075 - val_accuracy: 0.9988\n",
            "Epoch 48/50\n",
            "6406/6406 [==============================] - 45s 7ms/step - loss: 0.0548 - accuracy: 0.9829 - val_loss: 0.0081 - val_accuracy: 0.9986\n",
            "Epoch 49/50\n",
            "6406/6406 [==============================] - 42s 7ms/step - loss: 0.0545 - accuracy: 0.9826 - val_loss: 0.0088 - val_accuracy: 0.9980\n",
            "Epoch 50/50\n",
            "6406/6406 [==============================] - 36s 6ms/step - loss: 0.0520 - accuracy: 0.9836 - val_loss: 0.0063 - val_accuracy: 0.9989\n"
          ]
        }
      ]
    },
    {
      "cell_type": "code",
      "source": [
        "# Save the trained model\n",
        "model.save('Encrypted_Deep_final_model.keras')"
      ],
      "metadata": {
        "id": "jpH9VpqseJLz"
      },
      "execution_count": 31,
      "outputs": []
    },
    {
      "cell_type": "code",
      "source": [
        "# Encrypt the model file\n",
        "with open('Encrypted_Deep_final_model.keras', 'rb') as file:\n",
        "    model_bytes = file.read()"
      ],
      "metadata": {
        "id": "QcTWy1DJeJWX"
      },
      "execution_count": 32,
      "outputs": []
    },
    {
      "cell_type": "code",
      "source": [
        "encrypted_model = cipher_suite.encrypt(model_bytes)"
      ],
      "metadata": {
        "id": "OErxqVmgeXdo"
      },
      "execution_count": 33,
      "outputs": []
    },
    {
      "cell_type": "code",
      "source": [
        "# Save the encrypted model\n",
        "with open('encrypted_model.enc', 'wb') as file:\n",
        "    file.write(encrypted_model)\n"
      ],
      "metadata": {
        "id": "jXYn1ZLqeXki"
      },
      "execution_count": 34,
      "outputs": []
    },
    {
      "cell_type": "code",
      "source": [
        "# Decrypt the model\n",
        "with open('encrypted_model.enc', 'rb') as file:\n",
        "    encrypted_model = file.read()"
      ],
      "metadata": {
        "id": "1d8u3WjXeXry"
      },
      "execution_count": 35,
      "outputs": []
    },
    {
      "cell_type": "code",
      "source": [
        "decrypted_model_bytes = cipher_suite.decrypt(encrypted_model)"
      ],
      "metadata": {
        "id": "NtXALpzzel1O"
      },
      "execution_count": 36,
      "outputs": []
    },
    {
      "cell_type": "code",
      "source": [
        "# Save the decrypted model temporarily to load it\n",
        "with open('decrypted_model.keras', 'wb') as file:\n",
        "    file.write(decrypted_model_bytes)"
      ],
      "metadata": {
        "id": "BPe3w4uYel4T"
      },
      "execution_count": 37,
      "outputs": []
    },
    {
      "cell_type": "code",
      "source": [
        "# Load the decrypted model\n",
        "model = tf.keras.models.load_model('decrypted_model.keras')\n"
      ],
      "metadata": {
        "id": "F4iWvtU8el79"
      },
      "execution_count": 38,
      "outputs": []
    },
    {
      "cell_type": "code",
      "source": [
        "# Clean up\n",
        "import os\n",
        "os.remove('decrypted_model.keras')\n"
      ],
      "metadata": {
        "id": "SCa8P8MFemAA"
      },
      "execution_count": 39,
      "outputs": []
    },
    {
      "cell_type": "code",
      "source": [
        "# Make predictions\n",
        "y_pred = model.predict(X_test)\n",
        "y_pred_classes = np.argmax(y_pred, axis=1)"
      ],
      "metadata": {
        "id": "d8z8Khvje3Y0",
        "outputId": "8ae4a301-0d21-47cd-8c7a-005c179a2a16",
        "colab": {
          "base_uri": "https://localhost:8080/"
        }
      },
      "execution_count": 40,
      "outputs": [
        {
          "output_type": "stream",
          "name": "stdout",
          "text": [
            "801/801 [==============================] - 1s 2ms/step\n"
          ]
        }
      ]
    },
    {
      "cell_type": "code",
      "source": [
        "# Classification report\n",
        "print('Classification Report:')\n",
        "print(classification_report(y_test, y_pred_classes))"
      ],
      "metadata": {
        "id": "Z_jNkLHve3f7",
        "outputId": "4aac49f5-e0d5-42a8-c9a4-5846efa8b69e",
        "colab": {
          "base_uri": "https://localhost:8080/"
        }
      },
      "execution_count": 41,
      "outputs": [
        {
          "output_type": "stream",
          "name": "stdout",
          "text": [
            "Classification Report:\n",
            "              precision    recall  f1-score   support\n",
            "\n",
            "         0.0       1.00      1.00      1.00      8578\n",
            "         1.0       1.00      1.00      1.00      8531\n",
            "         2.0       1.00      1.00      1.00      8513\n",
            "\n",
            "    accuracy                           1.00     25622\n",
            "   macro avg       1.00      1.00      1.00     25622\n",
            "weighted avg       1.00      1.00      1.00     25622\n",
            "\n"
          ]
        }
      ]
    },
    {
      "cell_type": "code",
      "source": [
        "# Confusion matrix\n",
        "cm = confusion_matrix(y_test, y_pred_classes)\n",
        "sns.heatmap(cm, annot=True, fmt='d', cmap='viridis')\n",
        "plt.title('Confusion Matrix')\n",
        "plt.xlabel('Predicted Label')\n",
        "plt.ylabel('True Label')\n",
        "plt.show()"
      ],
      "metadata": {
        "id": "tR5Utszhe3ln",
        "outputId": "ccb79788-698a-41a2-d9f4-d148468b5b8e",
        "colab": {
          "base_uri": "https://localhost:8080/",
          "height": 472
        }
      },
      "execution_count": 42,
      "outputs": [
        {
          "output_type": "display_data",
          "data": {
            "text/plain": [
              "<Figure size 640x480 with 2 Axes>"
            ],
            "image/png": "[encoded data removed]"
          },
          "metadata": {}
        }
      ]
    },
    {
      "cell_type": "code",
      "source": [
        "print('Confusion Matrix:')\n",
        "print(cm)"
      ],
      "metadata": {
        "id": "bw9eOHb-fA1Q",
        "outputId": "62ec62ec-602f-4327-da62-158eeb0e073e",
        "colab": {
          "base_uri": "https://localhost:8080/"
        }
      },
      "execution_count": 43,
      "outputs": [
        {
          "output_type": "stream",
          "name": "stdout",
          "text": [
            "Confusion Matrix:\n",
            "[[8571    0    7]\n",
            " [   0 8531    0]\n",
            " [  26    5 8482]]\n"
          ]
        }
      ]
    },
    {
      "cell_type": "code",
      "source": [
        "print(\"Deep Learning Model Performance:\")\n",
        "print(confusion_matrix(y_test, y_pred_classes))\n",
        "print(classification_report(y_test, y_pred_classes))"
      ],
      "metadata": {
        "id": "QFxuQvN0fA37",
        "outputId": "4903a1e5-3d26-474d-f385-f3b22bad98ed",
        "colab": {
          "base_uri": "https://localhost:8080/"
        }
      },
      "execution_count": 44,
      "outputs": [
        {
          "output_type": "stream",
          "name": "stdout",
          "text": [
            "Deep Learning Model Performance:\n",
            "[[8571    0    7]\n",
            " [   0 8531    0]\n",
            " [  26    5 8482]]\n",
            "              precision    recall  f1-score   support\n",
            "\n",
            "         0.0       1.00      1.00      1.00      8578\n",
            "         1.0       1.00      1.00      1.00      8531\n",
            "         2.0       1.00      1.00      1.00      8513\n",
            "\n",
            "    accuracy                           1.00     25622\n",
            "   macro avg       1.00      1.00      1.00     25622\n",
            "weighted avg       1.00      1.00      1.00     25622\n",
            "\n"
          ]
        }
      ]
    },
    {
      "cell_type": "code",
      "source": [
        "import json"
      ],
      "metadata": {
        "id": "GV26hZarfA66"
      },
      "execution_count": 45,
      "outputs": []
    },
    {
      "cell_type": "code",
      "source": [
        "history_dict = history.history\n",
        "with open('history.json', 'w') as f:\n",
        "    json.dump(history_dict, f)"
      ],
      "metadata": {
        "id": "izmKG6-FfA-D"
      },
      "execution_count": 46,
      "outputs": []
    },
    {
      "cell_type": "code",
      "source": [
        "# Plot training history\n",
        "plt.figure(figsize=(12, 4))\n",
        "plt.subplot(1, 2, 1)\n",
        "plt.plot(history.history['accuracy'], label='Train Accuracy')\n",
        "plt.plot(history.history['val_accuracy'], label='Validation Accuracy')\n",
        "plt.title('Model Accuracy')\n",
        "plt.xlabel('Epochs')\n",
        "plt.ylabel('Accuracy')\n",
        "plt.legend()\n",
        "plt.subplot(1, 2, 2)\n",
        "plt.plot(history.history['loss'], label='Train Loss')\n",
        "plt.plot(history.history['val_loss'], label='Validation Loss')\n",
        "plt.title('Model Loss')\n",
        "plt.xlabel('Epochs')\n",
        "plt.ylabel('Loss')\n",
        "plt.legend()\n",
        "plt.show()"
      ],
      "metadata": {
        "id": "RM3P_ew5fLTG",
        "outputId": "fbb01870-6270-4675-8bba-27ba7919b399",
        "colab": {
          "base_uri": "https://localhost:8080/",
          "height": 410
        }
      },
      "execution_count": 47,
      "outputs": [
        {
          "output_type": "display_data",
          "data": {
            "text/plain": [
              "<Figure size 1200x400 with 2 Axes>"
            ],
            "image/png": "[encoded data removed]"
          },
          "metadata": {}
        }
      ]
    }
  ]
}